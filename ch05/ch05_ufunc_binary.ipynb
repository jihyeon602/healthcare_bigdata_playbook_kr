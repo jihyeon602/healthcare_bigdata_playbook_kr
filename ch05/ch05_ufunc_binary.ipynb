{
 "cells": [
  {
   "cell_type": "code",
   "execution_count": 14,
   "id": "959bf403",
   "metadata": {},
   "outputs": [
    {
     "data": {
      "text/plain": [
       "array([[1, 2, 3],\n",
       "       [4, 5, 6]])"
      ]
     },
     "execution_count": 14,
     "metadata": {},
     "output_type": "execute_result"
    }
   ],
   "source": [
    "import numpy as np\n",
    "x = np.arange(1,7).reshape((2,3))\n",
    "x"
   ]
  },
  {
   "cell_type": "code",
   "execution_count": 15,
   "id": "eb9ffee4",
   "metadata": {},
   "outputs": [
    {
     "data": {
      "text/plain": [
       "array([1, 2, 3])"
      ]
     },
     "execution_count": 15,
     "metadata": {},
     "output_type": "execute_result"
    }
   ],
   "source": [
    "y = np.arange(1,4)\n",
    "y"
   ]
  },
  {
   "cell_type": "code",
   "execution_count": 16,
   "id": "0ea4de04",
   "metadata": {},
   "outputs": [
    {
     "data": {
      "text/plain": [
       "array([[2, 4, 6],\n",
       "       [5, 7, 9]])"
      ]
     },
     "execution_count": 16,
     "metadata": {},
     "output_type": "execute_result"
    }
   ],
   "source": [
    "#add\n",
    "x+y"
   ]
  },
  {
   "cell_type": "code",
   "execution_count": 17,
   "id": "232f78f0",
   "metadata": {},
   "outputs": [
    {
     "data": {
      "text/plain": [
       "array([[0, 0, 0],\n",
       "       [3, 3, 3]])"
      ]
     },
     "execution_count": 17,
     "metadata": {},
     "output_type": "execute_result"
    }
   ],
   "source": [
    "#subtract\n",
    "np.subtract(x,y)"
   ]
  },
  {
   "cell_type": "code",
   "execution_count": 18,
   "id": "10dd0ef7",
   "metadata": {},
   "outputs": [
    {
     "data": {
      "text/plain": [
       "array([[ 2,  4,  6],\n",
       "       [ 8, 10, 12]])"
      ]
     },
     "execution_count": 18,
     "metadata": {},
     "output_type": "execute_result"
    }
   ],
   "source": [
    "x + np.positive(x)"
   ]
  },
  {
   "cell_type": "code",
   "execution_count": 19,
   "id": "1000dfe6",
   "metadata": {},
   "outputs": [
    {
     "data": {
      "text/plain": [
       "array([[0, 0, 0],\n",
       "       [0, 0, 0]])"
      ]
     },
     "execution_count": 19,
     "metadata": {},
     "output_type": "execute_result"
    }
   ],
   "source": [
    "x + np.negative(x)"
   ]
  },
  {
   "cell_type": "code",
   "execution_count": 20,
   "id": "097ae885",
   "metadata": {},
   "outputs": [
    {
     "data": {
      "text/plain": [
       "array([[ 1,  4,  9],\n",
       "       [ 4, 10, 18]])"
      ]
     },
     "execution_count": 20,
     "metadata": {},
     "output_type": "execute_result"
    }
   ],
   "source": [
    "# 곱하기\n",
    "np.multiply(x,y)"
   ]
  },
  {
   "cell_type": "code",
   "execution_count": 21,
   "id": "aae6f799",
   "metadata": {},
   "outputs": [
    {
     "data": {
      "text/plain": [
       "array([[1. , 1. , 1. ],\n",
       "       [4. , 2.5, 2. ]])"
      ]
     },
     "execution_count": 21,
     "metadata": {},
     "output_type": "execute_result"
    }
   ],
   "source": [
    "#나누기\n",
    "np.divide(x, y)"
   ]
  },
  {
   "cell_type": "code",
   "execution_count": 22,
   "id": "3d7fb68d",
   "metadata": {},
   "outputs": [
    {
     "data": {
      "text/plain": [
       "array([[1, 1, 1],\n",
       "       [4, 2, 2]])"
      ]
     },
     "execution_count": 22,
     "metadata": {},
     "output_type": "execute_result"
    }
   ],
   "source": [
    "#나눈 몫\n",
    "np.floor_divide(x,y)"
   ]
  },
  {
   "cell_type": "code",
   "execution_count": 23,
   "id": "f1f9d876",
   "metadata": {},
   "outputs": [
    {
     "data": {
      "text/plain": [
       "array([[  1,   4,  27],\n",
       "       [  4,  25, 216]])"
      ]
     },
     "execution_count": 23,
     "metadata": {},
     "output_type": "execute_result"
    }
   ],
   "source": [
    "#x1요소의  x2요소 제곱\n",
    "np.power(x,y)"
   ]
  },
  {
   "cell_type": "code",
   "execution_count": 24,
   "id": "6e9dd217",
   "metadata": {},
   "outputs": [
    {
     "data": {
      "text/plain": [
       "array([[0, 0, 0],\n",
       "       [0, 1, 0]])"
      ]
     },
     "execution_count": 24,
     "metadata": {},
     "output_type": "execute_result"
    }
   ],
   "source": [
    "#x1요소을 x2요소로 나눈 나머지\n",
    "np.mod(x,y)"
   ]
  },
  {
   "cell_type": "code",
   "execution_count": 26,
   "id": "dcd1386a",
   "metadata": {},
   "outputs": [
    {
     "data": {
      "text/plain": [
       "array([[1, 2, 3],\n",
       "       [1, 1, 3]])"
      ]
     },
     "execution_count": 26,
     "metadata": {},
     "output_type": "execute_result"
    }
   ],
   "source": [
    "#x요소와 y요소의 최대공약수\n",
    "np.gcd(x,y)"
   ]
  },
  {
   "cell_type": "code",
   "execution_count": 27,
   "id": "1c80016b",
   "metadata": {},
   "outputs": [
    {
     "data": {
      "text/plain": [
       "array([[ 1.,  2.,  3.],\n",
       "       [ 4.,  5., nan]])"
      ]
     },
     "execution_count": 27,
     "metadata": {},
     "output_type": "execute_result"
    }
   ],
   "source": [
    "#x요소과 y 요소별 최대값. fmax는 NaN를 무시함\n",
    "np.maximum([[1,2,3],[4,5,np.nan]], y)"
   ]
  },
  {
   "cell_type": "code",
   "execution_count": 28,
   "id": "1dec85b8",
   "metadata": {},
   "outputs": [
    {
     "data": {
      "text/plain": [
       "array([[1., 2., 3.],\n",
       "       [4., 5., 3.]])"
      ]
     },
     "execution_count": 28,
     "metadata": {},
     "output_type": "execute_result"
    }
   ],
   "source": [
    "np.fmax([[1,2,3],[4,5,np.nan]], y)"
   ]
  },
  {
   "cell_type": "code",
   "execution_count": 29,
   "id": "cf2dd5e3",
   "metadata": {},
   "outputs": [
    {
     "data": {
      "text/plain": [
       "array([[ 1.,  2.,  3.],\n",
       "       [ 1.,  2., nan]])"
      ]
     },
     "execution_count": 29,
     "metadata": {},
     "output_type": "execute_result"
    }
   ],
   "source": [
    "#x요소과 y 요소별 최소값. fmin은 NaN를 무시함\n",
    "np.minimum([[1,2,3],[4,5,np.nan]], y)"
   ]
  },
  {
   "cell_type": "code",
   "execution_count": 30,
   "id": "29e9002d",
   "metadata": {},
   "outputs": [
    {
     "data": {
      "text/plain": [
       "array([[1., 2., 3.],\n",
       "       [1., 2., 3.]])"
      ]
     },
     "execution_count": 30,
     "metadata": {},
     "output_type": "execute_result"
    }
   ],
   "source": [
    "np.fmin([[1,2,3],[4,5,np.nan]],y)"
   ]
  },
  {
   "cell_type": "code",
   "execution_count": 31,
   "id": "30052f9e",
   "metadata": {},
   "outputs": [
    {
     "data": {
      "text/plain": [
       "array([[False, False, False],\n",
       "       [ True,  True,  True]])"
      ]
     },
     "execution_count": 31,
     "metadata": {},
     "output_type": "execute_result"
    }
   ],
   "source": [
    "#x요소가 y요소보다 큰지 불리언 값 반환\n",
    "np.greater(x,y)"
   ]
  },
  {
   "cell_type": "code",
   "execution_count": 32,
   "id": "c2f333cd",
   "metadata": {},
   "outputs": [
    {
     "data": {
      "text/plain": [
       "array([[ True,  True,  True],\n",
       "       [ True,  True,  True]])"
      ]
     },
     "execution_count": 32,
     "metadata": {},
     "output_type": "execute_result"
    }
   ],
   "source": [
    "#x요소가 y요소보다 크거나 같은지 불리언값 반환\n",
    "np.greater_equal(x,y)"
   ]
  },
  {
   "cell_type": "code",
   "execution_count": 33,
   "id": "416167d2",
   "metadata": {},
   "outputs": [
    {
     "data": {
      "text/plain": [
       "array([[ True,  True,  True],\n",
       "       [ True,  True,  True]])"
      ]
     },
     "execution_count": 33,
     "metadata": {},
     "output_type": "execute_result"
    }
   ],
   "source": [
    "x >= y"
   ]
  },
  {
   "cell_type": "code",
   "execution_count": 34,
   "id": "31b1093d",
   "metadata": {},
   "outputs": [
    {
     "data": {
      "text/plain": [
       "array([[False, False, False],\n",
       "       [False, False, False]])"
      ]
     },
     "execution_count": 34,
     "metadata": {},
     "output_type": "execute_result"
    }
   ],
   "source": [
    "#x요소가 y요소보다 작음\n",
    "np.less(x,y)"
   ]
  },
  {
   "cell_type": "code",
   "execution_count": 35,
   "id": "16cef588",
   "metadata": {},
   "outputs": [
    {
     "data": {
      "text/plain": [
       "array([[False, False, False],\n",
       "       [False, False, False]])"
      ]
     },
     "execution_count": 35,
     "metadata": {},
     "output_type": "execute_result"
    }
   ],
   "source": [
    "x < y"
   ]
  },
  {
   "cell_type": "code",
   "execution_count": 36,
   "id": "90db191e",
   "metadata": {},
   "outputs": [
    {
     "data": {
      "text/plain": [
       "array([[ True,  True,  True],\n",
       "       [False, False, False]])"
      ]
     },
     "execution_count": 36,
     "metadata": {},
     "output_type": "execute_result"
    }
   ],
   "source": [
    "#x요소가 y요소보다 작거나 같은지 불리언값 반환\n",
    "np.less_equal(x,y)"
   ]
  },
  {
   "cell_type": "code",
   "execution_count": 38,
   "id": "95a1ef03",
   "metadata": {},
   "outputs": [
    {
     "data": {
      "text/plain": [
       "array([[ True,  True,  True],\n",
       "       [False, False, False]])"
      ]
     },
     "execution_count": 38,
     "metadata": {},
     "output_type": "execute_result"
    }
   ],
   "source": [
    "#x요소가 y요소와 같은지 불리언값 반환\n",
    "np.equal(x,y)"
   ]
  },
  {
   "cell_type": "code",
   "execution_count": 39,
   "id": "1af89908",
   "metadata": {},
   "outputs": [
    {
     "data": {
      "text/plain": [
       "array([[False, False, False],\n",
       "       [ True,  True,  True]])"
      ]
     },
     "execution_count": 39,
     "metadata": {},
     "output_type": "execute_result"
    }
   ],
   "source": [
    "# x요소가 y요소보다 같지 않은지 불리언값 반환\n",
    "np.not_equal(x,y)"
   ]
  },
  {
   "cell_type": "code",
   "execution_count": 41,
   "id": "ce5caff9",
   "metadata": {},
   "outputs": [
    {
     "data": {
      "text/plain": [
       "array([False, False, False, False])"
      ]
     },
     "execution_count": 41,
     "metadata": {},
     "output_type": "execute_result"
    }
   ],
   "source": [
    "#x요소와 y2요소의 논리 AND 연산\n",
    "np.logical_and([True, True, True, False],[False, False, False, False])"
   ]
  },
  {
   "cell_type": "code",
   "execution_count": 42,
   "id": "5cb5b6e3",
   "metadata": {},
   "outputs": [
    {
     "data": {
      "text/plain": [
       "array([ True,  True,  True, False])"
      ]
     },
     "execution_count": 42,
     "metadata": {},
     "output_type": "execute_result"
    }
   ],
   "source": [
    "#x요소와 y요소의 논리 OR 연산\n",
    "np.logical_or([True, True, True, False],[False, False, False, False])\n"
   ]
  },
  {
   "cell_type": "code",
   "execution_count": 43,
   "id": "bd2156a0",
   "metadata": {},
   "outputs": [
    {
     "data": {
      "text/plain": [
       "array([ True,  True,  True, False])"
      ]
     },
     "execution_count": 43,
     "metadata": {},
     "output_type": "execute_result"
    }
   ],
   "source": [
    "# x요소와 y요소의 논리 XOR 연산\n",
    ">>> np.logical_xor([True, True, True, False],[False, False, False, False])\n"
   ]
  },
  {
   "cell_type": "code",
   "execution_count": null,
   "id": "87be303c",
   "metadata": {},
   "outputs": [],
   "source": []
  }
 ],
 "metadata": {
  "kernelspec": {
   "display_name": "Python 3",
   "language": "python",
   "name": "python3"
  },
  "language_info": {
   "codemirror_mode": {
    "name": "ipython",
    "version": 3
   },
   "file_extension": ".py",
   "mimetype": "text/x-python",
   "name": "python",
   "nbconvert_exporter": "python",
   "pygments_lexer": "ipython3",
   "version": "3.10.4"
  }
 },
 "nbformat": 4,
 "nbformat_minor": 5
}
