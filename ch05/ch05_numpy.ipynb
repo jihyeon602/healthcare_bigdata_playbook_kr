{
 "cells": [
  {
   "cell_type": "code",
   "execution_count": 3,
   "id": "14f968bc",
   "metadata": {
    "scrolled": false
   },
   "outputs": [
    {
     "name": "stdout",
     "output_type": "stream",
     "text": [
      "a:  [0 1 2 3 4 5]\n",
      "type(a):  <class 'numpy.ndarray'>\n",
      "b:  [[0 1 2]\n",
      " [3 4 5]]\n",
      "c:  [[[ 0  1  2]\n",
      "  [ 3  4  5]]\n",
      "\n",
      " [[ 6  7  8]\n",
      "  [ 9 10 11]]]\n",
      "2\n",
      "2\n",
      "3\n"
     ]
    }
   ],
   "source": [
    "import numpy as np\n",
    "\n",
    "# numpy 기초\n",
    "a = np.array([0,1,2,3,4,5], dtype=\"uint8\") # 1차원 배열\n",
    "b = np.array([(0,1,2), (3,4,5)], dtype=\"uint8\") # 2차원 배열 2x3\n",
    "c = np.array([[[0,1,2],\n",
    "               [3,4,5]],\n",
    "              [[6,7,8],\n",
    "               [9,10,11]]], dtype=\"uint8\") # 3차원 배열 2x2x3\n",
    "\n",
    "print(\"a: \", a)\n",
    "print(\"type(a): \", type(a))\n",
    "print(\"b: \", b)\n",
    "print(\"c: \", c)\n",
    "\n",
    "print(len(c)) # 3차원 배열 깊이\n",
    "print(len(c[0])) # 3차원 배열 행\n",
    "print(len(c[0][0])) # 3차원 배열 열"
   ]
  },
  {
   "cell_type": "code",
   "execution_count": 39,
   "id": "d9c4fc7e",
   "metadata": {
    "scrolled": false
   },
   "outputs": [
    {
     "name": "stdout",
     "output_type": "stream",
     "text": [
      "1\n",
      "(6,)\n",
      "uint8\n",
      "2\n",
      "(2, 3)\n",
      "3\n",
      "(2, 2, 3)\n"
     ]
    }
   ],
   "source": [
    "# 배열 속성알아보기\n",
    "print(a.ndim) #  배열 차원수 또는 배열의 축수\n",
    "print(a.shape) # 배열 각 차원 크기 표현\n",
    "print(a.dtype) # 배열 요소의 데이터 타입\n",
    "\n",
    "print(b.ndim)\n",
    "print(b.shape)\n",
    "\n",
    "print(c.ndim)\n",
    "print(c.shape)"
   ]
  },
  {
   "cell_type": "code",
   "execution_count": 5,
   "id": "4ebeb96d",
   "metadata": {
    "scrolled": true
   },
   "outputs": [
    {
     "name": "stdout",
     "output_type": "stream",
     "text": [
      "6\n",
      "6\n",
      "12\n"
     ]
    }
   ],
   "source": [
    "# 배열 모양새\n",
    "print(a.size) # 전체 배열 요소 수\n",
    "print(b.size)\n",
    "print(c.size)"
   ]
  },
  {
   "cell_type": "code",
   "execution_count": 40,
   "id": "66bd7211",
   "metadata": {},
   "outputs": [
    {
     "name": "stdout",
     "output_type": "stream",
     "text": [
      "[0 1 2 3 4 5]\n",
      "[[0 3]\n",
      " [1 4]\n",
      " [2 5]]\n"
     ]
    }
   ],
   "source": [
    "# 배열의 전치\n",
    "print(a.T) # 전치, 동일한 결과\n",
    "print(b.T) # 전치, 행과 열이 뒤바뀜"
   ]
  },
  {
   "cell_type": "code",
   "execution_count": 7,
   "id": "2d7e074c",
   "metadata": {},
   "outputs": [
    {
     "data": {
      "text/plain": [
       "array([[[ 0,  3],\n",
       "        [ 1,  4],\n",
       "        [ 2,  5]],\n",
       "\n",
       "       [[ 6,  9],\n",
       "        [ 7, 10],\n",
       "        [ 8, 11]]], dtype=uint8)"
      ]
     },
     "execution_count": 7,
     "metadata": {},
     "output_type": "execute_result"
    }
   ],
   "source": [
    "c.transpose(0,2,1) #첫번째 차원은 그대로 두고, 두번째, 세번째 축을 변경"
   ]
  },
  {
   "cell_type": "code",
   "execution_count": 8,
   "id": "ebeed410",
   "metadata": {},
   "outputs": [
    {
     "data": {
      "text/plain": [
       "array([[[ 0,  1,  2],\n",
       "        [ 6,  7,  8]],\n",
       "\n",
       "       [[ 3,  4,  5],\n",
       "        [ 9, 10, 11]]], dtype=uint8)"
      ]
     },
     "execution_count": 8,
     "metadata": {},
     "output_type": "execute_result"
    }
   ],
   "source": [
    "c.swapaxes(0,1) #세번째 차원은 그대로 두고, 첫번째, 두번째 축을 변경"
   ]
  },
  {
   "cell_type": "code",
   "execution_count": 97,
   "id": "79f21174",
   "metadata": {
    "scrolled": true
   },
   "outputs": [
    {
     "name": "stdout",
     "output_type": "stream",
     "text": [
      "1\n",
      "5\n",
      "4\n"
     ]
    }
   ],
   "source": [
    "# 배열 인덱싱\n",
    "print(b[0, 1]) # b 2차원 배열의 첫번째 행의 두번째 열\n",
    "print(b[1, 2]) # b 2차원 배열의 두번째 행의 세번째 열\n",
    "print(c[0,1,1]) # c 3차원 배열의 첫번째 차원의 두번째 행, 두번째 열"
   ]
  },
  {
   "cell_type": "code",
   "execution_count": 98,
   "id": "deae71af",
   "metadata": {
    "scrolled": true
   },
   "outputs": [
    {
     "name": "stdout",
     "output_type": "stream",
     "text": [
      "[[0 1]\n",
      " [3 4]]\n"
     ]
    }
   ],
   "source": [
    "# 배열 슬라이싱\n",
    "print(c[0, :2, :2]) # c 3차원 배열의 첫번째 차원에서 두번째 행까지의 두번째 열까지"
   ]
  },
  {
   "cell_type": "code",
   "execution_count": 99,
   "id": "45ce459d",
   "metadata": {
    "scrolled": true
   },
   "outputs": [
    {
     "name": "stdout",
     "output_type": "stream",
     "text": [
      "[[0 1 2]\n",
      " [3 4 5]]\n"
     ]
    },
    {
     "data": {
      "text/plain": [
       "array([[0, 1],\n",
       "       [2, 3],\n",
       "       [4, 5]], dtype=uint8)"
      ]
     },
     "execution_count": 99,
     "metadata": {},
     "output_type": "execute_result"
    }
   ],
   "source": [
    "print(b)\n",
    "# 배열을 모양을 변경\n",
    "b.reshape(3,2)"
   ]
  },
  {
   "cell_type": "code",
   "execution_count": 100,
   "id": "828edc7b",
   "metadata": {},
   "outputs": [
    {
     "data": {
      "text/plain": [
       "array([[[ 0,  1,  2],\n",
       "        [ 3,  4,  5]],\n",
       "\n",
       "       [[ 6,  7,  8],\n",
       "        [ 9, 10, 11]]], dtype=uint8)"
      ]
     },
     "execution_count": 100,
     "metadata": {},
     "output_type": "execute_result"
    }
   ],
   "source": [
    "c"
   ]
  },
  {
   "attachments": {},
   "cell_type": "markdown",
   "id": "910928b2",
   "metadata": {},
   "source": [
    "## fancy indexing"
   ]
  },
  {
   "cell_type": "code",
   "execution_count": 101,
   "id": "a1084d2c",
   "metadata": {},
   "outputs": [
    {
     "data": {
      "text/plain": [
       "array([[[ 0,  1,  2],\n",
       "        [ 3,  4,  5]],\n",
       "\n",
       "       [[ 6,  7,  8],\n",
       "        [ 9, 10, 11]],\n",
       "\n",
       "       [[12, 13, 14],\n",
       "        [15, 16, 17]]], dtype=uint8)"
      ]
     },
     "execution_count": 101,
     "metadata": {},
     "output_type": "execute_result"
    }
   ],
   "source": [
    "import numpy as np\n",
    "\n",
    "fancy_arr = np.arange(3*3*2, dtype=\"uint8\")\n",
    "fancy_arr = fancy_arr.reshape(3,2,3)\n",
    "fancy_arr"
   ]
  },
  {
   "cell_type": "code",
   "execution_count": 102,
   "id": "a0402c9a",
   "metadata": {},
   "outputs": [
    {
     "data": {
      "text/plain": [
       "dtype('uint8')"
      ]
     },
     "execution_count": 102,
     "metadata": {},
     "output_type": "execute_result"
    }
   ],
   "source": [
    "fancy_arr.dtype"
   ]
  },
  {
   "cell_type": "code",
   "execution_count": null,
   "id": "5861518c",
   "metadata": {},
   "outputs": [],
   "source": []
  },
  {
   "cell_type": "code",
   "execution_count": 103,
   "id": "60626e9c",
   "metadata": {},
   "outputs": [
    {
     "data": {
      "text/plain": [
       "array([[3, 4, 5]], dtype=uint8)"
      ]
     },
     "execution_count": 103,
     "metadata": {},
     "output_type": "execute_result"
    }
   ],
   "source": [
    "# fancy indexing\n",
    "# 1차원의 첫번째 요소에서 두번째 배열\n",
    "fancy_arr[[0],[1]]"
   ]
  },
  {
   "cell_type": "code",
   "execution_count": 104,
   "id": "692379d5",
   "metadata": {},
   "outputs": [
    {
     "data": {
      "text/plain": [
       "array([5, 4, 3], dtype=uint8)"
      ]
     },
     "execution_count": 104,
     "metadata": {},
     "output_type": "execute_result"
    }
   ],
   "source": [
    "fancy_arr[[0],[1],[2,1,0]]"
   ]
  },
  {
   "cell_type": "code",
   "execution_count": 105,
   "id": "530f4ca8",
   "metadata": {},
   "outputs": [
    {
     "data": {
      "text/plain": [
       "array([14, 13, 12], dtype=uint8)"
      ]
     },
     "execution_count": 105,
     "metadata": {},
     "output_type": "execute_result"
    }
   ],
   "source": [
    "fancy_arr[[-1],[0],[2,1,0]]"
   ]
  },
  {
   "cell_type": "code",
   "execution_count": null,
   "id": "d2794e00",
   "metadata": {},
   "outputs": [],
   "source": []
  },
  {
   "attachments": {},
   "cell_type": "markdown",
   "id": "27dcdab1",
   "metadata": {},
   "source": [
    "##  배열 합치기 및 나누기"
   ]
  },
  {
   "cell_type": "code",
   "execution_count": 106,
   "id": "4198f9b0",
   "metadata": {},
   "outputs": [
    {
     "data": {
      "text/plain": [
       "array([[0, 1, 2],\n",
       "       [3, 4, 5],\n",
       "       [0, 1, 2],\n",
       "       [3, 4, 5]], dtype=uint8)"
      ]
     },
     "execution_count": 106,
     "metadata": {},
     "output_type": "execute_result"
    }
   ],
   "source": [
    "# 배열 함치기\n",
    "np.concatenate([b,b])"
   ]
  },
  {
   "cell_type": "code",
   "execution_count": 107,
   "id": "b07703bc",
   "metadata": {},
   "outputs": [
    {
     "data": {
      "text/plain": [
       "array([[0, 1, 2, 0, 1, 2],\n",
       "       [3, 4, 5, 3, 4, 5]], dtype=uint8)"
      ]
     },
     "execution_count": 107,
     "metadata": {},
     "output_type": "execute_result"
    }
   ],
   "source": [
    "# 배열 함치기(열기준)\n",
    "np.concatenate([b,b], axis=1)"
   ]
  },
  {
   "cell_type": "code",
   "execution_count": 108,
   "id": "79f5d06e",
   "metadata": {},
   "outputs": [
    {
     "data": {
      "text/plain": [
       "array([[ 0,  1,  2,  3],\n",
       "       [ 4,  5,  6,  7],\n",
       "       [10, 11, 12, 13],\n",
       "       [14, 15, 16, 17]], dtype=uint8)"
      ]
     },
     "execution_count": 108,
     "metadata": {},
     "output_type": "execute_result"
    }
   ],
   "source": [
    "a1 = np.array([(0,1,2,3), (4,5,6,7)] , dtype=\"uint8\") # 2차원 배열\n",
    "b1 = np.array([(10,11,12,13), (14,15,16,17)] , dtype=\"uint8\") # 2차원 배열\n",
    "\n",
    "# 행기준으로 합치기\n",
    "np.vstack((a1,b1))"
   ]
  },
  {
   "cell_type": "code",
   "execution_count": 109,
   "id": "1a5f61d1",
   "metadata": {},
   "outputs": [
    {
     "data": {
      "text/plain": [
       "array([[ 0,  1,  2,  3, 10, 11, 12, 13],\n",
       "       [ 4,  5,  6,  7, 14, 15, 16, 17]], dtype=uint8)"
      ]
     },
     "execution_count": 109,
     "metadata": {},
     "output_type": "execute_result"
    }
   ],
   "source": [
    "# 열기준으로 합치기\n",
    "np.hstack((a1,b1))"
   ]
  },
  {
   "cell_type": "code",
   "execution_count": null,
   "id": "a285fba3",
   "metadata": {},
   "outputs": [],
   "source": []
  },
  {
   "cell_type": "code",
   "execution_count": 110,
   "id": "f7505514",
   "metadata": {
    "scrolled": true
   },
   "outputs": [
    {
     "data": {
      "text/plain": [
       "[array([[0, 1, 2, 3]], dtype=uint8), array([[4, 5, 6, 7]], dtype=uint8)]"
      ]
     },
     "execution_count": 110,
     "metadata": {},
     "output_type": "execute_result"
    }
   ],
   "source": [
    "b2 = np.array([(0,1,2,3), (4,5,6,7)] , dtype=\"uint8\") # 2차원 배열\n",
    "\n",
    "# 행기준으로 2부분 나누기\n",
    "np.split(b2,2)"
   ]
  },
  {
   "cell_type": "code",
   "execution_count": 111,
   "id": "0d668efb",
   "metadata": {
    "scrolled": true
   },
   "outputs": [
    {
     "data": {
      "text/plain": [
       "[array([[0, 1, 2, 3]], dtype=uint8), array([[4, 5, 6, 7]], dtype=uint8)]"
      ]
     },
     "execution_count": 111,
     "metadata": {},
     "output_type": "execute_result"
    }
   ],
   "source": [
    "# 행기준으로 2부분 나누기\n",
    "np.vsplit(b2,2)"
   ]
  },
  {
   "cell_type": "code",
   "execution_count": 112,
   "id": "53b60493",
   "metadata": {
    "scrolled": true
   },
   "outputs": [
    {
     "data": {
      "text/plain": [
       "[array([[0, 1],\n",
       "        [4, 5]], dtype=uint8),\n",
       " array([[2, 3],\n",
       "        [6, 7]], dtype=uint8)]"
      ]
     },
     "execution_count": 112,
     "metadata": {},
     "output_type": "execute_result"
    }
   ],
   "source": [
    "#열기준 2부분 나누기\n",
    "np.split(b2,2, axis=1)"
   ]
  },
  {
   "cell_type": "code",
   "execution_count": 113,
   "id": "9f8fc049",
   "metadata": {
    "scrolled": true
   },
   "outputs": [
    {
     "data": {
      "text/plain": [
       "[array([[0, 1],\n",
       "        [4, 5]], dtype=uint8),\n",
       " array([[2, 3],\n",
       "        [6, 7]], dtype=uint8)]"
      ]
     },
     "execution_count": 113,
     "metadata": {},
     "output_type": "execute_result"
    }
   ],
   "source": [
    "#열기준 2부분 나누기\n",
    "np.hsplit(b2,2)"
   ]
  },
  {
   "cell_type": "code",
   "execution_count": null,
   "id": "eb44dbd2",
   "metadata": {},
   "outputs": [],
   "source": []
  },
  {
   "cell_type": "code",
   "execution_count": null,
   "id": "0cc2d7a5",
   "metadata": {},
   "outputs": [],
   "source": []
  },
  {
   "cell_type": "code",
   "execution_count": 114,
   "id": "4d20bb9a",
   "metadata": {
    "scrolled": false
   },
   "outputs": [
    {
     "name": "stdout",
     "output_type": "stream",
     "text": [
      "zero1:  [0. 0. 0.]\n",
      "zero2:  [[0. 0. 0.]\n",
      " [0. 0. 0.]\n",
      " [0. 0. 0.]]\n",
      "one1:  [1. 1. 1.]\n",
      "one2:  [[1. 1. 1.]\n",
      " [1. 1. 1.]\n",
      " [1. 1. 1.]]\n",
      "arange  [0 1 2 3 4 5]\n",
      "empty(5):  [4.94065646e-324 8.83060065e-312 8.83060065e-312 8.83060065e-312\n",
      " 3.56175136e-317]\n",
      "linspace:  [1.  1.5 2. ]\n",
      "empty:  [[3.18963003 0.02518802 0.2264934 ]\n",
      " [4.13477322 0.06954297 0.01006749]]\n",
      "eye:  [[1. 0. 0. 0.]\n",
      " [0. 1. 0. 0.]\n",
      " [0. 0. 1. 0.]\n",
      " [0. 0. 0. 1.]]\n",
      "full:  [[20 20 20]\n",
      " [20 20 20]]\n",
      "random1:  [[0.7169401  0.62893829 0.70199129]\n",
      " [0.74700353 0.94739268 0.01265234]]\n",
      "random2:  [[-0.4852035  -0.0369702   0.56050706]\n",
      " [ 1.20421013 -0.75117658  0.67506158]]\n"
     ]
    }
   ],
   "source": [
    "# 배열 생성 함수를 활용한 배열 만들기\n",
    "z1 = np.zeros(3) # '0' 3개 요소 1차원 배열\n",
    "z2 = np.zeros((3,3)) # '0' 3x3개 요소 2차원 배열 \n",
    "one1 = np.ones(3)  # '1' 3개 요소 1차원 배열\n",
    "one2 = np.ones((3,3)) # '1' 3x3개 요소 2차원 배열 \n",
    "\n",
    "print(\"zero1: \", z1)\n",
    "print(\"zero2: \", z2)\n",
    "print(\"one1: \", one1)\n",
    "print(\"one2: \", one2)\n",
    "\n",
    "# '0'부터 '6'미만까지 '1'씩 증가하는 1차원 수열 \n",
    "#(빌트인 함수 range와 유사)\n",
    "ar1 = np.arange(0, 6, 1, dtype=np.int8)\n",
    "print(\"arange \" , ar1)\n",
    "\n",
    "lin1 = np.linspace(1, 2, 3)\n",
    "\n",
    "#초기화되지 않은 값으로 배열을 생성\n",
    "print(\"empty(5): \", np.empty(5))\n",
    "e1 = np.empty((2,3))\n",
    "\n",
    "# 4x4 단위행렬 만들기\n",
    "e2 = np.eye(4)\n",
    "\n",
    "# 2x3배열을 만드록, 20 값으로 모두 채움\n",
    "f1 = np.full((2,3),20)\n",
    "\n",
    "# 표준정규분포 난수\n",
    "ran1 = np.random.rand(2,3)\n",
    "# 가우시안 표준정규분포 난수\n",
    "ran2 = np.random.randn(2,3)\n",
    "\n",
    "\n",
    "\n",
    "\n",
    "print(\"linspace: \" , lin1)\n",
    "print(\"empty: \" , e1)\n",
    "print(\"eye: \" , e2)\n",
    "print(\"full: \", f1)\n",
    "print(\"random1: \", ran1)\n",
    "print(\"random2: \", ran2)"
   ]
  },
  {
   "cell_type": "code",
   "execution_count": null,
   "id": "7e9f0b29",
   "metadata": {},
   "outputs": [],
   "source": []
  },
  {
   "cell_type": "code",
   "execution_count": null,
   "id": "9246f987",
   "metadata": {},
   "outputs": [],
   "source": []
  },
  {
   "attachments": {},
   "cell_type": "markdown",
   "id": "614ff1d0",
   "metadata": {},
   "source": [
    "## 배열 산술"
   ]
  },
  {
   "cell_type": "code",
   "execution_count": 115,
   "id": "ddf552e2",
   "metadata": {},
   "outputs": [
    {
     "data": {
      "text/plain": [
       "array([[0.82903317, 0.91345669, 0.43502814],\n",
       "       [0.84441527, 0.51339248, 0.42810704]])"
      ]
     },
     "execution_count": 115,
     "metadata": {},
     "output_type": "execute_result"
    }
   ],
   "source": [
    "# 배열 산술\n",
    "\n",
    "arr1 = np.random.rand(2,3)\n",
    "arr1\n"
   ]
  },
  {
   "cell_type": "code",
   "execution_count": 116,
   "id": "f8721140",
   "metadata": {
    "scrolled": true
   },
   "outputs": [
    {
     "data": {
      "text/plain": [
       "array([[ 0.11135704, -1.43272376,  0.20529112],\n",
       "       [-1.01409101, -0.09815295, -0.86271755]])"
      ]
     },
     "execution_count": 116,
     "metadata": {},
     "output_type": "execute_result"
    }
   ],
   "source": [
    "arr2 = np.random.randn(2,3)\n",
    "arr2"
   ]
  },
  {
   "cell_type": "code",
   "execution_count": 117,
   "id": "ec6e39fb",
   "metadata": {
    "scrolled": false
   },
   "outputs": [
    {
     "data": {
      "text/plain": [
       "array([[ 0.09231868, -1.30873111,  0.08930741],\n",
       "       [-0.85631393, -0.05039099, -0.36933546]])"
      ]
     },
     "execution_count": 117,
     "metadata": {},
     "output_type": "execute_result"
    }
   ],
   "source": [
    "arr3 = arr1 * arr2\n",
    "arr3"
   ]
  },
  {
   "cell_type": "code",
   "execution_count": 118,
   "id": "bdc1b23f",
   "metadata": {
    "scrolled": false
   },
   "outputs": [
    {
     "data": {
      "text/plain": [
       "array([[2., 2., 2.],\n",
       "       [2., 2., 2.]])"
      ]
     },
     "execution_count": 118,
     "metadata": {},
     "output_type": "execute_result"
    }
   ],
   "source": [
    "arr4 = np.ones((2,3)) * 2 # 모든 요소를 2로 곱함\n",
    "arr4"
   ]
  },
  {
   "cell_type": "code",
   "execution_count": 119,
   "id": "83bd5e1d",
   "metadata": {
    "scrolled": true
   },
   "outputs": [
    {
     "data": {
      "text/plain": [
       "array([[0.01240039, 2.05269739, 0.04214444],\n",
       "       [1.02838057, 0.009634  , 0.74428158]])"
      ]
     },
     "execution_count": 119,
     "metadata": {},
     "output_type": "execute_result"
    }
   ],
   "source": [
    "arr2 ** 2 # 모든 요소 2로 거듭제곱"
   ]
  },
  {
   "cell_type": "code",
   "execution_count": 120,
   "id": "1de13492",
   "metadata": {
    "scrolled": true
   },
   "outputs": [
    {
     "data": {
      "text/plain": [
       "array([], dtype=float64)"
      ]
     },
     "execution_count": 120,
     "metadata": {},
     "output_type": "execute_result"
    }
   ],
   "source": [
    "# 조건\n",
    "arr2[ arr2 > 1]"
   ]
  },
  {
   "cell_type": "code",
   "execution_count": 121,
   "id": "2593e590",
   "metadata": {},
   "outputs": [
    {
     "data": {
      "text/plain": [
       "(array([], dtype=int64), array([], dtype=int64))"
      ]
     },
     "execution_count": 121,
     "metadata": {},
     "output_type": "execute_result"
    }
   ],
   "source": [
    "np.where( arr2 > 1)"
   ]
  },
  {
   "cell_type": "code",
   "execution_count": 122,
   "id": "80ead0ff",
   "metadata": {
    "scrolled": true
   },
   "outputs": [
    {
     "data": {
      "text/plain": [
       "array([['0.8290331713411739', '0.9134566904226', '0.43502814040073845'],\n",
       "       ['0.8444152705962727', '0.5133924808583554',\n",
       "        '0.42810704340661987']], dtype='<U32')"
      ]
     },
     "execution_count": 122,
     "metadata": {},
     "output_type": "execute_result"
    }
   ],
   "source": [
    "np.where( arr2 > 1, 'Yes', arr1)"
   ]
  },
  {
   "cell_type": "code",
   "execution_count": 123,
   "id": "d440780c",
   "metadata": {},
   "outputs": [],
   "source": [
    "# 배열 크기 변형"
   ]
  },
  {
   "cell_type": "code",
   "execution_count": null,
   "id": "0a7e033e",
   "metadata": {},
   "outputs": [],
   "source": []
  },
  {
   "cell_type": "code",
   "execution_count": 124,
   "id": "f760516b",
   "metadata": {},
   "outputs": [],
   "source": [
    "# 배열 연결"
   ]
  },
  {
   "cell_type": "code",
   "execution_count": null,
   "id": "4944dde4",
   "metadata": {},
   "outputs": [],
   "source": []
  },
  {
   "cell_type": "code",
   "execution_count": 125,
   "id": "27a7471c",
   "metadata": {},
   "outputs": [],
   "source": [
    "# 통계"
   ]
  },
  {
   "cell_type": "code",
   "execution_count": null,
   "id": "93e390b1",
   "metadata": {},
   "outputs": [],
   "source": []
  },
  {
   "cell_type": "code",
   "execution_count": 126,
   "id": "d2a263ad",
   "metadata": {},
   "outputs": [],
   "source": [
    "# 난수"
   ]
  },
  {
   "cell_type": "code",
   "execution_count": null,
   "id": "f4bd471d",
   "metadata": {},
   "outputs": [],
   "source": []
  }
 ],
 "metadata": {
  "kernelspec": {
   "display_name": "Python 3",
   "language": "python",
   "name": "python3"
  },
  "language_info": {
   "codemirror_mode": {
    "name": "ipython",
    "version": 3
   },
   "file_extension": ".py",
   "mimetype": "text/x-python",
   "name": "python",
   "nbconvert_exporter": "python",
   "pygments_lexer": "ipython3",
   "version": "3.10.4"
  }
 },
 "nbformat": 4,
 "nbformat_minor": 5
}
