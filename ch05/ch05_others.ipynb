{
 "cells": [
  {
   "cell_type": "code",
   "execution_count": 3,
   "id": "90bc0071",
   "metadata": {},
   "outputs": [
    {
     "data": {
      "text/plain": [
       "array([[1, 2, 3],\n",
       "       [4, 5, 6]])"
      ]
     },
     "execution_count": 3,
     "metadata": {},
     "output_type": "execute_result"
    }
   ],
   "source": [
    "import numpy as np\n",
    "x = np.arange(1,7).reshape((2,3))\n",
    "x"
   ]
  },
  {
   "cell_type": "code",
   "execution_count": 5,
   "id": "e63bd202",
   "metadata": {},
   "outputs": [
    {
     "data": {
      "text/plain": [
       "21"
      ]
     },
     "execution_count": 5,
     "metadata": {},
     "output_type": "execute_result"
    }
   ],
   "source": [
    "# 주어진 축에 따라 요소들의 합 구하기\n",
    "np.sum(x) # = x.sum()\n"
   ]
  },
  {
   "cell_type": "code",
   "execution_count": 6,
   "id": "691e3168",
   "metadata": {},
   "outputs": [
    {
     "data": {
      "text/plain": [
       "3.5"
      ]
     },
     "execution_count": 6,
     "metadata": {},
     "output_type": "execute_result"
    }
   ],
   "source": [
    "# 주어진 축에 따라 요소들의 산술 평균 구하기\n",
    "np.mean(x) # = x.mean()\n"
   ]
  },
  {
   "cell_type": "code",
   "execution_count": 7,
   "id": "bcb0e66b",
   "metadata": {},
   "outputs": [
    {
     "data": {
      "text/plain": [
       "1.707825127659933"
      ]
     },
     "execution_count": 7,
     "metadata": {},
     "output_type": "execute_result"
    }
   ],
   "source": [
    "# 표준 편차 구하기\n",
    "np.std(x)"
   ]
  },
  {
   "cell_type": "code",
   "execution_count": 9,
   "id": "6c154790",
   "metadata": {},
   "outputs": [
    {
     "data": {
      "text/plain": [
       "2.9166666666666665"
      ]
     },
     "execution_count": 9,
     "metadata": {},
     "output_type": "execute_result"
    }
   ],
   "source": [
    "# x배열 요소의 분산 구하기\n",
    "np.var(x)\n"
   ]
  },
  {
   "cell_type": "code",
   "execution_count": null,
   "id": "f4441439",
   "metadata": {},
   "outputs": [],
   "source": []
  },
  {
   "cell_type": "code",
   "execution_count": 8,
   "id": "4c165373",
   "metadata": {},
   "outputs": [
    {
     "data": {
      "text/plain": [
       "array([ 1,  3,  6, 10, 15, 21])"
      ]
     },
     "execution_count": 8,
     "metadata": {},
     "output_type": "execute_result"
    }
   ],
   "source": [
    "# 주어진 축에 따라 요소들의 누적 합 구하기\n",
    "np.cumsum(x) # = x.comsum()\n"
   ]
  },
  {
   "cell_type": "code",
   "execution_count": 10,
   "id": "be070b2c",
   "metadata": {},
   "outputs": [
    {
     "data": {
      "text/plain": [
       "array([  1,   2,   6,  24, 120, 720])"
      ]
     },
     "execution_count": 10,
     "metadata": {},
     "output_type": "execute_result"
    }
   ],
   "source": [
    "# 주어진 축에 따라 배열 요소들의 누적 곱 구하기\n",
    "np.cumprod(x)\n"
   ]
  },
  {
   "cell_type": "code",
   "execution_count": null,
   "id": "05f9cd77",
   "metadata": {},
   "outputs": [],
   "source": []
  },
  {
   "cell_type": "code",
   "execution_count": null,
   "id": "0c88aa02",
   "metadata": {},
   "outputs": [],
   "source": []
  },
  {
   "cell_type": "code",
   "execution_count": 11,
   "id": "4d42fc20",
   "metadata": {},
   "outputs": [
    {
     "data": {
      "text/plain": [
       "array([[0.72290149, 0.14059965, 0.51491904, 0.07058613],\n",
       "       [0.60287844, 0.11622451, 0.05789952, 0.58571584],\n",
       "       [0.91426904, 0.74048133, 0.7370438 , 0.98684073]])"
      ]
     },
     "execution_count": 11,
     "metadata": {},
     "output_type": "execute_result"
    }
   ],
   "source": [
    "import numpy as np\n",
    "#\n",
    "np.random.rand(3,4)"
   ]
  },
  {
   "cell_type": "code",
   "execution_count": 12,
   "id": "93c7a5e0",
   "metadata": {},
   "outputs": [
    {
     "data": {
      "text/plain": [
       "0"
      ]
     },
     "execution_count": 12,
     "metadata": {},
     "output_type": "execute_result"
    }
   ],
   "source": [
    "np.random.randint(4) # [0,4) 범위 난수 "
   ]
  },
  {
   "cell_type": "code",
   "execution_count": 13,
   "id": "31ab484d",
   "metadata": {},
   "outputs": [
    {
     "data": {
      "text/plain": [
       "2"
      ]
     },
     "execution_count": 13,
     "metadata": {},
     "output_type": "execute_result"
    }
   ],
   "source": [
    "np.random.randint(1,4) # [1,4) 범위 난수"
   ]
  },
  {
   "cell_type": "code",
   "execution_count": 14,
   "id": "c3c16be0",
   "metadata": {},
   "outputs": [
    {
     "data": {
      "text/plain": [
       "array([2, 2, 2, 1, 1, 2, 3, 2, 3, 3])"
      ]
     },
     "execution_count": 14,
     "metadata": {},
     "output_type": "execute_result"
    }
   ],
   "source": [
    "np.random.randint(1,4, size=10) # [0,4) 범위 10개 난수"
   ]
  },
  {
   "cell_type": "code",
   "execution_count": 15,
   "id": "4e6068c8",
   "metadata": {},
   "outputs": [
    {
     "data": {
      "text/plain": [
       "array([[ 0.96979667, -0.04481418, -0.83748229],\n",
       "       [ 0.17619511, -0.73325208, -1.676025  ]])"
      ]
     },
     "execution_count": 15,
     "metadata": {},
     "output_type": "execute_result"
    }
   ],
   "source": [
    "np.random.randn(2,3)"
   ]
  },
  {
   "cell_type": "code",
   "execution_count": 16,
   "id": "7f3b2e5a",
   "metadata": {},
   "outputs": [],
   "source": [
    "np.random.seed(11)"
   ]
  },
  {
   "cell_type": "code",
   "execution_count": 17,
   "id": "47959fc2",
   "metadata": {},
   "outputs": [
    {
     "data": {
      "text/plain": [
       "array([[ 1.74945474, -0.286073  , -0.48456513],\n",
       "       [-2.65331856, -0.00828463, -0.31963136]])"
      ]
     },
     "execution_count": 17,
     "metadata": {},
     "output_type": "execute_result"
    }
   ],
   "source": [
    "np.random.standard_normal((2,3))"
   ]
  },
  {
   "cell_type": "code",
   "execution_count": 18,
   "id": "b5b1fa13",
   "metadata": {},
   "outputs": [
    {
     "data": {
      "text/plain": [
       "array([[ 0.46337064,  1.31540267,  1.42105072],\n",
       "       [-0.06560298,  0.11376033,  0.52426651],\n",
       "       [ 1.68968231,  1.56119218, -0.30554851]])"
      ]
     },
     "execution_count": 18,
     "metadata": {},
     "output_type": "execute_result"
    }
   ],
   "source": [
    "np.random.normal(1,1,size=(3,3))"
   ]
  },
  {
   "cell_type": "code",
   "execution_count": null,
   "id": "d1da3996",
   "metadata": {},
   "outputs": [],
   "source": []
  },
  {
   "cell_type": "code",
   "execution_count": 19,
   "id": "adb475f8",
   "metadata": {
    "scrolled": true
   },
   "outputs": [
    {
     "data": {
      "text/plain": [
       "array([[-0.11947526,  1.73683739,  2.57463407],\n",
       "       [ 0.96892491,  0.31655337,  2.0956297 ],\n",
       "       [ 0.69042336,  1.72575222,  2.54907163]])"
      ]
     },
     "execution_count": 19,
     "metadata": {},
     "output_type": "execute_result"
    }
   ],
   "source": [
    "x = np.random.normal(1,1,size=(3,3))\n",
    "x"
   ]
  },
  {
   "cell_type": "code",
   "execution_count": 20,
   "id": "98ae8b44",
   "metadata": {},
   "outputs": [
    {
     "data": {
      "text/plain": [
       "array([[-0.11947526,  1.73683739,  2.57463407],\n",
       "       [ 0.31655337,  0.96892491,  2.0956297 ],\n",
       "       [ 0.69042336,  1.72575222,  2.54907163]])"
      ]
     },
     "execution_count": 20,
     "metadata": {},
     "output_type": "execute_result"
    }
   ],
   "source": [
    "# 각 행의 요소를 정렬\n",
    "np.sort(x)"
   ]
  },
  {
   "cell_type": "code",
   "execution_count": 21,
   "id": "e777b661",
   "metadata": {},
   "outputs": [
    {
     "data": {
      "text/plain": [
       "array([[-0.11947526,  0.31655337,  2.0956297 ],\n",
       "       [ 0.69042336,  1.72575222,  2.54907163],\n",
       "       [ 0.96892491,  1.73683739,  2.57463407]])"
      ]
     },
     "execution_count": 21,
     "metadata": {},
     "output_type": "execute_result"
    }
   ],
   "source": [
    "# 각 열의 요소를 정렬\n",
    "np.sort(x, axis=0)\n"
   ]
  },
  {
   "cell_type": "code",
   "execution_count": 22,
   "id": "99e2caa5",
   "metadata": {},
   "outputs": [
    {
     "data": {
      "text/plain": [
       "array([[ 0.69042336,  1.72575222,  2.54907163],\n",
       "       [ 0.31655337,  0.96892491,  2.0956297 ],\n",
       "       [-0.11947526,  1.73683739,  2.57463407]])"
      ]
     },
     "execution_count": 22,
     "metadata": {},
     "output_type": "execute_result"
    }
   ],
   "source": [
    "#역순으로 정렬\n",
    "np.sort(x, axis=1)[::-1]\n"
   ]
  },
  {
   "cell_type": "code",
   "execution_count": 23,
   "id": "f5386313",
   "metadata": {
    "scrolled": true
   },
   "outputs": [
    {
     "data": {
      "text/plain": [
       "array([[0, 1, 2],\n",
       "       [1, 0, 2],\n",
       "       [0, 1, 2]], dtype=int64)"
      ]
     },
     "execution_count": 23,
     "metadata": {},
     "output_type": "execute_result"
    }
   ],
   "source": [
    "# 오름차순 정렬시의 인덱스\n",
    "np.argsort(x)"
   ]
  },
  {
   "cell_type": "code",
   "execution_count": 26,
   "id": "066fde8b",
   "metadata": {},
   "outputs": [
    {
     "data": {
      "text/plain": [
       "array([3, 4, 0, 1, 2], dtype=int64)"
      ]
     },
     "execution_count": 26,
     "metadata": {},
     "output_type": "execute_result"
    }
   ],
   "source": [
    "import numpy as np\n",
    "x1 = np.array([10, 20, 30, 10, 10])\n",
    "y1 = np.array([40, 10, 10, 20, 30])\n",
    "idx = np.lexsort((y1, x1))\n",
    "idx"
   ]
  },
  {
   "cell_type": "code",
   "execution_count": 27,
   "id": "672487df",
   "metadata": {},
   "outputs": [
    {
     "name": "stdout",
     "output_type": "stream",
     "text": [
      "10 20\n",
      "10 30\n",
      "10 40\n",
      "20 10\n",
      "30 10\n"
     ]
    }
   ],
   "source": [
    "for i in idx:\n",
    "    print(x1[i], y1[i])\n"
   ]
  },
  {
   "cell_type": "code",
   "execution_count": 31,
   "id": "24129269",
   "metadata": {},
   "outputs": [
    {
     "data": {
      "text/plain": [
       "array([1, 2, 3, 4, 5, 6])"
      ]
     },
     "execution_count": 31,
     "metadata": {},
     "output_type": "execute_result"
    }
   ],
   "source": [
    "x = [1,2,2,2,3,3,4,4,5,5,5,6]\n",
    "y = [1,1,1,2,3,4,4,4,5,6,6,7,7]\n",
    "np.unique(x)\n"
   ]
  },
  {
   "cell_type": "code",
   "execution_count": 32,
   "id": "1acdd64f",
   "metadata": {},
   "outputs": [
    {
     "data": {
      "text/plain": [
       "array([1, 2, 3, 4, 5, 6, 7])"
      ]
     },
     "execution_count": 32,
     "metadata": {},
     "output_type": "execute_result"
    }
   ],
   "source": [
    "np.union1d(x,y) #x, y 합집합을 구한 후, 고유값 반환 "
   ]
  },
  {
   "cell_type": "code",
   "execution_count": 33,
   "id": "74c00aa2",
   "metadata": {},
   "outputs": [
    {
     "data": {
      "text/plain": [
       "array([1, 2, 3, 4, 5, 6])"
      ]
     },
     "execution_count": 33,
     "metadata": {},
     "output_type": "execute_result"
    }
   ],
   "source": [
    "np.intersect1d(x,y) #x, y 교집합을 구한 후, 고유값 반환"
   ]
  },
  {
   "cell_type": "code",
   "execution_count": 34,
   "id": "cad74650",
   "metadata": {},
   "outputs": [
    {
     "data": {
      "text/plain": [
       "array([7])"
      ]
     },
     "execution_count": 34,
     "metadata": {},
     "output_type": "execute_result"
    }
   ],
   "source": [
    "np.setdiff1d(y1, x1) #x의 y 차집합을 구한 후, 교유값 반환"
   ]
  },
  {
   "cell_type": "code",
   "execution_count": 35,
   "id": "7295f21d",
   "metadata": {},
   "outputs": [
    {
     "data": {
      "text/plain": [
       "array([ True,  True,  True,  True,  True,  True,  True,  True,  True,\n",
       "        True,  True, False, False])"
      ]
     },
     "execution_count": 35,
     "metadata": {},
     "output_type": "execute_result"
    }
   ],
   "source": [
    "np.in1d(y,x) #x 요소가 y에 포함되는지 불리언 반환"
   ]
  },
  {
   "cell_type": "code",
   "execution_count": null,
   "id": "f5b025f0",
   "metadata": {},
   "outputs": [],
   "source": []
  },
  {
   "cell_type": "code",
   "execution_count": null,
   "id": "21f64b3e",
   "metadata": {},
   "outputs": [],
   "source": []
  },
  {
   "cell_type": "code",
   "execution_count": 36,
   "id": "418dd0c2",
   "metadata": {},
   "outputs": [
    {
     "data": {
      "text/plain": [
       "(1000, 1000)"
      ]
     },
     "execution_count": 36,
     "metadata": {},
     "output_type": "execute_result"
    }
   ],
   "source": [
    "import numpy as np\n",
    "large_x = np.random.randint(0,10, size=1_000_000).reshape(1000,1000)\n",
    "large_x.shape"
   ]
  },
  {
   "cell_type": "code",
   "execution_count": 37,
   "id": "35c7bd3a",
   "metadata": {},
   "outputs": [
    {
     "data": {
      "text/plain": [
       "array([[6, 4, 5, ..., 1, 1, 5],\n",
       "       [0, 0, 3, ..., 3, 0, 5]])"
      ]
     },
     "execution_count": 37,
     "metadata": {},
     "output_type": "execute_result"
    }
   ],
   "source": [
    "large_x[-2:]"
   ]
  },
  {
   "cell_type": "code",
   "execution_count": 38,
   "id": "c9e36a39",
   "metadata": {},
   "outputs": [],
   "source": [
    "# 텍스트파일로 저장, 구분자 ‘,’\n",
    "np.savetxt('large_x.csv', large_x, delimiter=',')"
   ]
  },
  {
   "cell_type": "code",
   "execution_count": 39,
   "id": "482a37ea",
   "metadata": {},
   "outputs": [
    {
     "data": {
      "text/plain": [
       "(1000, 1000)"
      ]
     },
     "execution_count": 39,
     "metadata": {},
     "output_type": "execute_result"
    }
   ],
   "source": [
    "# 텍스트파일을 불러오기, 구분자 ‘,’\n",
    "x2=np.loadtxt('large_x.csv', delimiter=',')\n",
    "x2.shape\n"
   ]
  },
  {
   "cell_type": "code",
   "execution_count": 40,
   "id": "f2178756",
   "metadata": {},
   "outputs": [
    {
     "data": {
      "text/plain": [
       "array([[6., 4., 5., ..., 1., 1., 5.],\n",
       "       [0., 0., 3., ..., 3., 0., 5.]])"
      ]
     },
     "execution_count": 40,
     "metadata": {},
     "output_type": "execute_result"
    }
   ],
   "source": [
    "x2[-2:]"
   ]
  },
  {
   "cell_type": "code",
   "execution_count": 41,
   "id": "5c424f63",
   "metadata": {},
   "outputs": [
    {
     "data": {
      "text/plain": [
       "(1000, 1000)"
      ]
     },
     "execution_count": 41,
     "metadata": {},
     "output_type": "execute_result"
    }
   ],
   "source": [
    "# 바이너리 파일로 저장해 보자.\n",
    "np.save('large_x', large_x)\n",
    "x3 = np.load('large_x.npy')\n",
    "x3.shape\n"
   ]
  },
  {
   "cell_type": "code",
   "execution_count": 42,
   "id": "d02f1dd3",
   "metadata": {},
   "outputs": [
    {
     "data": {
      "text/plain": [
       "array([[6, 4, 5, ..., 1, 1, 5],\n",
       "       [0, 0, 3, ..., 3, 0, 5]])"
      ]
     },
     "execution_count": 42,
     "metadata": {},
     "output_type": "execute_result"
    }
   ],
   "source": [
    "x3[-2:]"
   ]
  },
  {
   "cell_type": "code",
   "execution_count": 43,
   "id": "b3082f62",
   "metadata": {},
   "outputs": [
    {
     "name": "stdout",
     "output_type": "stream",
     "text": [
      "[[1 0 3 ... 3 7 5]\n",
      " [6 6 5 ... 9 8 6]\n",
      " [6 3 4 ... 1 1 1]\n",
      " ...\n",
      " [4 1 7 ... 4 9 0]\n",
      " [6 4 5 ... 1 1 5]\n",
      " [0 0 3 ... 3 0 5]]\n"
     ]
    }
   ],
   "source": [
    "# 압축 바이너리 파일로 저장\n",
    "np.savez_compressed('large_x2', a=large_x)\n",
    "loaded = np.load('large_x2.npz')\n",
    "print(loaded[\"a\"])\n"
   ]
  },
  {
   "cell_type": "code",
   "execution_count": null,
   "id": "74e886c6",
   "metadata": {},
   "outputs": [],
   "source": []
  },
  {
   "cell_type": "code",
   "execution_count": 44,
   "id": "58a5e73b",
   "metadata": {},
   "outputs": [
    {
     "data": {
      "text/plain": [
       "array([[1, 0, 3, ..., 3, 7, 5],\n",
       "       [6, 6, 5, ..., 9, 8, 6],\n",
       "       [6, 3, 4, ..., 1, 1, 1],\n",
       "       ...,\n",
       "       [4, 1, 7, ..., 4, 9, 0],\n",
       "       [6, 4, 5, ..., 1, 1, 5],\n",
       "       [0, 0, 3, ..., 3, 0, 5]])"
      ]
     },
     "execution_count": 44,
     "metadata": {},
     "output_type": "execute_result"
    }
   ],
   "source": [
    "large_x"
   ]
  },
  {
   "cell_type": "code",
   "execution_count": 46,
   "id": "d817fd00",
   "metadata": {},
   "outputs": [
    {
     "data": {
      "text/plain": [
       "array([1, 0, 3, ..., 3, 0, 5])"
      ]
     },
     "execution_count": 46,
     "metadata": {},
     "output_type": "execute_result"
    }
   ],
   "source": [
    "x2 = large_x.ravel()\n",
    "x2"
   ]
  },
  {
   "cell_type": "code",
   "execution_count": 47,
   "id": "da826868",
   "metadata": {},
   "outputs": [
    {
     "data": {
      "text/plain": [
       "(1000000,)"
      ]
     },
     "execution_count": 47,
     "metadata": {},
     "output_type": "execute_result"
    }
   ],
   "source": [
    "x2.shape"
   ]
  },
  {
   "cell_type": "code",
   "execution_count": 48,
   "id": "a9f07ce5",
   "metadata": {},
   "outputs": [
    {
     "data": {
      "text/plain": [
       "(1000000,)"
      ]
     },
     "execution_count": 48,
     "metadata": {},
     "output_type": "execute_result"
    }
   ],
   "source": [
    "x3 = large_x.flatten() \n",
    "x3.shape\n"
   ]
  },
  {
   "cell_type": "code",
   "execution_count": null,
   "id": "603cb3d5",
   "metadata": {},
   "outputs": [],
   "source": []
  },
  {
   "cell_type": "code",
   "execution_count": 50,
   "id": "06848d6d",
   "metadata": {},
   "outputs": [
    {
     "data": {
      "text/plain": [
       "(1000000,)"
      ]
     },
     "execution_count": 50,
     "metadata": {},
     "output_type": "execute_result"
    }
   ],
   "source": [
    "x4 = large_x.reshape(-1) # -1를 주면 1차원 배열화됨\n",
    "x4.shape"
   ]
  },
  {
   "attachments": {},
   "cell_type": "markdown",
   "id": "3aa4d62c",
   "metadata": {},
   "source": [
    "## allclose 함수"
   ]
  },
  {
   "cell_type": "code",
   "execution_count": 18,
   "id": "2ef75753",
   "metadata": {},
   "outputs": [
    {
     "data": {
      "text/plain": [
       "True"
      ]
     },
     "execution_count": 18,
     "metadata": {},
     "output_type": "execute_result"
    }
   ],
   "source": [
    "allclose1 = [1, 1, 1/3, 2]\n",
    "allclose2 = [1, 1, 1/3, 2]\n",
    "\n",
    "\n",
    "allclose1 == allclose2\n"
   ]
  },
  {
   "cell_type": "code",
   "execution_count": 22,
   "id": "1ea87955",
   "metadata": {},
   "outputs": [
    {
     "data": {
      "text/plain": [
       "False"
      ]
     },
     "execution_count": 22,
     "metadata": {},
     "output_type": "execute_result"
    }
   ],
   "source": [
    "import numpy as np\n",
    "\n",
    "\n",
    "allclose1 = [1, 1, 1/3, 2]\n",
    "allclose2 = [0.9999999, 1.0, 0.33333, 2]\n",
    "\n",
    "allclose1 == allclose2\n"
   ]
  },
  {
   "cell_type": "code",
   "execution_count": 13,
   "id": "0a8a208f",
   "metadata": {},
   "outputs": [
    {
     "name": "stdout",
     "output_type": "stream",
     "text": [
      "False\n",
      "True\n",
      "False\n",
      "True\n"
     ]
    }
   ],
   "source": [
    "print(allclose1[0] == allclose2[0])\n",
    "print(allclose1[1] == allclose2[1])\n",
    "print(allclose1[2] == allclose2[2])\n",
    "print(allclose1[3] == allclose2[3])"
   ]
  },
  {
   "cell_type": "markdown",
   "id": "0f02e04e",
   "metadata": {},
   "source": []
  },
  {
   "cell_type": "code",
   "execution_count": 28,
   "id": "bf332cd0",
   "metadata": {},
   "outputs": [
    {
     "data": {
      "text/plain": [
       "False"
      ]
     },
     "execution_count": 28,
     "metadata": {},
     "output_type": "execute_result"
    }
   ],
   "source": [
    "np.allclose(allclose1, allclose2, rtol=1e-06)"
   ]
  },
  {
   "cell_type": "code",
   "execution_count": 29,
   "id": "ffa1c7db",
   "metadata": {},
   "outputs": [
    {
     "data": {
      "text/plain": [
       "True"
      ]
     },
     "execution_count": 29,
     "metadata": {},
     "output_type": "execute_result"
    }
   ],
   "source": [
    "np.allclose(allclose1, allclose2, rtol=1e-05)"
   ]
  },
  {
   "cell_type": "code",
   "execution_count": 27,
   "id": "713c259f",
   "metadata": {},
   "outputs": [
    {
     "data": {
      "text/plain": [
       "False"
      ]
     },
     "execution_count": 27,
     "metadata": {},
     "output_type": "execute_result"
    }
   ],
   "source": [
    "np.allclose(allclose1, allclose2, rtol=1e-06)"
   ]
  },
  {
   "cell_type": "code",
   "execution_count": null,
   "id": "19bbeeb9",
   "metadata": {},
   "outputs": [],
   "source": []
  }
 ],
 "metadata": {
  "kernelspec": {
   "display_name": "Python 3",
   "language": "python",
   "name": "python3"
  },
  "language_info": {
   "codemirror_mode": {
    "name": "ipython",
    "version": 3
   },
   "file_extension": ".py",
   "mimetype": "text/x-python",
   "name": "python",
   "nbconvert_exporter": "python",
   "pygments_lexer": "ipython3",
   "version": "3.10.4"
  }
 },
 "nbformat": 4,
 "nbformat_minor": 5
}
