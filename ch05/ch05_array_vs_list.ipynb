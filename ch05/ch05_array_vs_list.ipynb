{
 "cells": [
  {
   "cell_type": "code",
   "execution_count": 1,
   "id": "71d21c2e",
   "metadata": {},
   "outputs": [],
   "source": [
    "# %memit 매직명령어 사용을 위해 메모리 프로파일러를 로딩함\n",
    "%load_ext memory_profiler"
   ]
  },
  {
   "cell_type": "code",
   "execution_count": null,
   "id": "65ea6cb0",
   "metadata": {},
   "outputs": [],
   "source": [
    "import numpy as np\n",
    "\n",
    "\n",
    "def list_1000man():\n",
    "  # 1000만개\n",
    "  a_list = list(np.arange(10_000_000))\n",
    "  b = 0\n",
    "  for a in a_list:\n",
    "    b += a\n"
   ]
  },
  {
   "cell_type": "code",
   "execution_count": null,
   "id": "b5db1f91",
   "metadata": {},
   "outputs": [
    {
     "name": "stderr",
     "output_type": "stream",
     "text": [
      "C:\\Users\\sunin\\AppData\\Local\\Temp\\ipykernel_26084\\283678173.py:9: RuntimeWarning: overflow encountered in long_scalars\n",
      "  b += a\n"
     ]
    },
    {
     "name": "stdout",
     "output_type": "stream",
     "text": [
      "peak memory: 467.56 MiB, increment: 382.30 MiB\n"
     ]
    }
   ],
   "source": [
    "%memit list_1000man()"
   ]
  },
  {
   "cell_type": "code",
   "execution_count": null,
   "id": "4891e755",
   "metadata": {},
   "outputs": [],
   "source": []
  },
  {
   "cell_type": "code",
   "execution_count": null,
   "id": "680048bf",
   "metadata": {},
   "outputs": [],
   "source": []
  },
  {
   "cell_type": "code",
   "execution_count": null,
   "id": "7b0663fa",
   "metadata": {},
   "outputs": [],
   "source": [
    "import array\n",
    "\n",
    "def arra_1000man():\n",
    "    # 1000만개\n",
    "    a_list = array.array(\"i\", np.arange(10_000_000))\n",
    "    b = 0\n",
    "    for a in a_list:\n",
    "        b += a\n",
    "    "
   ]
  },
  {
   "cell_type": "code",
   "execution_count": null,
   "id": "77dbad8f",
   "metadata": {},
   "outputs": [
    {
     "name": "stdout",
     "output_type": "stream",
     "text": [
      "peak memory: 184.94 MiB, increment: 99.66 MiB\n"
     ]
    }
   ],
   "source": [
    "%memit arra_10man()"
   ]
  },
  {
   "cell_type": "code",
   "execution_count": null,
   "id": "6fca55ce",
   "metadata": {},
   "outputs": [],
   "source": []
  },
  {
   "cell_type": "code",
   "execution_count": null,
   "id": "29835337",
   "metadata": {},
   "outputs": [],
   "source": []
  },
  {
   "cell_type": "code",
   "execution_count": null,
   "id": "2b18d0d1",
   "metadata": {},
   "outputs": [],
   "source": [
    "#이하 코드 버린다."
   ]
  },
  {
   "cell_type": "code",
   "execution_count": null,
   "id": "98755f92",
   "metadata": {},
   "outputs": [],
   "source": []
  },
  {
   "cell_type": "code",
   "execution_count": null,
   "id": "d18e6d5d",
   "metadata": {},
   "outputs": [],
   "source": [
    "arr1 = np.arange(1_000_000)\n",
    "list1 = list(range(1_000_000))"
   ]
  },
  {
   "cell_type": "code",
   "execution_count": null,
   "id": "5cdaf5c2",
   "metadata": {},
   "outputs": [
    {
     "name": "stdout",
     "output_type": "stream",
     "text": [
      "11.9 ms ± 271 µs per loop (mean ± std. dev. of 7 runs, 100 loops each)\n"
     ]
    }
   ],
   "source": [
    "%timeit for _ in range(10): a1 = arr1 * 3"
   ]
  },
  {
   "cell_type": "code",
   "execution_count": null,
   "id": "1e07fa27",
   "metadata": {},
   "outputs": [
    {
     "name": "stdout",
     "output_type": "stream",
     "text": [
      "435 ms ± 8.04 ms per loop (mean ± std. dev. of 7 runs, 1 loop each)\n"
     ]
    }
   ],
   "source": [
    "%timeit for _ in range(10): list2 = [ x * 3for x in list1]"
   ]
  },
  {
   "cell_type": "code",
   "execution_count": null,
   "id": "ab39698e",
   "metadata": {},
   "outputs": [
    {
     "name": "stdout",
     "output_type": "stream",
     "text": [
      "1.17 ms ± 10.6 µs per loop (mean ± std. dev. of 7 runs, 1,000 loops each)\n"
     ]
    }
   ],
   "source": [
    "%timeit arr2 = arr1 * 3"
   ]
  },
  {
   "cell_type": "code",
   "execution_count": null,
   "id": "a8a1524c",
   "metadata": {},
   "outputs": [
    {
     "name": "stdout",
     "output_type": "stream",
     "text": [
      "15.6 ns ± 0.117 ns per loop (mean ± std. dev. of 7 runs, 100,000,000 loops each)\n"
     ]
    }
   ],
   "source": [
    "def loop1():\n",
    "    list2 = [ x*3 for x in list1]\n",
    "#     for x1 in list1:\n",
    "#         list2. = x1 * 3\n",
    "        \n",
    "# list2 = list()\n",
    "list1 = list(range(1_000_000))\n",
    "%timeit loop1"
   ]
  },
  {
   "cell_type": "code",
   "execution_count": null,
   "id": "d95724a6",
   "metadata": {
    "scrolled": true
   },
   "outputs": [
    {
     "name": "stdout",
     "output_type": "stream",
     "text": [
      "CPU times: total: 0 ns\n",
      "Wall time: 0 ns\n"
     ]
    },
    {
     "data": {
      "text/plain": [
       "<function __main__.loop1()>"
      ]
     },
     "execution_count": 49,
     "metadata": {},
     "output_type": "execute_result"
    }
   ],
   "source": [
    "%time loop1"
   ]
  },
  {
   "cell_type": "code",
   "execution_count": null,
   "id": "1cb098ba",
   "metadata": {},
   "outputs": [],
   "source": []
  }
 ],
 "metadata": {
  "kernelspec": {
   "display_name": "Python 3",
   "language": "python",
   "name": "python3"
  },
  "language_info": {
   "codemirror_mode": {
    "name": "ipython",
    "version": 3
   },
   "file_extension": ".py",
   "mimetype": "text/x-python",
   "name": "python",
   "nbconvert_exporter": "python",
   "pygments_lexer": "ipython3",
   "version": "3.10.4"
  },
  "vscode": {
   "interpreter": {
    "hash": "369f2c481f4da34e4445cda3fffd2e751bd1c4d706f27375911949ba6bb62e1c"
   }
  }
 },
 "nbformat": 4,
 "nbformat_minor": 5
}
