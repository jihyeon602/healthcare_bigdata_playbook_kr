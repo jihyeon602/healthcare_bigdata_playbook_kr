{
 "cells": [
  {
   "attachments": {},
   "cell_type": "markdown",
   "id": "5e888845",
   "metadata": {},
   "source": [
    "# 유니버설 함수"
   ]
  },
  {
   "cell_type": "code",
   "execution_count": 1,
   "id": "14849e7e",
   "metadata": {},
   "outputs": [],
   "source": [
    "import numpy as np\n",
    "\n",
    "def cal_add(val1, val2):\n",
    "  res = np.zeros(val1.shape)\n",
    "  rows, cols = val1.shape\n",
    "\n",
    "  for i in range(rows):\n",
    "    for j in range(cols):\n",
    "      res[i][j] = val1[i][j] + val2[i][j]\n",
    "\n",
    "  return res\n",
    "\n",
    "\"\"\"\n",
    "파이썬에는 상수가 없다. 그래서 변수와 상수를 구분하기 위해,\n",
    "변수는 소문자, 상수는 대문자로 구분해서 흔히 사용한다.\n",
    "\"\"\"\n",
    "\n",
    "ROWS = 1_000\n",
    "COLS = 1_000\n",
    "\n",
    "sample1 = np.random.rand(ROWS,COLS)\n",
    "sample2 = np.random.rand(ROWS,COLS)"
   ]
  },
  {
   "cell_type": "code",
   "execution_count": 2,
   "id": "45fd514d",
   "metadata": {},
   "outputs": [
    {
     "name": "stdout",
     "output_type": "stream",
     "text": [
      "608 ms ± 3.55 ms per loop (mean ± std. dev. of 7 runs, 1 loop each)\n"
     ]
    }
   ],
   "source": [
    "%%timeit\n",
    "cal_add(sample1, sample2)"
   ]
  },
  {
   "cell_type": "code",
   "execution_count": 3,
   "id": "0e742e35",
   "metadata": {
    "scrolled": true
   },
   "outputs": [],
   "source": [
    "%timeit\n",
    "res2 = ( sample1 + sample2) # res2 = np.add(sample1, sample2)와 동일"
   ]
  },
  {
   "cell_type": "code",
   "execution_count": 4,
   "id": "4ea5033e",
   "metadata": {},
   "outputs": [],
   "source": [
    "# 모듈을 호출한다\n",
    "%load_ext memory_profiler"
   ]
  },
  {
   "cell_type": "code",
   "execution_count": 5,
   "id": "45709efa",
   "metadata": {},
   "outputs": [
    {
     "name": "stdout",
     "output_type": "stream",
     "text": [
      "peak memory: 105.09 MiB, increment: 8.00 MiB\n"
     ]
    }
   ],
   "source": [
    "%memit cal_add(sample1, sample2)"
   ]
  },
  {
   "cell_type": "code",
   "execution_count": 6,
   "id": "76c46412",
   "metadata": {},
   "outputs": [
    {
     "name": "stdout",
     "output_type": "stream",
     "text": [
      "peak memory: 98.55 MiB, increment: 0.01 MiB\n"
     ]
    }
   ],
   "source": [
    "%memit np.add(sample1, sample2)"
   ]
  }
 ],
 "metadata": {
  "kernelspec": {
   "display_name": "Python 3",
   "language": "python",
   "name": "python3"
  },
  "language_info": {
   "codemirror_mode": {
    "name": "ipython",
    "version": 3
   },
   "file_extension": ".py",
   "mimetype": "text/x-python",
   "name": "python",
   "nbconvert_exporter": "python",
   "pygments_lexer": "ipython3",
   "version": "3.10.4"
  }
 },
 "nbformat": 4,
 "nbformat_minor": 5
}
