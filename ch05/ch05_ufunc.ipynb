{
 "cells": [
  {
   "cell_type": "code",
   "execution_count": 45,
   "id": "788cf5ab",
   "metadata": {},
   "outputs": [
    {
     "name": "stdout",
     "output_type": "stream",
     "text": [
      "[0.84785536 0.11626245 0.79060304 0.5453358  0.56121508]\n"
     ]
    },
    {
     "data": {
      "text/plain": [
       "array([0.71885871, 0.01351696, 0.62505317, 0.29739114, 0.31496236])"
      ]
     },
     "execution_count": 45,
     "metadata": {},
     "output_type": "execute_result"
    }
   ],
   "source": [
    "import numpy as np\n",
    "\n",
    "def cal_sqrt(val):\n",
    "    result = np.zeros(val.size)\n",
    "#     print(result)\n",
    "#     print(len(result))\n",
    "   \n",
    "    for i in range(len(val)):\n",
    "#         print(\"i: \", val[i])\n",
    "        result[i] = val[i] ** 2\n",
    "    return result\n",
    "\n",
    "# sample = np.random.rand(2_000_000)\n",
    "sample = np.random.rand(5)\n",
    "print(sample)\n",
    "# print(len(sample))\n",
    "# print(sample.size)\n",
    "cal_sqrt(sample)\n",
    "\n",
    "\n",
    "# sample2 = np.random.randint(1, 10, size=5)\n",
    "# sample2\n"
   ]
  },
  {
   "cell_type": "code",
   "execution_count": 46,
   "id": "a55da366",
   "metadata": {},
   "outputs": [
    {
     "name": "stdout",
     "output_type": "stream",
     "text": [
      "[0.71885871 0.01351696 0.62505317 0.29739114 0.31496236]\n"
     ]
    }
   ],
   "source": [
    "print(sample ** 2)"
   ]
  },
  {
   "cell_type": "code",
   "execution_count": null,
   "id": "5e888845",
   "metadata": {},
   "outputs": [],
   "source": []
  },
  {
   "cell_type": "code",
   "execution_count": null,
   "id": "86146c8e",
   "metadata": {},
   "outputs": [],
   "source": []
  },
  {
   "cell_type": "code",
   "execution_count": 3,
   "id": "14849e7e",
   "metadata": {},
   "outputs": [],
   "source": [
    "import numpy as np\n",
    "\n",
    "def cal_add(val1, val2):\n",
    "  res = np.zeros(val1.shape)\n",
    "  rows, cols = val1.shape\n",
    "\n",
    "  for i in range(rows):\n",
    "    for j in range(cols):\n",
    "      res[i][j] = val1[i][j] + val2[i][j]\n",
    "\n",
    "  return res\n",
    "\n",
    "\"\"\"\n",
    "파이썬에는 상수가 없다. 그래서 변수와 상수를 구분하기 위해,\n",
    "변수는 소문자, 상수는 대문자로 구분해서 흔히 사용한다.\n",
    "\"\"\"\n",
    "\n",
    "ROWS = 1_000\n",
    "COLS = 1_000\n",
    "# ROWS = 5\n",
    "# COLS = 50\n",
    "\n",
    "sample1 = np.random.rand(ROWS,COLS)\n",
    "sample2 = np.random.rand(ROWS,COLS)\n",
    "#res = cal_add(sample1, sample2)\n",
    "#res[:2]"
   ]
  },
  {
   "cell_type": "code",
   "execution_count": 2,
   "id": "45fd514d",
   "metadata": {},
   "outputs": [
    {
     "name": "stdout",
     "output_type": "stream",
     "text": [
      "608 ms ± 7.71 ms per loop (mean ± std. dev. of 7 runs, 1 loop each)\n"
     ]
    }
   ],
   "source": [
    "%%timeit\n",
    "cal_add(sample1, sample2)"
   ]
  },
  {
   "cell_type": "code",
   "execution_count": 108,
   "id": "0e742e35",
   "metadata": {
    "scrolled": true
   },
   "outputs": [
    {
     "name": "stdout",
     "output_type": "stream",
     "text": [
      "2.65 ms ± 46.2 µs per loop (mean ± std. dev. of 7 runs, 100 loops each)\n"
     ]
    },
    {
     "data": {
      "text/plain": [
       "array([[0.67838972, 1.05545376, 0.8497147 , ..., 0.76156043, 0.79991929,\n",
       "        1.08201206],\n",
       "       [1.55583623, 1.22002688, 1.01334548, ..., 0.64295518, 0.90606236,\n",
       "        0.9019155 ],\n",
       "       [1.30574252, 0.25325696, 1.59317459, ..., 0.60926406, 1.36939725,\n",
       "        1.26221207],\n",
       "       ...,\n",
       "       [0.55880487, 0.45189853, 1.06399989, ..., 0.42908398, 1.22606307,\n",
       "        0.42018882],\n",
       "       [0.95233553, 1.27494398, 1.79304518, ..., 1.18940419, 1.35459346,\n",
       "        0.66756583],\n",
       "       [1.69273695, 1.54166567, 0.25832049, ..., 1.43513353, 1.4399375 ,\n",
       "        1.5476677 ]])"
      ]
     },
     "execution_count": 108,
     "metadata": {},
     "output_type": "execute_result"
    }
   ],
   "source": [
    "%timeit sample1 + sample2\n",
    "res2"
   ]
  },
  {
   "cell_type": "code",
   "execution_count": 106,
   "id": "025c16bb",
   "metadata": {},
   "outputs": [
    {
     "data": {
      "text/plain": [
       "array([[0.67838972, 1.05545376, 0.8497147 , ..., 0.76156043, 0.79991929,\n",
       "        1.08201206],\n",
       "       [1.55583623, 1.22002688, 1.01334548, ..., 0.64295518, 0.90606236,\n",
       "        0.9019155 ]])"
      ]
     },
     "execution_count": 106,
     "metadata": {},
     "output_type": "execute_result"
    }
   ],
   "source": [
    "res2 = sample1 + sample2\n",
    "res2[:2]"
   ]
  },
  {
   "cell_type": "code",
   "execution_count": 102,
   "id": "68d14315",
   "metadata": {},
   "outputs": [
    {
     "data": {
      "text/plain": [
       "(1000, 1000)"
      ]
     },
     "execution_count": 102,
     "metadata": {},
     "output_type": "execute_result"
    }
   ],
   "source": [
    "res.shape"
   ]
  },
  {
   "cell_type": "code",
   "execution_count": 97,
   "id": "a28f8b61",
   "metadata": {},
   "outputs": [
    {
     "data": {
      "text/plain": [
       "(1000, 1000)"
      ]
     },
     "execution_count": 97,
     "metadata": {},
     "output_type": "execute_result"
    }
   ],
   "source": [
    "res2.shape"
   ]
  },
  {
   "cell_type": "code",
   "execution_count": 109,
   "id": "2692b6b0",
   "metadata": {},
   "outputs": [],
   "source": [
    "res3 = np.add(sample1, sample2)"
   ]
  },
  {
   "cell_type": "code",
   "execution_count": 111,
   "id": "da01ba93",
   "metadata": {},
   "outputs": [],
   "source": [
    "%load_ext memory_profiler\n"
   ]
  },
  {
   "cell_type": "code",
   "execution_count": 135,
   "id": "0a871e2a",
   "metadata": {},
   "outputs": [
    {
     "name": "stdout",
     "output_type": "stream",
     "text": [
      "peak memory: 235.55 MiB, increment: 6.84 MiB\n"
     ]
    }
   ],
   "source": [
    "%memit cal_add(sample1, sample2)"
   ]
  },
  {
   "cell_type": "code",
   "execution_count": 115,
   "id": "5d07bd4b",
   "metadata": {},
   "outputs": [
    {
     "name": "stdout",
     "output_type": "stream",
     "text": [
      "peak memory: 227.97 MiB, increment: 0.00 MiB\n"
     ]
    }
   ],
   "source": [
    "%memit np.add(sample1, sample2)"
   ]
  },
  {
   "cell_type": "code",
   "execution_count": 116,
   "id": "e61f7386",
   "metadata": {},
   "outputs": [
    {
     "data": {
      "text/plain": [
       "array([[1., 1., 1., ..., 1., 1., 1.],\n",
       "       [2., 1., 1., ..., 1., 1., 1.],\n",
       "       [1., 0., 2., ..., 1., 1., 1.],\n",
       "       ...,\n",
       "       [1., 0., 1., ..., 0., 1., 0.],\n",
       "       [1., 1., 2., ..., 1., 1., 1.],\n",
       "       [2., 2., 0., ..., 1., 1., 2.]])"
      ]
     },
     "execution_count": 116,
     "metadata": {},
     "output_type": "execute_result"
    }
   ],
   "source": [
    "np.around(res3)"
   ]
  },
  {
   "cell_type": "code",
   "execution_count": 117,
   "id": "72ed55d6",
   "metadata": {},
   "outputs": [
    {
     "data": {
      "text/plain": [
       "array([-6.90775528,  0.69314718,  1.79175947])"
      ]
     },
     "metadata": {},
     "output_type": "display_data"
    }
   ],
   "source": [
    "x = np.array([0.001, 2, 6])\n",
    "\n",
    "display(np.log(x))"
   ]
  },
  {
   "cell_type": "code",
   "execution_count": 149,
   "id": "4399fb8b",
   "metadata": {},
   "outputs": [
    {
     "data": {
      "text/plain": [
       "array([[ 364., 1876., 1920., ...,  434., 1818., 1246.],\n",
       "       [1346., 1410.,  748., ...,  502., 1202., 1068.]])"
      ]
     },
     "execution_count": 149,
     "metadata": {},
     "output_type": "execute_result"
    }
   ],
   "source": [
    "import numpy as np\n",
    "\n",
    "# def cal_add(val1, val2):\n",
    "#     res = np.zeros(val1.shape)\n",
    "#     rows, cols = val1.shape\n",
    "\n",
    "#     for i in range(rows):\n",
    "#         for j in range(cols):\n",
    "#             res[i][j] = val1[i][j] + val2[i][j]\n",
    "   \n",
    "#     return res\n",
    "\n",
    "# \"\"\"\n",
    "# 파이썬에는 상수가 없다. 그래서 변수와 상수를 구분하기 위해,\n",
    "# 변수는 소문자, 상수는 대문자로 구분해서 흔히 사용한다.\n",
    "# \"\"\"\n",
    "\n",
    "ROWS = 1_000\n",
    "COLS = 1_000\n",
    "\n",
    "sample1 = np.random.randint(ROWS, size=ROWS*COLS, dtype=np.int64)\n",
    "sample1 = sample1.reshape(ROWS, COLS)\n",
    "# sample1[:1]\n",
    "sample2 = np.random.randint(ROWS, size=ROWS*COLS, dtype=np.int64)\n",
    "sample2 = sample1.reshape(ROWS, COLS)\n",
    "# sample2 = np.random.rand(ROWS,COLS, dtype=np.int32)\n",
    "res = cal_add(sample1, sample2)\n",
    "res[:2]"
   ]
  },
  {
   "cell_type": "code",
   "execution_count": 137,
   "id": "12713bce",
   "metadata": {},
   "outputs": [
    {
     "name": "stdout",
     "output_type": "stream",
     "text": [
      "670 ms ± 7.21 ms per loop (mean ± std. dev. of 7 runs, 1 loop each)\n"
     ]
    }
   ],
   "source": [
    "%%timeit\n",
    "cal_add(sample1, sample2)"
   ]
  },
  {
   "cell_type": "code",
   "execution_count": 150,
   "id": "837fec04",
   "metadata": {},
   "outputs": [
    {
     "name": "stdout",
     "output_type": "stream",
     "text": [
      "peak memory: 255.36 MiB, increment: 7.32 MiB\n"
     ]
    }
   ],
   "source": [
    "%memit cal_add(sample1, sample2)"
   ]
  },
  {
   "cell_type": "code",
   "execution_count": 160,
   "id": "6bcf3d41",
   "metadata": {},
   "outputs": [
    {
     "data": {
      "text/plain": [
       "array([[1491., 1116., 1088., ...,  426., 1311., 1047.],\n",
       "       [1151., 1083.,  890., ..., 1842., 1773., 1148.]])"
      ]
     },
     "execution_count": 160,
     "metadata": {},
     "output_type": "execute_result"
    }
   ],
   "source": [
    "# import numpy as np\n",
    "\n",
    "def cal_add(val1, val2):\n",
    "    res = np.zeros(val1.shape)\n",
    "    rows, cols = val1.shape\n",
    "\n",
    "    for i in range(rows):\n",
    "        for j in range(cols):\n",
    "            res[i][j] = val1[i][j] + val2[i][j]\n",
    "   \n",
    "    return res\n",
    "\n",
    "\"\"\"\n",
    "파이썬에는 상수가 없다. 그래서 변수와 상수를 구분하기 위해,\n",
    "변수는 소문자, 상수는 대문자로 구분해서 흔히 사용한다.\n",
    "\"\"\"\n",
    "\n",
    "ROWS = 1_000\n",
    "COLS = 1_000\n",
    "\n",
    "sample3 = np.random.randint(ROWS, size=ROWS*COLS, dtype=np.int16)\n",
    "sample3 = sample3.reshape(ROWS, COLS)\n",
    "\n",
    "sample4 = np.random.randint(ROWS, size=ROWS*COLS, dtype=np.int16)\n",
    "sample4 = sample4.reshape(ROWS, COLS)\n",
    "res2 = cal_add(sample3, sample4)\n",
    "res2[:2]"
   ]
  },
  {
   "cell_type": "code",
   "execution_count": 146,
   "id": "01b55753",
   "metadata": {},
   "outputs": [
    {
     "name": "stdout",
     "output_type": "stream",
     "text": [
      "656 ms ± 4.93 ms per loop (mean ± std. dev. of 7 runs, 1 loop each)\n"
     ]
    }
   ],
   "source": [
    "%%timeit\n",
    "cal_add(sample3, sample4)"
   ]
  },
  {
   "cell_type": "code",
   "execution_count": 161,
   "id": "abbfc5fa",
   "metadata": {},
   "outputs": [
    {
     "name": "stdout",
     "output_type": "stream",
     "text": [
      "peak memory: 267.43 MiB, increment: 7.36 MiB\n"
     ]
    }
   ],
   "source": [
    "%memit cal_add(sample3, sample4)"
   ]
  },
  {
   "cell_type": "code",
   "execution_count": null,
   "id": "9c3aa45a",
   "metadata": {},
   "outputs": [],
   "source": []
  }
 ],
 "metadata": {
  "kernelspec": {
   "display_name": "Python 3",
   "language": "python",
   "name": "python3"
  },
  "language_info": {
   "codemirror_mode": {
    "name": "ipython",
    "version": 3
   },
   "file_extension": ".py",
   "mimetype": "text/x-python",
   "name": "python",
   "nbconvert_exporter": "python",
   "pygments_lexer": "ipython3",
   "version": "3.10.4"
  }
 },
 "nbformat": 4,
 "nbformat_minor": 5
}
