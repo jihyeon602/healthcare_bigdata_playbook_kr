{
 "cells": [
  {
   "cell_type": "code",
   "execution_count": 69,
   "id": "4866e604",
   "metadata": {},
   "outputs": [
    {
     "data": {
      "text/plain": [
       "['health', 'care']"
      ]
     },
     "execution_count": 69,
     "metadata": {},
     "output_type": "execute_result"
    }
   ],
   "source": [
    "# []로 감싸서 리스트를 생성\n",
    "list1 = [\"health\",\"care\"]\n",
    "list1"
   ]
  },
  {
   "cell_type": "code",
   "execution_count": 41,
   "id": "81aa3d73",
   "metadata": {},
   "outputs": [
    {
     "data": {
      "text/plain": [
       "[0, 1, 2, 3, 4, 5, 6, 7, 8, 9]"
      ]
     },
     "execution_count": 41,
     "metadata": {},
     "output_type": "execute_result"
    }
   ],
   "source": [
    "# list함수로 리스트를 생성\n",
    "list2 = list(range(10))\n",
    "list2"
   ]
  },
  {
   "cell_type": "code",
   "execution_count": 46,
   "id": "8a23150b",
   "metadata": {},
   "outputs": [
    {
     "data": {
      "text/plain": [
       "'health'"
      ]
     },
     "execution_count": 46,
     "metadata": {},
     "output_type": "execute_result"
    }
   ],
   "source": [
    "# 첫번째 요소 반환\n",
    "list1[0]"
   ]
  },
  {
   "cell_type": "code",
   "execution_count": 70,
   "id": "351c93f4",
   "metadata": {},
   "outputs": [
    {
     "data": {
      "text/plain": [
       "['health', 'care', 'data']"
      ]
     },
     "execution_count": 70,
     "metadata": {},
     "output_type": "execute_result"
    }
   ],
   "source": [
    "# 동적으로 마지막 요소로 'data' 문자열 추가\n",
    "list1.append(\"data\")\n",
    "list1"
   ]
  },
  {
   "cell_type": "code",
   "execution_count": 71,
   "id": "5b67f34a",
   "metadata": {},
   "outputs": [
    {
     "data": {
      "text/plain": [
       "['health', 'care', 'big', 'data']"
      ]
     },
     "execution_count": 71,
     "metadata": {},
     "output_type": "execute_result"
    }
   ],
   "source": [
    "# 동적으로 세번째 요소에 'big' 문자열 추가\n",
    "list1.insert(2, \"big\")\n",
    "list1"
   ]
  },
  {
   "cell_type": "code",
   "execution_count": 72,
   "id": "1cf7767e",
   "metadata": {},
   "outputs": [
    {
     "data": {
      "text/plain": [
       "['health', 'care', 'big', 'data', 'analysis']"
      ]
     },
     "execution_count": 72,
     "metadata": {},
     "output_type": "execute_result"
    }
   ],
   "source": [
    "# + 연산자로 새로운 리스트를 추가함\n",
    "list1 = list1 + [\"analysis\"]\n",
    "list1"
   ]
  },
  {
   "cell_type": "code",
   "execution_count": 73,
   "id": "c8c6ecb7",
   "metadata": {},
   "outputs": [
    {
     "data": {
      "text/plain": [
       "['health', 'care', 'big', 'data', 'analysis', 'playbook']"
      ]
     },
     "execution_count": 73,
     "metadata": {},
     "output_type": "execute_result"
    }
   ],
   "source": [
    "# extend로 새로운 리스트를 추가함\n",
    "list1.extend([\"playbook\"])\n",
    "list1"
   ]
  },
  {
   "cell_type": "code",
   "execution_count": 74,
   "id": "ec72c6f9",
   "metadata": {},
   "outputs": [
    {
     "name": "stdout",
     "output_type": "stream",
     "text": [
      "152\n"
     ]
    }
   ],
   "source": [
    "import sys\n",
    "print(sys.getsizeof(list1))"
   ]
  },
  {
   "cell_type": "code",
   "execution_count": null,
   "id": "ef18ff10",
   "metadata": {},
   "outputs": [],
   "source": []
  },
  {
   "cell_type": "code",
   "execution_count": null,
   "id": "603198a0",
   "metadata": {},
   "outputs": [],
   "source": []
  },
  {
   "cell_type": "code",
   "execution_count": null,
   "id": "4e97adc2",
   "metadata": {},
   "outputs": [],
   "source": []
  },
  {
   "cell_type": "code",
   "execution_count": 7,
   "id": "8703d4cf",
   "metadata": {},
   "outputs": [
    {
     "data": {
      "text/plain": [
       "['health', 'care', 'big', 'data']"
      ]
     },
     "execution_count": 7,
     "metadata": {},
     "output_type": "execute_result"
    }
   ],
   "source": [
    "# 0번째에서 네번째 요소까지를 a 리스트에 대입\n",
    "a = list1[0:4]\n",
    "a"
   ]
  },
  {
   "cell_type": "code",
   "execution_count": 67,
   "id": "d04b0ce7",
   "metadata": {},
   "outputs": [
    {
     "data": {
      "text/plain": [
       "['Health', 'Care']"
      ]
     },
     "execution_count": 67,
     "metadata": {},
     "output_type": "execute_result"
    }
   ],
   "source": [
    "# list1의 첫번재 요소를 'Health', 두번째 요소를 'Care'로 교체\n",
    "list1[0:2] = ['Health', 'Care']\n",
    "list1"
   ]
  },
  {
   "cell_type": "code",
   "execution_count": 59,
   "id": "75b0bf07",
   "metadata": {
    "scrolled": false
   },
   "outputs": [
    {
     "data": {
      "text/plain": [
       "'playbook'"
      ]
     },
     "execution_count": 59,
     "metadata": {},
     "output_type": "execute_result"
    }
   ],
   "source": [
    "# 인덱스5 (6번째) 요소를 추출하고, 리스트에서 삭제함\n",
    "list1.pop(5)"
   ]
  },
  {
   "cell_type": "code",
   "execution_count": 68,
   "id": "8fb100bf",
   "metadata": {},
   "outputs": [
    {
     "data": {
      "text/plain": [
       "['Health', 'Care']"
      ]
     },
     "execution_count": 68,
     "metadata": {},
     "output_type": "execute_result"
    }
   ],
   "source": [
    "# 6번째 요소 'playbook' 에 삭제됨\n",
    "list1"
   ]
  },
  {
   "cell_type": "code",
   "execution_count": 61,
   "id": "bd51ab91",
   "metadata": {},
   "outputs": [],
   "source": [
    "#'big' 문자열 요소를 찾아 삭제함\n",
    "list1.remove('big')"
   ]
  },
  {
   "cell_type": "code",
   "execution_count": 62,
   "id": "3c74caac",
   "metadata": {},
   "outputs": [
    {
     "data": {
      "text/plain": [
       "['Health', 'Care', 'data', 'analysis']"
      ]
     },
     "execution_count": 62,
     "metadata": {},
     "output_type": "execute_result"
    }
   ],
   "source": [
    "list1"
   ]
  },
  {
   "cell_type": "code",
   "execution_count": 63,
   "id": "a64a82e8",
   "metadata": {},
   "outputs": [
    {
     "data": {
      "text/plain": [
       "['Health', 'Care', 'data']"
      ]
     },
     "execution_count": 63,
     "metadata": {},
     "output_type": "execute_result"
    }
   ],
   "source": [
    "# 네번째 요소를 삭제함\n",
    "del list1[3]\n",
    "list1"
   ]
  },
  {
   "cell_type": "code",
   "execution_count": 64,
   "id": "af1da405",
   "metadata": {},
   "outputs": [
    {
     "name": "stdout",
     "output_type": "stream",
     "text": [
      "existed\n"
     ]
    }
   ],
   "source": [
    "if 'Health' in list1:\n",
    "    print('existed')\n",
    "else:\n",
    "    print('not existed')\n"
   ]
  },
  {
   "cell_type": "code",
   "execution_count": 65,
   "id": "ace4fd9b",
   "metadata": {},
   "outputs": [],
   "source": [
    "# 요소를 모두 삭제한다.\n",
    "list1.clear()"
   ]
  },
  {
   "cell_type": "code",
   "execution_count": 66,
   "id": "820464ff",
   "metadata": {},
   "outputs": [
    {
     "data": {
      "text/plain": [
       "[]"
      ]
     },
     "execution_count": 66,
     "metadata": {},
     "output_type": "execute_result"
    }
   ],
   "source": [
    "list1"
   ]
  },
  {
   "cell_type": "code",
   "execution_count": null,
   "id": "2fcf0963",
   "metadata": {},
   "outputs": [],
   "source": []
  },
  {
   "cell_type": "code",
   "execution_count": 75,
   "id": "ad4ea112",
   "metadata": {},
   "outputs": [],
   "source": [
    "s_list = ['Health', 'Care', 'big', 'data', 'analysis', 'playbook']"
   ]
  },
  {
   "cell_type": "code",
   "execution_count": 78,
   "id": "f4961e20",
   "metadata": {},
   "outputs": [
    {
     "data": {
      "text/plain": [
       "['Care', 'Health', 'analysis', 'big', 'data', 'playbook']"
      ]
     },
     "execution_count": 78,
     "metadata": {},
     "output_type": "execute_result"
    }
   ],
   "source": [
    "s_list.sort()\n",
    "s_list"
   ]
  },
  {
   "cell_type": "code",
   "execution_count": 80,
   "id": "41ae4772",
   "metadata": {},
   "outputs": [
    {
     "data": {
      "text/plain": [
       "['playbook', 'data', 'big', 'analysis', 'Health', 'Care']"
      ]
     },
     "execution_count": 80,
     "metadata": {},
     "output_type": "execute_result"
    }
   ],
   "source": [
    "newlist = s_list.sort(reverse=True)\n",
    "s_list"
   ]
  },
  {
   "cell_type": "code",
   "execution_count": 83,
   "id": "284b385e",
   "metadata": {},
   "outputs": [
    {
     "data": {
      "text/plain": [
       "True"
      ]
     },
     "execution_count": 83,
     "metadata": {},
     "output_type": "execute_result"
    }
   ],
   "source": [
    "newlist = s_list.sort(reverse=True)\n",
    "newlist == None"
   ]
  },
  {
   "cell_type": "code",
   "execution_count": 85,
   "id": "fe2f7a85",
   "metadata": {},
   "outputs": [
    {
     "data": {
      "text/plain": [
       "['playbook', 'data', 'big', 'analysis', 'Health', 'Care']"
      ]
     },
     "execution_count": 85,
     "metadata": {},
     "output_type": "execute_result"
    }
   ],
   "source": [
    "newlist = sorted(s_list, reverse=True)\n",
    "newlist"
   ]
  },
  {
   "cell_type": "code",
   "execution_count": null,
   "id": "44125dd8",
   "metadata": {},
   "outputs": [],
   "source": []
  }
 ],
 "metadata": {
  "kernelspec": {
   "display_name": "Python 3",
   "language": "python",
   "name": "python3"
  },
  "language_info": {
   "codemirror_mode": {
    "name": "ipython",
    "version": 3
   },
   "file_extension": ".py",
   "mimetype": "text/x-python",
   "name": "python",
   "nbconvert_exporter": "python",
   "pygments_lexer": "ipython3",
   "version": "3.10.4"
  }
 },
 "nbformat": 4,
 "nbformat_minor": 5
}
