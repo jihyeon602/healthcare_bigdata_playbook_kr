{
 "cells": [
  {
   "cell_type": "code",
   "execution_count": 2,
   "id": "76e5a9af",
   "metadata": {},
   "outputs": [
    {
     "name": "stdout",
     "output_type": "stream",
     "text": [
      "100\n"
     ]
    }
   ],
   "source": [
    "sum = 0\n",
    "i = 0; j = 1\n",
    "while i < 10 :\n",
    "  sum += (i + j ) * 2\n",
    "  sum += (i + j ) * 4\n",
    "  i += 1\n",
    "  j += 1\n",
    "\n",
    "print(sum)"
   ]
  },
  {
   "cell_type": "code",
   "execution_count": 4,
   "id": "3e0e7524",
   "metadata": {},
   "outputs": [
    {
     "name": "stdout",
     "output_type": "stream",
     "text": [
      "si_are\n"
     ]
    }
   ],
   "source": [
    "s = \"sirencare\"\n",
    "print(s[:2] + '_' + s[6:])"
   ]
  },
  {
   "cell_type": "code",
   "execution_count": 1,
   "id": "7c45811a",
   "metadata": {},
   "outputs": [
    {
     "name": "stdout",
     "output_type": "stream",
     "text": [
      "sum1:36\n",
      "sum2:33.0\n"
     ]
    }
   ],
   "source": [
    "def strange_sum(x, y=1.0):\n",
    "  return x + y + 9\n",
    "\n",
    "sum = 0; x = 0; y =1\n",
    "\n",
    "while x < 3:\n",
    "  sum += strange_sum(x, y)\n",
    "  x += 1\n",
    "  y += 1\n",
    "\n",
    "print(\"sum1:{}\".format(sum))\n",
    "\n",
    "sum=0; x=0; y=1\n",
    "while x < 3:\n",
    "  sum += strange_sum(x) # y 파라미터 값은 디폴트1이 부여\n",
    "  x += 1\n",
    "  y += 1\n",
    "\n",
    "print(\"sum2:{}\".format(sum))"
   ]
  },
  {
   "cell_type": "code",
   "execution_count": 22,
   "id": "d5388066",
   "metadata": {},
   "outputs": [
    {
     "name": "stdout",
     "output_type": "stream",
     "text": [
      "sum1:36\n",
      "sum2:33\n"
     ]
    }
   ],
   "source": [
    "def strange_sum(x, y=1.0):\n",
    "    return x + y + 9\n",
    "\n",
    "\n",
    "sum = 0; x = 0; y =1;\n",
    "\n",
    "while x < 3:\n",
    "    sum += x + y + 9\n",
    "    x += 1\n",
    "    y += 1\n",
    "    \n",
    "print(\"sum1:{}\".format(sum))\n",
    "\n",
    "sum=0; x=0; y=1;\n",
    "while x < 3:\n",
    "    sum += x + 1 + 9\n",
    "    x += 1\n",
    "    y += 1\n",
    "    \n",
    "print(\"sum2:{}\".format(sum))"
   ]
  },
  {
   "cell_type": "code",
   "execution_count": 30,
   "id": "f5f09b88",
   "metadata": {},
   "outputs": [
    {
     "name": "stdout",
     "output_type": "stream",
     "text": [
      "sum1:36\n"
     ]
    }
   ],
   "source": [
    "\n",
    "sum = 0; x = 0; y =1;\n",
    "\n",
    "while x < 3:\n",
    "    sum += (lambda a, b: a + b + 9)(x,y)\n",
    "    x += 1\n",
    "    y += 1\n",
    "    \n",
    "print(\"sum1:{}\".format(sum))\n"
   ]
  },
  {
   "cell_type": "code",
   "execution_count": 50,
   "id": "848ac946",
   "metadata": {},
   "outputs": [
    {
     "name": "stdout",
     "output_type": "stream",
     "text": [
      "i < 10\n",
      "i < 10\n",
      "i >= 20\n",
      "i >= 20\n",
      "i >= 20\n",
      "i >= 20\n",
      "i >= 20\n",
      "i >= 20\n"
     ]
    }
   ],
   "source": [
    "i = 0\n",
    "while i < 50 :\n",
    "    if i < 10:\n",
    "        print(\"i < 10\")\n",
    "    elif i < 20:\n",
    "        #print(\"10 < i < 20\")\n",
    "        #TODO 나중에 구현\n",
    "        pass\n",
    "    else:\n",
    "        print(\"i >= 20\")\n",
    "    \n",
    "    i +=5\n"
   ]
  },
  {
   "cell_type": "code",
   "execution_count": 39,
   "id": "baee290c",
   "metadata": {},
   "outputs": [
    {
     "name": "stdout",
     "output_type": "stream",
     "text": [
      "0\n",
      "1\n",
      "2\n",
      "3\n"
     ]
    }
   ],
   "source": [
    "    \n",
    "for i in range(4):\n",
    "    print(i)"
   ]
  },
  {
   "cell_type": "code",
   "execution_count": 41,
   "id": "00a8569f",
   "metadata": {},
   "outputs": [
    {
     "name": "stdout",
     "output_type": "stream",
     "text": [
      "0\n",
      "1\n",
      "2\n",
      "3\n"
     ]
    }
   ],
   "source": [
    "i = 0\n",
    "while i < 4:\n",
    "    print(i)\n",
    "    i+=1"
   ]
  },
  {
   "cell_type": "code",
   "execution_count": 47,
   "id": "38f86b83",
   "metadata": {},
   "outputs": [
    {
     "ename": "NameError",
     "evalue": "name 'b' is not defined",
     "output_type": "error",
     "traceback": [
      "\u001b[1;31m---------------------------------------------------------------------------\u001b[0m",
      "\u001b[1;31mNameError\u001b[0m                                 Traceback (most recent call last)",
      "Cell \u001b[1;32mIn[47], line 8\u001b[0m\n\u001b[0;32m      4\u001b[0m         \u001b[38;5;28mprint\u001b[39m(\u001b[38;5;28mself\u001b[39m\u001b[38;5;241m.\u001b[39ma)\n\u001b[0;32m      7\u001b[0m a \u001b[38;5;241m=\u001b[39m AClass()\n\u001b[1;32m----> 8\u001b[0m \u001b[43ma\u001b[49m\u001b[38;5;241;43m.\u001b[39;49m\u001b[43ma_func\u001b[49m\u001b[43m(\u001b[49m\u001b[43m)\u001b[49m\n",
      "Cell \u001b[1;32mIn[47], line 3\u001b[0m, in \u001b[0;36mAClass.a_func\u001b[1;34m(self)\u001b[0m\n\u001b[0;32m      2\u001b[0m \u001b[38;5;28;01mdef\u001b[39;00m \u001b[38;5;21ma_func\u001b[39m(\u001b[38;5;28mself\u001b[39m):\n\u001b[1;32m----> 3\u001b[0m     \u001b[38;5;28mself\u001b[39m\u001b[38;5;241m.\u001b[39ma \u001b[38;5;241m=\u001b[39m \u001b[43mb\u001b[49m\n\u001b[0;32m      4\u001b[0m     \u001b[38;5;28mprint\u001b[39m(\u001b[38;5;28mself\u001b[39m\u001b[38;5;241m.\u001b[39ma)\n",
      "\u001b[1;31mNameError\u001b[0m: name 'b' is not defined"
     ]
    }
   ],
   "source": [
    "class AClass:\n",
    "    def a_func(self):\n",
    "        self.a = b\n",
    "        print(self.a)\n",
    "        \n",
    "        \n",
    "a = AClass()\n",
    "a.a_func()"
   ]
  },
  {
   "cell_type": "code",
   "execution_count": 52,
   "id": "fd55d8d9",
   "metadata": {},
   "outputs": [
    {
     "name": "stdout",
     "output_type": "stream",
     "text": [
      "i < 10\n",
      "i < 10\n",
      "10 < i < 20\n",
      "10 < i < 20\n",
      "i >= 20\n",
      "i >= 20\n",
      "i >= 20\n",
      "i >= 20\n",
      "i >= 20\n",
      "i >= 20\n"
     ]
    }
   ],
   "source": [
    "i = 0\n",
    "while i < 50 :\n",
    "    print(\"i < 10\") if i < 10 else ( print(\"10 < i < 20\") if i < 20 else print(\"i >= 20\"))\n",
    "    \n",
    "    i +=5"
   ]
  },
  {
   "cell_type": "code",
   "execution_count": 54,
   "id": "4f8a5c55",
   "metadata": {},
   "outputs": [
    {
     "ename": "TypeError",
     "evalue": "'str' object cannot be interpreted as an integer",
     "output_type": "error",
     "traceback": [
      "\u001b[1;31m---------------------------------------------------------------------------\u001b[0m",
      "\u001b[1;31mTypeError\u001b[0m                                 Traceback (most recent call last)",
      "Cell \u001b[1;32mIn[54], line 1\u001b[0m\n\u001b[1;32m----> 1\u001b[0m \u001b[38;5;28;43mrange\u001b[39;49m\u001b[43m(\u001b[49m\u001b[38;5;124;43m'\u001b[39;49m\u001b[38;5;124;43ma\u001b[39;49m\u001b[38;5;124;43m'\u001b[39;49m\u001b[43m)\u001b[49m\n",
      "\u001b[1;31mTypeError\u001b[0m: 'str' object cannot be interpreted as an integer"
     ]
    }
   ],
   "source": [
    "range('a')"
   ]
  },
  {
   "cell_type": "code",
   "execution_count": null,
   "id": "0cd45754",
   "metadata": {},
   "outputs": [],
   "source": []
  }
 ],
 "metadata": {
  "kernelspec": {
   "display_name": "Python 3",
   "language": "python",
   "name": "python3"
  },
  "language_info": {
   "codemirror_mode": {
    "name": "ipython",
    "version": 3
   },
   "file_extension": ".py",
   "mimetype": "text/x-python",
   "name": "python",
   "nbconvert_exporter": "python",
   "pygments_lexer": "ipython3",
   "version": "3.10.4"
  }
 },
 "nbformat": 4,
 "nbformat_minor": 5
}
