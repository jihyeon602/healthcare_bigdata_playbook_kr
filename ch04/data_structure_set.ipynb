{
 "cells": [
  {
   "cell_type": "code",
   "execution_count": 29,
   "id": "0ad1755b",
   "metadata": {},
   "outputs": [
    {
     "data": {
      "text/plain": [
       "{1, 2, 3, 4, 5}"
      ]
     },
     "execution_count": 29,
     "metadata": {},
     "output_type": "execute_result"
    }
   ],
   "source": [
    "set_1 = {2,1,2,3,4,5}\n",
    "set_1"
   ]
  },
  {
   "cell_type": "code",
   "execution_count": 16,
   "id": "b08d8d31",
   "metadata": {},
   "outputs": [
    {
     "data": {
      "text/plain": [
       "set"
      ]
     },
     "execution_count": 16,
     "metadata": {},
     "output_type": "execute_result"
    }
   ],
   "source": [
    "type(set_1)"
   ]
  },
  {
   "cell_type": "code",
   "execution_count": 30,
   "id": "e437ea49",
   "metadata": {},
   "outputs": [
    {
     "data": {
      "text/plain": [
       "{1, 3, 5, 7, 9}"
      ]
     },
     "execution_count": 30,
     "metadata": {},
     "output_type": "execute_result"
    }
   ],
   "source": [
    "set_a = set([3,3,3,1,3,5,7,9])\n",
    "set_a #중복된 3이 하나로 되었다"
   ]
  },
  {
   "cell_type": "code",
   "execution_count": 31,
   "id": "8bc11030",
   "metadata": {
    "scrolled": true
   },
   "outputs": [
    {
     "data": {
      "text/plain": [
       "{1, 3, 5, 7, 9, 11, 12, 13, 14, 15}"
      ]
     },
     "execution_count": 31,
     "metadata": {},
     "output_type": "execute_result"
    }
   ],
   "source": [
    "set_b = set([7,11,12,13,14,15])\n",
    "# | 로 합집합을 구한다.\n",
    "set_a | set_b"
   ]
  },
  {
   "cell_type": "code",
   "execution_count": 32,
   "id": "ad94784a",
   "metadata": {},
   "outputs": [
    {
     "name": "stdout",
     "output_type": "stream",
     "text": [
      "{7}\n",
      "{7}\n"
     ]
    }
   ],
   "source": [
    "#교집합 구하기\n",
    "bb = set_a.intersection(set_b)\n",
    "print(bb)\n",
    "\n",
    "cc = set_a & set_b\n",
    "print(cc)\n"
   ]
  },
  {
   "cell_type": "code",
   "execution_count": null,
   "id": "e1c42c0d",
   "metadata": {},
   "outputs": [],
   "source": []
  },
  {
   "cell_type": "code",
   "execution_count": 20,
   "id": "33127104",
   "metadata": {},
   "outputs": [
    {
     "name": "stdout",
     "output_type": "stream",
     "text": [
      "{1, 3, 5, 7, 9, 11, 12, 13, 14, 15}\n"
     ]
    }
   ],
   "source": [
    "# 합집합을 구하기\n",
    "bb = set_a | set_b\n",
    "print(bb)"
   ]
  },
  {
   "cell_type": "code",
   "execution_count": 33,
   "id": "8b45d02a",
   "metadata": {},
   "outputs": [
    {
     "name": "stdout",
     "output_type": "stream",
     "text": [
      "{1, 3, 5, 7, 9, 11, 12, 13, 14, 15}\n"
     ]
    }
   ],
   "source": [
    "#  uninon 메서드로 합집합을 구한다.\n",
    "cc = set_a.union(set_b)\n",
    "print(cc)"
   ]
  },
  {
   "cell_type": "code",
   "execution_count": 34,
   "id": "10ced9ef",
   "metadata": {},
   "outputs": [
    {
     "name": "stdout",
     "output_type": "stream",
     "text": [
      "{1, 3, 5, 9}\n",
      "{1, 3, 5, 9}\n"
     ]
    }
   ],
   "source": [
    "# 차집합 구하기\n",
    "diff1 = set_a.difference(set_b)\n",
    "print(diff1)\n",
    "diff2 = set_a - set_b\n",
    "print(diff2)\n"
   ]
  },
  {
   "cell_type": "code",
   "execution_count": null,
   "id": "71556d30",
   "metadata": {},
   "outputs": [],
   "source": []
  },
  {
   "cell_type": "code",
   "execution_count": 35,
   "id": "b3b3e65b",
   "metadata": {},
   "outputs": [
    {
     "data": {
      "text/plain": [
       "{1, 3, 5, 7, 9, 11, 12, 13, 14, 15}"
      ]
     },
     "execution_count": 35,
     "metadata": {},
     "output_type": "execute_result"
    }
   ],
   "source": [
    "# update로 집합을 추가하기\n",
    "set_a.update(set_b)\n",
    "set_a\n"
   ]
  },
  {
   "cell_type": "code",
   "execution_count": null,
   "id": "c2d90565",
   "metadata": {},
   "outputs": [],
   "source": []
  },
  {
   "cell_type": "code",
   "execution_count": 36,
   "id": "65568166",
   "metadata": {},
   "outputs": [
    {
     "data": {
      "text/plain": [
       "{1, 3, 5, 7, 9, 10, 11, 12, 13, 14, 15}"
      ]
     },
     "execution_count": 36,
     "metadata": {},
     "output_type": "execute_result"
    }
   ],
   "source": [
    "# add로 요소 추가하기\n",
    "set_a.add(10)\n",
    "set_a\n"
   ]
  },
  {
   "cell_type": "code",
   "execution_count": 37,
   "id": "ae558544",
   "metadata": {},
   "outputs": [
    {
     "data": {
      "text/plain": [
       "{1, 3, 5, 9, 10, 11, 12, 13, 14, 15}"
      ]
     },
     "execution_count": 37,
     "metadata": {},
     "output_type": "execute_result"
    }
   ],
   "source": [
    "#remove로 요소 제거하기\n",
    "set_a.remove(7)\n",
    "set_a"
   ]
  },
  {
   "cell_type": "code",
   "execution_count": 38,
   "id": "72108739",
   "metadata": {},
   "outputs": [
    {
     "data": {
      "text/plain": [
       "1"
      ]
     },
     "execution_count": 38,
     "metadata": {},
     "output_type": "execute_result"
    }
   ],
   "source": [
    "#pop로 요소 추출하기\n",
    "b = set_a.pop()\n",
    "b"
   ]
  },
  {
   "cell_type": "code",
   "execution_count": 12,
   "id": "e5bb6632",
   "metadata": {},
   "outputs": [
    {
     "data": {
      "text/plain": [
       "{3, 5, 9, 11, 12, 13, 14, 15}"
      ]
     },
     "execution_count": 12,
     "metadata": {},
     "output_type": "execute_result"
    }
   ],
   "source": [
    "set_a"
   ]
  },
  {
   "cell_type": "code",
   "execution_count": 39,
   "id": "2f6b1767",
   "metadata": {},
   "outputs": [
    {
     "name": "stdout",
     "output_type": "stream",
     "text": [
      "{7, 11, 12, 13, 14, 15}\n",
      "set()\n"
     ]
    }
   ],
   "source": [
    "# clear로 모든 요소 지우기\n",
    "print(set_b)\n",
    "set_b.clear()\n",
    "print(set_b)\n"
   ]
  },
  {
   "cell_type": "code",
   "execution_count": null,
   "id": "0011d071",
   "metadata": {},
   "outputs": [],
   "source": []
  }
 ],
 "metadata": {
  "kernelspec": {
   "display_name": "Python 3",
   "language": "python",
   "name": "python3"
  },
  "language_info": {
   "codemirror_mode": {
    "name": "ipython",
    "version": 3
   },
   "file_extension": ".py",
   "mimetype": "text/x-python",
   "name": "python",
   "nbconvert_exporter": "python",
   "pygments_lexer": "ipython3",
   "version": "3.10.4"
  }
 },
 "nbformat": 4,
 "nbformat_minor": 5
}
