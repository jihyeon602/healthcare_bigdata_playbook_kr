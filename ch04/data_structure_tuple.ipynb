{
 "cells": [
  {
   "cell_type": "code",
   "execution_count": 1,
   "id": "47b8f4b9",
   "metadata": {},
   "outputs": [
    {
     "data": {
      "text/plain": [
       "('Health', 'Care', 'big', 'data', 'analysis', 'playbook')"
      ]
     },
     "execution_count": 1,
     "metadata": {},
     "output_type": "execute_result"
    }
   ],
   "source": [
    "tu = ('Health', 'Care', 'big', 'data', 'analysis', 'playbook')\n",
    "tu"
   ]
  },
  {
   "cell_type": "code",
   "execution_count": 2,
   "id": "a3db2df9",
   "metadata": {},
   "outputs": [
    {
     "data": {
      "text/plain": [
       "'Health'"
      ]
     },
     "execution_count": 2,
     "metadata": {},
     "output_type": "execute_result"
    }
   ],
   "source": [
    "tu[0]"
   ]
  },
  {
   "cell_type": "code",
   "execution_count": 3,
   "id": "083e7b20",
   "metadata": {},
   "outputs": [
    {
     "ename": "TypeError",
     "evalue": "'tuple' object does not support item assignment",
     "output_type": "error",
     "traceback": [
      "\u001b[1;31m---------------------------------------------------------------------------\u001b[0m",
      "\u001b[1;31mTypeError\u001b[0m                                 Traceback (most recent call last)",
      "Cell \u001b[1;32mIn[3], line 1\u001b[0m\n\u001b[1;32m----> 1\u001b[0m \u001b[43mtu\u001b[49m\u001b[43m[\u001b[49m\u001b[38;5;241;43m0\u001b[39;49m\u001b[43m]\u001b[49m \u001b[38;5;241m=\u001b[39m \u001b[38;5;124m'\u001b[39m\u001b[38;5;124mhealth\u001b[39m\u001b[38;5;124m'\u001b[39m\n",
      "\u001b[1;31mTypeError\u001b[0m: 'tuple' object does not support item assignment"
     ]
    }
   ],
   "source": [
    "tu[0] = 'health'"
   ]
  },
  {
   "cell_type": "code",
   "execution_count": 5,
   "id": "fe333460",
   "metadata": {},
   "outputs": [
    {
     "ename": "TypeError",
     "evalue": "'tuple' object doesn't support item deletion",
     "output_type": "error",
     "traceback": [
      "\u001b[1;31m---------------------------------------------------------------------------\u001b[0m",
      "\u001b[1;31mTypeError\u001b[0m                                 Traceback (most recent call last)",
      "Cell \u001b[1;32mIn[5], line 1\u001b[0m\n\u001b[1;32m----> 1\u001b[0m \u001b[38;5;28;01mdel\u001b[39;00m tu[\u001b[38;5;241m0\u001b[39m]\n",
      "\u001b[1;31mTypeError\u001b[0m: 'tuple' object doesn't support item deletion"
     ]
    }
   ],
   "source": [
    "del tu[0]"
   ]
  },
  {
   "cell_type": "code",
   "execution_count": 8,
   "id": "679ac2d0",
   "metadata": {
    "scrolled": false
   },
   "outputs": [
    {
     "data": {
      "text/plain": [
       "('Health', 'Care', 'big', 'data', ['analysis', 'playbook'])"
      ]
     },
     "execution_count": 8,
     "metadata": {},
     "output_type": "execute_result"
    }
   ],
   "source": [
    "# 언패킹\n",
    "a, b, c, d, *rest = tu\n",
    "a, b, c, d, rest"
   ]
  },
  {
   "cell_type": "code",
   "execution_count": 15,
   "id": "8eaa8bd2",
   "metadata": {},
   "outputs": [
    {
     "ename": "SyntaxError",
     "evalue": "multiple starred expressions in assignment (3239310538.py, line 2)",
     "output_type": "error",
     "traceback": [
      "\u001b[1;36m  Cell \u001b[1;32mIn[15], line 2\u001b[1;36m\u001b[0m\n\u001b[1;33m    a, b, c, d, *rest1, *rest2 = tu\u001b[0m\n\u001b[1;37m    ^\u001b[0m\n\u001b[1;31mSyntaxError\u001b[0m\u001b[1;31m:\u001b[0m multiple starred expressions in assignment\n"
     ]
    }
   ],
   "source": [
    "# 언패킹, 별포식 2개 -> 에러\n",
    "a, b, c, d, *rest1, *rest2 = tu\n",
    "a, b, c, d, rest1, rest2"
   ]
  },
  {
   "cell_type": "code",
   "execution_count": 11,
   "id": "1779519e",
   "metadata": {},
   "outputs": [
    {
     "data": {
      "text/plain": [
       "('Health', 'Care', 'big', 'data', 'analysis', 'playbook')"
      ]
     },
     "execution_count": 11,
     "metadata": {},
     "output_type": "execute_result"
    }
   ],
   "source": [
    "tu"
   ]
  },
  {
   "cell_type": "code",
   "execution_count": 13,
   "id": "2cb07f8b",
   "metadata": {},
   "outputs": [
    {
     "name": "stdout",
     "output_type": "stream",
     "text": [
      "88\n"
     ]
    }
   ],
   "source": [
    "tu = ('Health', 'Care', 'big', 'data', 'analysis', 'playbook')\n",
    "import sys\n",
    "print(sys.getsizeof(tu))"
   ]
  },
  {
   "cell_type": "code",
   "execution_count": 12,
   "id": "4792d68e",
   "metadata": {},
   "outputs": [
    {
     "name": "stdout",
     "output_type": "stream",
     "text": [
      "152\n"
     ]
    }
   ],
   "source": [
    "list1 =  [\"health\",\"care\", \"big\", \"data\", \"analysis\", \"playbook\"]\n",
    "import sys\n",
    "print(sys.getsizeof(list1))"
   ]
  },
  {
   "cell_type": "code",
   "execution_count": 14,
   "id": "dff57f59",
   "metadata": {},
   "outputs": [
    {
     "name": "stdout",
     "output_type": "stream",
     "text": [
      "name:senior_a, age:71, sex:Male\n",
      "name:senior_b, age:78, sex:Female\n",
      "name:senior_c, age:81, sex:Male\n"
     ]
    }
   ],
   "source": [
    "patients = [\n",
    "    ('senior_a', '71', 'Male'),\n",
    "    ('senior_b', '78', 'Female'),\n",
    "    ('senior_c', '81', 'Male'),    \n",
    "]\n",
    "\n",
    "for name, age, sex in patients:\n",
    "    print(\"name:{}, age:{}, sex:{}\".format(name, age, sex))\n"
   ]
  },
  {
   "cell_type": "code",
   "execution_count": 1,
   "id": "f0c837e8",
   "metadata": {},
   "outputs": [
    {
     "data": {
      "text/plain": [
       "'val1'"
      ]
     },
     "execution_count": 1,
     "metadata": {},
     "output_type": "execute_result"
    }
   ],
   "source": [
    "a = {\n",
    "\"key1\":\"val1\",\n",
    "\"key2\":\"val2\",\n",
    "\"key3\":\"val3\"\n",
    "}\n",
    "\n",
    "a['key1'] # 키로 검색"
   ]
  },
  {
   "cell_type": "code",
   "execution_count": 2,
   "id": "29409a4e",
   "metadata": {},
   "outputs": [
    {
     "data": {
      "text/plain": [
       "'val1'"
      ]
     },
     "execution_count": 2,
     "metadata": {},
     "output_type": "execute_result"
    }
   ],
   "source": [
    "a.get('key1') # 키로 검색"
   ]
  },
  {
   "cell_type": "code",
   "execution_count": 3,
   "id": "8a085968",
   "metadata": {},
   "outputs": [
    {
     "data": {
      "text/plain": [
       "True"
      ]
     },
     "execution_count": 3,
     "metadata": {},
     "output_type": "execute_result"
    }
   ],
   "source": [
    "a['key1'] == a.get('key1')"
   ]
  },
  {
   "cell_type": "code",
   "execution_count": 4,
   "id": "6581fc57",
   "metadata": {},
   "outputs": [
    {
     "data": {
      "text/plain": [
       "['key1', 'key2', 'key3']"
      ]
     },
     "execution_count": 4,
     "metadata": {},
     "output_type": "execute_result"
    }
   ],
   "source": [
    "list(a) # a의 키 목록을 얻는다"
   ]
  },
  {
   "cell_type": "code",
   "execution_count": 5,
   "id": "18ed2468",
   "metadata": {},
   "outputs": [
    {
     "data": {
      "text/plain": [
       "dict_keys(['key1', 'key2', 'key3'])"
      ]
     },
     "execution_count": 5,
     "metadata": {},
     "output_type": "execute_result"
    }
   ],
   "source": [
    "a.keys() #키 목록 객체 반환"
   ]
  },
  {
   "cell_type": "code",
   "execution_count": 6,
   "id": "e14cdab0",
   "metadata": {},
   "outputs": [
    {
     "data": {
      "text/plain": [
       "dict_values(['val1', 'val2', 'val3'])"
      ]
     },
     "execution_count": 6,
     "metadata": {},
     "output_type": "execute_result"
    }
   ],
   "source": [
    "a.values() # 키 값 목록 객체 반환"
   ]
  },
  {
   "cell_type": "code",
   "execution_count": 7,
   "id": "f3fe47f7",
   "metadata": {},
   "outputs": [
    {
     "data": {
      "text/plain": [
       "dict_items([('key1', 'val1'), ('key2', 'val2'), ('key3', 'val3')])"
      ]
     },
     "execution_count": 7,
     "metadata": {},
     "output_type": "execute_result"
    }
   ],
   "source": [
    "a.items() # 키, 값 쌍 목록 객체 반환"
   ]
  },
  {
   "cell_type": "code",
   "execution_count": 8,
   "id": "a7afbd09",
   "metadata": {},
   "outputs": [],
   "source": [
    "del a['key1'] # a에서 키값 ‘key1’과 매핑된 값을 삭제함\n",
    "a"
   ]
  },
  {
   "cell_type": "code",
   "execution_count": 9,
   "id": "9cba3dea",
   "metadata": {},
   "outputs": [
    {
     "data": {
      "text/plain": [
       "{'key2': 'val2', 'key3': 'val3'}"
      ]
     },
     "execution_count": 9,
     "metadata": {},
     "output_type": "execute_result"
    }
   ],
   "source": []
  },
  {
   "cell_type": "code",
   "execution_count": 10,
   "id": "90ee12e3",
   "metadata": {},
   "outputs": [],
   "source": [
    "dict3 = {'key1':[10,20,30], 'key2':['a', 'b', 'c']}\n",
    "dict3['key3'] = ['z','y','x']\n",
    "dict3"
   ]
  },
  {
   "cell_type": "code",
   "execution_count": 11,
   "id": "1516ece9",
   "metadata": {},
   "outputs": [
    {
     "data": {
      "text/plain": [
       "{}"
      ]
     },
     "execution_count": 11,
     "metadata": {},
     "output_type": "execute_result"
    }
   ],
   "source": [
    "dict3.clear()\n",
    "dict3\n"
   ]
  },
  {
   "cell_type": "code",
   "execution_count": null,
   "id": "218931bf",
   "metadata": {},
   "outputs": [],
   "source": []
  }
 ],
 "metadata": {
  "kernelspec": {
   "display_name": "Python 3",
   "language": "python",
   "name": "python3"
  },
  "language_info": {
   "codemirror_mode": {
    "name": "ipython",
    "version": 3
   },
   "file_extension": ".py",
   "mimetype": "text/x-python",
   "name": "python",
   "nbconvert_exporter": "python",
   "pygments_lexer": "ipython3",
   "version": "3.10.4"
  }
 },
 "nbformat": 4,
 "nbformat_minor": 5
}
