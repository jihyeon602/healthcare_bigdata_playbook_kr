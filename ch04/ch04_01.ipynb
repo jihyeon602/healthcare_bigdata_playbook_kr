{
 "cells": [
  {
   "cell_type": "code",
   "execution_count": 1,
   "id": "b804f967",
   "metadata": {},
   "outputs": [
    {
     "name": "stdout",
     "output_type": "stream",
     "text": [
      "i < 10\n",
      "i < 10\n",
      "i < 10\n",
      "i < 10\n",
      "i < 10\n",
      "i < 10\n",
      "i < 10\n",
      "i < 10\n",
      "i < 10\n",
      "i < 10\n",
      "i >= 10\n",
      "i >= 10\n",
      "i >= 10\n",
      "i >= 10\n",
      "i >= 10\n",
      "i >= 10\n",
      "i >= 10\n",
      "i >= 10\n",
      "i >= 10\n",
      "i >= 10\n",
      "i >= 10\n",
      "i >= 10\n",
      "i >= 10\n",
      "i >= 10\n",
      "i >= 10\n",
      "i >= 10\n",
      "i >= 10\n",
      "i >= 10\n",
      "i >= 10\n",
      "i >= 10\n",
      "i >= 10\n",
      "i >= 10\n",
      "i >= 10\n",
      "i >= 10\n",
      "i >= 10\n",
      "i >= 10\n",
      "i >= 10\n",
      "i >= 10\n",
      "i >= 10\n",
      "i >= 10\n",
      "i >= 10\n",
      "i >= 10\n",
      "i >= 10\n",
      "i >= 10\n",
      "i >= 10\n",
      "i >= 10\n",
      "i >= 10\n",
      "i >= 10\n",
      "i >= 10\n",
      "i >= 10\n"
     ]
    }
   ],
   "source": [
    "# 변수 i 를 선언 및 초기화함, 한줄 주석\n",
    "i = 0\n",
    "\"\"\"\n",
    "여러줄 주석\n",
    "i 가 50보다 작을 때까지 실행하고, \n",
    "i가 10보다 작으면 “i < 10”를 출력하고,\n",
    "그 외는 “i >= 10”를 출력한다.\n",
    "\"\"\"\n",
    "while i < 50 :\n",
    "  if i < 10:\n",
    "    print(\"i < 10\")\n",
    "  else:\n",
    "    print(\"i >= 10\")\n",
    "  i +=1"
   ]
  },
  {
   "cell_type": "code",
   "execution_count": 2,
   "id": "851b6506",
   "metadata": {},
   "outputs": [
    {
     "name": "stdout",
     "output_type": "stream",
     "text": [
      "Hello to you too!\n"
     ]
    }
   ],
   "source": [
    "command = 'Hello, World!'\n",
    "match command:\n",
    "  case 'Hello, World!':\n",
    "    print('Hello to you too!')\n",
    "  case 'Goodbye, World!':\n",
    "    print('See you later')\n",
    "  case other:\n",
    "    print('No match found')"
   ]
  },
  {
   "cell_type": "code",
   "execution_count": 3,
   "id": "aa75d6f1",
   "metadata": {
    "scrolled": true
   },
   "outputs": [
    {
     "name": "stdout",
     "output_type": "stream",
     "text": [
      "default\n"
     ]
    }
   ],
   "source": [
    "co = 4\n",
    "match co:\n",
    "  case 1:\n",
    "    print('Hello one')\n",
    "  case 2:\n",
    "    print('Hello two')\n",
    "  case 3:\n",
    "    print('Hello three')\n",
    "  case _:\n",
    "    print('default')"
   ]
  },
  {
   "cell_type": "code",
   "execution_count": null,
   "id": "0d3aa2bd",
   "metadata": {},
   "outputs": [],
   "source": [
    "msg = 'hello python'"
   ]
  },
  {
   "cell_type": "code",
   "execution_count": null,
   "id": "80770856",
   "metadata": {},
   "outputs": [],
   "source": []
  },
  {
   "cell_type": "code",
   "execution_count": null,
   "id": "adacbb72",
   "metadata": {},
   "outputs": [],
   "source": [
    "msg = 'hello python'"
   ]
  },
  {
   "cell_type": "code",
   "execution_count": null,
   "id": "9d8247e5",
   "metadata": {},
   "outputs": [],
   "source": []
  },
  {
   "cell_type": "markdown",
   "id": "cbf89f70",
   "metadata": {},
   "source": [
    "# h1. smg\n",
    "## h2. msg\n",
    "### h3. msg\n"
   ]
  }
 ],
 "metadata": {
  "kernelspec": {
   "display_name": "Python 3",
   "language": "python",
   "name": "python3"
  },
  "language_info": {
   "codemirror_mode": {
    "name": "ipython",
    "version": 3
   },
   "file_extension": ".py",
   "mimetype": "text/x-python",
   "name": "python",
   "nbconvert_exporter": "python",
   "pygments_lexer": "ipython3",
   "version": "3.10.4"
  }
 },
 "nbformat": 4,
 "nbformat_minor": 5
}
