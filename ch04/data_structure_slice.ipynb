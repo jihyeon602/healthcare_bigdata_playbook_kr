{
 "cells": [
  {
   "cell_type": "code",
   "execution_count": 2,
   "id": "685ea0da",
   "metadata": {},
   "outputs": [
    {
     "data": {
      "text/plain": [
       "True"
      ]
     },
     "execution_count": 2,
     "metadata": {},
     "output_type": "execute_result"
    }
   ],
   "source": [
    "list1 = [1, 2, 3, 5, 6, 8, 10]\n",
    "\n"
   ]
  },
  {
   "cell_type": "code",
   "execution_count": 3,
   "id": "2f314ad0",
   "metadata": {},
   "outputs": [
    {
     "data": {
      "text/plain": [
       "True"
      ]
     },
     "execution_count": 3,
     "metadata": {},
     "output_type": "execute_result"
    }
   ],
   "source": [
    "list1[:5] == list1[0:5]"
   ]
  },
  {
   "cell_type": "code",
   "execution_count": 5,
   "id": "0a76ca2d",
   "metadata": {},
   "outputs": [
    {
     "data": {
      "text/plain": [
       "True"
      ]
     },
     "execution_count": 5,
     "metadata": {},
     "output_type": "execute_result"
    }
   ],
   "source": [
    "list1[2:] == list1[2:len(list1)]"
   ]
  },
  {
   "cell_type": "code",
   "execution_count": 6,
   "id": "c38af043",
   "metadata": {},
   "outputs": [
    {
     "data": {
      "text/plain": [
       "[1, 2, 3, 5, 6, 8]"
      ]
     },
     "execution_count": 6,
     "metadata": {},
     "output_type": "execute_result"
    }
   ],
   "source": [
    "list1[:-1]"
   ]
  },
  {
   "cell_type": "code",
   "execution_count": 7,
   "id": "ab1aa460",
   "metadata": {},
   "outputs": [
    {
     "data": {
      "text/plain": [
       "[8, 10]"
      ]
     },
     "execution_count": 7,
     "metadata": {},
     "output_type": "execute_result"
    }
   ],
   "source": [
    "list1[-2:]"
   ]
  },
  {
   "cell_type": "code",
   "execution_count": 8,
   "id": "6fe168a1",
   "metadata": {},
   "outputs": [
    {
     "data": {
      "text/plain": [
       "[8, 10]"
      ]
     },
     "execution_count": 8,
     "metadata": {},
     "output_type": "execute_result"
    }
   ],
   "source": [
    "list1[-2:len(list1)]"
   ]
  },
  {
   "cell_type": "code",
   "execution_count": null,
   "id": "761f944a",
   "metadata": {},
   "outputs": [],
   "source": []
  },
  {
   "cell_type": "code",
   "execution_count": 14,
   "id": "5c255ee2",
   "metadata": {},
   "outputs": [
    {
     "name": "stdout",
     "output_type": "stream",
     "text": [
      "[0, 2, 4, 6, 8]\n"
     ]
    }
   ],
   "source": [
    "list1 = list(range(10))\n",
    "\n",
    "even = list1[0::2]\n",
    "print(even)\n",
    "\n"
   ]
  },
  {
   "cell_type": "code",
   "execution_count": 15,
   "id": "ea0ffc5b",
   "metadata": {},
   "outputs": [
    {
     "name": "stdout",
     "output_type": "stream",
     "text": [
      "[1, 3, 5, 7, 9]\n"
     ]
    }
   ],
   "source": [
    "odd = list1[1::2]\n",
    "print(odd)"
   ]
  },
  {
   "cell_type": "code",
   "execution_count": 19,
   "id": "0f39775f",
   "metadata": {},
   "outputs": [
    {
     "name": "stdout",
     "output_type": "stream",
     "text": [
      "eracneris\n"
     ]
    }
   ],
   "source": [
    "a = 'sirencare'\n",
    "y = a[::-1]\n",
    "print(y)"
   ]
  },
  {
   "cell_type": "code",
   "execution_count": 20,
   "id": "6ae24052",
   "metadata": {},
   "outputs": [
    {
     "data": {
      "text/plain": [
       "'sirencare'"
      ]
     },
     "execution_count": 20,
     "metadata": {},
     "output_type": "execute_result"
    }
   ],
   "source": [
    "a[::1]"
   ]
  },
  {
   "cell_type": "code",
   "execution_count": 21,
   "id": "08e890fd",
   "metadata": {},
   "outputs": [
    {
     "data": {
      "text/plain": [
       "'sirencare'"
      ]
     },
     "execution_count": 21,
     "metadata": {},
     "output_type": "execute_result"
    }
   ],
   "source": [
    "a[::]"
   ]
  },
  {
   "cell_type": "code",
   "execution_count": 22,
   "id": "e373a49e",
   "metadata": {},
   "outputs": [
    {
     "data": {
      "text/plain": [
       "'sirencare'"
      ]
     },
     "execution_count": 22,
     "metadata": {},
     "output_type": "execute_result"
    }
   ],
   "source": [
    "a"
   ]
  },
  {
   "cell_type": "code",
   "execution_count": 25,
   "id": "262b3a32",
   "metadata": {},
   "outputs": [
    {
     "ename": "AssertionError",
     "evalue": "",
     "output_type": "error",
     "traceback": [
      "\u001b[1;31m---------------------------------------------------------------------------\u001b[0m",
      "\u001b[1;31mAssertionError\u001b[0m                            Traceback (most recent call last)",
      "Cell \u001b[1;32mIn[25], line 1\u001b[0m\n\u001b[1;32m----> 1\u001b[0m \u001b[38;5;28;01massert\u001b[39;00m a[::\u001b[38;5;241m1\u001b[39m] \u001b[38;5;241m==\u001b[39m a[::] \u001b[38;5;241m!=\u001b[39m a\n",
      "\u001b[1;31mAssertionError\u001b[0m: "
     ]
    }
   ],
   "source": [
    "assert a[::1] == a[::] != a"
   ]
  },
  {
   "cell_type": "code",
   "execution_count": null,
   "id": "eec1f9cf",
   "metadata": {},
   "outputs": [],
   "source": []
  }
 ],
 "metadata": {
  "kernelspec": {
   "display_name": "Python 3",
   "language": "python",
   "name": "python3"
  },
  "language_info": {
   "codemirror_mode": {
    "name": "ipython",
    "version": 3
   },
   "file_extension": ".py",
   "mimetype": "text/x-python",
   "name": "python",
   "nbconvert_exporter": "python",
   "pygments_lexer": "ipython3",
   "version": "3.10.4"
  }
 },
 "nbformat": 4,
 "nbformat_minor": 5
}
