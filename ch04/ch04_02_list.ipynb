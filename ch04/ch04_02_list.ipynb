{
 "cells": [
  {
   "attachments": {},
   "cell_type": "markdown",
   "id": "2a5a5b34",
   "metadata": {},
   "source": [
    "# 리스트"
   ]
  },
  {
   "cell_type": "code",
   "execution_count": 69,
   "id": "4866e604",
   "metadata": {},
   "outputs": [
    {
     "data": {
      "text/plain": [
       "['health', 'care']"
      ]
     },
     "execution_count": 69,
     "metadata": {},
     "output_type": "execute_result"
    }
   ],
   "source": [
    "# []로 감싸서 리스트를 생성\n",
    "list1 = [\"health\",\"care\"]\n",
    "list1"
   ]
  },
  {
   "cell_type": "markdown",
   "id": "1c387aed",
   "metadata": {},
   "source": []
  },
  {
   "cell_type": "code",
   "execution_count": 41,
   "id": "81aa3d73",
   "metadata": {},
   "outputs": [
    {
     "data": {
      "text/plain": [
       "[0, 1, 2, 3, 4, 5, 6, 7, 8, 9]"
      ]
     },
     "execution_count": 41,
     "metadata": {},
     "output_type": "execute_result"
    }
   ],
   "source": [
    "# list함수로 리스트를 생성\n",
    "list2 = list(range(10))\n",
    "list2"
   ]
  },
  {
   "cell_type": "code",
   "execution_count": 46,
   "id": "8a23150b",
   "metadata": {},
   "outputs": [
    {
     "data": {
      "text/plain": [
       "'health'"
      ]
     },
     "execution_count": 46,
     "metadata": {},
     "output_type": "execute_result"
    }
   ],
   "source": [
    "# 첫번째 요소 반환\n",
    "list1[0]"
   ]
  },
  {
   "cell_type": "code",
   "execution_count": 70,
   "id": "351c93f4",
   "metadata": {},
   "outputs": [
    {
     "data": {
      "text/plain": [
       "['health', 'care', 'data']"
      ]
     },
     "execution_count": 70,
     "metadata": {},
     "output_type": "execute_result"
    }
   ],
   "source": [
    "# 동적으로 마지막 요소로 'data' 문자열 추가\n",
    "list1.append(\"data\")\n",
    "list1"
   ]
  },
  {
   "cell_type": "code",
   "execution_count": 71,
   "id": "5b67f34a",
   "metadata": {},
   "outputs": [
    {
     "data": {
      "text/plain": [
       "['health', 'care', 'big', 'data']"
      ]
     },
     "execution_count": 71,
     "metadata": {},
     "output_type": "execute_result"
    }
   ],
   "source": [
    "# 동적으로 세번째 요소에 'big' 문자열 추가\n",
    "list1.insert(2, \"big\")\n",
    "list1"
   ]
  },
  {
   "cell_type": "code",
   "execution_count": 72,
   "id": "1cf7767e",
   "metadata": {},
   "outputs": [
    {
     "data": {
      "text/plain": [
       "['health', 'care', 'big', 'data', 'analysis']"
      ]
     },
     "execution_count": 72,
     "metadata": {},
     "output_type": "execute_result"
    }
   ],
   "source": [
    "# + 연산자로 새로운 리스트를 추가함\n",
    "list1 = list1 + [\"analysis\"]\n",
    "list1"
   ]
  },
  {
   "cell_type": "code",
   "execution_count": 73,
   "id": "c8c6ecb7",
   "metadata": {},
   "outputs": [
    {
     "data": {
      "text/plain": [
       "['health', 'care', 'big', 'data', 'analysis', 'playbook']"
      ]
     },
     "execution_count": 73,
     "metadata": {},
     "output_type": "execute_result"
    }
   ],
   "source": [
    "# extend로 새로운 리스트를 추가함\n",
    "list1.extend([\"playbook\"])\n",
    "list1"
   ]
  },
  {
   "cell_type": "code",
   "execution_count": 74,
   "id": "ec72c6f9",
   "metadata": {},
   "outputs": [
    {
     "name": "stdout",
     "output_type": "stream",
     "text": [
      "152\n"
     ]
    }
   ],
   "source": [
    "import sys\n",
    "print(sys.getsizeof(list1))"
   ]
  },
  {
   "cell_type": "code",
   "execution_count": 7,
   "id": "8703d4cf",
   "metadata": {},
   "outputs": [
    {
     "data": {
      "text/plain": [
       "['health', 'care', 'big', 'data']"
      ]
     },
     "execution_count": 7,
     "metadata": {},
     "output_type": "execute_result"
    }
   ],
   "source": [
    "# 0번째에서 네번째 요소까지를 a 리스트에 대입\n",
    "a = list1[0:4]\n",
    "a"
   ]
  },
  {
   "cell_type": "code",
   "execution_count": 67,
   "id": "d04b0ce7",
   "metadata": {},
   "outputs": [
    {
     "data": {
      "text/plain": [
       "['Health', 'Care']"
      ]
     },
     "execution_count": 67,
     "metadata": {},
     "output_type": "execute_result"
    }
   ],
   "source": [
    "# list1의 첫번재 요소를 'Health', 두번째 요소를 'Care'로 교체\n",
    "list1[0:2] = ['Health', 'Care']\n",
    "list1"
   ]
  },
  {
   "cell_type": "code",
   "execution_count": 59,
   "id": "75b0bf07",
   "metadata": {
    "scrolled": false
   },
   "outputs": [
    {
     "data": {
      "text/plain": [
       "'playbook'"
      ]
     },
     "execution_count": 59,
     "metadata": {},
     "output_type": "execute_result"
    }
   ],
   "source": [
    "# 인덱스5 (6번째) 요소를 추출하고, 리스트에서 삭제함\n",
    "list1.pop(5)"
   ]
  },
  {
   "cell_type": "code",
   "execution_count": 68,
   "id": "8fb100bf",
   "metadata": {},
   "outputs": [
    {
     "data": {
      "text/plain": [
       "['Health', 'Care']"
      ]
     },
     "execution_count": 68,
     "metadata": {},
     "output_type": "execute_result"
    }
   ],
   "source": [
    "# 6번째 요소 'playbook' 에 삭제됨\n",
    "list1"
   ]
  },
  {
   "cell_type": "code",
   "execution_count": 61,
   "id": "bd51ab91",
   "metadata": {},
   "outputs": [],
   "source": [
    "#'big' 문자열 요소를 찾아 삭제함\n",
    "list1.remove('big')"
   ]
  },
  {
   "cell_type": "code",
   "execution_count": 62,
   "id": "3c74caac",
   "metadata": {},
   "outputs": [
    {
     "data": {
      "text/plain": [
       "['Health', 'Care', 'data', 'analysis']"
      ]
     },
     "execution_count": 62,
     "metadata": {},
     "output_type": "execute_result"
    }
   ],
   "source": [
    "list1"
   ]
  },
  {
   "cell_type": "code",
   "execution_count": 63,
   "id": "a64a82e8",
   "metadata": {},
   "outputs": [
    {
     "data": {
      "text/plain": [
       "['Health', 'Care', 'data']"
      ]
     },
     "execution_count": 63,
     "metadata": {},
     "output_type": "execute_result"
    }
   ],
   "source": [
    "# 네번째 요소를 삭제함\n",
    "del list1[3]\n",
    "list1"
   ]
  },
  {
   "cell_type": "code",
   "execution_count": 64,
   "id": "af1da405",
   "metadata": {},
   "outputs": [
    {
     "name": "stdout",
     "output_type": "stream",
     "text": [
      "existed\n"
     ]
    }
   ],
   "source": [
    "if 'Health' in list1:\n",
    "    print('existed')\n",
    "else:\n",
    "    print('not existed')\n"
   ]
  },
  {
   "cell_type": "code",
   "execution_count": 65,
   "id": "ace4fd9b",
   "metadata": {},
   "outputs": [],
   "source": [
    "# 요소를 모두 삭제한다.\n",
    "list1.clear()"
   ]
  },
  {
   "cell_type": "code",
   "execution_count": 66,
   "id": "820464ff",
   "metadata": {},
   "outputs": [
    {
     "data": {
      "text/plain": [
       "[]"
      ]
     },
     "execution_count": 66,
     "metadata": {},
     "output_type": "execute_result"
    }
   ],
   "source": [
    "list1"
   ]
  },
  {
   "attachments": {},
   "cell_type": "markdown",
   "id": "2fcf0963",
   "metadata": {},
   "source": [
    "## 정렬하기"
   ]
  },
  {
   "cell_type": "code",
   "execution_count": 2,
   "id": "ad4ea112",
   "metadata": {},
   "outputs": [],
   "source": [
    "s_list = ['Health', 'Care', 'big', 'data', 'analysis', 'playbook']"
   ]
  },
  {
   "cell_type": "code",
   "execution_count": 3,
   "id": "f4961e20",
   "metadata": {},
   "outputs": [
    {
     "data": {
      "text/plain": [
       "['Care', 'Health', 'analysis', 'big', 'data', 'playbook']"
      ]
     },
     "execution_count": 3,
     "metadata": {},
     "output_type": "execute_result"
    }
   ],
   "source": [
    "s_list.sort() #오름차순 정렬, 대문자를 우선함(A의 ASCII값은 65, a는 97)\n",
    "s_list"
   ]
  },
  {
   "cell_type": "code",
   "execution_count": 4,
   "id": "41ae4772",
   "metadata": {},
   "outputs": [
    {
     "data": {
      "text/plain": [
       "['playbook', 'data', 'big', 'analysis', 'Health', 'Care']"
      ]
     },
     "execution_count": 4,
     "metadata": {},
     "output_type": "execute_result"
    }
   ],
   "source": [
    "newlist = s_list.sort(reverse=True) #내림차순 정렬\n",
    "s_list"
   ]
  },
  {
   "cell_type": "code",
   "execution_count": 5,
   "id": "284b385e",
   "metadata": {},
   "outputs": [
    {
     "data": {
      "text/plain": [
       "True"
      ]
     },
     "execution_count": 5,
     "metadata": {},
     "output_type": "execute_result"
    }
   ],
   "source": [
    "newlist = s_list.sort(reverse=True)\n",
    "newlist == None #list.sort는 None을 반환함"
   ]
  },
  {
   "cell_type": "code",
   "execution_count": 6,
   "id": "fe2f7a85",
   "metadata": {},
   "outputs": [
    {
     "data": {
      "text/plain": [
       "['playbook', 'data', 'big', 'analysis', 'Health', 'Care']"
      ]
     },
     "execution_count": 6,
     "metadata": {},
     "output_type": "execute_result"
    }
   ],
   "source": [
    "newlist = sorted(s_list, reverse=True) #내림차순 정렬, sorted 반환값은 새로운 리스트\n",
    "newlist"
   ]
  },
  {
   "attachments": {},
   "cell_type": "markdown",
   "id": "44125dd8",
   "metadata": {},
   "source": [
    "## 슬라이싱과 스트라이드"
   ]
  },
  {
   "cell_type": "code",
   "execution_count": 9,
   "id": "463c5818",
   "metadata": {},
   "outputs": [
    {
     "data": {
      "text/plain": [
       "True"
      ]
     },
     "execution_count": 9,
     "metadata": {},
     "output_type": "execute_result"
    }
   ],
   "source": [
    "list1 = [1, 2, 3, 5, 6, 8, 10]\n",
    "list1[:5] == list1[0:5]"
   ]
  },
  {
   "cell_type": "code",
   "execution_count": 10,
   "id": "ef670648",
   "metadata": {},
   "outputs": [
    {
     "data": {
      "text/plain": [
       "True"
      ]
     },
     "execution_count": 10,
     "metadata": {},
     "output_type": "execute_result"
    }
   ],
   "source": [
    "list1[2:] == list1[2:len(list1)]"
   ]
  },
  {
   "cell_type": "code",
   "execution_count": 11,
   "id": "9a35aa9c",
   "metadata": {},
   "outputs": [
    {
     "data": {
      "text/plain": [
       "[1, 2, 3, 5, 6, 8]"
      ]
     },
     "execution_count": 11,
     "metadata": {},
     "output_type": "execute_result"
    }
   ],
   "source": [
    "list1[:-1] #종료: 뒤에서 첫 번째"
   ]
  },
  {
   "cell_type": "code",
   "execution_count": 12,
   "id": "a4abc71a",
   "metadata": {},
   "outputs": [
    {
     "data": {
      "text/plain": [
       "[8, 10]"
      ]
     },
     "execution_count": 12,
     "metadata": {},
     "output_type": "execute_result"
    }
   ],
   "source": [
    "list1[-2:] #시작: 뒤에서 두 번째"
   ]
  },
  {
   "cell_type": "code",
   "execution_count": 13,
   "id": "45040527",
   "metadata": {},
   "outputs": [
    {
     "data": {
      "text/plain": [
       "[8, 10]"
      ]
     },
     "execution_count": 13,
     "metadata": {},
     "output_type": "execute_result"
    }
   ],
   "source": [
    "list1[-2:len(list1)] #위와 같다. 굳이 len(list1)를 안 적어도 된다."
   ]
  },
  {
   "cell_type": "code",
   "execution_count": 14,
   "id": "0ec4d09a",
   "metadata": {},
   "outputs": [
    {
     "name": "stdout",
     "output_type": "stream",
     "text": [
      "[0, 2, 4, 6, 8]\n"
     ]
    }
   ],
   "source": [
    "list1 = list(range(10))\n",
    "\n",
    "even = list1[0::2] # 짝수 스트라이딩\n",
    "print(even)"
   ]
  },
  {
   "cell_type": "code",
   "execution_count": 15,
   "id": "c70a4586",
   "metadata": {},
   "outputs": [
    {
     "name": "stdout",
     "output_type": "stream",
     "text": [
      "[1, 3, 5, 7, 9]\n"
     ]
    }
   ],
   "source": [
    "odd = list1[1::2] # 홀수 스트라이딩\n",
    "print(odd)"
   ]
  },
  {
   "cell_type": "code",
   "execution_count": 16,
   "id": "306ae127",
   "metadata": {},
   "outputs": [
    {
     "name": "stdout",
     "output_type": "stream",
     "text": [
      "eracneris\n"
     ]
    }
   ],
   "source": [
    "a = 'sirencare'\n",
    "y = a[::-1]\n",
    "print(y)"
   ]
  },
  {
   "cell_type": "code",
   "execution_count": 17,
   "id": "1bc0bbb5",
   "metadata": {},
   "outputs": [],
   "source": [
    "tu1 = ()\n",
    "tu2 = (1,2,3)\n",
    "tu3 = ('Health', 'Care', ('big', 'data'))\n",
    "tu4 = 5,6,7,8\n"
   ]
  },
  {
   "cell_type": "code",
   "execution_count": 18,
   "id": "5c196642",
   "metadata": {},
   "outputs": [
    {
     "name": "stdout",
     "output_type": "stream",
     "text": [
      "88\n"
     ]
    }
   ],
   "source": [
    "import sys\n",
    "tu = ('Health', 'Care', 'big', 'data', 'analysis', 'playbook')\n",
    "print(sys.getsizeof(tu))\n"
   ]
  },
  {
   "cell_type": "code",
   "execution_count": 19,
   "id": "ec1af6a5",
   "metadata": {},
   "outputs": [
    {
     "name": "stdout",
     "output_type": "stream",
     "text": [
      "152\n"
     ]
    }
   ],
   "source": [
    "list1 = [\"health\",\"care\", \"big\", \"data\", \"analysis\", \"playbook\"]\n",
    "print(sys.getsizeof(list1))\n"
   ]
  },
  {
   "cell_type": "code",
   "execution_count": 20,
   "id": "3ec33c72",
   "metadata": {},
   "outputs": [
    {
     "data": {
      "text/plain": [
       "'Health'"
      ]
     },
     "execution_count": 20,
     "metadata": {},
     "output_type": "execute_result"
    }
   ],
   "source": [
    "tu = ('Health', 'Care', 'big', 'data', 'analysis', 'playbook')\n",
    "tu[0]\n"
   ]
  },
  {
   "cell_type": "code",
   "execution_count": 21,
   "id": "37812ea3",
   "metadata": {},
   "outputs": [
    {
     "ename": "TypeError",
     "evalue": "'tuple' object does not support item assignment",
     "output_type": "error",
     "traceback": [
      "\u001b[1;31m---------------------------------------------------------------------------\u001b[0m",
      "\u001b[1;31mTypeError\u001b[0m                                 Traceback (most recent call last)",
      "Cell \u001b[1;32mIn[21], line 1\u001b[0m\n\u001b[1;32m----> 1\u001b[0m tu[\u001b[39m0\u001b[39;49m] \u001b[39m=\u001b[39m \u001b[39m'\u001b[39m\u001b[39mhealth\u001b[39m\u001b[39m'\u001b[39m \u001b[39m#튜플을 변경해 보자\u001b[39;00m\n",
      "\u001b[1;31mTypeError\u001b[0m: 'tuple' object does not support item assignment"
     ]
    }
   ],
   "source": [
    "tu[0] = 'health' #튜플을 변경해 보자"
   ]
  },
  {
   "cell_type": "code",
   "execution_count": 22,
   "id": "fffdb1d0",
   "metadata": {},
   "outputs": [
    {
     "ename": "TypeError",
     "evalue": "'tuple' object doesn't support item deletion",
     "output_type": "error",
     "traceback": [
      "\u001b[1;31m---------------------------------------------------------------------------\u001b[0m",
      "\u001b[1;31mTypeError\u001b[0m                                 Traceback (most recent call last)",
      "Cell \u001b[1;32mIn[22], line 1\u001b[0m\n\u001b[1;32m----> 1\u001b[0m \u001b[39mdel\u001b[39;00m tu[\u001b[39m0\u001b[39m] \u001b[39m#튜플에서 요소를 삭제해 보자\u001b[39;00m\n",
      "\u001b[1;31mTypeError\u001b[0m: 'tuple' object doesn't support item deletion"
     ]
    }
   ],
   "source": [
    "del tu[0] #튜플에서 요소를 삭제해 보자"
   ]
  },
  {
   "cell_type": "code",
   "execution_count": 23,
   "id": "d660e695",
   "metadata": {},
   "outputs": [
    {
     "data": {
      "text/plain": [
       "('Health', 'Care', 'big', 'data', ['analysis', 'playbook'])"
      ]
     },
     "execution_count": 23,
     "metadata": {},
     "output_type": "execute_result"
    }
   ],
   "source": [
    "a, b, c, d, *rest = tu\n",
    "a, b, c, d, rest\n"
   ]
  },
  {
   "cell_type": "code",
   "execution_count": 24,
   "id": "02a986ca",
   "metadata": {},
   "outputs": [
    {
     "ename": "SyntaxError",
     "evalue": "multiple starred expressions in assignment (2350953158.py, line 2)",
     "output_type": "error",
     "traceback": [
      "\u001b[1;36m  Cell \u001b[1;32mIn[24], line 2\u001b[1;36m\u001b[0m\n\u001b[1;33m    a, b, c, d, *rest1, *rest2 = tu\u001b[0m\n\u001b[1;37m    ^\u001b[0m\n\u001b[1;31mSyntaxError\u001b[0m\u001b[1;31m:\u001b[0m multiple starred expressions in assignment\n"
     ]
    }
   ],
   "source": [
    "# 언패킹, 별포식 2개 -> 에러\n",
    "a, b, c, d, *rest1, *rest2 = tu\n",
    "a, b, c, d, rest1, rest2\n",
    "a, b, c, d, *rest1, *rest2 = tu\n"
   ]
  },
  {
   "cell_type": "code",
   "execution_count": 25,
   "id": "ab3b11bc",
   "metadata": {},
   "outputs": [
    {
     "name": "stdout",
     "output_type": "stream",
     "text": [
      "name:senior_a, age:71, sex:Male\n",
      "name:senior_b, age:78, sex:Female\n",
      "name:senior_c, age:81, sex:Male\n"
     ]
    }
   ],
   "source": [
    "patients = [\n",
    "     ('senior_a', '71', 'Male'),\n",
    "     ('senior_b', '78', 'Female'),\n",
    "     ('senior_c', '81', 'Male'),\n",
    "]\n",
    "\n",
    "for name, age, sex in patients:\n",
    "  print(\"name:{}, age:{}, sex:{}\".format(name, age, sex))\n"
   ]
  },
  {
   "cell_type": "code",
   "execution_count": null,
   "id": "30429a15",
   "metadata": {},
   "outputs": [],
   "source": []
  }
 ],
 "metadata": {
  "kernelspec": {
   "display_name": "Python 3",
   "language": "python",
   "name": "python3"
  },
  "language_info": {
   "codemirror_mode": {
    "name": "ipython",
    "version": 3
   },
   "file_extension": ".py",
   "mimetype": "text/x-python",
   "name": "python",
   "nbconvert_exporter": "python",
   "pygments_lexer": "ipython3",
   "version": "3.10.4"
  }
 },
 "nbformat": 4,
 "nbformat_minor": 5
}
