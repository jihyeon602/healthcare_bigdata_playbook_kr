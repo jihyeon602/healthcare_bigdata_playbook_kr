{
 "cells": [
  {
   "cell_type": "code",
   "execution_count": null,
   "id": "6484b717",
   "metadata": {},
   "outputs": [],
   "source": []
  },
  {
   "cell_type": "code",
   "execution_count": 5,
   "id": "930fc641",
   "metadata": {
    "scrolled": true
   },
   "outputs": [
    {
     "data": {
      "text/plain": [
       "(1000, 1000)"
      ]
     },
     "execution_count": 5,
     "metadata": {},
     "output_type": "execute_result"
    }
   ],
   "source": [
    "import numpy as np\n",
    "large_x = np.random.randint(0,10, size=1_000_000).reshape(1000,1000)\n",
    "large_x.shape"
   ]
  },
  {
   "cell_type": "code",
   "execution_count": 9,
   "id": "6a4e5550",
   "metadata": {},
   "outputs": [
    {
     "data": {
      "text/plain": [
       "array([[8, 6, 9, ..., 5, 7, 3],\n",
       "       [8, 2, 5, ..., 8, 8, 6]])"
      ]
     },
     "execution_count": 9,
     "metadata": {},
     "output_type": "execute_result"
    }
   ],
   "source": [
    "large_x[-2:]"
   ]
  },
  {
   "cell_type": "code",
   "execution_count": 14,
   "id": "0079b9b3",
   "metadata": {},
   "outputs": [],
   "source": [
    "np.savetxt('large_x.csv', large_x, delimiter=',')"
   ]
  },
  {
   "cell_type": "code",
   "execution_count": 15,
   "id": "67195a5e",
   "metadata": {},
   "outputs": [],
   "source": [
    "x2=np.loadtxt('large_x.csv', delimiter=',')"
   ]
  },
  {
   "cell_type": "code",
   "execution_count": 13,
   "id": "e64f446a",
   "metadata": {},
   "outputs": [
    {
     "data": {
      "text/plain": [
       "(1000, 1000)"
      ]
     },
     "execution_count": 13,
     "metadata": {},
     "output_type": "execute_result"
    }
   ],
   "source": [
    "x2.shape"
   ]
  },
  {
   "cell_type": "code",
   "execution_count": 16,
   "id": "4bacc2cc",
   "metadata": {},
   "outputs": [
    {
     "data": {
      "text/plain": [
       "array([[8., 6., 9., ..., 5., 7., 3.],\n",
       "       [8., 2., 5., ..., 8., 8., 6.]])"
      ]
     },
     "execution_count": 16,
     "metadata": {},
     "output_type": "execute_result"
    }
   ],
   "source": [
    "x2[-2:]"
   ]
  },
  {
   "cell_type": "markdown",
   "id": "f672a3fb",
   "metadata": {},
   "source": [
    "# 바이너리 파일로 저장"
   ]
  },
  {
   "cell_type": "code",
   "execution_count": 17,
   "id": "c02b4adb",
   "metadata": {},
   "outputs": [],
   "source": [
    "np.save('large_x', large_x)"
   ]
  },
  {
   "cell_type": "code",
   "execution_count": 18,
   "id": "d3ff5df6",
   "metadata": {},
   "outputs": [],
   "source": [
    "x3 = np.load('large_x.npy')"
   ]
  },
  {
   "cell_type": "code",
   "execution_count": 19,
   "id": "bcf86174",
   "metadata": {},
   "outputs": [
    {
     "data": {
      "text/plain": [
       "(1000, 1000)"
      ]
     },
     "execution_count": 19,
     "metadata": {},
     "output_type": "execute_result"
    }
   ],
   "source": [
    "x3.shape"
   ]
  },
  {
   "cell_type": "code",
   "execution_count": 20,
   "id": "fdbac732",
   "metadata": {},
   "outputs": [
    {
     "data": {
      "text/plain": [
       "array([[8, 6, 9, ..., 5, 7, 3],\n",
       "       [8, 2, 5, ..., 8, 8, 6]])"
      ]
     },
     "execution_count": 20,
     "metadata": {},
     "output_type": "execute_result"
    }
   ],
   "source": [
    "x3[-2:]"
   ]
  },
  {
   "cell_type": "code",
   "execution_count": null,
   "id": "edc79b25",
   "metadata": {},
   "outputs": [],
   "source": []
  },
  {
   "cell_type": "markdown",
   "id": "5ec8ed05",
   "metadata": {},
   "source": [
    "# 압축 바이너리 파일로 저장"
   ]
  },
  {
   "cell_type": "code",
   "execution_count": 50,
   "id": "716e1ce9",
   "metadata": {},
   "outputs": [],
   "source": [
    "np.savez_compressed('large_x', a=large_x)"
   ]
  },
  {
   "cell_type": "code",
   "execution_count": 51,
   "id": "229b1a88",
   "metadata": {
    "scrolled": true
   },
   "outputs": [
    {
     "name": "stdout",
     "output_type": "stream",
     "text": [
      "[[0 2 6 ... 7 0 4]\n",
      " [0 4 2 ... 9 8 0]\n",
      " [3 5 3 ... 1 8 1]\n",
      " ...\n",
      " [5 6 2 ... 9 4 0]\n",
      " [8 6 9 ... 5 7 3]\n",
      " [8 2 5 ... 8 8 6]]\n"
     ]
    }
   ],
   "source": [
    "loaded = np.load('large_x.npz')\n",
    "print(loaded[\"a\"])"
   ]
  },
  {
   "cell_type": "code",
   "execution_count": 41,
   "id": "1dcee0b5",
   "metadata": {
    "scrolled": true
   },
   "outputs": [
    {
     "ename": "AttributeError",
     "evalue": "'NpzFile' object has no attribute 'shape'",
     "output_type": "error",
     "traceback": [
      "\u001b[1;31m---------------------------------------------------------------------------\u001b[0m",
      "\u001b[1;31mAttributeError\u001b[0m                            Traceback (most recent call last)",
      "Cell \u001b[1;32mIn[41], line 2\u001b[0m\n\u001b[0;32m      1\u001b[0m \u001b[38;5;66;03m# loaded['a']\u001b[39;00m\n\u001b[1;32m----> 2\u001b[0m \u001b[43mloaded\u001b[49m\u001b[38;5;241;43m.\u001b[39;49m\u001b[43mshape\u001b[49m\n",
      "\u001b[1;31mAttributeError\u001b[0m: 'NpzFile' object has no attribute 'shape'"
     ]
    }
   ],
   "source": [
    "# loaded['a']\n"
   ]
  },
  {
   "cell_type": "code",
   "execution_count": null,
   "id": "faaa7d89",
   "metadata": {},
   "outputs": [],
   "source": []
  },
  {
   "cell_type": "markdown",
   "id": "b6bfafb1",
   "metadata": {},
   "source": [
    "# 평탄화해보기"
   ]
  },
  {
   "cell_type": "code",
   "execution_count": 60,
   "id": "09b2ff71",
   "metadata": {},
   "outputs": [
    {
     "data": {
      "text/plain": [
       "array([[0, 2, 6, ..., 7, 0, 4],\n",
       "       [0, 4, 2, ..., 9, 8, 0],\n",
       "       [3, 5, 3, ..., 1, 8, 1],\n",
       "       ...,\n",
       "       [5, 6, 2, ..., 9, 4, 0],\n",
       "       [8, 6, 9, ..., 5, 7, 3],\n",
       "       [8, 2, 5, ..., 8, 8, 6]])"
      ]
     },
     "execution_count": 60,
     "metadata": {},
     "output_type": "execute_result"
    }
   ],
   "source": [
    "large_x"
   ]
  },
  {
   "cell_type": "code",
   "execution_count": 55,
   "id": "a287332e",
   "metadata": {},
   "outputs": [
    {
     "data": {
      "text/plain": [
       "array([0, 2, 6, ..., 8, 8, 6])"
      ]
     },
     "execution_count": 55,
     "metadata": {},
     "output_type": "execute_result"
    }
   ],
   "source": [
    "x2 = large_x.ravel()"
   ]
  },
  {
   "cell_type": "code",
   "execution_count": 57,
   "id": "e59ac8e2",
   "metadata": {
    "scrolled": true
   },
   "outputs": [
    {
     "data": {
      "text/plain": [
       "(1000, 1000)"
      ]
     },
     "execution_count": 57,
     "metadata": {},
     "output_type": "execute_result"
    }
   ],
   "source": [
    "x2.shape"
   ]
  },
  {
   "cell_type": "code",
   "execution_count": 58,
   "id": "2f8456af",
   "metadata": {},
   "outputs": [
    {
     "data": {
      "text/plain": [
       "(1000000,)"
      ]
     },
     "execution_count": 58,
     "metadata": {},
     "output_type": "execute_result"
    }
   ],
   "source": [
    "x3 = large_x.flatten()\n",
    "x3.shape"
   ]
  },
  {
   "cell_type": "code",
   "execution_count": 59,
   "id": "0e86e2de",
   "metadata": {},
   "outputs": [
    {
     "data": {
      "text/plain": [
       "(1000000,)"
      ]
     },
     "execution_count": 59,
     "metadata": {},
     "output_type": "execute_result"
    }
   ],
   "source": [
    "x4 = large_x.reshape(-1)\n",
    "x4.shape\n"
   ]
  },
  {
   "cell_type": "code",
   "execution_count": 61,
   "id": "abcf76b4",
   "metadata": {},
   "outputs": [],
   "source": [
    "x2[0][0] = 11"
   ]
  },
  {
   "cell_type": "code",
   "execution_count": 62,
   "id": "b95cc53e",
   "metadata": {},
   "outputs": [
    {
     "data": {
      "text/plain": [
       "array([[11.,  2.,  6., ...,  7.,  0.,  4.],\n",
       "       [ 0.,  4.,  2., ...,  9.,  8.,  0.],\n",
       "       [ 3.,  5.,  3., ...,  1.,  8.,  1.],\n",
       "       ...,\n",
       "       [ 5.,  6.,  2., ...,  9.,  4.,  0.],\n",
       "       [ 8.,  6.,  9., ...,  5.,  7.,  3.],\n",
       "       [ 8.,  2.,  5., ...,  8.,  8.,  6.]])"
      ]
     },
     "execution_count": 62,
     "metadata": {},
     "output_type": "execute_result"
    }
   ],
   "source": [
    "x2"
   ]
  },
  {
   "cell_type": "code",
   "execution_count": 63,
   "id": "d01dcd27",
   "metadata": {},
   "outputs": [
    {
     "data": {
      "text/plain": [
       "array([[0, 2, 6, ..., 7, 0, 4],\n",
       "       [0, 4, 2, ..., 9, 8, 0],\n",
       "       [3, 5, 3, ..., 1, 8, 1],\n",
       "       ...,\n",
       "       [5, 6, 2, ..., 9, 4, 0],\n",
       "       [8, 6, 9, ..., 5, 7, 3],\n",
       "       [8, 2, 5, ..., 8, 8, 6]])"
      ]
     },
     "execution_count": 63,
     "metadata": {},
     "output_type": "execute_result"
    }
   ],
   "source": [
    "large_x"
   ]
  },
  {
   "cell_type": "code",
   "execution_count": 64,
   "id": "3a36c51e",
   "metadata": {},
   "outputs": [
    {
     "data": {
      "text/plain": [
       "(1000, 1000)"
      ]
     },
     "execution_count": 64,
     "metadata": {},
     "output_type": "execute_result"
    }
   ],
   "source": [
    "x2.shape"
   ]
  },
  {
   "cell_type": "code",
   "execution_count": null,
   "id": "6631a724",
   "metadata": {},
   "outputs": [],
   "source": []
  },
  {
   "cell_type": "code",
   "execution_count": null,
   "id": "df7c5cb7",
   "metadata": {},
   "outputs": [],
   "source": []
  },
  {
   "cell_type": "code",
   "execution_count": 67,
   "id": "d8c0eeee",
   "metadata": {},
   "outputs": [
    {
     "ename": "TypeError",
     "evalue": "Field elements must be 2- or 3-tuples, got '1'",
     "output_type": "error",
     "traceback": [
      "\u001b[1;31m---------------------------------------------------------------------------\u001b[0m",
      "\u001b[1;31mTypeError\u001b[0m                                 Traceback (most recent call last)",
      "Cell \u001b[1;32mIn[67], line 1\u001b[0m\n\u001b[1;32m----> 1\u001b[0m arr1 \u001b[38;5;241m=\u001b[39m \u001b[43mnp\u001b[49m\u001b[38;5;241;43m.\u001b[39;49m\u001b[43marray\u001b[49m\u001b[43m(\u001b[49m\u001b[38;5;124;43m\"\u001b[39;49m\u001b[38;5;124;43mi\u001b[39;49m\u001b[38;5;124;43m\"\u001b[39;49m\u001b[43m,\u001b[49m\u001b[43m \u001b[49m\u001b[43m[\u001b[49m\u001b[38;5;241;43m1\u001b[39;49m\u001b[43m,\u001b[49m\u001b[38;5;241;43m2\u001b[39;49m\u001b[43m,\u001b[49m\u001b[38;5;241;43m3\u001b[39;49m\u001b[43m,\u001b[49m\u001b[38;5;241;43m4\u001b[39;49m\u001b[43m,\u001b[49m\u001b[38;5;241;43m5\u001b[39;49m\u001b[43m]\u001b[49m\u001b[43m)\u001b[49m\n\u001b[0;32m      2\u001b[0m arr1\n",
      "\u001b[1;31mTypeError\u001b[0m: Field elements must be 2- or 3-tuples, got '1'"
     ]
    }
   ],
   "source": [
    "arr1 = np.array(\"i\", [1,2,3,4,5])\n",
    "arr1"
   ]
  },
  {
   "cell_type": "code",
   "execution_count": null,
   "id": "ea98b4d1",
   "metadata": {},
   "outputs": [],
   "source": []
  }
 ],
 "metadata": {
  "kernelspec": {
   "display_name": "Python 3",
   "language": "python",
   "name": "python3"
  },
  "language_info": {
   "codemirror_mode": {
    "name": "ipython",
    "version": 3
   },
   "file_extension": ".py",
   "mimetype": "text/x-python",
   "name": "python",
   "nbconvert_exporter": "python",
   "pygments_lexer": "ipython3",
   "version": "3.10.4"
  }
 },
 "nbformat": 4,
 "nbformat_minor": 5
}
