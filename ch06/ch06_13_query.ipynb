{
 "cells": [
  {
   "attachments": {},
   "cell_type": "markdown",
   "metadata": {},
   "source": [
    "### 6.13.1. query메서드"
   ]
  },
  {
   "cell_type": "code",
   "execution_count": 1,
   "metadata": {},
   "outputs": [
    {
     "data": {
      "text/plain": [
       "                 timestamp   X   Y   Z\n",
       "0  2022-01-01 00:01:40.363  33  76  56\n",
       "1  2022-01-01 00:01:42.961  34  87  56\n",
       "2  2022-01-01 00:01:45.562  25  89  47\n",
       "3  2022-01-01 00:01:48.163  11  70  50\n",
       "4  2022-01-01 00:02:08.864  33  72  58"
      ]
     },
     "execution_count": 1,
     "metadata": {},
     "output_type": "execute_result"
    }
   ],
   "source": [
    "import numpy as np\n",
    "import pandas as pd\n",
    "import matplotlib.pyplot as plt\n",
    "from datetime import datetime\n",
    "\n",
    "pd.set_option('display.notebook_repr_html', False)\n",
    "\n",
    "df = pd.read_csv('OTg6QzA_activities.csv')\n",
    "df.shape #데이터 구조, 행열 크기 알아보기\n",
    "df.head()"
   ]
  },
  {
   "cell_type": "code",
   "execution_count": 2,
   "metadata": {},
   "outputs": [
    {
     "data": {
      "text/plain": [
       "                     timestamp    X    Y   Z\n",
       "172    2022-01-01 05:39:21.184  112  453  27\n",
       "174    2022-01-01 05:39:26.286  129  454  37\n",
       "175    2022-01-01 05:39:28.883  102  440   1\n",
       "180    2022-01-01 05:39:41.684  115  456  -6\n",
       "294    2022-01-01 06:07:37.199  175  318  44\n",
       "...                        ...  ...  ...  ..\n",
       "52872  2022-01-22 14:04:35.255  104  237  46\n",
       "56337  2022-01-25 08:47:26.385  112  228 -12\n",
       "56347  2022-01-25 08:48:43.788  112  228 -12\n",
       "58675  2022-01-28 18:43:55.864  123  126  19\n",
       "64606  2022-01-30 08:29:23.876  105  250  40\n",
       "\n",
       "[258 rows x 4 columns]"
      ]
     },
     "execution_count": 2,
     "metadata": {},
     "output_type": "execute_result"
    }
   ],
   "source": [
    "# X > 100 and Y > 100 and Z < 50 인 자료만 추출해 보자.\n",
    "df[ (df['X'] > 100) & (df['Y'] > 100) & (df['Z'] < 50)]"
   ]
  },
  {
   "cell_type": "code",
   "execution_count": 3,
   "metadata": {},
   "outputs": [
    {
     "data": {
      "text/plain": [
       "                     timestamp    X    Y   Z\n",
       "172    2022-01-01 05:39:21.184  112  453  27\n",
       "174    2022-01-01 05:39:26.286  129  454  37\n",
       "175    2022-01-01 05:39:28.883  102  440   1\n",
       "180    2022-01-01 05:39:41.684  115  456  -6\n",
       "294    2022-01-01 06:07:37.199  175  318  44\n",
       "...                        ...  ...  ...  ..\n",
       "52872  2022-01-22 14:04:35.255  104  237  46\n",
       "56337  2022-01-25 08:47:26.385  112  228 -12\n",
       "56347  2022-01-25 08:48:43.788  112  228 -12\n",
       "58675  2022-01-28 18:43:55.864  123  126  19\n",
       "64606  2022-01-30 08:29:23.876  105  250  40\n",
       "\n",
       "[258 rows x 4 columns]"
      ]
     },
     "execution_count": 3,
     "metadata": {},
     "output_type": "execute_result"
    }
   ],
   "source": [
    "THRESHOLD_Y = 100\n",
    "df.query('X > 100 and Y > @THRESHOLD_Y and Z < 50')"
   ]
  },
  {
   "attachments": {},
   "cell_type": "markdown",
   "metadata": {},
   "source": [
    "### 6.13.2. eval메서드"
   ]
  },
  {
   "cell_type": "code",
   "execution_count": 4,
   "metadata": {},
   "outputs": [
    {
     "data": {
      "text/plain": [
       "0        False\n",
       "1        False\n",
       "2        False\n",
       "3        False\n",
       "4        False\n",
       "         ...  \n",
       "66276    False\n",
       "66277    False\n",
       "66278    False\n",
       "66279    False\n",
       "66280    False\n",
       "Length: 66281, dtype: bool"
      ]
     },
     "execution_count": 4,
     "metadata": {},
     "output_type": "execute_result"
    }
   ],
   "source": [
    "df.eval(' X > 100 and Y > 100 and Z < 50')"
   ]
  },
  {
   "cell_type": "code",
   "execution_count": 19,
   "metadata": {},
   "outputs": [],
   "source": [
    "df.eval('FQ = (X > 100 and Y > 100)', inplace=True)"
   ]
  },
  {
   "cell_type": "code",
   "execution_count": 20,
   "metadata": {},
   "outputs": [
    {
     "data": {
      "text/plain": [
       "                     timestamp    X    Y    Z    FQ   FQ2     X2    X^2\n",
       "167    2022-01-01 05:18:16.419  112  349   69  True  True  12544  12544\n",
       "170    2022-01-01 05:39:16.082  143  460   75  True  True  20449  20449\n",
       "171    2022-01-01 05:39:18.682  123  400  134  True  True  15129  15129\n",
       "172    2022-01-01 05:39:21.184  112  453   27  True  True  12544  12544\n",
       "173    2022-01-01 05:39:23.782  106  409   92  True  True  11236  11236\n",
       "...                        ...  ...  ...  ...   ...   ...    ...    ...\n",
       "65199  2022-01-30 12:48:10.094  107  268   82  True  True  11449  11449\n",
       "65207  2022-01-30 14:37:40.590  101  254   83  True  True  10201  10201\n",
       "65228  2022-01-30 14:38:49.994  106  243   87  True  True  11236  11236\n",
       "65333  2022-01-30 15:35:44.802  109  246   86  True  True  11881  11881\n",
       "65879  2022-01-31 15:19:00.746  111  255   78  True  True  12321  12321\n",
       "\n",
       "[2109 rows x 8 columns]"
      ]
     },
     "execution_count": 20,
     "metadata": {},
     "output_type": "execute_result"
    }
   ],
   "source": [
    "df.query('FQ == True')"
   ]
  },
  {
   "cell_type": "code",
   "execution_count": 31,
   "metadata": {},
   "outputs": [
    {
     "data": {
      "text/plain": [
       "                     timestamp    X    Y    Z    FQ   FQ2     X2    X^2\n",
       "167    2022-01-01 05:18:16.419  112  349   69  True  True  12544  12544\n",
       "170    2022-01-01 05:39:16.082  143  460   75  True  True  20449  20449\n",
       "171    2022-01-01 05:39:18.682  123  400  134  True  True  15129  15129\n",
       "172    2022-01-01 05:39:21.184  112  453   27  True  True  12544  12544\n",
       "173    2022-01-01 05:39:23.782  106  409   92  True  True  11236  11236\n",
       "...                        ...  ...  ...  ...   ...   ...    ...    ...\n",
       "65199  2022-01-30 12:48:10.094  107  268   82  True  True  11449  11449\n",
       "65207  2022-01-30 14:37:40.590  101  254   83  True  True  10201  10201\n",
       "65228  2022-01-30 14:38:49.994  106  243   87  True  True  11236  11236\n",
       "65333  2022-01-30 15:35:44.802  109  246   86  True  True  11881  11881\n",
       "65879  2022-01-31 15:19:00.746  111  255   78  True  True  12321  12321\n",
       "\n",
       "[2109 rows x 8 columns]"
      ]
     },
     "execution_count": 31,
     "metadata": {},
     "output_type": "execute_result"
    }
   ],
   "source": [
    "df[ (df['X'] > 100) & (df['Y'] > 100) ]"
   ]
  },
  {
   "cell_type": "code",
   "execution_count": null,
   "metadata": {},
   "outputs": [],
   "source": []
  },
  {
   "cell_type": "code",
   "execution_count": 32,
   "metadata": {},
   "outputs": [
    {
     "data": {
      "text/plain": [
       "                     timestamp   X    Y    Z     FQ    FQ2    X2   X^2\n",
       "0      2022-01-01 00:01:40.363  33   76   56  False  False  1089  1089\n",
       "1      2022-01-01 00:01:42.961  34   87   56  False  False  1156  1156\n",
       "2      2022-01-01 00:01:45.562  25   89   47  False  False   625   625\n",
       "3      2022-01-01 00:01:48.163  11   70   50  False  False   121   121\n",
       "4      2022-01-01 00:02:08.864  33   72   58  False  False  1089  1089\n",
       "...                        ...  ..  ...  ...    ...    ...   ...   ...\n",
       "66276  2022-01-31 23:28:00.481 -91  143  136  False  False  8281  8281\n",
       "66277  2022-01-31 23:28:41.683 -89  145  138  False  False  7921  7921\n",
       "66278  2022-01-31 23:28:49.383 -93  138  137  False  False  8649  8649\n",
       "66279  2022-01-31 23:32:36.426 -93  131  137  False  False  8649  8649\n",
       "66280  2022-01-31 23:32:44.126 -91  129  138  False  False  8281  8281\n",
       "\n",
       "[66281 rows x 8 columns]"
      ]
     },
     "execution_count": 32,
     "metadata": {},
     "output_type": "execute_result"
    }
   ],
   "source": [
    "df.eval('X2 = X ** 2', inplace=True)\n",
    "df"
   ]
  },
  {
   "cell_type": "code",
   "execution_count": 33,
   "metadata": {},
   "outputs": [
    {
     "data": {
      "text/plain": [
       "                     timestamp   X    Y    Z     FQ    FQ2    X2   X^2\n",
       "0      2022-01-01 00:01:40.363  33   76   56  False  False  1089  1089\n",
       "1      2022-01-01 00:01:42.961  34   87   56  False  False  1156  1156\n",
       "2      2022-01-01 00:01:45.562  25   89   47  False  False   625   625\n",
       "3      2022-01-01 00:01:48.163  11   70   50  False  False   121   121\n",
       "4      2022-01-01 00:02:08.864  33   72   58  False  False  1089  1089\n",
       "...                        ...  ..  ...  ...    ...    ...   ...   ...\n",
       "66276  2022-01-31 23:28:00.481 -91  143  136  False  False  8281  8281\n",
       "66277  2022-01-31 23:28:41.683 -89  145  138  False  False  7921  7921\n",
       "66278  2022-01-31 23:28:49.383 -93  138  137  False  False  8649  8649\n",
       "66279  2022-01-31 23:32:36.426 -93  131  137  False  False  8649  8649\n",
       "66280  2022-01-31 23:32:44.126 -91  129  138  False  False  8281  8281\n",
       "\n",
       "[66281 rows x 8 columns]"
      ]
     },
     "execution_count": 33,
     "metadata": {},
     "output_type": "execute_result"
    }
   ],
   "source": [
    "df['X^2'] = df['X'] ** 2\n",
    "df"
   ]
  },
  {
   "cell_type": "code",
   "execution_count": null,
   "metadata": {},
   "outputs": [],
   "source": []
  }
 ],
 "metadata": {
  "kernelspec": {
   "display_name": "Python 3",
   "language": "python",
   "name": "python3"
  },
  "language_info": {
   "codemirror_mode": {
    "name": "ipython",
    "version": 3
   },
   "file_extension": ".py",
   "mimetype": "text/x-python",
   "name": "python",
   "nbconvert_exporter": "python",
   "pygments_lexer": "ipython3",
   "version": "3.10.4"
  },
  "orig_nbformat": 4,
  "vscode": {
   "interpreter": {
    "hash": "369f2c481f4da34e4445cda3fffd2e751bd1c4d706f27375911949ba6bb62e1c"
   }
  }
 },
 "nbformat": 4,
 "nbformat_minor": 2
}
