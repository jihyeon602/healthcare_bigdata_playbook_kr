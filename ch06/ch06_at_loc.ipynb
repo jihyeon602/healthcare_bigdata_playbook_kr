{
 "cells": [
  {
   "cell_type": "code",
   "execution_count": 1,
   "metadata": {},
   "outputs": [
    {
     "name": "stdout",
     "output_type": "stream",
     "text": [
      "Date\n",
      "20230102    90\n",
      "20230102    89\n",
      "Name: Breath, dtype: int64\n",
      "Date\n",
      "20230102    90\n",
      "20230102    89\n",
      "Name: Breath, dtype: int64\n"
     ]
    }
   ],
   "source": [
    "import pandas as pd\n",
    "\n",
    "adams_breath3 = pd.DataFrame(\n",
    "                [\n",
    "                  ['20230102', '0100', 90],\n",
    "                  ['20230102', '0200', 89],\n",
    "                  ['20230103', '0300', 71],\n",
    "                  ['20230104', '0400', 81]\n",
    "                ],\n",
    "                columns=['Date', 'Time', 'Breath'])\n",
    "adams_breath3.set_index('Date', inplace=True)\n",
    "print(adams_breath3.loc['20230102', 'Breath'])\n",
    "print(adams_breath3.at['20230102', 'Breath'])"
   ]
  },
  {
   "cell_type": "code",
   "execution_count": null,
   "metadata": {},
   "outputs": [],
   "source": [
    "print(adams_breath3.loc['20230102':'20230103'])\n",
    "print(adams_breath3.at['20230102':'20230103'])"
   ]
  },
  {
   "cell_type": "code",
   "execution_count": null,
   "metadata": {},
   "outputs": [],
   "source": [
    "print(adams_breath3.iloc[2, 1])\n",
    "print(adams_breath3.iat[2, 1])\n",
    "print(adams_breath3.take([1, 2]))\n",
    "print(adams_breath3.iloc[[1, 2]])\n",
    "\n",
    "print(adams_breath3.take([1], axis=1))"
   ]
  },
  {
   "cell_type": "code",
   "execution_count": null,
   "metadata": {},
   "outputs": [],
   "source": []
  },
  {
   "cell_type": "code",
   "execution_count": null,
   "metadata": {},
   "outputs": [
    {
     "name": "stdout",
     "output_type": "stream",
     "text": [
      "Date\n",
      "20230102    89\n",
      "20230103    71\n",
      "Name: Breath, dtype: int64\n",
      "89\n"
     ]
    }
   ],
   "source": [
    "print(adams_breath3.iloc[1:3, 1])\n",
    "print(adams_breath3.iat[1, 1])"
   ]
  },
  {
   "cell_type": "code",
   "execution_count": 33,
   "metadata": {},
   "outputs": [
    {
     "name": "stdout",
     "output_type": "stream",
     "text": [
      "Time      0200\n",
      "Breath      89\n",
      "Name: 20230102, dtype: object\n",
      "--\n",
      "          Time  Breath\n",
      "Date                  \n",
      "20230102  0200      89\n",
      "----------------------------------------------------------------\n",
      "Date\n",
      "20230102    90\n",
      "20230102    89\n",
      "20230103    71\n",
      "20230104    81\n",
      "Name: Breath, dtype: int64\n",
      "--\n",
      "          Breath\n",
      "Date            \n",
      "20230102      90\n",
      "20230102      89\n",
      "20230103      71\n",
      "20230104      81\n",
      "----------------------------------------------------------------\n",
      "sum1: 331\n",
      "sum2: Breath    331\n",
      "dtype: int64\n",
      "          Time  Breath\n",
      "Date                  \n",
      "20230102  0200      89\n",
      "20230104  0400      81\n"
     ]
    }
   ],
   "source": [
    "print(adams_breath3.iloc[1, :])\n",
    "print(\"--\")\n",
    "print(adams_breath3.take([1]) )\n",
    "print(\"----------------------------------------------------------------\")\n",
    "\n",
    "print(adams_breath3.iloc[:, 1])\n",
    "print(\"--\")\n",
    "print(adams_breath3.take([1], axis=1) )\n",
    "\n",
    "print(\"----------------------------------------------------------------\")\n",
    "print(\"sum1:\" , adams_breath3.iloc[:, 1].sum() )\n",
    "print(\"sum2:\" , adams_breath3.take([1], axis=1).sum() )\n",
    "\n",
    "\n",
    "print(adams_breath3.take([1,3]) )\n"
   ]
  },
  {
   "cell_type": "code",
   "execution_count": 35,
   "metadata": {},
   "outputs": [
    {
     "name": "stdout",
     "output_type": "stream",
     "text": [
      "Time      0200\n",
      "Breath      89\n",
      "Name: 20230102, dtype: object\n"
     ]
    }
   ],
   "source": [
    "# 두번째 행의 요소 배열\n",
    "print(adams_breath3.iloc[1,:])\n"
   ]
  },
  {
   "cell_type": "code",
   "execution_count": null,
   "metadata": {},
   "outputs": [],
   "source": [
    "# iloc[1,:]와 동일함\n",
    "print(adams_breath3.iloc[1])"
   ]
  },
  {
   "cell_type": "code",
   "execution_count": 37,
   "metadata": {},
   "outputs": [
    {
     "name": "stdout",
     "output_type": "stream",
     "text": [
      "0200\n"
     ]
    }
   ],
   "source": [
    "# 스칼라값 반환\n",
    "print(adams_breath3.iloc[1,0])\n"
   ]
  },
  {
   "cell_type": "code",
   "execution_count": null,
   "metadata": {},
   "outputs": [],
   "source": []
  },
  {
   "cell_type": "code",
   "execution_count": null,
   "metadata": {},
   "outputs": [
    {
     "ename": "TypeError",
     "evalue": "DataFrame._get_value() missing 1 required positional argument: 'col'",
     "output_type": "error",
     "traceback": [
      "\u001b[1;31m---------------------------------------------------------------------------\u001b[0m",
      "\u001b[1;31mTypeError\u001b[0m                                 Traceback (most recent call last)",
      "Cell \u001b[1;32mIn[6], line 1\u001b[0m\n\u001b[1;32m----> 1\u001b[0m df\u001b[39m.\u001b[39;49mat[\u001b[39m'\u001b[39;49m\u001b[39mAlice\u001b[39;49m\u001b[39m'\u001b[39;49m:\u001b[39m'\u001b[39;49m\u001b[39mDavid\u001b[39;49m\u001b[39m'\u001b[39;49m]\n",
      "File \u001b[1;32mc:\\Python310\\lib\\site-packages\\pandas\\core\\indexing.py:2431\u001b[0m, in \u001b[0;36m_AtIndexer.__getitem__\u001b[1;34m(self, key)\u001b[0m\n\u001b[0;32m   2428\u001b[0m         \u001b[39mraise\u001b[39;00m \u001b[39mValueError\u001b[39;00m(\u001b[39m\"\u001b[39m\u001b[39mInvalid call for scalar access (getting)!\u001b[39m\u001b[39m\"\u001b[39m)\n\u001b[0;32m   2429\u001b[0m     \u001b[39mreturn\u001b[39;00m \u001b[39mself\u001b[39m\u001b[39m.\u001b[39mobj\u001b[39m.\u001b[39mloc[key]\n\u001b[1;32m-> 2431\u001b[0m \u001b[39mreturn\u001b[39;00m \u001b[39msuper\u001b[39;49m()\u001b[39m.\u001b[39;49m\u001b[39m__getitem__\u001b[39;49m(key)\n",
      "File \u001b[1;32mc:\\Python310\\lib\\site-packages\\pandas\\core\\indexing.py:2382\u001b[0m, in \u001b[0;36m_ScalarAccessIndexer.__getitem__\u001b[1;34m(self, key)\u001b[0m\n\u001b[0;32m   2379\u001b[0m         \u001b[39mraise\u001b[39;00m \u001b[39mValueError\u001b[39;00m(\u001b[39m\"\u001b[39m\u001b[39mInvalid call for scalar access (getting)!\u001b[39m\u001b[39m\"\u001b[39m)\n\u001b[0;32m   2381\u001b[0m key \u001b[39m=\u001b[39m \u001b[39mself\u001b[39m\u001b[39m.\u001b[39m_convert_key(key)\n\u001b[1;32m-> 2382\u001b[0m \u001b[39mreturn\u001b[39;00m \u001b[39mself\u001b[39;49m\u001b[39m.\u001b[39;49mobj\u001b[39m.\u001b[39;49m_get_value(\u001b[39m*\u001b[39;49mkey, takeable\u001b[39m=\u001b[39;49m\u001b[39mself\u001b[39;49m\u001b[39m.\u001b[39;49m_takeable)\n",
      "\u001b[1;31mTypeError\u001b[0m: DataFrame._get_value() missing 1 required positional argument: 'col'"
     ]
    }
   ],
   "source": [
    "df.at['Alice':'David']"
   ]
  },
  {
   "cell_type": "code",
   "execution_count": null,
   "metadata": {},
   "outputs": [],
   "source": []
  }
 ],
 "metadata": {
  "kernelspec": {
   "display_name": "Python 3",
   "language": "python",
   "name": "python3"
  },
  "language_info": {
   "codemirror_mode": {
    "name": "ipython",
    "version": 3
   },
   "file_extension": ".py",
   "mimetype": "text/x-python",
   "name": "python",
   "nbconvert_exporter": "python",
   "pygments_lexer": "ipython3",
   "version": "3.10.4"
  },
  "orig_nbformat": 4,
  "vscode": {
   "interpreter": {
    "hash": "369f2c481f4da34e4445cda3fffd2e751bd1c4d706f27375911949ba6bb62e1c"
   }
  }
 },
 "nbformat": 4,
 "nbformat_minor": 2
}
