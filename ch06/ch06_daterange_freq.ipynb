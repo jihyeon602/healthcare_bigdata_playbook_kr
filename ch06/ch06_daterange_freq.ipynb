{
 "cells": [
  {
   "cell_type": "code",
   "execution_count": 2,
   "metadata": {},
   "outputs": [
    {
     "data": {
      "text/plain": [
       "DatetimeIndex(['2023-01-01', '2023-01-08', '2023-01-15', '2023-01-22',\n",
       "               '2023-01-29', '2023-02-05', '2023-02-12'],\n",
       "              dtype='datetime64[ns]', freq='W-SUN')"
      ]
     },
     "execution_count": 2,
     "metadata": {},
     "output_type": "execute_result"
    }
   ],
   "source": [
    "import pandas as pd\n",
    "#DatetimeIndex 생성 - freq 지점\n",
    "dtidx2 = pd.date_range('2023-01-01', periods=7, freq='W')\n",
    "dtidx2"
   ]
  },
  {
   "cell_type": "code",
   "execution_count": null,
   "metadata": {},
   "outputs": [],
   "source": []
  },
  {
   "cell_type": "code",
   "execution_count": null,
   "metadata": {},
   "outputs": [],
   "source": []
  },
  {
   "cell_type": "code",
   "execution_count": null,
   "metadata": {},
   "outputs": [],
   "source": []
  },
  {
   "cell_type": "code",
   "execution_count": 3,
   "metadata": {},
   "outputs": [
    {
     "data": {
      "text/plain": [
       "DatetimeIndex(['2023-03-31', '2023-06-30'], dtype='datetime64[ns]', freq='Q-DEC')"
      ]
     },
     "execution_count": 3,
     "metadata": {},
     "output_type": "execute_result"
    }
   ],
   "source": [
    "pd.date_range('2023-01-01', '2023-06-30', freq='Q')\n"
   ]
  },
  {
   "cell_type": "code",
   "execution_count": 4,
   "metadata": {},
   "outputs": [
    {
     "data": {
      "text/plain": [
       "DatetimeIndex(['2023-01-31', '2023-02-28', '2023-03-31', '2023-04-30',\n",
       "               '2023-05-31', '2023-06-30'],\n",
       "              dtype='datetime64[ns]', freq='M')"
      ]
     },
     "execution_count": 4,
     "metadata": {},
     "output_type": "execute_result"
    }
   ],
   "source": [
    "pd.date_range('2023-01-01', '2023-06-30', freq='M')"
   ]
  },
  {
   "cell_type": "code",
   "execution_count": 5,
   "metadata": {},
   "outputs": [
    {
     "data": {
      "text/plain": [
       "DatetimeIndex(['2023-01-31', '2023-02-28', '2023-03-31', '2023-04-28',\n",
       "               '2023-05-31', '2023-06-30'],\n",
       "              dtype='datetime64[ns]', freq='BM')"
      ]
     },
     "execution_count": 5,
     "metadata": {},
     "output_type": "execute_result"
    }
   ],
   "source": [
    "pd.date_range('2023-01-01', '2023-06-30', freq='BM')\n"
   ]
  },
  {
   "cell_type": "code",
   "execution_count": 6,
   "metadata": {},
   "outputs": [
    {
     "data": {
      "text/plain": [
       "DatetimeIndex(['2023-01-02', '2023-02-01', '2023-03-01', '2023-04-03',\n",
       "               '2023-05-01', '2023-06-01'],\n",
       "              dtype='datetime64[ns]', freq='BMS')"
      ]
     },
     "execution_count": 6,
     "metadata": {},
     "output_type": "execute_result"
    }
   ],
   "source": [
    "pd.date_range('2023-01-01', '2023-06-30', freq='BMS')\n"
   ]
  },
  {
   "cell_type": "code",
   "execution_count": 7,
   "metadata": {},
   "outputs": [
    {
     "data": {
      "text/plain": [
       "DatetimeIndex(['2023-01-01', '2023-01-15', '2023-02-01', '2023-02-15',\n",
       "               '2023-03-01', '2023-03-15', '2023-04-01', '2023-04-15',\n",
       "               '2023-05-01', '2023-05-15', '2023-06-01', '2023-06-15'],\n",
       "              dtype='datetime64[ns]', freq='SMS-15')"
      ]
     },
     "execution_count": 7,
     "metadata": {},
     "output_type": "execute_result"
    }
   ],
   "source": [
    "pd.date_range('2023-01-01', '2023-06-30', freq='SMS')"
   ]
  },
  {
   "cell_type": "code",
   "execution_count": 8,
   "metadata": {},
   "outputs": [
    {
     "data": {
      "text/plain": [
       "DatetimeIndex(['2023-01-01', '2023-02-01', '2023-03-01', '2023-04-01',\n",
       "               '2023-05-01', '2023-06-01'],\n",
       "              dtype='datetime64[ns]', freq='MS')"
      ]
     },
     "execution_count": 8,
     "metadata": {},
     "output_type": "execute_result"
    }
   ],
   "source": [
    "pd.date_range('2023-01-01', '2023-06-30', freq='MS')"
   ]
  },
  {
   "cell_type": "code",
   "execution_count": 9,
   "metadata": {},
   "outputs": [
    {
     "data": {
      "text/plain": [
       "DatetimeIndex(['2023-01-02', '2023-02-01', '2023-03-01', '2023-04-03',\n",
       "               '2023-05-01', '2023-06-01'],\n",
       "              dtype='datetime64[ns]', freq='BMS')"
      ]
     },
     "execution_count": 9,
     "metadata": {},
     "output_type": "execute_result"
    }
   ],
   "source": [
    "pd.date_range('2023-01-01', '2023-06-30', freq='BMS')"
   ]
  },
  {
   "cell_type": "code",
   "execution_count": null,
   "metadata": {},
   "outputs": [],
   "source": []
  },
  {
   "cell_type": "code",
   "execution_count": 10,
   "metadata": {},
   "outputs": [
    {
     "data": {
      "text/plain": [
       "DatetimeIndex(['2023-01-01 00:00:00', '2023-01-01 01:00:00',\n",
       "               '2023-01-01 02:00:00', '2023-01-01 03:00:00',\n",
       "               '2023-01-01 04:00:00', '2023-01-01 05:00:00',\n",
       "               '2023-01-01 06:00:00', '2023-01-01 07:00:00',\n",
       "               '2023-01-01 08:00:00', '2023-01-01 09:00:00',\n",
       "               ...\n",
       "               '2023-01-09 15:00:00', '2023-01-09 16:00:00',\n",
       "               '2023-01-09 17:00:00', '2023-01-09 18:00:00',\n",
       "               '2023-01-09 19:00:00', '2023-01-09 20:00:00',\n",
       "               '2023-01-09 21:00:00', '2023-01-09 22:00:00',\n",
       "               '2023-01-09 23:00:00', '2023-01-10 00:00:00'],\n",
       "              dtype='datetime64[ns]', length=217, freq='H')"
      ]
     },
     "execution_count": 10,
     "metadata": {},
     "output_type": "execute_result"
    }
   ],
   "source": [
    "pd.date_range('2023-01-01', '2023-01-10', freq='H')\n"
   ]
  },
  {
   "cell_type": "code",
   "execution_count": 11,
   "metadata": {},
   "outputs": [
    {
     "data": {
      "text/plain": [
       "DatetimeIndex(['2023-01-01 00:00:00', '2023-01-01 02:00:00',\n",
       "               '2023-01-01 04:00:00', '2023-01-01 06:00:00',\n",
       "               '2023-01-01 08:00:00', '2023-01-01 10:00:00',\n",
       "               '2023-01-01 12:00:00', '2023-01-01 14:00:00',\n",
       "               '2023-01-01 16:00:00', '2023-01-01 18:00:00',\n",
       "               ...\n",
       "               '2023-01-09 06:00:00', '2023-01-09 08:00:00',\n",
       "               '2023-01-09 10:00:00', '2023-01-09 12:00:00',\n",
       "               '2023-01-09 14:00:00', '2023-01-09 16:00:00',\n",
       "               '2023-01-09 18:00:00', '2023-01-09 20:00:00',\n",
       "               '2023-01-09 22:00:00', '2023-01-10 00:00:00'],\n",
       "              dtype='datetime64[ns]', length=109, freq='2H')"
      ]
     },
     "execution_count": 11,
     "metadata": {},
     "output_type": "execute_result"
    }
   ],
   "source": [
    "pd.date_range('2023-01-01', '2023-01-10', freq='2H')\n"
   ]
  },
  {
   "cell_type": "code",
   "execution_count": 12,
   "metadata": {},
   "outputs": [
    {
     "data": {
      "text/plain": [
       "DatetimeIndex(['2023-01-01 00:00:00', '2023-01-01 00:01:00',\n",
       "               '2023-01-01 00:02:00', '2023-01-01 00:03:00',\n",
       "               '2023-01-01 00:04:00', '2023-01-01 00:05:00',\n",
       "               '2023-01-01 00:06:00', '2023-01-01 00:07:00',\n",
       "               '2023-01-01 00:08:00', '2023-01-01 00:09:00',\n",
       "               ...\n",
       "               '2024-01-09 23:51:00', '2024-01-09 23:52:00',\n",
       "               '2024-01-09 23:53:00', '2024-01-09 23:54:00',\n",
       "               '2024-01-09 23:55:00', '2024-01-09 23:56:00',\n",
       "               '2024-01-09 23:57:00', '2024-01-09 23:58:00',\n",
       "               '2024-01-09 23:59:00', '2024-01-10 00:00:00'],\n",
       "              dtype='datetime64[ns]', length=538561, freq='T')"
      ]
     },
     "execution_count": 12,
     "metadata": {},
     "output_type": "execute_result"
    }
   ],
   "source": [
    "pd.date_range('2023-01-01', '2024-01-10', freq='T')\n"
   ]
  },
  {
   "cell_type": "code",
   "execution_count": 13,
   "metadata": {},
   "outputs": [
    {
     "data": {
      "text/plain": [
       "DatetimeIndex(['2023-01-01 00:00:00', '2023-01-01 00:00:01',\n",
       "               '2023-01-01 00:00:02', '2023-01-01 00:00:03',\n",
       "               '2023-01-01 00:00:04', '2023-01-01 00:00:05',\n",
       "               '2023-01-01 00:00:06', '2023-01-01 00:00:07',\n",
       "               '2023-01-01 00:00:08', '2023-01-01 00:00:09',\n",
       "               ...\n",
       "               '2024-01-09 23:59:51', '2024-01-09 23:59:52',\n",
       "               '2024-01-09 23:59:53', '2024-01-09 23:59:54',\n",
       "               '2024-01-09 23:59:55', '2024-01-09 23:59:56',\n",
       "               '2024-01-09 23:59:57', '2024-01-09 23:59:58',\n",
       "               '2024-01-09 23:59:59', '2024-01-10 00:00:00'],\n",
       "              dtype='datetime64[ns]', length=32313601, freq='S')"
      ]
     },
     "execution_count": 13,
     "metadata": {},
     "output_type": "execute_result"
    }
   ],
   "source": [
    "pd.date_range('2023-01-01', '2024-01-10', freq='S')\n"
   ]
  },
  {
   "cell_type": "code",
   "execution_count": 14,
   "metadata": {},
   "outputs": [
    {
     "data": {
      "text/plain": [
       "DatetimeIndex([       '2023-01-01 00:00:00', '2023-01-01 00:00:00.000001',\n",
       "               '2023-01-01 00:00:00.000002', '2023-01-01 00:00:00.000003',\n",
       "               '2023-01-01 00:00:00.000004', '2023-01-01 00:00:00.000005',\n",
       "               '2023-01-01 00:00:00.000006', '2023-01-01 00:00:00.000007',\n",
       "               '2023-01-01 00:00:00.000008', '2023-01-01 00:00:00.000009',\n",
       "               ...\n",
       "               '2023-01-01 00:00:59.999991', '2023-01-01 00:00:59.999992',\n",
       "               '2023-01-01 00:00:59.999993', '2023-01-01 00:00:59.999994',\n",
       "               '2023-01-01 00:00:59.999995', '2023-01-01 00:00:59.999996',\n",
       "               '2023-01-01 00:00:59.999997', '2023-01-01 00:00:59.999998',\n",
       "               '2023-01-01 00:00:59.999999',        '2023-01-01 00:01:00'],\n",
       "              dtype='datetime64[ns]', length=60000001, freq='U')"
      ]
     },
     "execution_count": 14,
     "metadata": {},
     "output_type": "execute_result"
    }
   ],
   "source": [
    "pd.date_range('2023-01-01 00:00', '2023-01-01 00:01', freq='U')\n"
   ]
  },
  {
   "cell_type": "code",
   "execution_count": null,
   "metadata": {},
   "outputs": [],
   "source": []
  },
  {
   "cell_type": "code",
   "execution_count": 15,
   "metadata": {},
   "outputs": [
    {
     "data": {
      "text/plain": [
       "DatetimeIndex(['2023-12-31'], dtype='datetime64[ns]', freq='A-DEC')"
      ]
     },
     "execution_count": 15,
     "metadata": {},
     "output_type": "execute_result"
    }
   ],
   "source": [
    "pd.date_range('2023-01-01', '2024-01-10', freq='A')\n"
   ]
  },
  {
   "cell_type": "code",
   "execution_count": 16,
   "metadata": {},
   "outputs": [
    {
     "data": {
      "text/plain": [
       "DatetimeIndex(['2023-12-31'], dtype='datetime64[ns]', freq='A-DEC')"
      ]
     },
     "execution_count": 16,
     "metadata": {},
     "output_type": "execute_result"
    }
   ],
   "source": [
    "pd.date_range('2023-01-01', '2024-01-10', freq='Y')\n"
   ]
  },
  {
   "cell_type": "code",
   "execution_count": 17,
   "metadata": {},
   "outputs": [
    {
     "data": {
      "text/plain": [
       "DatetimeIndex(['2023-01-31', '2023-02-28', '2023-03-31', '2023-04-28',\n",
       "               '2023-05-31', '2023-06-30', '2023-07-31', '2023-08-31',\n",
       "               '2023-09-29', '2023-10-31', '2023-11-30', '2023-12-29'],\n",
       "              dtype='datetime64[ns]', freq='BM')"
      ]
     },
     "execution_count": 17,
     "metadata": {},
     "output_type": "execute_result"
    }
   ],
   "source": [
    "pd.date_range('2023-01-01', '2024-01-10', freq='BM')\n"
   ]
  },
  {
   "cell_type": "code",
   "execution_count": 18,
   "metadata": {},
   "outputs": [
    {
     "data": {
      "text/plain": [
       "DatetimeIndex(['2023-01-02', '2023-01-09', '2023-01-16', '2023-01-23',\n",
       "               '2023-01-30', '2023-02-06', '2023-02-13', '2023-02-20',\n",
       "               '2023-02-27', '2023-03-06'],\n",
       "              dtype='datetime64[ns]', freq='W-MON')"
      ]
     },
     "execution_count": 18,
     "metadata": {},
     "output_type": "execute_result"
    }
   ],
   "source": [
    "pd.date_range('2023-01-01', '2023-03-10', freq='W-MON')\n"
   ]
  },
  {
   "cell_type": "code",
   "execution_count": 19,
   "metadata": {},
   "outputs": [
    {
     "data": {
      "text/plain": [
       "DatetimeIndex(['2023-01-01'], dtype='datetime64[ns]', freq='AS-JAN')"
      ]
     },
     "execution_count": 19,
     "metadata": {},
     "output_type": "execute_result"
    }
   ],
   "source": [
    "pd.date_range('2023-01-01', '2023-03-10', freq='AS')\n"
   ]
  },
  {
   "cell_type": "code",
   "execution_count": 20,
   "metadata": {},
   "outputs": [
    {
     "data": {
      "text/plain": [
       "DatetimeIndex(['2023-01-02'], dtype='datetime64[ns]', freq='BAS-JAN')"
      ]
     },
     "execution_count": 20,
     "metadata": {},
     "output_type": "execute_result"
    }
   ],
   "source": [
    "pd.date_range('2023-01-01', '2023-03-10', freq='BAS')"
   ]
  },
  {
   "cell_type": "code",
   "execution_count": null,
   "metadata": {},
   "outputs": [],
   "source": []
  }
 ],
 "metadata": {
  "kernelspec": {
   "display_name": "Python 3",
   "language": "python",
   "name": "python3"
  },
  "language_info": {
   "codemirror_mode": {
    "name": "ipython",
    "version": 3
   },
   "file_extension": ".py",
   "mimetype": "text/x-python",
   "name": "python",
   "nbconvert_exporter": "python",
   "pygments_lexer": "ipython3",
   "version": "3.10.4"
  },
  "orig_nbformat": 4,
  "vscode": {
   "interpreter": {
    "hash": "369f2c481f4da34e4445cda3fffd2e751bd1c4d706f27375911949ba6bb62e1c"
   }
  }
 },
 "nbformat": 4,
 "nbformat_minor": 2
}
