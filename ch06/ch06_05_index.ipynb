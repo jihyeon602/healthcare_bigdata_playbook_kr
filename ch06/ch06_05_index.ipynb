{
 "cells": [
  {
   "attachments": {},
   "cell_type": "markdown",
   "id": "4afc3491",
   "metadata": {},
   "source": [
    "## 6.5. Index"
   ]
  },
  {
   "cell_type": "code",
   "execution_count": 1,
   "id": "8efadcb1",
   "metadata": {},
   "outputs": [
    {
     "data": {
      "text/plain": [
       "Int64Index([0, 1, 2, 3, 4, 5, 6, 7, 8, 9], dtype='int64')"
      ]
     },
     "execution_count": 1,
     "metadata": {},
     "output_type": "execute_result"
    }
   ],
   "source": [
    "import pandas as pd\n",
    "import numpy  as np\n",
    "\n",
    "idx1 = pd.Index(np.arange(10))\n",
    "idx1"
   ]
  },
  {
   "cell_type": "code",
   "execution_count": 2,
   "id": "25a52b32",
   "metadata": {},
   "outputs": [
    {
     "data": {
      "text/plain": [
       "2"
      ]
     },
     "execution_count": 2,
     "metadata": {},
     "output_type": "execute_result"
    }
   ],
   "source": [
    "# 인덱싱 접근\n",
    "idx1[2]"
   ]
  },
  {
   "cell_type": "code",
   "execution_count": 3,
   "id": "0c3582b1",
   "metadata": {},
   "outputs": [
    {
     "data": {
      "text/plain": [
       "Int64Index([0, 3, 6, 9], dtype='int64')"
      ]
     },
     "execution_count": 3,
     "metadata": {},
     "output_type": "execute_result"
    }
   ],
   "source": [
    "# 슬라이싱\n",
    "idx1[::3]"
   ]
  },
  {
   "cell_type": "code",
   "execution_count": 4,
   "id": "99c7a713",
   "metadata": {},
   "outputs": [
    {
     "data": {
      "text/plain": [
       "Int64Index([0, 1, 2, 3, 4], dtype='int64')"
      ]
     },
     "execution_count": 4,
     "metadata": {},
     "output_type": "execute_result"
    }
   ],
   "source": [
    "# 마스킹\n",
    "idx1[ idx1 < 5]"
   ]
  },
  {
   "cell_type": "code",
   "execution_count": 5,
   "id": "80c4dd91",
   "metadata": {},
   "outputs": [
    {
     "data": {
      "text/plain": [
       "(10,)"
      ]
     },
     "execution_count": 5,
     "metadata": {},
     "output_type": "execute_result"
    }
   ],
   "source": [
    "# 모양새\n",
    "idx1.shape"
   ]
  },
  {
   "cell_type": "code",
   "execution_count": 6,
   "id": "8c4eb4dd",
   "metadata": {},
   "outputs": [],
   "source": [
    "# 인덱스 이름 변경\n",
    "idx1.name = 'idx1'"
   ]
  },
  {
   "cell_type": "code",
   "execution_count": 7,
   "id": "509eaf5a",
   "metadata": {},
   "outputs": [
    {
     "ename": "TypeError",
     "evalue": "Index does not support mutable operations",
     "output_type": "error",
     "traceback": [
      "\u001b[1;31m---------------------------------------------------------------------------\u001b[0m",
      "\u001b[1;31mTypeError\u001b[0m                                 Traceback (most recent call last)",
      "Cell \u001b[1;32mIn[7], line 1\u001b[0m\n\u001b[1;32m----> 1\u001b[0m idx1[\u001b[39m0\u001b[39;49m] \u001b[39m=\u001b[39m \u001b[39m4\u001b[39m\n",
      "File \u001b[1;32mc:\\Python310\\lib\\site-packages\\pandas\\core\\indexes\\base.py:5345\u001b[0m, in \u001b[0;36mIndex.__setitem__\u001b[1;34m(self, key, value)\u001b[0m\n\u001b[0;32m   5343\u001b[0m \u001b[39m@final\u001b[39m\n\u001b[0;32m   5344\u001b[0m \u001b[39mdef\u001b[39;00m \u001b[39m__setitem__\u001b[39m(\u001b[39mself\u001b[39m, key, value):\n\u001b[1;32m-> 5345\u001b[0m     \u001b[39mraise\u001b[39;00m \u001b[39mTypeError\u001b[39;00m(\u001b[39m\"\u001b[39m\u001b[39mIndex does not support mutable operations\u001b[39m\u001b[39m\"\u001b[39m)\n",
      "\u001b[1;31mTypeError\u001b[0m: Index does not support mutable operations"
     ]
    }
   ],
   "source": [
    "idx1[0] = 4"
   ]
  },
  {
   "cell_type": "markdown",
   "id": "55429bbb",
   "metadata": {},
   "source": [
    "## 6.5.1. 멀티(계층적) 인덱스"
   ]
  },
  {
   "cell_type": "code",
   "execution_count": 1,
   "id": "72eafa8a",
   "metadata": {},
   "outputs": [
    {
     "data": {
      "text/plain": [
       "        20230102  20230103  20230104\n",
       "Adams         80        90        95\n",
       "Moses         70        75        72\n",
       "Miriam        75        82        89"
      ]
     },
     "execution_count": 1,
     "metadata": {},
     "output_type": "execute_result"
    }
   ],
   "source": [
    "import pandas as pd\n",
    "import numpy as np\n",
    "\n",
    "pd.set_option('display.notebook_repr_html', False)\n",
    "\n",
    "activities_val = {'20230102': [80, 70, 75], '20230103': [90,75,82], '20230104':[95, 72, 89]}\n",
    "df = pd.DataFrame(data=activities_val, index=['Adams', 'Moses', 'Miriam'])\n",
    "df"
   ]
  },
  {
   "cell_type": "code",
   "execution_count": 2,
   "id": "eb76c3a9",
   "metadata": {},
   "outputs": [
    {
     "data": {
      "text/plain": [
       "                 Act  Breath\n",
       "Adams  20230102   63      56\n",
       "       20230103   50      74\n",
       "       20230104   74      82\n",
       "Moses  20230102   80      66\n",
       "       20230103   93      56\n",
       "       20230104   65      75\n",
       "Miriam 20230102   99      87\n",
       "       20230103   66      63\n",
       "       20230104   93      87"
      ]
     },
     "execution_count": 2,
     "metadata": {},
     "output_type": "execute_result"
    }
   ],
   "source": [
    "multi_idx_df = pd.DataFrame(np.random.randint(50, 100, 18).reshape(9,2),\n",
    "                     index=[['Adams','Adams','Adams', 'Moses', 'Moses',\n",
    "                             'Moses','Miriam','Miriam','Miriam'],\n",
    "              ['20230102','20230103','20230104','20230102','20230103',\n",
    "              '20230104','20230102','20230103','20230104']],\n",
    "              columns=['Act', 'Breath'])\n",
    "multi_idx_df"
   ]
  },
  {
   "cell_type": "code",
   "execution_count": 3,
   "id": "b54e55d0",
   "metadata": {},
   "outputs": [
    {
     "name": "stdout",
     "output_type": "stream",
     "text": [
      "<class 'pandas.core.frame.DataFrame'>\n",
      "MultiIndex: 9 entries, ('Adams', '20230102') to ('Miriam', '20230104')\n",
      "Data columns (total 2 columns):\n",
      " #   Column  Non-Null Count  Dtype\n",
      "---  ------  --------------  -----\n",
      " 0   Act     9 non-null      int32\n",
      " 1   Breath  9 non-null      int32\n",
      "dtypes: int32(2)\n",
      "memory usage: 386.0+ bytes\n"
     ]
    }
   ],
   "source": [
    "multi_idx_df.info()"
   ]
  },
  {
   "cell_type": "code",
   "execution_count": 4,
   "id": "e84c042f",
   "metadata": {},
   "outputs": [
    {
     "data": {
      "text/plain": [
       "                 Act  Breath\n",
       "Adams  20230102   52      86\n",
       "       20230103   82      88\n",
       "       20230104   66      58\n",
       "Moses  20230102   53      76\n",
       "       20230103   65      63\n",
       "       20230104   70      69\n",
       "Miriam 20230102   77      82\n",
       "       20230103   88      70\n",
       "       20230104   56      96"
      ]
     },
     "execution_count": 4,
     "metadata": {},
     "output_type": "execute_result"
    }
   ],
   "source": [
    "idx = pd.MultiIndex.from_product([['Adams','Moses', 'Miriam'],\n",
    "                                         ['20230102','20230103','20230104']])\n",
    "multi_idx_product_df = pd.DataFrame(np.random.randint(50, 100, 18).reshape(9,2),\n",
    "                 index=idx, columns=['Act', 'Breath'])\n",
    "multi_idx_product_df\n"
   ]
  },
  {
   "cell_type": "code",
   "execution_count": 5,
   "id": "b70fe8cd",
   "metadata": {},
   "outputs": [
    {
     "data": {
      "text/plain": [
       "                    Act  Breath\n",
       "FirstName Date                 \n",
       "Adams     20230102   63      67\n",
       "          20230103   96      80\n",
       "          20230104   80      78\n",
       "Moses     20230102   74      93\n",
       "          20230103   79      74\n",
       "          20230104   75      88\n",
       "Miriam    20230102   80      77\n",
       "          20230103   96      69\n",
       "          2023010    59      74"
      ]
     },
     "execution_count": 5,
     "metadata": {},
     "output_type": "execute_result"
    }
   ],
   "source": [
    "#병동 호실\n",
    "#환자명\n",
    "#일자\n",
    "#활동지수\n",
    "tuple_index = \\\n",
    "   [('Adams', '20230102'), ('Adams', '20230103'), ('Adams', '20230104'),\n",
    "   ('Moses', '20230102'),('Moses', '20230103'),('Moses', '20230104'),\n",
    "   ('Miriam', '20230102'),('Miriam', '20230103'),('Miriam', '2023010')\n",
    "   ]\n",
    "\n",
    "multi_index = pd.MultiIndex.from_tuples(tuple_index)\n",
    "multi_index.names = ['FirstName','Date'] # 인덱스 이름 변경\n",
    "multi_idx_product_df = pd.DataFrame(data=np.random.randint(50, 100, 18).reshape(9,2),\n",
    "                index=multi_index, columns=['Act', 'Breath'])\n",
    "multi_idx_product_df"
   ]
  },
  {
   "cell_type": "code",
   "execution_count": 6,
   "id": "28b58870",
   "metadata": {},
   "outputs": [
    {
     "data": {
      "text/plain": [
       "                    Act  Breath\n",
       "FirstName Date                 \n",
       "Adams     20230102   63      67\n",
       "          20230103   96      80\n",
       "          20230104   80      78\n",
       "Miriam    2023010    59      74\n",
       "          20230102   80      77\n",
       "          20230103   96      69\n",
       "Moses     20230102   74      93\n",
       "          20230103   79      74\n",
       "          20230104   75      88"
      ]
     },
     "execution_count": 6,
     "metadata": {},
     "output_type": "execute_result"
    }
   ],
   "source": [
    "multi_idx_product_df.sort_index(inplace=True)\n",
    "multi_idx_product_df"
   ]
  },
  {
   "attachments": {},
   "cell_type": "markdown",
   "id": "e580c255",
   "metadata": {},
   "source": [
    "### 6.5.2. 인덱스로 데이터 접근하기"
   ]
  },
  {
   "cell_type": "code",
   "execution_count": 7,
   "id": "76086e4e",
   "metadata": {},
   "outputs": [
    {
     "data": {
      "text/plain": [
       "                    Act\n",
       "FirstName Date         \n",
       "Adams     20230102   63\n",
       "          20230103   96\n",
       "          20230104   80"
      ]
     },
     "execution_count": 7,
     "metadata": {},
     "output_type": "execute_result"
    }
   ],
   "source": [
    "# 암묵적 인덱스로 접근(3행까지, 1열까지)\n",
    "multi_idx_product_df.iloc[:3, :1]"
   ]
  },
  {
   "cell_type": "code",
   "execution_count": 8,
   "id": "f2947d51",
   "metadata": {},
   "outputs": [
    {
     "data": {
      "text/plain": [
       "          Act  Breath\n",
       "Date                 \n",
       "20230102   63      67\n",
       "20230103   96      80\n",
       "20230104   80      78"
      ]
     },
     "execution_count": 8,
     "metadata": {},
     "output_type": "execute_result"
    }
   ],
   "source": [
    "# 명시적 인덱스로 접근\n",
    "multi_idx_product_df.loc['Adams',:]"
   ]
  },
  {
   "cell_type": "code",
   "execution_count": 9,
   "id": "015057e4",
   "metadata": {},
   "outputs": [
    {
     "data": {
      "text/plain": [
       "Act       96\n",
       "Breath    80\n",
       "Name: (Adams, 20230103), dtype: int32"
      ]
     },
     "execution_count": 9,
     "metadata": {},
     "output_type": "execute_result"
    }
   ],
   "source": [
    "multi_idx_product_df.loc['Adams','20230103']"
   ]
  },
  {
   "cell_type": "code",
   "execution_count": 10,
   "id": "bcc6f7b6",
   "metadata": {},
   "outputs": [
    {
     "data": {
      "text/plain": [
       "                    Act  Breath\n",
       "FirstName Date                 \n",
       "Adams     20230102   63      67\n",
       "          20230103   96      80\n",
       "          20230104   80      78\n",
       "Miriam    2023010    59      74\n",
       "          20230102   80      77\n",
       "          20230103   96      69"
      ]
     },
     "execution_count": 10,
     "metadata": {},
     "output_type": "execute_result"
    }
   ],
   "source": [
    "# 팬시인덱싱도 가능함\n",
    "multi_idx_product_df.loc[['Adams','Miriam']]"
   ]
  },
  {
   "cell_type": "code",
   "execution_count": 11,
   "id": "0532a004",
   "metadata": {},
   "outputs": [
    {
     "ename": "KeyError",
     "evalue": "'20230103'",
     "output_type": "error",
     "traceback": [
      "\u001b[1;31m---------------------------------------------------------------------------\u001b[0m",
      "\u001b[1;31mKeyError\u001b[0m                                  Traceback (most recent call last)",
      "File \u001b[1;32mc:\\Python310\\lib\\site-packages\\pandas\\core\\indexes\\base.py:3803\u001b[0m, in \u001b[0;36mIndex.get_loc\u001b[1;34m(self, key, method, tolerance)\u001b[0m\n\u001b[0;32m   3802\u001b[0m \u001b[39mtry\u001b[39;00m:\n\u001b[1;32m-> 3803\u001b[0m     \u001b[39mreturn\u001b[39;00m \u001b[39mself\u001b[39;49m\u001b[39m.\u001b[39;49m_engine\u001b[39m.\u001b[39;49mget_loc(casted_key)\n\u001b[0;32m   3804\u001b[0m \u001b[39mexcept\u001b[39;00m \u001b[39mKeyError\u001b[39;00m \u001b[39mas\u001b[39;00m err:\n",
      "File \u001b[1;32mc:\\Python310\\lib\\site-packages\\pandas\\_libs\\index.pyx:138\u001b[0m, in \u001b[0;36mpandas._libs.index.IndexEngine.get_loc\u001b[1;34m()\u001b[0m\n",
      "File \u001b[1;32mc:\\Python310\\lib\\site-packages\\pandas\\_libs\\index.pyx:165\u001b[0m, in \u001b[0;36mpandas._libs.index.IndexEngine.get_loc\u001b[1;34m()\u001b[0m\n",
      "File \u001b[1;32mpandas\\_libs\\hashtable_class_helper.pxi:5745\u001b[0m, in \u001b[0;36mpandas._libs.hashtable.PyObjectHashTable.get_item\u001b[1;34m()\u001b[0m\n",
      "File \u001b[1;32mpandas\\_libs\\hashtable_class_helper.pxi:5753\u001b[0m, in \u001b[0;36mpandas._libs.hashtable.PyObjectHashTable.get_item\u001b[1;34m()\u001b[0m\n",
      "\u001b[1;31mKeyError\u001b[0m: '20230103'",
      "\nThe above exception was the direct cause of the following exception:\n",
      "\u001b[1;31mKeyError\u001b[0m                                  Traceback (most recent call last)",
      "Cell \u001b[1;32mIn[11], line 1\u001b[0m\n\u001b[1;32m----> 1\u001b[0m multi_idx_df\u001b[39m.\u001b[39;49mloc[:, \u001b[39m'\u001b[39;49m\u001b[39m20230103\u001b[39;49m\u001b[39m'\u001b[39;49m]\n",
      "File \u001b[1;32mc:\\Python310\\lib\\site-packages\\pandas\\core\\indexing.py:1067\u001b[0m, in \u001b[0;36m_LocationIndexer.__getitem__\u001b[1;34m(self, key)\u001b[0m\n\u001b[0;32m   1065\u001b[0m     \u001b[39mif\u001b[39;00m \u001b[39mself\u001b[39m\u001b[39m.\u001b[39m_is_scalar_access(key):\n\u001b[0;32m   1066\u001b[0m         \u001b[39mreturn\u001b[39;00m \u001b[39mself\u001b[39m\u001b[39m.\u001b[39mobj\u001b[39m.\u001b[39m_get_value(\u001b[39m*\u001b[39mkey, takeable\u001b[39m=\u001b[39m\u001b[39mself\u001b[39m\u001b[39m.\u001b[39m_takeable)\n\u001b[1;32m-> 1067\u001b[0m     \u001b[39mreturn\u001b[39;00m \u001b[39mself\u001b[39;49m\u001b[39m.\u001b[39;49m_getitem_tuple(key)\n\u001b[0;32m   1068\u001b[0m \u001b[39melse\u001b[39;00m:\n\u001b[0;32m   1069\u001b[0m     \u001b[39m# we by definition only have the 0th axis\u001b[39;00m\n\u001b[0;32m   1070\u001b[0m     axis \u001b[39m=\u001b[39m \u001b[39mself\u001b[39m\u001b[39m.\u001b[39maxis \u001b[39mor\u001b[39;00m \u001b[39m0\u001b[39m\n",
      "File \u001b[1;32mc:\\Python310\\lib\\site-packages\\pandas\\core\\indexing.py:1247\u001b[0m, in \u001b[0;36m_LocIndexer._getitem_tuple\u001b[1;34m(self, tup)\u001b[0m\n\u001b[0;32m   1245\u001b[0m \u001b[39mwith\u001b[39;00m suppress(IndexingError):\n\u001b[0;32m   1246\u001b[0m     tup \u001b[39m=\u001b[39m \u001b[39mself\u001b[39m\u001b[39m.\u001b[39m_expand_ellipsis(tup)\n\u001b[1;32m-> 1247\u001b[0m     \u001b[39mreturn\u001b[39;00m \u001b[39mself\u001b[39;49m\u001b[39m.\u001b[39;49m_getitem_lowerdim(tup)\n\u001b[0;32m   1249\u001b[0m \u001b[39m# no multi-index, so validate all of the indexers\u001b[39;00m\n\u001b[0;32m   1250\u001b[0m tup \u001b[39m=\u001b[39m \u001b[39mself\u001b[39m\u001b[39m.\u001b[39m_validate_tuple_indexer(tup)\n",
      "File \u001b[1;32mc:\\Python310\\lib\\site-packages\\pandas\\core\\indexing.py:941\u001b[0m, in \u001b[0;36m_LocationIndexer._getitem_lowerdim\u001b[1;34m(self, tup)\u001b[0m\n\u001b[0;32m    939\u001b[0m \u001b[39m# we may have a nested tuples indexer here\u001b[39;00m\n\u001b[0;32m    940\u001b[0m \u001b[39mif\u001b[39;00m \u001b[39mself\u001b[39m\u001b[39m.\u001b[39m_is_nested_tuple_indexer(tup):\n\u001b[1;32m--> 941\u001b[0m     \u001b[39mreturn\u001b[39;00m \u001b[39mself\u001b[39;49m\u001b[39m.\u001b[39;49m_getitem_nested_tuple(tup)\n\u001b[0;32m    943\u001b[0m \u001b[39m# we maybe be using a tuple to represent multiple dimensions here\u001b[39;00m\n\u001b[0;32m    944\u001b[0m ax0 \u001b[39m=\u001b[39m \u001b[39mself\u001b[39m\u001b[39m.\u001b[39mobj\u001b[39m.\u001b[39m_get_axis(\u001b[39m0\u001b[39m)\n",
      "File \u001b[1;32mc:\\Python310\\lib\\site-packages\\pandas\\core\\indexing.py:1047\u001b[0m, in \u001b[0;36m_LocationIndexer._getitem_nested_tuple\u001b[1;34m(self, tup)\u001b[0m\n\u001b[0;32m   1044\u001b[0m     axis \u001b[39m-\u001b[39m\u001b[39m=\u001b[39m \u001b[39m1\u001b[39m\n\u001b[0;32m   1045\u001b[0m     \u001b[39mcontinue\u001b[39;00m\n\u001b[1;32m-> 1047\u001b[0m obj \u001b[39m=\u001b[39m \u001b[39mgetattr\u001b[39;49m(obj, \u001b[39mself\u001b[39;49m\u001b[39m.\u001b[39;49mname)\u001b[39m.\u001b[39;49m_getitem_axis(key, axis\u001b[39m=\u001b[39;49maxis)\n\u001b[0;32m   1048\u001b[0m axis \u001b[39m-\u001b[39m\u001b[39m=\u001b[39m \u001b[39m1\u001b[39m\n\u001b[0;32m   1050\u001b[0m \u001b[39m# if we have a scalar, we are done\u001b[39;00m\n",
      "File \u001b[1;32mc:\\Python310\\lib\\site-packages\\pandas\\core\\indexing.py:1312\u001b[0m, in \u001b[0;36m_LocIndexer._getitem_axis\u001b[1;34m(self, key, axis)\u001b[0m\n\u001b[0;32m   1310\u001b[0m \u001b[39m# fall thru to straight lookup\u001b[39;00m\n\u001b[0;32m   1311\u001b[0m \u001b[39mself\u001b[39m\u001b[39m.\u001b[39m_validate_key(key, axis)\n\u001b[1;32m-> 1312\u001b[0m \u001b[39mreturn\u001b[39;00m \u001b[39mself\u001b[39;49m\u001b[39m.\u001b[39;49m_get_label(key, axis\u001b[39m=\u001b[39;49maxis)\n",
      "File \u001b[1;32mc:\\Python310\\lib\\site-packages\\pandas\\core\\indexing.py:1260\u001b[0m, in \u001b[0;36m_LocIndexer._get_label\u001b[1;34m(self, label, axis)\u001b[0m\n\u001b[0;32m   1258\u001b[0m \u001b[39mdef\u001b[39;00m \u001b[39m_get_label\u001b[39m(\u001b[39mself\u001b[39m, label, axis: \u001b[39mint\u001b[39m):\n\u001b[0;32m   1259\u001b[0m     \u001b[39m# GH#5567 this will fail if the label is not present in the axis.\u001b[39;00m\n\u001b[1;32m-> 1260\u001b[0m     \u001b[39mreturn\u001b[39;00m \u001b[39mself\u001b[39;49m\u001b[39m.\u001b[39;49mobj\u001b[39m.\u001b[39;49mxs(label, axis\u001b[39m=\u001b[39;49maxis)\n",
      "File \u001b[1;32mc:\\Python310\\lib\\site-packages\\pandas\\core\\generic.py:4041\u001b[0m, in \u001b[0;36mNDFrame.xs\u001b[1;34m(self, key, axis, level, drop_level)\u001b[0m\n\u001b[0;32m   4039\u001b[0m \u001b[39mif\u001b[39;00m axis \u001b[39m==\u001b[39m \u001b[39m1\u001b[39m:\n\u001b[0;32m   4040\u001b[0m     \u001b[39mif\u001b[39;00m drop_level:\n\u001b[1;32m-> 4041\u001b[0m         \u001b[39mreturn\u001b[39;00m \u001b[39mself\u001b[39;49m[key]\n\u001b[0;32m   4042\u001b[0m     index \u001b[39m=\u001b[39m \u001b[39mself\u001b[39m\u001b[39m.\u001b[39mcolumns\n\u001b[0;32m   4043\u001b[0m \u001b[39melse\u001b[39;00m:\n",
      "File \u001b[1;32mc:\\Python310\\lib\\site-packages\\pandas\\core\\frame.py:3805\u001b[0m, in \u001b[0;36mDataFrame.__getitem__\u001b[1;34m(self, key)\u001b[0m\n\u001b[0;32m   3803\u001b[0m \u001b[39mif\u001b[39;00m \u001b[39mself\u001b[39m\u001b[39m.\u001b[39mcolumns\u001b[39m.\u001b[39mnlevels \u001b[39m>\u001b[39m \u001b[39m1\u001b[39m:\n\u001b[0;32m   3804\u001b[0m     \u001b[39mreturn\u001b[39;00m \u001b[39mself\u001b[39m\u001b[39m.\u001b[39m_getitem_multilevel(key)\n\u001b[1;32m-> 3805\u001b[0m indexer \u001b[39m=\u001b[39m \u001b[39mself\u001b[39;49m\u001b[39m.\u001b[39;49mcolumns\u001b[39m.\u001b[39;49mget_loc(key)\n\u001b[0;32m   3806\u001b[0m \u001b[39mif\u001b[39;00m is_integer(indexer):\n\u001b[0;32m   3807\u001b[0m     indexer \u001b[39m=\u001b[39m [indexer]\n",
      "File \u001b[1;32mc:\\Python310\\lib\\site-packages\\pandas\\core\\indexes\\base.py:3805\u001b[0m, in \u001b[0;36mIndex.get_loc\u001b[1;34m(self, key, method, tolerance)\u001b[0m\n\u001b[0;32m   3803\u001b[0m     \u001b[39mreturn\u001b[39;00m \u001b[39mself\u001b[39m\u001b[39m.\u001b[39m_engine\u001b[39m.\u001b[39mget_loc(casted_key)\n\u001b[0;32m   3804\u001b[0m \u001b[39mexcept\u001b[39;00m \u001b[39mKeyError\u001b[39;00m \u001b[39mas\u001b[39;00m err:\n\u001b[1;32m-> 3805\u001b[0m     \u001b[39mraise\u001b[39;00m \u001b[39mKeyError\u001b[39;00m(key) \u001b[39mfrom\u001b[39;00m \u001b[39merr\u001b[39;00m\n\u001b[0;32m   3806\u001b[0m \u001b[39mexcept\u001b[39;00m \u001b[39mTypeError\u001b[39;00m:\n\u001b[0;32m   3807\u001b[0m     \u001b[39m# If we have a listlike key, _check_indexing_error will raise\u001b[39;00m\n\u001b[0;32m   3808\u001b[0m     \u001b[39m#  InvalidIndexError. Otherwise we fall through and re-raise\u001b[39;00m\n\u001b[0;32m   3809\u001b[0m     \u001b[39m#  the TypeError.\u001b[39;00m\n\u001b[0;32m   3810\u001b[0m     \u001b[39mself\u001b[39m\u001b[39m.\u001b[39m_check_indexing_error(key)\n",
      "\u001b[1;31mKeyError\u001b[0m: '20230103'"
     ]
    }
   ],
   "source": [
    "multi_idx_df.loc[:, '20230103']"
   ]
  },
  {
   "cell_type": "code",
   "execution_count": 12,
   "id": "804cd745",
   "metadata": {},
   "outputs": [
    {
     "data": {
      "text/plain": [
       "                 Act  Breath\n",
       "Adams  20230102   63      56\n",
       "Moses  20230102   80      66\n",
       "Miriam 20230102   99      87"
      ]
     },
     "execution_count": 12,
     "metadata": {},
     "output_type": "execute_result"
    }
   ],
   "source": [
    "multi_idx_df.loc[(slice(None), '20230102'), :]"
   ]
  },
  {
   "cell_type": "code",
   "execution_count": 13,
   "id": "2ace0903",
   "metadata": {},
   "outputs": [
    {
     "data": {
      "text/plain": [
       "                    Act  Breath\n",
       "FirstName Date                 \n",
       "Adams     20230102   63      67\n",
       "Miriam    20230102   80      77\n",
       "Moses     20230102   74      93"
      ]
     },
     "execution_count": 13,
     "metadata": {},
     "output_type": "execute_result"
    }
   ],
   "source": [
    "#pd.IndexSlice으로 레벨1조회\n",
    "idx = pd.IndexSlice\n",
    "multi_idx_product_df.loc[ idx[:, '20230102'], : ]\n"
   ]
  },
  {
   "cell_type": "code",
   "execution_count": 14,
   "id": "5d1b8f4c",
   "metadata": {},
   "outputs": [
    {
     "data": {
      "text/plain": [
       "                    Act  Breath\n",
       "FirstName Date                 \n",
       "Adams     20230102   63      67\n",
       "Miriam    20230102   80      77\n",
       "Moses     20230102   74      93"
      ]
     },
     "execution_count": 14,
     "metadata": {},
     "output_type": "execute_result"
    }
   ],
   "source": [
    "# query메서드로 레벨1 조회\n",
    "multi_idx_product_df.query(\"Date == '20230102'\")"
   ]
  },
  {
   "cell_type": "markdown",
   "id": "dd97c2b7",
   "metadata": {},
   "source": [
    "### xs() 메서드"
   ]
  },
  {
   "cell_type": "code",
   "execution_count": 15,
   "id": "3d8d7d8e",
   "metadata": {},
   "outputs": [
    {
     "data": {
      "text/plain": [
       "           Act  Breath\n",
       "FirstName             \n",
       "Adams       96      80\n",
       "Miriam      96      69\n",
       "Moses       79      74"
      ]
     },
     "execution_count": 15,
     "metadata": {},
     "output_type": "execute_result"
    }
   ],
   "source": [
    "# 20230103 일자 모든 환자의 '활동지수' 및 '호흡지수' 조회\n",
    "multi_idx_product_df.xs('20230103', level='Date')"
   ]
  },
  {
   "cell_type": "code",
   "execution_count": 16,
   "id": "ddffbe2a",
   "metadata": {},
   "outputs": [
    {
     "data": {
      "text/plain": [
       "                    Act  Breath\n",
       "FirstName Date                 \n",
       "Adams     20230103   96      80\n",
       "Miriam    20230103   96      69\n",
       "Moses     20230103   79      74"
      ]
     },
     "execution_count": 16,
     "metadata": {},
     "output_type": "execute_result"
    }
   ],
   "source": [
    "multi_idx_product_df.xs('20230103', level=1, drop_level=False)"
   ]
  },
  {
   "cell_type": "code",
   "execution_count": 17,
   "id": "10bc5c04",
   "metadata": {},
   "outputs": [
    {
     "data": {
      "text/plain": [
       "                    Act  Breath\n",
       "FirstName Date                 \n",
       "Adams     20230102   63      67\n",
       "          20230103   96      80\n",
       "          20230104   80      78"
      ]
     },
     "execution_count": 17,
     "metadata": {},
     "output_type": "execute_result"
    }
   ],
   "source": [
    "multi_idx_product_df.xs('Adams', level=0, drop_level=False)"
   ]
  },
  {
   "cell_type": "code",
   "execution_count": 18,
   "id": "a286c008",
   "metadata": {},
   "outputs": [
    {
     "data": {
      "text/plain": [
       "Act       74\n",
       "Breath    93\n",
       "Name: (Moses, 20230102), dtype: int32"
      ]
     },
     "execution_count": 18,
     "metadata": {},
     "output_type": "execute_result"
    }
   ],
   "source": [
    "multi_idx_product_df.xs(('Moses','20230102'), drop_level=False)"
   ]
  },
  {
   "cell_type": "markdown",
   "id": "d816899e",
   "metadata": {},
   "source": [
    "### 6.5.3 인덱스 설정 및 해제"
   ]
  },
  {
   "cell_type": "code",
   "execution_count": 19,
   "id": "97f19d46",
   "metadata": {},
   "outputs": [
    {
     "data": {
      "text/plain": [
       "              Act                             Breath                    \\\n",
       "Date      2023010 20230102 20230103 20230104 2023010 20230102 20230103   \n",
       "FirstName                                                                \n",
       "Adams         NaN     63.0     96.0     80.0     NaN     67.0     80.0   \n",
       "Miriam       59.0     80.0     96.0      NaN    74.0     77.0     69.0   \n",
       "Moses         NaN     74.0     79.0     75.0     NaN     93.0     74.0   \n",
       "\n",
       "                    \n",
       "Date      20230104  \n",
       "FirstName           \n",
       "Adams         78.0  \n",
       "Miriam         NaN  \n",
       "Moses         88.0  "
      ]
     },
     "execution_count": 19,
     "metadata": {},
     "output_type": "execute_result"
    }
   ],
   "source": [
    "multi_idx_product_df.unstack(level=1)"
   ]
  },
  {
   "cell_type": "code",
   "execution_count": 20,
   "id": "a35eccf5",
   "metadata": {},
   "outputs": [
    {
     "data": {
      "text/plain": [
       "            Act              Breath             \n",
       "FirstName Adams Miriam Moses  Adams Miriam Moses\n",
       "Date                                            \n",
       "2023010     NaN   59.0   NaN    NaN   74.0   NaN\n",
       "20230102   63.0   80.0  74.0   67.0   77.0  93.0\n",
       "20230103   96.0   96.0  79.0   80.0   69.0  74.0\n",
       "20230104   80.0    NaN  75.0   78.0    NaN  88.0"
      ]
     },
     "execution_count": 20,
     "metadata": {},
     "output_type": "execute_result"
    }
   ],
   "source": [
    "multi_idx_product_df.unstack(level=0)"
   ]
  },
  {
   "cell_type": "code",
   "execution_count": 21,
   "id": "05b28430",
   "metadata": {},
   "outputs": [
    {
     "data": {
      "text/plain": [
       "            Act              Breath             \n",
       "FirstName Adams Miriam Moses  Adams Miriam Moses\n",
       "Date                                            \n",
       "2023010     NaN   59.0   NaN    NaN   74.0   NaN\n",
       "20230102   63.0   80.0  74.0   67.0   77.0  93.0\n",
       "20230103   96.0   96.0  79.0   80.0   69.0  74.0\n",
       "20230104   80.0    NaN  75.0   78.0    NaN  88.0"
      ]
     },
     "execution_count": 21,
     "metadata": {},
     "output_type": "execute_result"
    }
   ],
   "source": [
    "df2 = multi_idx_product_df.unstack(level=0)\n",
    "df2\n"
   ]
  },
  {
   "cell_type": "code",
   "execution_count": 22,
   "id": "655eed5b",
   "metadata": {},
   "outputs": [
    {
     "data": {
      "text/plain": [
       "Index(['2023010', '20230102', '20230103', '20230104'], dtype='object', name='Date')"
      ]
     },
     "execution_count": 22,
     "metadata": {},
     "output_type": "execute_result"
    }
   ],
   "source": [
    "df2.index"
   ]
  },
  {
   "cell_type": "code",
   "execution_count": 23,
   "id": "ac3b0805",
   "metadata": {},
   "outputs": [
    {
     "data": {
      "text/plain": [
       "        FirstName\n",
       "Act     Adams        63.0\n",
       "        Miriam       80.0\n",
       "        Moses        74.0\n",
       "Breath  Adams        67.0\n",
       "        Miriam       77.0\n",
       "        Moses        93.0\n",
       "Name: 20230102, dtype: float64"
      ]
     },
     "execution_count": 23,
     "metadata": {},
     "output_type": "execute_result"
    }
   ],
   "source": [
    "df2.loc['20230102']"
   ]
  },
  {
   "cell_type": "code",
   "execution_count": 24,
   "id": "8f504312",
   "metadata": {},
   "outputs": [
    {
     "data": {
      "text/plain": [
       "  FirstName      Date  Act  Breath\n",
       "0     Adams  20230102   63      67\n",
       "1     Adams  20230103   96      80\n",
       "2     Adams  20230104   80      78\n",
       "3    Miriam   2023010   59      74\n",
       "4    Miriam  20230102   80      77\n",
       "5    Miriam  20230103   96      69\n",
       "6     Moses  20230102   74      93\n",
       "7     Moses  20230103   79      74\n",
       "8     Moses  20230104   75      88"
      ]
     },
     "execution_count": 24,
     "metadata": {},
     "output_type": "execute_result"
    }
   ],
   "source": [
    "no_index_df = multi_idx_product_df.reset_index()\n",
    "no_index_df\n"
   ]
  },
  {
   "cell_type": "code",
   "execution_count": 25,
   "id": "8fffd0de",
   "metadata": {},
   "outputs": [
    {
     "name": "stdout",
     "output_type": "stream",
     "text": [
      "<class 'pandas.core.frame.DataFrame'>\n",
      "RangeIndex: 9 entries, 0 to 8\n",
      "Data columns (total 4 columns):\n",
      " #   Column     Non-Null Count  Dtype \n",
      "---  ------     --------------  ----- \n",
      " 0   FirstName  9 non-null      object\n",
      " 1   Date       9 non-null      object\n",
      " 2   Act        9 non-null      int32 \n",
      " 3   Breath     9 non-null      int32 \n",
      "dtypes: int32(2), object(2)\n",
      "memory usage: 344.0+ bytes\n"
     ]
    }
   ],
   "source": [
    "no_index_df.info()"
   ]
  },
  {
   "cell_type": "code",
   "execution_count": 26,
   "id": "4106172a",
   "metadata": {},
   "outputs": [
    {
     "name": "stdout",
     "output_type": "stream",
     "text": [
      "<class 'pandas.core.frame.DataFrame'>\n",
      "MultiIndex: 9 entries, ('Adams', '20230102') to ('Moses', '20230104')\n",
      "Data columns (total 2 columns):\n",
      " #   Column  Non-Null Count  Dtype\n",
      "---  ------  --------------  -----\n",
      " 0   Act     9 non-null      int32\n",
      " 1   Breath  9 non-null      int32\n",
      "dtypes: int32(2)\n",
      "memory usage: 537.0+ bytes\n"
     ]
    }
   ],
   "source": [
    "set_index_df = no_index_df.set_index(['FirstName', 'Date'])\n",
    "set_index_df.info()\n"
   ]
  },
  {
   "cell_type": "code",
   "execution_count": 27,
   "id": "7fdfa29b",
   "metadata": {},
   "outputs": [
    {
     "data": {
      "text/plain": [
       "        0\n",
       "Seoul  66\n",
       "Pusan  92\n",
       "Jeju   93"
      ]
     },
     "execution_count": 27,
     "metadata": {},
     "output_type": "execute_result"
    }
   ],
   "source": [
    "idx = ['Seoul','Pusan', 'Jeju']\n",
    "df = pd.DataFrame(np.random.randint(50, 100, 3).reshape(3,1),\n",
    "              index=idx)\n",
    "df"
   ]
  },
  {
   "cell_type": "code",
   "execution_count": 28,
   "id": "26780d3a",
   "metadata": {},
   "outputs": [
    {
     "data": {
      "text/plain": [
       "         0\n",
       "Daejon  93\n",
       "Seoul   66"
      ]
     },
     "execution_count": 28,
     "metadata": {},
     "output_type": "execute_result"
    }
   ],
   "source": [
    "df.reindex(['Daejon', 'Seoul'], method='ffill')"
   ]
  },
  {
   "cell_type": "code",
   "execution_count": 29,
   "id": "a0e1f42a",
   "metadata": {},
   "outputs": [
    {
     "data": {
      "text/plain": [
       "                    Act  Breath\n",
       "Date     FirstName             \n",
       "20230102 Adams       63      67\n",
       "20230103 Adams       96      80\n",
       "20230104 Adams       80      78\n",
       "2023010  Miriam      59      74\n",
       "20230102 Miriam      80      77\n",
       "20230103 Miriam      96      69\n",
       "20230102 Moses       74      93\n",
       "20230103 Moses       79      74\n",
       "20230104 Moses       75      88"
      ]
     },
     "execution_count": 29,
     "metadata": {},
     "output_type": "execute_result"
    }
   ],
   "source": [
    "changed_level = set_index_df.swaplevel('FirstName', 'Date')\n",
    "changed_level\n"
   ]
  },
  {
   "cell_type": "code",
   "execution_count": 30,
   "id": "c8bf51af",
   "metadata": {},
   "outputs": [
    {
     "name": "stdout",
     "output_type": "stream",
     "text": [
      "<class 'pandas.core.frame.DataFrame'>\n",
      "MultiIndex: 9 entries, ('20230102', 'Adams') to ('20230104', 'Moses')\n",
      "Data columns (total 2 columns):\n",
      " #   Column  Non-Null Count  Dtype\n",
      "---  ------  --------------  -----\n",
      " 0   Act     9 non-null      int32\n",
      " 1   Breath  9 non-null      int32\n",
      "dtypes: int32(2)\n",
      "memory usage: 537.0+ bytes\n"
     ]
    }
   ],
   "source": [
    "changed_level.info()"
   ]
  },
  {
   "cell_type": "markdown",
   "id": "7af15ada",
   "metadata": {},
   "source": [
    "### 6.5.4 간단한 집계 및 통계"
   ]
  },
  {
   "cell_type": "code",
   "execution_count": 39,
   "id": "682e6c8e",
   "metadata": {},
   "outputs": [
    {
     "name": "stderr",
     "output_type": "stream",
     "text": [
      "C:\\Users\\sunin\\AppData\\Local\\Temp\\ipykernel_42212\\1986564839.py:1: FutureWarning: Using the level keyword in DataFrame and Series aggregations is deprecated and will be removed in a future version. Use groupby instead. df.median(level=1) should use df.groupby(level=1).median().\n",
      "  multi_idx_product_df.mean(level='FirstName')\n"
     ]
    },
    {
     "data": {
      "text/plain": [
       "                 Act     Breath\n",
       "FirstName                      \n",
       "Adams      79.666667  75.000000\n",
       "Miriam     78.333333  73.333333\n",
       "Moses      76.000000  85.000000"
      ]
     },
     "execution_count": 39,
     "metadata": {},
     "output_type": "execute_result"
    }
   ],
   "source": [
    "multi_idx_product_df.mean(level='FirstName')"
   ]
  },
  {
   "cell_type": "code",
   "execution_count": 40,
   "id": "164a3aa6",
   "metadata": {},
   "outputs": [
    {
     "name": "stderr",
     "output_type": "stream",
     "text": [
      "C:\\Users\\sunin\\AppData\\Local\\Temp\\ipykernel_42212\\1514279894.py:1: FutureWarning: Using the level keyword in DataFrame and Series aggregations is deprecated and will be removed in a future version. Use groupby instead. df.sum(level=1) should use df.groupby(level=1).sum().\n",
      "  multi_idx_product_df.sum(level='FirstName')\n"
     ]
    },
    {
     "data": {
      "text/plain": [
       "           Act  Breath\n",
       "FirstName             \n",
       "Adams      239     225\n",
       "Miriam     235     220\n",
       "Moses      228     255"
      ]
     },
     "execution_count": 40,
     "metadata": {},
     "output_type": "execute_result"
    }
   ],
   "source": [
    "multi_idx_product_df.sum(level='FirstName')"
   ]
  },
  {
   "cell_type": "code",
   "execution_count": 41,
   "id": "a78c0e15",
   "metadata": {},
   "outputs": [
    {
     "name": "stderr",
     "output_type": "stream",
     "text": [
      "C:\\Users\\sunin\\AppData\\Local\\Temp\\ipykernel_42212\\1538019068.py:1: FutureWarning: Using the level keyword in DataFrame and Series aggregations is deprecated and will be removed in a future version. Use groupby instead. df.median(level=1) should use df.groupby(level=1).median().\n",
      "  multi_idx_product_df.min(level='Date')\n"
     ]
    },
    {
     "data": {
      "text/plain": [
       "          Act  Breath\n",
       "Date                 \n",
       "20230102   63      67\n",
       "20230103   79      69\n",
       "20230104   75      78\n",
       "2023010    59      74"
      ]
     },
     "execution_count": 41,
     "metadata": {},
     "output_type": "execute_result"
    }
   ],
   "source": [
    "multi_idx_product_df.min(level='Date')"
   ]
  },
  {
   "cell_type": "code",
   "execution_count": 42,
   "id": "5e2092d9",
   "metadata": {},
   "outputs": [
    {
     "data": {
      "text/plain": [
       "           Act  Breath\n",
       "FirstName             \n",
       "Adams      239     225\n",
       "Miriam     235     220\n",
       "Moses      228     255"
      ]
     },
     "execution_count": 42,
     "metadata": {},
     "output_type": "execute_result"
    }
   ],
   "source": [
    "multi_idx_product_df.groupby(level='FirstName').sum()"
   ]
  },
  {
   "cell_type": "code",
   "execution_count": 43,
   "id": "bece9923",
   "metadata": {},
   "outputs": [
    {
     "data": {
      "text/plain": [
       "           20230102  20230103  20230104\n",
       "FirstName                              \n",
       "Adams            80        90        95\n",
       "Moses            70        75        72\n",
       "Miriam           75        82        89"
      ]
     },
     "execution_count": 43,
     "metadata": {},
     "output_type": "execute_result"
    }
   ],
   "source": [
    "import pandas as pd\n",
    "import numpy as np\n",
    "activities_val = {'20230102': [80, 70, 75], '20230103': [90,75,82], '20230104':[95, 72, 89]}\n",
    "df = pd.DataFrame(data=activities_val, index=['Adams', 'Moses', 'Miriam'])\n",
    "df.index.names = ['FirstName']\n",
    "df"
   ]
  },
  {
   "cell_type": "code",
   "execution_count": 44,
   "id": "455200bd",
   "metadata": {},
   "outputs": [
    {
     "name": "stderr",
     "output_type": "stream",
     "text": [
      "C:\\Users\\sunin\\AppData\\Local\\Temp\\ipykernel_42212\\412649229.py:2: FutureWarning: Using the level keyword in DataFrame and Series aggregations is deprecated and will be removed in a future version. Use groupby instead. df.median(level=1) should use df.groupby(level=1).median().\n",
      "  df.min(level=\"FirstName\")\n"
     ]
    },
    {
     "data": {
      "text/plain": [
       "           20230102  20230103  20230104\n",
       "FirstName                              \n",
       "Adams            80        90        95\n",
       "Moses            70        75        72\n",
       "Miriam           75        82        89"
      ]
     },
     "execution_count": 44,
     "metadata": {},
     "output_type": "execute_result"
    }
   ],
   "source": [
    "# MultiIndex가 아니기에 level 옵션이 적용되지 않음\n",
    "df.min(level=\"FirstName\")\n"
   ]
  },
  {
   "cell_type": "code",
   "execution_count": 45,
   "id": "0c220711",
   "metadata": {},
   "outputs": [
    {
     "data": {
      "text/plain": [
       "FirstName\n",
       "Adams     88.333333\n",
       "Moses     72.333333\n",
       "Miriam    82.000000\n",
       "dtype: float64"
      ]
     },
     "execution_count": 45,
     "metadata": {},
     "output_type": "execute_result"
    }
   ],
   "source": [
    "df.mean(axis=1)"
   ]
  },
  {
   "cell_type": "code",
   "execution_count": 46,
   "id": "eaff1527",
   "metadata": {},
   "outputs": [
    {
     "data": {
      "text/plain": [
       "20230102    75.000000\n",
       "20230103    82.333333\n",
       "20230104    85.333333\n",
       "dtype: float64"
      ]
     },
     "execution_count": 46,
     "metadata": {},
     "output_type": "execute_result"
    }
   ],
   "source": [
    "df.mean(axis=0)"
   ]
  },
  {
   "cell_type": "code",
   "execution_count": null,
   "id": "cd502e50",
   "metadata": {},
   "outputs": [],
   "source": []
  }
 ],
 "metadata": {
  "kernelspec": {
   "display_name": "Python 3",
   "language": "python",
   "name": "python3"
  },
  "language_info": {
   "codemirror_mode": {
    "name": "ipython",
    "version": 3
   },
   "file_extension": ".py",
   "mimetype": "text/x-python",
   "name": "python",
   "nbconvert_exporter": "python",
   "pygments_lexer": "ipython3",
   "version": "3.10.4"
  },
  "vscode": {
   "interpreter": {
    "hash": "369f2c481f4da34e4445cda3fffd2e751bd1c4d706f27375911949ba6bb62e1c"
   }
  }
 },
 "nbformat": 4,
 "nbformat_minor": 5
}
