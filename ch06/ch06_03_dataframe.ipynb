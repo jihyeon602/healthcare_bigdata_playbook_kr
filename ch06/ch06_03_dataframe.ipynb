{
 "cells": [
  {
   "attachments": {},
   "cell_type": "markdown",
   "id": "05a0a0d8",
   "metadata": {},
   "source": [
    "# 6.3. DataFrame(데이터프레임)"
   ]
  },
  {
   "cell_type": "code",
   "execution_count": 2,
   "id": "fd995d75",
   "metadata": {},
   "outputs": [
    {
     "data": {
      "text/plain": [
       "          0         1         2\n",
       "0  0.744197  0.962776  0.386615\n",
       "1  0.390614  0.183582  0.245680\n",
       "2  0.162151  0.138704  0.158631"
      ]
     },
     "execution_count": 2,
     "metadata": {},
     "output_type": "execute_result"
    }
   ],
   "source": [
    "import pandas as pd\n",
    "import numpy as np\n",
    "from pandas import Series, DataFrame, Index\n",
    "\n",
    "pd.set_option('display.notebook_repr_html', False)\n",
    "\n",
    "df1 = pd.DataFrame(np.random.rand(3,3))\n",
    "df1"
   ]
  },
  {
   "cell_type": "code",
   "execution_count": 3,
   "id": "f643d3d7",
   "metadata": {},
   "outputs": [
    {
     "data": {
      "text/plain": [
       "0    0.962776\n",
       "1    0.183582\n",
       "2    0.138704\n",
       "Name: 1, dtype: float64"
      ]
     },
     "execution_count": 3,
     "metadata": {},
     "output_type": "execute_result"
    }
   ],
   "source": [
    "df1[1] # 두 번째 열이 인덱싱"
   ]
  },
  {
   "cell_type": "code",
   "execution_count": 4,
   "id": "f2ee4c5d",
   "metadata": {},
   "outputs": [
    {
     "data": {
      "text/plain": [
       "0    0.390614\n",
       "1    0.183582\n",
       "2    0.245680\n",
       "Name: 1, dtype: float64"
      ]
     },
     "execution_count": 4,
     "metadata": {},
     "output_type": "execute_result"
    }
   ],
   "source": [
    "df1.loc[1] # 두 번째 행이 인덱싱(명시적)"
   ]
  },
  {
   "cell_type": "code",
   "execution_count": 5,
   "id": "d451c761",
   "metadata": {
    "scrolled": true
   },
   "outputs": [
    {
     "data": {
      "text/plain": [
       "0    0.390614\n",
       "1    0.183582\n",
       "2    0.245680\n",
       "Name: 1, dtype: float64"
      ]
     },
     "execution_count": 5,
     "metadata": {},
     "output_type": "execute_result"
    }
   ],
   "source": [
    "df1.iloc[1] # 두 번째 행이 인덱싱(암묵적)"
   ]
  },
  {
   "cell_type": "code",
   "execution_count": 6,
   "id": "6b341205",
   "metadata": {},
   "outputs": [
    {
     "ename": "SyntaxError",
     "evalue": "invalid syntax (2312581027.py, line 1)",
     "output_type": "error",
     "traceback": [
      "\u001b[1;36m  Cell \u001b[1;32mIn[6], line 1\u001b[1;36m\u001b[0m\n\u001b[1;33m    df1.0 # 열 이름 접근 불가\u001b[0m\n\u001b[1;37m       ^\u001b[0m\n\u001b[1;31mSyntaxError\u001b[0m\u001b[1;31m:\u001b[0m invalid syntax\n"
     ]
    }
   ],
   "source": [
    "df1.0 # 열 이름 접근 불가"
   ]
  },
  {
   "cell_type": "code",
   "execution_count": null,
   "id": "985a1016",
   "metadata": {},
   "outputs": [],
   "source": []
  },
  {
   "cell_type": "code",
   "execution_count": 7,
   "id": "23a52bb9",
   "metadata": {
    "scrolled": false
   },
   "outputs": [
    {
     "data": {
      "text/plain": [
       "          korea  japan\n",
       "daegu       4.0    NaN\n",
       "daejeon     3.0    NaN\n",
       "incheon     2.0    NaN\n",
       "osaka       NaN    2.0\n",
       "pusan       1.0    NaN\n",
       "sendai      NaN    4.0\n",
       "seoul       0.0    NaN\n",
       "tokyo       NaN    0.0\n",
       "yamagata    NaN    6.0\n",
       "yonezawa    NaN    8.0"
      ]
     },
     "execution_count": 7,
     "metadata": {},
     "output_type": "execute_result"
    }
   ],
   "source": [
    "import pandas as pd\n",
    "import numpy as np\n",
    "from pandas import Series, DataFrame, Index\n",
    "\n",
    "series_kr = pd.Series(np.arange(0,5,1), index=['seoul', 'pusan', 'incheon', 'daejeon', 'daegu'])\n",
    "series_jp = pd.Series(np.arange(0,10,2), index=['tokyo', 'osaka', 'sendai', 'yamagata', 'yonezawa'])\n",
    "\n",
    "cities_asia = pd.DataFrame({'korea': series_kr, 'japan': series_jp})\n",
    "cities_asia"
   ]
  },
  {
   "cell_type": "code",
   "execution_count": 8,
   "id": "2fa2b506",
   "metadata": {},
   "outputs": [
    {
     "data": {
      "text/plain": [
       "daegu       4.0\n",
       "daejeon     3.0\n",
       "incheon     2.0\n",
       "osaka       NaN\n",
       "pusan       1.0\n",
       "sendai      NaN\n",
       "seoul       0.0\n",
       "tokyo       NaN\n",
       "yamagata    NaN\n",
       "yonezawa    NaN\n",
       "Name: korea, dtype: float64"
      ]
     },
     "execution_count": 8,
     "metadata": {},
     "output_type": "execute_result"
    }
   ],
   "source": [
    "# korea 열이 인덱싱됨\n",
    "cities_asia['korea'] # cities_asia.korea와 동일"
   ]
  },
  {
   "cell_type": "code",
   "execution_count": 9,
   "id": "74052288",
   "metadata": {},
   "outputs": [
    {
     "data": {
      "text/plain": [
       "daegu       4.0\n",
       "daejeon     3.0\n",
       "incheon     2.0\n",
       "osaka       NaN\n",
       "pusan       1.0\n",
       "sendai      NaN\n",
       "seoul       0.0\n",
       "tokyo       NaN\n",
       "yamagata    NaN\n",
       "yonezawa    NaN\n",
       "Name: korea, dtype: float64"
      ]
     },
     "execution_count": 9,
     "metadata": {},
     "output_type": "execute_result"
    }
   ],
   "source": [
    "cities_asia.korea"
   ]
  },
  {
   "cell_type": "code",
   "execution_count": 10,
   "id": "700b2d50",
   "metadata": {},
   "outputs": [
    {
     "data": {
      "text/plain": [
       "korea    NaN\n",
       "japan    0.0\n",
       "Name: tokyo, dtype: float64"
      ]
     },
     "execution_count": 10,
     "metadata": {},
     "output_type": "execute_result"
    }
   ],
   "source": [
    "# tokyo 행에 인덱싱\n",
    "cities_asia.loc['tokyo']"
   ]
  },
  {
   "cell_type": "code",
   "execution_count": 11,
   "id": "f4178fa5",
   "metadata": {},
   "outputs": [
    {
     "data": {
      "text/plain": [
       "korea    NaN\n",
       "japan    0.0\n",
       "Name: tokyo, dtype: float64"
      ]
     },
     "execution_count": 11,
     "metadata": {},
     "output_type": "execute_result"
    }
   ],
   "source": [
    "# 8번째 행(tokyo)에 인덱싱\n",
    "cities_asia.iloc[7]"
   ]
  },
  {
   "cell_type": "code",
   "execution_count": 12,
   "id": "80c4d46c",
   "metadata": {},
   "outputs": [
    {
     "data": {
      "text/plain": [
       "4"
      ]
     },
     "execution_count": 12,
     "metadata": {},
     "output_type": "execute_result"
    }
   ],
   "source": [
    "series_kr.daegu #이와 같이 인덱스를 지정할 수 있음. series_kr['daegu’]와 동일함."
   ]
  },
  {
   "cell_type": "code",
   "execution_count": 13,
   "id": "f71b181f",
   "metadata": {},
   "outputs": [
    {
     "ename": "AttributeError",
     "evalue": "'Series' object has no attribute 'daegu'",
     "output_type": "error",
     "traceback": [
      "\u001b[1;31m---------------------------------------------------------------------------\u001b[0m",
      "\u001b[1;31mAttributeError\u001b[0m                            Traceback (most recent call last)",
      "Cell \u001b[1;32mIn[13], line 1\u001b[0m\n\u001b[1;32m----> 1\u001b[0m series_jp\u001b[39m.\u001b[39;49mdaegu\n",
      "File \u001b[1;32mc:\\Python310\\lib\\site-packages\\pandas\\core\\generic.py:5902\u001b[0m, in \u001b[0;36mNDFrame.__getattr__\u001b[1;34m(self, name)\u001b[0m\n\u001b[0;32m   5895\u001b[0m \u001b[39mif\u001b[39;00m (\n\u001b[0;32m   5896\u001b[0m     name \u001b[39mnot\u001b[39;00m \u001b[39min\u001b[39;00m \u001b[39mself\u001b[39m\u001b[39m.\u001b[39m_internal_names_set\n\u001b[0;32m   5897\u001b[0m     \u001b[39mand\u001b[39;00m name \u001b[39mnot\u001b[39;00m \u001b[39min\u001b[39;00m \u001b[39mself\u001b[39m\u001b[39m.\u001b[39m_metadata\n\u001b[0;32m   5898\u001b[0m     \u001b[39mand\u001b[39;00m name \u001b[39mnot\u001b[39;00m \u001b[39min\u001b[39;00m \u001b[39mself\u001b[39m\u001b[39m.\u001b[39m_accessors\n\u001b[0;32m   5899\u001b[0m     \u001b[39mand\u001b[39;00m \u001b[39mself\u001b[39m\u001b[39m.\u001b[39m_info_axis\u001b[39m.\u001b[39m_can_hold_identifiers_and_holds_name(name)\n\u001b[0;32m   5900\u001b[0m ):\n\u001b[0;32m   5901\u001b[0m     \u001b[39mreturn\u001b[39;00m \u001b[39mself\u001b[39m[name]\n\u001b[1;32m-> 5902\u001b[0m \u001b[39mreturn\u001b[39;00m \u001b[39mobject\u001b[39;49m\u001b[39m.\u001b[39;49m\u001b[39m__getattribute__\u001b[39;49m(\u001b[39mself\u001b[39;49m, name)\n",
      "\u001b[1;31mAttributeError\u001b[0m: 'Series' object has no attribute 'daegu'"
     ]
    }
   ],
   "source": [
    "series_jp.daegu"
   ]
  },
  {
   "cell_type": "code",
   "execution_count": 14,
   "id": "de6b85a0",
   "metadata": {},
   "outputs": [
    {
     "data": {
      "text/plain": [
       "Index(['daegu', 'daejeon', 'incheon', 'osaka', 'pusan', 'sendai', 'seoul',\n",
       "       'tokyo', 'yamagata', 'yonezawa'],\n",
       "      dtype='object')"
      ]
     },
     "execution_count": 14,
     "metadata": {},
     "output_type": "execute_result"
    }
   ],
   "source": [
    "cities_asia.index"
   ]
  },
  {
   "cell_type": "code",
   "execution_count": 15,
   "id": "e1240a69",
   "metadata": {},
   "outputs": [
    {
     "data": {
      "text/plain": [
       "Index(['korea', 'japan'], dtype='object')"
      ]
     },
     "execution_count": 15,
     "metadata": {},
     "output_type": "execute_result"
    }
   ],
   "source": [
    "cities_asia.columns"
   ]
  },
  {
   "cell_type": "code",
   "execution_count": 16,
   "id": "ff48f1e0",
   "metadata": {},
   "outputs": [
    {
     "data": {
      "text/plain": [
       "array([[ 4., nan],\n",
       "       [ 3., nan],\n",
       "       [ 2., nan],\n",
       "       [nan,  2.],\n",
       "       [ 1., nan],\n",
       "       [nan,  4.],\n",
       "       [ 0., nan],\n",
       "       [nan,  0.],\n",
       "       [nan,  6.],\n",
       "       [nan,  8.]])"
      ]
     },
     "execution_count": 16,
     "metadata": {},
     "output_type": "execute_result"
    }
   ],
   "source": [
    "cities_asia.values"
   ]
  },
  {
   "cell_type": "code",
   "execution_count": 17,
   "id": "f85a5fbd",
   "metadata": {},
   "outputs": [
    {
     "data": {
      "text/plain": [
       "array([ 3., nan])"
      ]
     },
     "execution_count": 17,
     "metadata": {},
     "output_type": "execute_result"
    }
   ],
   "source": [
    "# 두 번째 행의 값 접근\n",
    "cities_asia.values[1]\n"
   ]
  },
  {
   "attachments": {},
   "cell_type": "markdown",
   "id": "32334f09",
   "metadata": {},
   "source": [
    "## 6.3.1. T(전치)"
   ]
  },
  {
   "cell_type": "code",
   "execution_count": 18,
   "id": "027fd074",
   "metadata": {},
   "outputs": [
    {
     "data": {
      "text/plain": [
       "       daegu  daejeon  incheon  osaka  pusan  sendai  seoul  tokyo  yamagata  \\\n",
       "korea    4.0      3.0      2.0    NaN    1.0     NaN    0.0    NaN       NaN   \n",
       "japan    NaN      NaN      NaN    2.0    NaN     4.0    NaN    0.0       6.0   \n",
       "\n",
       "       yonezawa  \n",
       "korea       NaN  \n",
       "japan       8.0  "
      ]
     },
     "execution_count": 18,
     "metadata": {},
     "output_type": "execute_result"
    }
   ],
   "source": [
    "#전치\n",
    "cities_asia.T"
   ]
  },
  {
   "attachments": {},
   "cell_type": "markdown",
   "id": "71c28308",
   "metadata": {},
   "source": [
    "## 6.3.2. 슬라이싱"
   ]
  },
  {
   "cell_type": "code",
   "execution_count": 19,
   "id": "d6cf4c33",
   "metadata": {},
   "outputs": [
    {
     "data": {
      "text/plain": [
       "         korea  japan\n",
       "daegu      4.0    NaN\n",
       "daejeon    3.0    NaN\n",
       "incheon    2.0    NaN"
      ]
     },
     "execution_count": 19,
     "metadata": {},
     "output_type": "execute_result"
    }
   ],
   "source": [
    "# 슬라이싱, 세 번째 행까지, 두 번째열까지\n",
    "cities_asia.iloc[:3, :2]"
   ]
  },
  {
   "cell_type": "code",
   "execution_count": 20,
   "id": "967b4b19",
   "metadata": {},
   "outputs": [],
   "source": [
    "# iloc으로 세 번째 행, 첫 번째 열 값 변경\n",
    "cities_asia.iloc[2,0] = 12"
   ]
  },
  {
   "cell_type": "code",
   "execution_count": 21,
   "id": "3f73bf8c",
   "metadata": {},
   "outputs": [
    {
     "data": {
      "text/plain": [
       "         korea  japan\n",
       "daegu      4.0    NaN\n",
       "daejeon    3.0    NaN\n",
       "incheon   12.0    NaN"
      ]
     },
     "execution_count": 21,
     "metadata": {},
     "output_type": "execute_result"
    }
   ],
   "source": [
    "# 세 번째 행까지, 모든 열 선택, 변경된 값(12) 확인됨\n",
    "cities_asia.iloc[:3, :]"
   ]
  },
  {
   "cell_type": "code",
   "execution_count": 23,
   "id": "16a87cec",
   "metadata": {},
   "outputs": [
    {
     "data": {
      "text/plain": [
       "         korea  japan\n",
       "daegu      4.0    NaN\n",
       "daejeon    3.0    NaN\n",
       "incheon   12.0    NaN"
      ]
     },
     "execution_count": 23,
     "metadata": {},
     "output_type": "execute_result"
    }
   ],
   "source": [
    "# cities_asia.iloc[:3, :] 와 동일함\n",
    "cities_asia.iloc[:3]"
   ]
  },
  {
   "cell_type": "code",
   "execution_count": 24,
   "id": "30148e85",
   "metadata": {},
   "outputs": [
    {
     "data": {
      "text/plain": [
       "          korea  japan\n",
       "daegu       4.0    NaN\n",
       "incheon    12.0    NaN\n",
       "pusan       1.0    NaN\n",
       "seoul       0.0    NaN\n",
       "yamagata    NaN    6.0"
      ]
     },
     "execution_count": 24,
     "metadata": {},
     "output_type": "execute_result"
    }
   ],
   "source": [
    "cities_asia.iloc[::2]"
   ]
  },
  {
   "cell_type": "code",
   "execution_count": 25,
   "id": "e7dcd52d",
   "metadata": {},
   "outputs": [
    {
     "data": {
      "text/plain": [
       "          korea  japan\n",
       "yonezawa    NaN    8.0\n",
       "tokyo       NaN    0.0\n",
       "sendai      NaN    4.0\n",
       "osaka       NaN    2.0\n",
       "daejeon     3.0    NaN"
      ]
     },
     "execution_count": 25,
     "metadata": {},
     "output_type": "execute_result"
    }
   ],
   "source": [
    "cities_asia.iloc[::-2]"
   ]
  },
  {
   "cell_type": "code",
   "execution_count": 26,
   "id": "3975221b",
   "metadata": {},
   "outputs": [
    {
     "data": {
      "text/plain": [
       "          korea  japan\n",
       "tokyo       NaN    0.0\n",
       "yamagata    NaN    6.0\n",
       "yonezawa    NaN    8.0"
      ]
     },
     "execution_count": 26,
     "metadata": {},
     "output_type": "execute_result"
    }
   ],
   "source": [
    "# start가 마지막 요소로부터 3번째\n",
    "cities_asia.iloc[-3:]"
   ]
  },
  {
   "cell_type": "code",
   "execution_count": 27,
   "id": "c110a55c",
   "metadata": {},
   "outputs": [
    {
     "data": {
      "text/plain": [
       "         korea  japan\n",
       "daegu      4.0    NaN\n",
       "daejeon    3.0    NaN\n",
       "incheon   12.0    NaN\n",
       "osaka      NaN    2.0\n",
       "pusan      1.0    NaN\n",
       "sendai     NaN    4.0\n",
       "seoul      0.0    NaN"
      ]
     },
     "execution_count": 27,
     "metadata": {},
     "output_type": "execute_result"
    }
   ],
   "source": [
    "# end가 마지막 요소로부터 3번째\n",
    "cities_asia[:-3]\n"
   ]
  },
  {
   "attachments": {},
   "cell_type": "markdown",
   "id": "a8665e24",
   "metadata": {},
   "source": [
    "## 6.3.3. 슬라이싱으로 역순 정렬하기"
   ]
  },
  {
   "cell_type": "code",
   "execution_count": 28,
   "id": "78c61969",
   "metadata": {},
   "outputs": [
    {
     "data": {
      "text/plain": [
       "          korea  japan\n",
       "yonezawa    NaN    8.0\n",
       "yamagata    NaN    6.0\n",
       "tokyo       NaN    0.0\n",
       "seoul       0.0    NaN\n",
       "sendai      NaN    4.0\n",
       "pusan       1.0    NaN\n",
       "osaka       NaN    2.0\n",
       "incheon    12.0    NaN\n",
       "daejeon     3.0    NaN\n",
       "daegu       4.0    NaN"
      ]
     },
     "execution_count": 28,
     "metadata": {},
     "output_type": "execute_result"
    }
   ],
   "source": [
    "cities_asia[::-1]"
   ]
  },
  {
   "attachments": {},
   "cell_type": "markdown",
   "id": "63f55666",
   "metadata": {},
   "source": [
    "## 6.3.4. 마스킹"
   ]
  },
  {
   "cell_type": "code",
   "execution_count": 29,
   "id": "2825b14e",
   "metadata": {},
   "outputs": [
    {
     "data": {
      "text/plain": [
       "         korea  japan\n",
       "incheon   12.0    NaN"
      ]
     },
     "execution_count": 29,
     "metadata": {},
     "output_type": "execute_result"
    }
   ],
   "source": [
    "# korea 열 가운데 값이 10을 초과한 열 찾기\n",
    "cities_asia[cities_asia.korea > 10]"
   ]
  },
  {
   "cell_type": "code",
   "execution_count": null,
   "id": "72d3fbc6",
   "metadata": {},
   "outputs": [
    {
     "data": {
      "text/plain": [
       "Index(['daegu', 'daejeon', 'incheon', 'osaka', 'pusan', 'sendai', 'seoul',\n",
       "       'tokyo', 'yamagata', 'yonezawa'],\n",
       "      dtype='object')"
      ]
     },
     "execution_count": 28,
     "metadata": {},
     "output_type": "execute_result"
    }
   ],
   "source": [
    "cities_asia.index"
   ]
  },
  {
   "cell_type": "code",
   "execution_count": null,
   "id": "d216f51b",
   "metadata": {},
   "outputs": [],
   "source": []
  },
  {
   "cell_type": "code",
   "execution_count": null,
   "id": "73376c21",
   "metadata": {},
   "outputs": [
    {
     "data": {
      "text/plain": [
       "Index(['korea', 'japan'], dtype='object')"
      ]
     },
     "execution_count": 29,
     "metadata": {},
     "output_type": "execute_result"
    }
   ],
   "source": [
    "cities_asia.columns"
   ]
  },
  {
   "cell_type": "code",
   "execution_count": null,
   "id": "0ebc6353",
   "metadata": {
    "scrolled": true
   },
   "outputs": [
    {
     "data": {
      "text/plain": [
       "array([[ 4., nan],\n",
       "       [ 3., nan],\n",
       "       [12., nan],\n",
       "       [nan,  2.],\n",
       "       [ 1., nan],\n",
       "       [nan,  4.],\n",
       "       [ 0., nan],\n",
       "       [nan,  0.],\n",
       "       [nan,  6.],\n",
       "       [nan,  8.]])"
      ]
     },
     "execution_count": 30,
     "metadata": {},
     "output_type": "execute_result"
    }
   ],
   "source": [
    "cities_asia.values"
   ]
  },
  {
   "cell_type": "code",
   "execution_count": null,
   "id": "0dab604c",
   "metadata": {},
   "outputs": [
    {
     "data": {
      "text/plain": [
       "array([ 3., nan])"
      ]
     },
     "execution_count": 31,
     "metadata": {},
     "output_type": "execute_result"
    }
   ],
   "source": [
    "cities_asia.values[1]"
   ]
  },
  {
   "cell_type": "code",
   "execution_count": null,
   "id": "15c3dd20",
   "metadata": {
    "scrolled": true
   },
   "outputs": [
    {
     "data": {
      "text/plain": [
       "daegu        4.0\n",
       "daejeon      3.0\n",
       "incheon     12.0\n",
       "osaka        NaN\n",
       "pusan        1.0\n",
       "sendai       NaN\n",
       "seoul        0.0\n",
       "tokyo        NaN\n",
       "yamagata     NaN\n",
       "yonezawa     NaN\n",
       "Name: korea, dtype: float64"
      ]
     },
     "execution_count": 32,
     "metadata": {},
     "output_type": "execute_result"
    }
   ],
   "source": [
    "cities_asia['korea']"
   ]
  },
  {
   "cell_type": "code",
   "execution_count": null,
   "id": "68c35957",
   "metadata": {
    "scrolled": true
   },
   "outputs": [
    {
     "data": {
      "text/plain": [
       "daegu       NaN\n",
       "daejeon     NaN\n",
       "incheon     NaN\n",
       "osaka       2.0\n",
       "pusan       NaN\n",
       "sendai      4.0\n",
       "seoul       NaN\n",
       "tokyo       0.0\n",
       "yamagata    6.0\n",
       "yonezawa    8.0\n",
       "Name: japan, dtype: float64"
      ]
     },
     "execution_count": 33,
     "metadata": {},
     "output_type": "execute_result"
    }
   ],
   "source": [
    "cities_asia['japan']"
   ]
  },
  {
   "cell_type": "code",
   "execution_count": null,
   "id": "9a2c04cb",
   "metadata": {},
   "outputs": [
    {
     "data": {
      "text/html": [
       "<div>\n",
       "<style scoped>\n",
       "    .dataframe tbody tr th:only-of-type {\n",
       "        vertical-align: middle;\n",
       "    }\n",
       "\n",
       "    .dataframe tbody tr th {\n",
       "        vertical-align: top;\n",
       "    }\n",
       "\n",
       "    .dataframe thead th {\n",
       "        text-align: right;\n",
       "    }\n",
       "</style>\n",
       "<table border=\"1\" class=\"dataframe\">\n",
       "  <thead>\n",
       "    <tr style=\"text-align: right;\">\n",
       "      <th></th>\n",
       "      <th>daegu</th>\n",
       "      <th>daejeon</th>\n",
       "      <th>incheon</th>\n",
       "      <th>osaka</th>\n",
       "      <th>pusan</th>\n",
       "      <th>sendai</th>\n",
       "      <th>seoul</th>\n",
       "      <th>tokyo</th>\n",
       "      <th>yamagata</th>\n",
       "      <th>yonezawa</th>\n",
       "    </tr>\n",
       "  </thead>\n",
       "  <tbody>\n",
       "    <tr>\n",
       "      <th>korea</th>\n",
       "      <td>4.0</td>\n",
       "      <td>3.0</td>\n",
       "      <td>12.0</td>\n",
       "      <td>NaN</td>\n",
       "      <td>1.0</td>\n",
       "      <td>NaN</td>\n",
       "      <td>0.0</td>\n",
       "      <td>NaN</td>\n",
       "      <td>NaN</td>\n",
       "      <td>NaN</td>\n",
       "    </tr>\n",
       "    <tr>\n",
       "      <th>japan</th>\n",
       "      <td>NaN</td>\n",
       "      <td>NaN</td>\n",
       "      <td>NaN</td>\n",
       "      <td>2.0</td>\n",
       "      <td>NaN</td>\n",
       "      <td>4.0</td>\n",
       "      <td>NaN</td>\n",
       "      <td>0.0</td>\n",
       "      <td>6.0</td>\n",
       "      <td>8.0</td>\n",
       "    </tr>\n",
       "  </tbody>\n",
       "</table>\n",
       "</div>"
      ],
      "text/plain": [
       "       daegu  daejeon  incheon  osaka  pusan  sendai  seoul  tokyo  yamagata  \\\n",
       "korea    4.0      3.0     12.0    NaN    1.0     NaN    0.0    NaN       NaN   \n",
       "japan    NaN      NaN      NaN    2.0    NaN     4.0    NaN    0.0       6.0   \n",
       "\n",
       "       yonezawa  \n",
       "korea       NaN  \n",
       "japan       8.0  "
      ]
     },
     "execution_count": 34,
     "metadata": {},
     "output_type": "execute_result"
    }
   ],
   "source": [
    "#전치\n",
    "cities_asia.T"
   ]
  },
  {
   "cell_type": "code",
   "execution_count": null,
   "id": "c5c80a5c",
   "metadata": {},
   "outputs": [],
   "source": []
  },
  {
   "cell_type": "code",
   "execution_count": null,
   "id": "e9a5c67b",
   "metadata": {},
   "outputs": [
    {
     "data": {
      "text/html": [
       "<div>\n",
       "<style scoped>\n",
       "    .dataframe tbody tr th:only-of-type {\n",
       "        vertical-align: middle;\n",
       "    }\n",
       "\n",
       "    .dataframe tbody tr th {\n",
       "        vertical-align: top;\n",
       "    }\n",
       "\n",
       "    .dataframe thead th {\n",
       "        text-align: right;\n",
       "    }\n",
       "</style>\n",
       "<table border=\"1\" class=\"dataframe\">\n",
       "  <thead>\n",
       "    <tr style=\"text-align: right;\">\n",
       "      <th></th>\n",
       "      <th>korea</th>\n",
       "      <th>japan</th>\n",
       "    </tr>\n",
       "  </thead>\n",
       "  <tbody>\n",
       "    <tr>\n",
       "      <th>daegu</th>\n",
       "      <td>4.0</td>\n",
       "      <td>NaN</td>\n",
       "    </tr>\n",
       "    <tr>\n",
       "      <th>daejeon</th>\n",
       "      <td>3.0</td>\n",
       "      <td>NaN</td>\n",
       "    </tr>\n",
       "    <tr>\n",
       "      <th>incheon</th>\n",
       "      <td>12.0</td>\n",
       "      <td>NaN</td>\n",
       "    </tr>\n",
       "  </tbody>\n",
       "</table>\n",
       "</div>"
      ],
      "text/plain": [
       "         korea  japan\n",
       "daegu      4.0    NaN\n",
       "daejeon    3.0    NaN\n",
       "incheon   12.0    NaN"
      ]
     },
     "execution_count": 45,
     "metadata": {},
     "output_type": "execute_result"
    }
   ],
   "source": [
    "cities_asia.iloc[:3, :2]"
   ]
  },
  {
   "cell_type": "code",
   "execution_count": null,
   "id": "7737211a",
   "metadata": {},
   "outputs": [
    {
     "data": {
      "text/html": [
       "<div>\n",
       "<style scoped>\n",
       "    .dataframe tbody tr th:only-of-type {\n",
       "        vertical-align: middle;\n",
       "    }\n",
       "\n",
       "    .dataframe tbody tr th {\n",
       "        vertical-align: top;\n",
       "    }\n",
       "\n",
       "    .dataframe thead th {\n",
       "        text-align: right;\n",
       "    }\n",
       "</style>\n",
       "<table border=\"1\" class=\"dataframe\">\n",
       "  <thead>\n",
       "    <tr style=\"text-align: right;\">\n",
       "      <th></th>\n",
       "      <th>korea</th>\n",
       "      <th>japan</th>\n",
       "    </tr>\n",
       "  </thead>\n",
       "  <tbody>\n",
       "    <tr>\n",
       "      <th>incheon</th>\n",
       "      <td>12.0</td>\n",
       "      <td>NaN</td>\n",
       "    </tr>\n",
       "  </tbody>\n",
       "</table>\n",
       "</div>"
      ],
      "text/plain": [
       "         korea  japan\n",
       "incheon   12.0    NaN"
      ]
     },
     "execution_count": 46,
     "metadata": {},
     "output_type": "execute_result"
    }
   ],
   "source": [
    "#마스킹\n",
    "cities_asia[cities_asia.korea > 10]"
   ]
  }
 ],
 "metadata": {
  "kernelspec": {
   "display_name": "Python 3",
   "language": "python",
   "name": "python3"
  },
  "language_info": {
   "codemirror_mode": {
    "name": "ipython",
    "version": 3
   },
   "file_extension": ".py",
   "mimetype": "text/x-python",
   "name": "python",
   "nbconvert_exporter": "python",
   "pygments_lexer": "ipython3",
   "version": "3.10.4"
  },
  "vscode": {
   "interpreter": {
    "hash": "369f2c481f4da34e4445cda3fffd2e751bd1c4d706f27375911949ba6bb62e1c"
   }
  }
 },
 "nbformat": 4,
 "nbformat_minor": 5
}
