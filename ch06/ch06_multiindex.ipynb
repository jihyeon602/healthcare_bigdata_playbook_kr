{
 "cells": [
  {
   "cell_type": "markdown",
   "metadata": {},
   "source": [
    "# 기본 RangeIndex로 데이터프레임만들어보기"
   ]
  },
  {
   "cell_type": "code",
   "execution_count": 82,
   "metadata": {},
   "outputs": [
    {
     "data": {
      "text/plain": [
       "           20230102  20230103  20230104\n",
       "FirstName                              \n",
       "Adams            80        90        95\n",
       "Moses            70        75        72\n",
       "Miriam           75        82        89"
      ]
     },
     "execution_count": 82,
     "metadata": {},
     "output_type": "execute_result"
    }
   ],
   "source": [
    "import pandas as pd\n",
    "import numpy as np\n",
    "\n",
    "pd.set_option('display.notebook_repr_html', False)\n",
    "\n",
    "activities_val = {'20230102': [80, 70, 75], '20230103': [90,75,82], '20230104':[95, 72, 89]}\n",
    "df = pd.DataFrame(data=activities_val, index=['Adams', 'Moses', 'Miriam'])\n",
    "df.index.names = ['FirstName']\n",
    "df"
   ]
  },
  {
   "cell_type": "code",
   "execution_count": 83,
   "metadata": {},
   "outputs": [
    {
     "name": "stdout",
     "output_type": "stream",
     "text": [
      "<class 'pandas.core.frame.DataFrame'>\n",
      "Index: 3 entries, Adams to Miriam\n",
      "Data columns (total 3 columns):\n",
      " #   Column    Non-Null Count  Dtype\n",
      "---  ------    --------------  -----\n",
      " 0   20230102  3 non-null      int64\n",
      " 1   20230103  3 non-null      int64\n",
      " 2   20230104  3 non-null      int64\n",
      "dtypes: int64(3)\n",
      "memory usage: 96.0+ bytes\n"
     ]
    }
   ],
   "source": [
    "df.info()"
   ]
  },
  {
   "cell_type": "code",
   "execution_count": 84,
   "metadata": {},
   "outputs": [
    {
     "data": {
      "text/plain": [
       "Index(['Adams', 'Moses', 'Miriam'], dtype='object', name='FirstName')"
      ]
     },
     "execution_count": 84,
     "metadata": {},
     "output_type": "execute_result"
    }
   ],
   "source": [
    "df.index"
   ]
  },
  {
   "cell_type": "code",
   "execution_count": 85,
   "metadata": {},
   "outputs": [
    {
     "data": {
      "text/plain": [
       "Index(['Adams', 'Moses', 'Miriam'], dtype='object', name='FirstName')"
      ]
     },
     "execution_count": 85,
     "metadata": {},
     "output_type": "execute_result"
    }
   ],
   "source": [
    "df.index"
   ]
  },
  {
   "cell_type": "code",
   "execution_count": 86,
   "metadata": {},
   "outputs": [
    {
     "data": {
      "text/plain": [
       "FirstName\n",
       "Adams     88.333333\n",
       "Moses     72.333333\n",
       "Miriam    82.000000\n",
       "dtype: float64"
      ]
     },
     "execution_count": 86,
     "metadata": {},
     "output_type": "execute_result"
    }
   ],
   "source": [
    "df.mean(axis=1)"
   ]
  },
  {
   "cell_type": "code",
   "execution_count": 87,
   "metadata": {},
   "outputs": [
    {
     "name": "stderr",
     "output_type": "stream",
     "text": [
      "C:\\Users\\sunin\\AppData\\Local\\Temp\\ipykernel_29816\\3919824892.py:2: FutureWarning: Using the level keyword in DataFrame and Series aggregations is deprecated and will be removed in a future version. Use groupby instead. df.median(level=1) should use df.groupby(level=1).median().\n",
      "  df.min(level=\"FirstName\")\n"
     ]
    },
    {
     "data": {
      "text/plain": [
       "           20230102  20230103  20230104\n",
       "FirstName                              \n",
       "Adams            80        90        95\n",
       "Moses            70        75        72\n",
       "Miriam           75        82        89"
      ]
     },
     "execution_count": 87,
     "metadata": {},
     "output_type": "execute_result"
    }
   ],
   "source": [
    "# MultiIndex가 아니기에 level 옵션이 적용되지 않음\n",
    "df.min(level=\"FirstName\")"
   ]
  },
  {
   "cell_type": "code",
   "execution_count": null,
   "metadata": {},
   "outputs": [],
   "source": []
  },
  {
   "cell_type": "code",
   "execution_count": 88,
   "metadata": {},
   "outputs": [
    {
     "data": {
      "text/plain": [
       "20230102    80\n",
       "20230103    90\n",
       "20230104    95\n",
       "Name: Adams, dtype: int64"
      ]
     },
     "execution_count": 88,
     "metadata": {},
     "output_type": "execute_result"
    }
   ],
   "source": [
    "# 환자 Adams 모든 데이터\n",
    "df.loc['Adams']"
   ]
  },
  {
   "cell_type": "code",
   "execution_count": 89,
   "metadata": {},
   "outputs": [
    {
     "data": {
      "text/plain": [
       "90"
      ]
     },
     "execution_count": 89,
     "metadata": {},
     "output_type": "execute_result"
    }
   ],
   "source": [
    "# 환자 Adams의 20230103일자 데이터만\n",
    "df.loc['Adams']['20230103']"
   ]
  },
  {
   "cell_type": "code",
   "execution_count": 90,
   "metadata": {},
   "outputs": [
    {
     "data": {
      "text/plain": [
       "FirstName\n",
       "Adams     90\n",
       "Moses     75\n",
       "Miriam    82\n",
       "Name: 20230103, dtype: int64"
      ]
     },
     "execution_count": 90,
     "metadata": {},
     "output_type": "execute_result"
    }
   ],
   "source": [
    "# 모든 환자의 20230103일자 데이터만\n",
    "df.loc[:, '20230103']"
   ]
  },
  {
   "cell_type": "code",
   "execution_count": 91,
   "metadata": {},
   "outputs": [
    {
     "data": {
      "text/plain": [
       "           20230102  20230103  20230104\n",
       "FirstName                              \n",
       "Adams            80        90        95\n",
       "Moses            70        75        72"
      ]
     },
     "execution_count": 91,
     "metadata": {},
     "output_type": "execute_result"
    }
   ],
   "source": [
    "df.loc['Adams':\"Moses\"]"
   ]
  },
  {
   "cell_type": "code",
   "execution_count": null,
   "metadata": {},
   "outputs": [],
   "source": []
  },
  {
   "attachments": {},
   "cell_type": "markdown",
   "metadata": {},
   "source": [
    "## 싱글 인덱스 만들기"
   ]
  },
  {
   "cell_type": "code",
   "execution_count": 92,
   "metadata": {},
   "outputs": [
    {
     "data": {
      "text/plain": [
       "(Adams, 20230102)     80\n",
       "(Adams, 20230103)     90\n",
       "(Adams, 20230104)     95\n",
       "(Moses, 20230102)     70\n",
       "(Moses, 20230103)     75\n",
       "(Moses, 20230104)     72\n",
       "(Miriam, 20230102)    65\n",
       "(Miriam, 20230103)    82\n",
       "(Miriam, 2023010)     89\n",
       "dtype: int64"
      ]
     },
     "execution_count": 92,
     "metadata": {},
     "output_type": "execute_result"
    }
   ],
   "source": [
    "\n",
    "import pandas as pd\n",
    "\n",
    "\n",
    "# single_index = [('Japan', 'Tokyo'), ('Japan', 'Osaka'), ('Japan', 'Yokohama'),\n",
    "#                 ('Korea', 'Seoul '), ('Korea', 'Busan'), ('Korea', 'Incheon ')]\n",
    "\n",
    "# people_cnt = [14_000_000, 19_000_000, 3_700_000, \n",
    "#               9_700_000, 3_400_000, 3_000_000]\n",
    "\n",
    "\n",
    "\n",
    "#병동 호실\n",
    "#환자명\n",
    "#일자\n",
    "#활동지수\n",
    "\n",
    "tuple_index = \\\n",
    "  [('Adams', '20230102'), ('Adams', '20230103'), ('Adams', '20230104'),\n",
    "  ('Moses', '20230102'),('Moses', '20230103'),('Moses', '20230104'),\n",
    "  ('Miriam', '20230102'),('Miriam', '20230103'),('Miriam', '2023010')\n",
    "  ]\n",
    "\n",
    "activities = [80, 90, 95,\n",
    "  70,75, 72,\n",
    "  65, 82, 89 ]\n",
    "\n",
    "act_score = pd.Series(activities, index=tuple_index)\n",
    "act_score"
   ]
  },
  {
   "cell_type": "code",
   "execution_count": 93,
   "metadata": {},
   "outputs": [
    {
     "data": {
      "text/plain": [
       "80"
      ]
     },
     "execution_count": 93,
     "metadata": {},
     "output_type": "execute_result"
    }
   ],
   "source": [
    "act_score[('Adams','20230102')]"
   ]
  },
  {
   "cell_type": "code",
   "execution_count": 94,
   "metadata": {},
   "outputs": [],
   "source": [
    "##### act_score.loc['Adams']"
   ]
  },
  {
   "cell_type": "code",
   "execution_count": 95,
   "metadata": {},
   "outputs": [
    {
     "data": {
      "text/plain": [
       "(Adams, 20230102)    80\n",
       "(Adams, 20230103)    90\n",
       "(Adams, 20230104)    95\n",
       "dtype: int64"
      ]
     },
     "execution_count": 95,
     "metadata": {},
     "output_type": "execute_result"
    }
   ],
   "source": [
    "act_score[('Adams','20230102'):('Adams','20230104')]"
   ]
  },
  {
   "cell_type": "code",
   "execution_count": 96,
   "metadata": {},
   "outputs": [],
   "source": [
    "# 슬라이싱 조회 실패\n",
    "#### act_score[('Adams',':')]"
   ]
  },
  {
   "cell_type": "code",
   "execution_count": 97,
   "metadata": {},
   "outputs": [
    {
     "data": {
      "text/plain": [
       "Index([ ('Adams', '20230102'),  ('Adams', '20230103'),  ('Adams', '20230104'),\n",
       "        ('Moses', '20230102'),  ('Moses', '20230103'),  ('Moses', '20230104'),\n",
       "       ('Miriam', '20230102'), ('Miriam', '20230103'),  ('Miriam', '2023010')],\n",
       "      dtype='object')"
      ]
     },
     "execution_count": 97,
     "metadata": {},
     "output_type": "execute_result"
    }
   ],
   "source": [
    "act_score.index"
   ]
  },
  {
   "attachments": {},
   "cell_type": "markdown",
   "metadata": {},
   "source": [
    "## MultiIndex 만들기"
   ]
  },
  {
   "cell_type": "code",
   "execution_count": 98,
   "metadata": {},
   "outputs": [
    {
     "data": {
      "text/plain": [
       "MultiIndex([( 'Adams', '20230102'),\n",
       "            ( 'Adams', '20230103'),\n",
       "            ( 'Adams', '20230104'),\n",
       "            ( 'Moses', '20230102'),\n",
       "            ( 'Moses', '20230103'),\n",
       "            ( 'Moses', '20230104'),\n",
       "            ('Miriam', '20230102'),\n",
       "            ('Miriam', '20230103'),\n",
       "            ('Miriam',  '2023010')],\n",
       "           )"
      ]
     },
     "execution_count": 98,
     "metadata": {},
     "output_type": "execute_result"
    }
   ],
   "source": [
    "multi_index = pd.MultiIndex.from_tuples(tuple_index)\n",
    "multi_index"
   ]
  },
  {
   "cell_type": "code",
   "execution_count": 99,
   "metadata": {},
   "outputs": [
    {
     "data": {
      "text/plain": [
       "Adams   20230102    80\n",
       "        20230103    90\n",
       "        20230104    95\n",
       "Moses   20230102    70\n",
       "        20230103    75\n",
       "        20230104    72\n",
       "Miriam  20230102    65\n",
       "        20230103    82\n",
       "        2023010     89\n",
       "dtype: int64"
      ]
     },
     "execution_count": 99,
     "metadata": {},
     "output_type": "execute_result"
    }
   ],
   "source": [
    "# 다시 시리즈 데이터를 만들어보자\n",
    "multi_act_score = pd.Series(activities, index=multi_index)\n",
    "multi_act_score"
   ]
  },
  {
   "cell_type": "code",
   "execution_count": 100,
   "metadata": {},
   "outputs": [
    {
     "data": {
      "text/plain": [
       "20230102    80\n",
       "20230103    90\n",
       "20230104    95\n",
       "dtype: int64"
      ]
     },
     "execution_count": 100,
     "metadata": {},
     "output_type": "execute_result"
    }
   ],
   "source": [
    "# 인덱싱 조회\n",
    "multi_act_score['Adams']"
   ]
  },
  {
   "cell_type": "code",
   "execution_count": 101,
   "metadata": {},
   "outputs": [
    {
     "data": {
      "text/plain": [
       "80"
      ]
     },
     "execution_count": 101,
     "metadata": {},
     "output_type": "execute_result"
    }
   ],
   "source": [
    "# 하위 인덱싱\n",
    "multi_act_score['Adams']['20230102']"
   ]
  },
  {
   "cell_type": "code",
   "execution_count": 102,
   "metadata": {},
   "outputs": [
    {
     "data": {
      "text/plain": [
       "Adams     90\n",
       "Moses     75\n",
       "Miriam    82\n",
       "dtype: int64"
      ]
     },
     "execution_count": 102,
     "metadata": {},
     "output_type": "execute_result"
    }
   ],
   "source": [
    "# 슬라이싱\n",
    "multi_act_score[:, '20230103']"
   ]
  },
  {
   "cell_type": "code",
   "execution_count": 103,
   "metadata": {},
   "outputs": [
    {
     "data": {
      "text/plain": [
       "Adams   20230102    80\n",
       "        20230103    90\n",
       "        20230104    95\n",
       "Miriam  20230102    65\n",
       "        20230103    82\n",
       "        2023010     89\n",
       "dtype: int64"
      ]
     },
     "execution_count": 103,
     "metadata": {},
     "output_type": "execute_result"
    }
   ],
   "source": [
    "# fancy indexing\n",
    "multi_act_score[['Adams','Miriam']]"
   ]
  },
  {
   "cell_type": "code",
   "execution_count": 104,
   "metadata": {},
   "outputs": [
    {
     "data": {
      "text/plain": [
       "MultiIndex([( 'Adams', '20230102'),\n",
       "            ( 'Adams', '20230103'),\n",
       "            ( 'Adams', '20230104'),\n",
       "            ( 'Moses', '20230102'),\n",
       "            ( 'Moses', '20230103'),\n",
       "            ( 'Moses', '20230104'),\n",
       "            ('Miriam', '20230102'),\n",
       "            ('Miriam', '20230103'),\n",
       "            ('Miriam',  '2023010')],\n",
       "           names=['FirstName', 'Date'])"
      ]
     },
     "execution_count": 104,
     "metadata": {},
     "output_type": "execute_result"
    }
   ],
   "source": [
    "# 인덱스에 이름 부여\n",
    "multi_index.names = ['FirstName','Date']\n",
    "multi_index"
   ]
  },
  {
   "cell_type": "code",
   "execution_count": 105,
   "metadata": {},
   "outputs": [
    {
     "data": {
      "text/plain": [
       "FirstName  Date    \n",
       "Adams      20230102    80\n",
       "           20230103    90\n",
       "           20230104    95\n",
       "Moses      20230102    70\n",
       "           20230103    75\n",
       "           20230104    72\n",
       "Miriam     20230102    65\n",
       "           20230103    82\n",
       "           2023010     89\n",
       "dtype: int64"
      ]
     },
     "execution_count": 105,
     "metadata": {},
     "output_type": "execute_result"
    }
   ],
   "source": [
    "multi_act_score"
   ]
  },
  {
   "cell_type": "code",
   "execution_count": 106,
   "metadata": {},
   "outputs": [
    {
     "data": {
      "text/plain": [
       "FirstName  Date    \n",
       "Adams      20230102    80\n",
       "           20230103    90\n",
       "           20230104    95\n",
       "Miriam     2023010     89\n",
       "           20230102    65\n",
       "           20230103    82\n",
       "Moses      20230102    70\n",
       "           20230103    75\n",
       "           20230104    72\n",
       "dtype: int64"
      ]
     },
     "execution_count": 106,
     "metadata": {},
     "output_type": "execute_result"
    }
   ],
   "source": [
    "multi_act_score.sort_index()"
   ]
  },
  {
   "cell_type": "code",
   "execution_count": 107,
   "metadata": {},
   "outputs": [
    {
     "data": {
      "text/plain": [
       "FirstName  Date    \n",
       "Adams      20230103    90\n",
       "           20230104    95\n",
       "Miriam     2023010     89\n",
       "dtype: int64"
      ]
     },
     "execution_count": 107,
     "metadata": {},
     "output_type": "execute_result"
    }
   ],
   "source": [
    "#부울 마스크\n",
    "multi_act_score[ multi_act_score > 85 ]"
   ]
  },
  {
   "cell_type": "code",
   "execution_count": 108,
   "metadata": {},
   "outputs": [
    {
     "data": {
      "text/plain": [
       "FirstName  Date    \n",
       "Adams      20230102    80\n",
       "           20230103    90\n",
       "           20230104    95\n",
       "Moses      20230102    70\n",
       "dtype: int64"
      ]
     },
     "execution_count": 108,
     "metadata": {},
     "output_type": "execute_result"
    }
   ],
   "source": [
    "multi_act_score.iloc[:4]"
   ]
  },
  {
   "cell_type": "code",
   "execution_count": null,
   "metadata": {},
   "outputs": [],
   "source": []
  },
  {
   "cell_type": "code",
   "execution_count": null,
   "metadata": {},
   "outputs": [],
   "source": []
  },
  {
   "attachments": {},
   "cell_type": "markdown",
   "metadata": {},
   "source": [
    "## Multiindex, DataFrame 만들기"
   ]
  },
  {
   "cell_type": "code",
   "execution_count": 149,
   "metadata": {},
   "outputs": [
    {
     "data": {
      "text/plain": [
       "                     0\n",
       "FirstName Date        \n",
       "Adams     20230102  80\n",
       "          20230103  90\n",
       "          20230104  95\n",
       "Moses     20230102  70\n",
       "          20230103  75\n",
       "          20230104  72\n",
       "Miriam    20230102  65\n",
       "          20230103  82\n",
       "          2023010   89"
      ]
     },
     "execution_count": 149,
     "metadata": {},
     "output_type": "execute_result"
    }
   ],
   "source": [
    "import numpy as np\n",
    "import pandas as pd\n",
    "\n",
    "tuple_index = \\\n",
    "  [('Adams', '20230102'), ('Adams', '20230103'), ('Adams', '20230104'),\n",
    "  ('Moses', '20230102'),('Moses', '20230103'),('Moses', '20230104'),\n",
    "  ('Miriam', '20230102'),('Miriam', '20230103'),('Miriam', '2023010')\n",
    "  ]\n",
    "multi_index = pd.MultiIndex.from_tuples(tuple_index)\n",
    "multi_index.names = ['FirstName','Date']\n",
    "\n",
    "activities_val = np.array([80, 90, 95, 70,75, 72, 65, 82, 89])\n",
    "\n",
    "multi_df = pd.DataFrame(data=activities_val, index=multi_index)\n",
    "multi_df"
   ]
  },
  {
   "cell_type": "code",
   "execution_count": 151,
   "metadata": {},
   "outputs": [
    {
     "data": {
      "text/plain": [
       "        0\n",
       "Adams NaN\n",
       "Moses NaN"
      ]
     },
     "execution_count": 151,
     "metadata": {},
     "output_type": "execute_result"
    }
   ],
   "source": []
  },
  {
   "cell_type": "code",
   "execution_count": null,
   "metadata": {},
   "outputs": [],
   "source": []
  },
  {
   "cell_type": "code",
   "execution_count": 123,
   "metadata": {},
   "outputs": [
    {
     "data": {
      "text/plain": [
       "                     0\n",
       "FirstName Date        \n",
       "Adams     20230102  80\n",
       "          20230103  90\n",
       "          20230104  95\n",
       "Miriam    2023010   89\n",
       "          20230102  65\n",
       "          20230103  82\n",
       "Moses     20230102  70\n",
       "          20230103  75\n",
       "          20230104  72"
      ]
     },
     "execution_count": 123,
     "metadata": {},
     "output_type": "execute_result"
    }
   ],
   "source": [
    "# 인덱스 정렬\n",
    "multi_df.sort_index(inplace=True)\n",
    "multi_df"
   ]
  },
  {
   "cell_type": "code",
   "execution_count": 124,
   "metadata": {},
   "outputs": [
    {
     "data": {
      "text/plain": [
       "           0\n",
       "Date        \n",
       "20230102  80\n",
       "20230103  90\n",
       "20230104  95"
      ]
     },
     "execution_count": 124,
     "metadata": {},
     "output_type": "execute_result"
    }
   ],
   "source": [
    "multi_df.loc['Adams']"
   ]
  },
  {
   "cell_type": "code",
   "execution_count": 125,
   "metadata": {},
   "outputs": [
    {
     "data": {
      "text/plain": [
       "                0                           \n",
       "Date      2023010 20230102 20230103 20230104\n",
       "FirstName                                   \n",
       "Adams         NaN     80.0     90.0     95.0\n",
       "Miriam       89.0     65.0     82.0      NaN\n",
       "Moses         NaN     70.0     75.0     72.0"
      ]
     },
     "execution_count": 125,
     "metadata": {},
     "output_type": "execute_result"
    }
   ],
   "source": [
    "# Date 인덱스를 열로 변형\n",
    "multi_df.unstack(level=1)"
   ]
  },
  {
   "cell_type": "code",
   "execution_count": 126,
   "metadata": {},
   "outputs": [
    {
     "data": {
      "text/plain": [
       "              0             \n",
       "FirstName Adams Miriam Moses\n",
       "Date                        \n",
       "2023010     NaN   89.0   NaN\n",
       "20230102   80.0   65.0  70.0\n",
       "20230103   90.0   82.0  75.0\n",
       "20230104   95.0    NaN  72.0"
      ]
     },
     "execution_count": 126,
     "metadata": {},
     "output_type": "execute_result"
    }
   ],
   "source": [
    "# FirstName 인덱스를 열로 변형\n",
    "multi_df.unstack(level=0)"
   ]
  },
  {
   "cell_type": "code",
   "execution_count": 127,
   "metadata": {},
   "outputs": [
    {
     "data": {
      "text/plain": [
       "              0             \n",
       "FirstName Adams Miriam Moses\n",
       "Date                        \n",
       "2023010     NaN   89.0   NaN\n",
       "20230102   80.0   65.0  70.0\n",
       "20230103   90.0   82.0  75.0\n",
       "20230104   95.0    NaN  72.0"
      ]
     },
     "execution_count": 127,
     "metadata": {},
     "output_type": "execute_result"
    }
   ],
   "source": [
    "df2= multi_df.unstack(level=0)\n",
    "df2"
   ]
  },
  {
   "cell_type": "code",
   "execution_count": 128,
   "metadata": {},
   "outputs": [
    {
     "data": {
      "text/plain": [
       "Index(['2023010', '20230102', '20230103', '20230104'], dtype='object', name='Date')"
      ]
     },
     "execution_count": 128,
     "metadata": {},
     "output_type": "execute_result"
    }
   ],
   "source": [
    "df2.index"
   ]
  },
  {
   "cell_type": "code",
   "execution_count": 129,
   "metadata": {},
   "outputs": [
    {
     "data": {
      "text/plain": [
       "   FirstName\n",
       "0  Adams        80.0\n",
       "   Miriam       65.0\n",
       "   Moses        70.0\n",
       "Name: 20230102, dtype: float64"
      ]
     },
     "execution_count": 129,
     "metadata": {},
     "output_type": "execute_result"
    }
   ],
   "source": [
    "df2.loc['20230102']"
   ]
  },
  {
   "cell_type": "code",
   "execution_count": 130,
   "metadata": {},
   "outputs": [
    {
     "data": {
      "text/plain": [
       "  FirstName      Date   0\n",
       "0     Adams  20230102  80\n",
       "1     Adams  20230103  90\n",
       "2     Adams  20230104  95\n",
       "3    Miriam   2023010  89\n",
       "4    Miriam  20230102  65\n",
       "5    Miriam  20230103  82\n",
       "6     Moses  20230102  70\n",
       "7     Moses  20230103  75\n",
       "8     Moses  20230104  72"
      ]
     },
     "execution_count": 130,
     "metadata": {},
     "output_type": "execute_result"
    }
   ],
   "source": [
    "no_index_df = multi_df.reset_index()\n",
    "no_index_df"
   ]
  },
  {
   "cell_type": "code",
   "execution_count": 131,
   "metadata": {},
   "outputs": [
    {
     "name": "stdout",
     "output_type": "stream",
     "text": [
      "<class 'pandas.core.frame.DataFrame'>\n",
      "RangeIndex: 9 entries, 0 to 8\n",
      "Data columns (total 3 columns):\n",
      " #   Column     Non-Null Count  Dtype \n",
      "---  ------     --------------  ----- \n",
      " 0   FirstName  9 non-null      object\n",
      " 1   Date       9 non-null      object\n",
      " 2   0          9 non-null      int32 \n",
      "dtypes: int32(1), object(2)\n",
      "memory usage: 308.0+ bytes\n"
     ]
    }
   ],
   "source": [
    "no_index_df.info()"
   ]
  },
  {
   "cell_type": "code",
   "execution_count": 132,
   "metadata": {},
   "outputs": [],
   "source": [
    "set_index_df = no_index_df.set_index(['FirstName', 'Date'])"
   ]
  },
  {
   "cell_type": "code",
   "execution_count": 133,
   "metadata": {},
   "outputs": [
    {
     "name": "stdout",
     "output_type": "stream",
     "text": [
      "<class 'pandas.core.frame.DataFrame'>\n",
      "MultiIndex: 9 entries, ('Adams', '20230102') to ('Moses', '20230104')\n",
      "Data columns (total 1 columns):\n",
      " #   Column  Non-Null Count  Dtype\n",
      "---  ------  --------------  -----\n",
      " 0   0       9 non-null      int32\n",
      "dtypes: int32(1)\n",
      "memory usage: 501.0+ bytes\n"
     ]
    }
   ],
   "source": [
    "set_index_df.info()"
   ]
  },
  {
   "cell_type": "code",
   "execution_count": 135,
   "metadata": {},
   "outputs": [
    {
     "data": {
      "text/plain": [
       "                     0\n",
       "FirstName Date        \n",
       "Adams     20230102  80\n",
       "          20230103  90\n",
       "          20230104  95\n",
       "Miriam    2023010   89\n",
       "          20230102  65\n",
       "          20230103  82\n",
       "Moses     20230102  70\n",
       "          20230103  75\n",
       "          20230104  72"
      ]
     },
     "execution_count": 135,
     "metadata": {},
     "output_type": "execute_result"
    }
   ],
   "source": [
    "set_index_df"
   ]
  },
  {
   "cell_type": "markdown",
   "metadata": {},
   "source": []
  },
  {
   "cell_type": "code",
   "execution_count": 134,
   "metadata": {},
   "outputs": [
    {
     "data": {
      "text/plain": [
       "Date      FirstName\n",
       "20230102  Adams        80\n",
       "20230103  Adams        90\n",
       "20230104  Adams        95\n",
       "20230102  Moses        70\n",
       "20230103  Moses        75\n",
       "20230104  Moses        72\n",
       "20230102  Miriam       65\n",
       "20230103  Miriam       82\n",
       "2023010   Miriam       89\n",
       "dtype: int64"
      ]
     },
     "execution_count": 134,
     "metadata": {},
     "output_type": "execute_result"
    }
   ],
   "source": [
    "multi_act_score.swaplevel('FirstName', 'Date')"
   ]
  },
  {
   "attachments": {},
   "cell_type": "markdown",
   "metadata": {},
   "source": [
    "## 간단한 집계 구하기\n",
    "### sum, mean, max, min, median"
   ]
  },
  {
   "cell_type": "code",
   "execution_count": null,
   "metadata": {},
   "outputs": [],
   "source": []
  }
 ],
 "metadata": {
  "kernelspec": {
   "display_name": "Python 3",
   "language": "python",
   "name": "python3"
  },
  "language_info": {
   "codemirror_mode": {
    "name": "ipython",
    "version": 3
   },
   "file_extension": ".py",
   "mimetype": "text/x-python",
   "name": "python",
   "nbconvert_exporter": "python",
   "pygments_lexer": "ipython3",
   "version": "3.10.4"
  },
  "orig_nbformat": 4,
  "vscode": {
   "interpreter": {
    "hash": "369f2c481f4da34e4445cda3fffd2e751bd1c4d706f27375911949ba6bb62e1c"
   }
  }
 },
 "nbformat": 4,
 "nbformat_minor": 2
}
