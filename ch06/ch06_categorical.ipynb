{
 "cells": [
  {
   "cell_type": "code",
   "execution_count": 9,
   "metadata": {},
   "outputs": [
    {
     "data": {
      "text/html": [
       "<div>\n",
       "<style scoped>\n",
       "    .dataframe tbody tr th:only-of-type {\n",
       "        vertical-align: middle;\n",
       "    }\n",
       "\n",
       "    .dataframe tbody tr th {\n",
       "        vertical-align: top;\n",
       "    }\n",
       "\n",
       "    .dataframe thead th {\n",
       "        text-align: right;\n",
       "    }\n",
       "</style>\n",
       "<table border=\"1\" class=\"dataframe\">\n",
       "  <thead>\n",
       "    <tr style=\"text-align: right;\">\n",
       "      <th></th>\n",
       "      <th>timestamp</th>\n",
       "      <th>X</th>\n",
       "      <th>Y</th>\n",
       "      <th>Z</th>\n",
       "    </tr>\n",
       "  </thead>\n",
       "  <tbody>\n",
       "    <tr>\n",
       "      <th>0</th>\n",
       "      <td>2022-01-01 00:01:40.363</td>\n",
       "      <td>33</td>\n",
       "      <td>76</td>\n",
       "      <td>56</td>\n",
       "    </tr>\n",
       "    <tr>\n",
       "      <th>1</th>\n",
       "      <td>2022-01-01 00:01:42.961</td>\n",
       "      <td>34</td>\n",
       "      <td>87</td>\n",
       "      <td>56</td>\n",
       "    </tr>\n",
       "    <tr>\n",
       "      <th>2</th>\n",
       "      <td>2022-01-01 00:01:45.562</td>\n",
       "      <td>25</td>\n",
       "      <td>89</td>\n",
       "      <td>47</td>\n",
       "    </tr>\n",
       "    <tr>\n",
       "      <th>3</th>\n",
       "      <td>2022-01-01 00:01:48.163</td>\n",
       "      <td>11</td>\n",
       "      <td>70</td>\n",
       "      <td>50</td>\n",
       "    </tr>\n",
       "    <tr>\n",
       "      <th>4</th>\n",
       "      <td>2022-01-01 00:02:08.864</td>\n",
       "      <td>33</td>\n",
       "      <td>72</td>\n",
       "      <td>58</td>\n",
       "    </tr>\n",
       "  </tbody>\n",
       "</table>\n",
       "</div>"
      ],
      "text/plain": [
       "                 timestamp   X   Y   Z\n",
       "0  2022-01-01 00:01:40.363  33  76  56\n",
       "1  2022-01-01 00:01:42.961  34  87  56\n",
       "2  2022-01-01 00:01:45.562  25  89  47\n",
       "3  2022-01-01 00:01:48.163  11  70  50\n",
       "4  2022-01-01 00:02:08.864  33  72  58"
      ]
     },
     "execution_count": 9,
     "metadata": {},
     "output_type": "execute_result"
    }
   ],
   "source": [
    "import pandas as pd\n",
    "import numpy as np\n",
    "\n",
    "df = pd.read_csv('OTg6QzA_activities.csv')\n",
    "df.head()\n"
   ]
  },
  {
   "cell_type": "code",
   "execution_count": 10,
   "metadata": {},
   "outputs": [
    {
     "data": {
      "text/html": [
       "<div>\n",
       "<style scoped>\n",
       "    .dataframe tbody tr th:only-of-type {\n",
       "        vertical-align: middle;\n",
       "    }\n",
       "\n",
       "    .dataframe tbody tr th {\n",
       "        vertical-align: top;\n",
       "    }\n",
       "\n",
       "    .dataframe thead th {\n",
       "        text-align: right;\n",
       "    }\n",
       "</style>\n",
       "<table border=\"1\" class=\"dataframe\">\n",
       "  <thead>\n",
       "    <tr style=\"text-align: right;\">\n",
       "      <th></th>\n",
       "      <th>timestamp</th>\n",
       "      <th>X</th>\n",
       "      <th>Y</th>\n",
       "      <th>Z</th>\n",
       "      <th>quadrant</th>\n",
       "    </tr>\n",
       "  </thead>\n",
       "  <tbody>\n",
       "    <tr>\n",
       "      <th>0</th>\n",
       "      <td>2022-01-01 00:01:40.363</td>\n",
       "      <td>33</td>\n",
       "      <td>76</td>\n",
       "      <td>56</td>\n",
       "      <td>4th</td>\n",
       "    </tr>\n",
       "    <tr>\n",
       "      <th>1</th>\n",
       "      <td>2022-01-01 00:01:42.961</td>\n",
       "      <td>34</td>\n",
       "      <td>87</td>\n",
       "      <td>56</td>\n",
       "      <td>4th</td>\n",
       "    </tr>\n",
       "    <tr>\n",
       "      <th>2</th>\n",
       "      <td>2022-01-01 00:01:45.562</td>\n",
       "      <td>25</td>\n",
       "      <td>89</td>\n",
       "      <td>47</td>\n",
       "      <td>4th</td>\n",
       "    </tr>\n",
       "    <tr>\n",
       "      <th>3</th>\n",
       "      <td>2022-01-01 00:01:48.163</td>\n",
       "      <td>11</td>\n",
       "      <td>70</td>\n",
       "      <td>50</td>\n",
       "      <td>4th</td>\n",
       "    </tr>\n",
       "    <tr>\n",
       "      <th>4</th>\n",
       "      <td>2022-01-01 00:02:08.864</td>\n",
       "      <td>33</td>\n",
       "      <td>72</td>\n",
       "      <td>58</td>\n",
       "      <td>4th</td>\n",
       "    </tr>\n",
       "    <tr>\n",
       "      <th>...</th>\n",
       "      <td>...</td>\n",
       "      <td>...</td>\n",
       "      <td>...</td>\n",
       "      <td>...</td>\n",
       "      <td>...</td>\n",
       "    </tr>\n",
       "    <tr>\n",
       "      <th>66276</th>\n",
       "      <td>2022-01-31 23:28:00.481</td>\n",
       "      <td>-91</td>\n",
       "      <td>143</td>\n",
       "      <td>136</td>\n",
       "      <td>3rd</td>\n",
       "    </tr>\n",
       "    <tr>\n",
       "      <th>66277</th>\n",
       "      <td>2022-01-31 23:28:41.683</td>\n",
       "      <td>-89</td>\n",
       "      <td>145</td>\n",
       "      <td>138</td>\n",
       "      <td>3rd</td>\n",
       "    </tr>\n",
       "    <tr>\n",
       "      <th>66278</th>\n",
       "      <td>2022-01-31 23:28:49.383</td>\n",
       "      <td>-93</td>\n",
       "      <td>138</td>\n",
       "      <td>137</td>\n",
       "      <td>3rd</td>\n",
       "    </tr>\n",
       "    <tr>\n",
       "      <th>66279</th>\n",
       "      <td>2022-01-31 23:32:36.426</td>\n",
       "      <td>-93</td>\n",
       "      <td>131</td>\n",
       "      <td>137</td>\n",
       "      <td>3rd</td>\n",
       "    </tr>\n",
       "    <tr>\n",
       "      <th>66280</th>\n",
       "      <td>2022-01-31 23:32:44.126</td>\n",
       "      <td>-91</td>\n",
       "      <td>129</td>\n",
       "      <td>138</td>\n",
       "      <td>3rd</td>\n",
       "    </tr>\n",
       "  </tbody>\n",
       "</table>\n",
       "<p>66281 rows × 5 columns</p>\n",
       "</div>"
      ],
      "text/plain": [
       "                     timestamp   X    Y    Z quadrant\n",
       "0      2022-01-01 00:01:40.363  33   76   56      4th\n",
       "1      2022-01-01 00:01:42.961  34   87   56      4th\n",
       "2      2022-01-01 00:01:45.562  25   89   47      4th\n",
       "3      2022-01-01 00:01:48.163  11   70   50      4th\n",
       "4      2022-01-01 00:02:08.864  33   72   58      4th\n",
       "...                        ...  ..  ...  ...      ...\n",
       "66276  2022-01-31 23:28:00.481 -91  143  136      3rd\n",
       "66277  2022-01-31 23:28:41.683 -89  145  138      3rd\n",
       "66278  2022-01-31 23:28:49.383 -93  138  137      3rd\n",
       "66279  2022-01-31 23:32:36.426 -93  131  137      3rd\n",
       "66280  2022-01-31 23:32:44.126 -91  129  138      3rd\n",
       "\n",
       "[66281 rows x 5 columns]"
      ]
     },
     "execution_count": 10,
     "metadata": {},
     "output_type": "execute_result"
    }
   ],
   "source": [
    "# (x,y) = (0, 200)을 기준으로 사분면 정하기\n",
    "def make_quadrant(df):\n",
    "  if df['X'] >= 0 and df['Y'] >= 200:\n",
    "    return \"1st\"\n",
    "  elif df['X'] < 0 and df['Y'] >= 200:\n",
    "    return \"2nd\"\n",
    "  elif df['X'] < 0 and df['Y'] < 200:\n",
    "    return \"3rd\"\n",
    "  elif df['X'] >= 0 and df['Y'] < 200:\n",
    "    return \"4th\"\n",
    "  else:\n",
    "    return \"others\"\n",
    "\n",
    "df['quadrant'] = df.apply(make_quadrant, axis=1)\n",
    "df"
   ]
  },
  {
   "cell_type": "code",
   "execution_count": 11,
   "metadata": {},
   "outputs": [
    {
     "data": {
      "text/plain": [
       "timestamp    object\n",
       "X             int64\n",
       "Y             int64\n",
       "Z             int64\n",
       "quadrant     object\n",
       "dtype: object"
      ]
     },
     "execution_count": 11,
     "metadata": {},
     "output_type": "execute_result"
    }
   ],
   "source": [
    "df.dtypes\n"
   ]
  },
  {
   "cell_type": "code",
   "execution_count": 12,
   "metadata": {},
   "outputs": [],
   "source": [
    "df['quadrant_cat'] = df['quadrant'].astype('category')\n"
   ]
  },
  {
   "cell_type": "code",
   "execution_count": 13,
   "metadata": {},
   "outputs": [
    {
     "data": {
      "text/plain": [
       "timestamp         object\n",
       "X                  int64\n",
       "Y                  int64\n",
       "Z                  int64\n",
       "quadrant          object\n",
       "quadrant_cat    category\n",
       "dtype: object"
      ]
     },
     "execution_count": 13,
     "metadata": {},
     "output_type": "execute_result"
    }
   ],
   "source": [
    "df.dtypes\n"
   ]
  },
  {
   "cell_type": "code",
   "execution_count": 14,
   "metadata": {},
   "outputs": [
    {
     "ename": "TypeError",
     "evalue": "data type 'cat' not understood",
     "output_type": "error",
     "traceback": [
      "\u001b[1;31m---------------------------------------------------------------------------\u001b[0m",
      "\u001b[1;31mTypeError\u001b[0m                                 Traceback (most recent call last)",
      "Cell \u001b[1;32mIn[14], line 1\u001b[0m\n\u001b[1;32m----> 1\u001b[0m df[\u001b[39m'\u001b[39m\u001b[39mquadrant_cat2\u001b[39m\u001b[39m'\u001b[39m] \u001b[39m=\u001b[39m df[\u001b[39m'\u001b[39;49m\u001b[39mquadrant\u001b[39;49m\u001b[39m'\u001b[39;49m]\u001b[39m.\u001b[39;49mastype(\u001b[39m'\u001b[39;49m\u001b[39mcat\u001b[39;49m\u001b[39m'\u001b[39;49m)\n",
      "File \u001b[1;32mc:\\Python310\\lib\\site-packages\\pandas\\core\\generic.py:6240\u001b[0m, in \u001b[0;36mNDFrame.astype\u001b[1;34m(self, dtype, copy, errors)\u001b[0m\n\u001b[0;32m   6233\u001b[0m     results \u001b[39m=\u001b[39m [\n\u001b[0;32m   6234\u001b[0m         \u001b[39mself\u001b[39m\u001b[39m.\u001b[39miloc[:, i]\u001b[39m.\u001b[39mastype(dtype, copy\u001b[39m=\u001b[39mcopy)\n\u001b[0;32m   6235\u001b[0m         \u001b[39mfor\u001b[39;00m i \u001b[39min\u001b[39;00m \u001b[39mrange\u001b[39m(\u001b[39mlen\u001b[39m(\u001b[39mself\u001b[39m\u001b[39m.\u001b[39mcolumns))\n\u001b[0;32m   6236\u001b[0m     ]\n\u001b[0;32m   6238\u001b[0m \u001b[39melse\u001b[39;00m:\n\u001b[0;32m   6239\u001b[0m     \u001b[39m# else, only a single dtype is given\u001b[39;00m\n\u001b[1;32m-> 6240\u001b[0m     new_data \u001b[39m=\u001b[39m \u001b[39mself\u001b[39;49m\u001b[39m.\u001b[39;49m_mgr\u001b[39m.\u001b[39;49mastype(dtype\u001b[39m=\u001b[39;49mdtype, copy\u001b[39m=\u001b[39;49mcopy, errors\u001b[39m=\u001b[39;49merrors)\n\u001b[0;32m   6241\u001b[0m     \u001b[39mreturn\u001b[39;00m \u001b[39mself\u001b[39m\u001b[39m.\u001b[39m_constructor(new_data)\u001b[39m.\u001b[39m__finalize__(\u001b[39mself\u001b[39m, method\u001b[39m=\u001b[39m\u001b[39m\"\u001b[39m\u001b[39mastype\u001b[39m\u001b[39m\"\u001b[39m)\n\u001b[0;32m   6243\u001b[0m \u001b[39m# GH 33113: handle empty frame or series\u001b[39;00m\n",
      "File \u001b[1;32mc:\\Python310\\lib\\site-packages\\pandas\\core\\internals\\managers.py:450\u001b[0m, in \u001b[0;36mBaseBlockManager.astype\u001b[1;34m(self, dtype, copy, errors)\u001b[0m\n\u001b[0;32m    449\u001b[0m \u001b[39mdef\u001b[39;00m \u001b[39mastype\u001b[39m(\u001b[39mself\u001b[39m: T, dtype, copy: \u001b[39mbool\u001b[39m \u001b[39m=\u001b[39m \u001b[39mFalse\u001b[39;00m, errors: \u001b[39mstr\u001b[39m \u001b[39m=\u001b[39m \u001b[39m\"\u001b[39m\u001b[39mraise\u001b[39m\u001b[39m\"\u001b[39m) \u001b[39m-\u001b[39m\u001b[39m>\u001b[39m T:\n\u001b[1;32m--> 450\u001b[0m     \u001b[39mreturn\u001b[39;00m \u001b[39mself\u001b[39;49m\u001b[39m.\u001b[39;49mapply(\u001b[39m\"\u001b[39;49m\u001b[39mastype\u001b[39;49m\u001b[39m\"\u001b[39;49m, dtype\u001b[39m=\u001b[39;49mdtype, copy\u001b[39m=\u001b[39;49mcopy, errors\u001b[39m=\u001b[39;49merrors)\n",
      "File \u001b[1;32mc:\\Python310\\lib\\site-packages\\pandas\\core\\internals\\managers.py:352\u001b[0m, in \u001b[0;36mBaseBlockManager.apply\u001b[1;34m(self, f, align_keys, ignore_failures, **kwargs)\u001b[0m\n\u001b[0;32m    350\u001b[0m         applied \u001b[39m=\u001b[39m b\u001b[39m.\u001b[39mapply(f, \u001b[39m*\u001b[39m\u001b[39m*\u001b[39mkwargs)\n\u001b[0;32m    351\u001b[0m     \u001b[39melse\u001b[39;00m:\n\u001b[1;32m--> 352\u001b[0m         applied \u001b[39m=\u001b[39m \u001b[39mgetattr\u001b[39m(b, f)(\u001b[39m*\u001b[39m\u001b[39m*\u001b[39mkwargs)\n\u001b[0;32m    353\u001b[0m \u001b[39mexcept\u001b[39;00m (\u001b[39mTypeError\u001b[39;00m, \u001b[39mNotImplementedError\u001b[39;00m):\n\u001b[0;32m    354\u001b[0m     \u001b[39mif\u001b[39;00m \u001b[39mnot\u001b[39;00m ignore_failures:\n",
      "File \u001b[1;32mc:\\Python310\\lib\\site-packages\\pandas\\core\\internals\\blocks.py:526\u001b[0m, in \u001b[0;36mBlock.astype\u001b[1;34m(self, dtype, copy, errors)\u001b[0m\n\u001b[0;32m    508\u001b[0m \u001b[39m\"\"\"\u001b[39;00m\n\u001b[0;32m    509\u001b[0m \u001b[39mCoerce to the new dtype.\u001b[39;00m\n\u001b[0;32m    510\u001b[0m \n\u001b[1;32m   (...)\u001b[0m\n\u001b[0;32m    522\u001b[0m \u001b[39mBlock\u001b[39;00m\n\u001b[0;32m    523\u001b[0m \u001b[39m\"\"\"\u001b[39;00m\n\u001b[0;32m    524\u001b[0m values \u001b[39m=\u001b[39m \u001b[39mself\u001b[39m\u001b[39m.\u001b[39mvalues\n\u001b[1;32m--> 526\u001b[0m new_values \u001b[39m=\u001b[39m astype_array_safe(values, dtype, copy\u001b[39m=\u001b[39;49mcopy, errors\u001b[39m=\u001b[39;49merrors)\n\u001b[0;32m    528\u001b[0m new_values \u001b[39m=\u001b[39m maybe_coerce_values(new_values)\n\u001b[0;32m    529\u001b[0m newb \u001b[39m=\u001b[39m \u001b[39mself\u001b[39m\u001b[39m.\u001b[39mmake_block(new_values)\n",
      "File \u001b[1;32mc:\\Python310\\lib\\site-packages\\pandas\\core\\dtypes\\astype.py:279\u001b[0m, in \u001b[0;36mastype_array_safe\u001b[1;34m(values, dtype, copy, errors)\u001b[0m\n\u001b[0;32m    273\u001b[0m     msg \u001b[39m=\u001b[39m (\n\u001b[0;32m    274\u001b[0m         \u001b[39mf\u001b[39m\u001b[39m\"\u001b[39m\u001b[39mExpected an instance of \u001b[39m\u001b[39m{\u001b[39;00mdtype\u001b[39m.\u001b[39m\u001b[39m__name__\u001b[39m\u001b[39m}\u001b[39;00m\u001b[39m, \u001b[39m\u001b[39m\"\u001b[39m\n\u001b[0;32m    275\u001b[0m         \u001b[39m\"\u001b[39m\u001b[39mbut got the class instead. Try instantiating \u001b[39m\u001b[39m'\u001b[39m\u001b[39mdtype\u001b[39m\u001b[39m'\u001b[39m\u001b[39m.\u001b[39m\u001b[39m\"\u001b[39m\n\u001b[0;32m    276\u001b[0m     )\n\u001b[0;32m    277\u001b[0m     \u001b[39mraise\u001b[39;00m \u001b[39mTypeError\u001b[39;00m(msg)\n\u001b[1;32m--> 279\u001b[0m dtype \u001b[39m=\u001b[39m pandas_dtype(dtype)\n\u001b[0;32m    280\u001b[0m \u001b[39mif\u001b[39;00m \u001b[39misinstance\u001b[39m(dtype, PandasDtype):\n\u001b[0;32m    281\u001b[0m     \u001b[39m# Ensure we don't end up with a PandasArray\u001b[39;00m\n\u001b[0;32m    282\u001b[0m     dtype \u001b[39m=\u001b[39m dtype\u001b[39m.\u001b[39mnumpy_dtype\n",
      "File \u001b[1;32mc:\\Python310\\lib\\site-packages\\pandas\\core\\dtypes\\common.py:1781\u001b[0m, in \u001b[0;36mpandas_dtype\u001b[1;34m(dtype)\u001b[0m\n\u001b[0;32m   1778\u001b[0m \u001b[39m# try a numpy dtype\u001b[39;00m\n\u001b[0;32m   1779\u001b[0m \u001b[39m# raise a consistent TypeError if failed\u001b[39;00m\n\u001b[0;32m   1780\u001b[0m \u001b[39mtry\u001b[39;00m:\n\u001b[1;32m-> 1781\u001b[0m     npdtype \u001b[39m=\u001b[39m np\u001b[39m.\u001b[39;49mdtype(dtype)\n\u001b[0;32m   1782\u001b[0m \u001b[39mexcept\u001b[39;00m \u001b[39mSyntaxError\u001b[39;00m \u001b[39mas\u001b[39;00m err:\n\u001b[0;32m   1783\u001b[0m     \u001b[39m# np.dtype uses `eval` which can raise SyntaxError\u001b[39;00m\n\u001b[0;32m   1784\u001b[0m     \u001b[39mraise\u001b[39;00m \u001b[39mTypeError\u001b[39;00m(\u001b[39mf\u001b[39m\u001b[39m\"\u001b[39m\u001b[39mdata type \u001b[39m\u001b[39m'\u001b[39m\u001b[39m{\u001b[39;00mdtype\u001b[39m}\u001b[39;00m\u001b[39m'\u001b[39m\u001b[39m not understood\u001b[39m\u001b[39m\"\u001b[39m) \u001b[39mfrom\u001b[39;00m \u001b[39merr\u001b[39;00m\n",
      "\u001b[1;31mTypeError\u001b[0m: data type 'cat' not understood"
     ]
    }
   ],
   "source": [
    "df['quadrant_cat2'] = df['quadrant'].astype('cat')\n"
   ]
  },
  {
   "cell_type": "code",
   "execution_count": null,
   "metadata": {},
   "outputs": [
    {
     "data": {
      "text/plain": [
       "66613"
      ]
     },
     "execution_count": 6,
     "metadata": {},
     "output_type": "execute_result"
    }
   ],
   "source": [
    "df['quadrant_cat'].memory_usage()\n"
   ]
  },
  {
   "cell_type": "code",
   "execution_count": null,
   "metadata": {},
   "outputs": [
    {
     "data": {
      "text/plain": [
       "530376"
      ]
     },
     "execution_count": 7,
     "metadata": {},
     "output_type": "execute_result"
    }
   ],
   "source": [
    "df['quadrant'].memory_usage()\n"
   ]
  },
  {
   "cell_type": "code",
   "execution_count": null,
   "metadata": {},
   "outputs": [
    {
     "data": {
      "text/html": [
       "<div>\n",
       "<style scoped>\n",
       "    .dataframe tbody tr th:only-of-type {\n",
       "        vertical-align: middle;\n",
       "    }\n",
       "\n",
       "    .dataframe tbody tr th {\n",
       "        vertical-align: top;\n",
       "    }\n",
       "\n",
       "    .dataframe thead th {\n",
       "        text-align: right;\n",
       "    }\n",
       "</style>\n",
       "<table border=\"1\" class=\"dataframe\">\n",
       "  <thead>\n",
       "    <tr style=\"text-align: right;\">\n",
       "      <th></th>\n",
       "      <th>timestamp</th>\n",
       "      <th>X</th>\n",
       "      <th>Y</th>\n",
       "      <th>Z</th>\n",
       "      <th>quadrant</th>\n",
       "      <th>quadrant_cat</th>\n",
       "    </tr>\n",
       "  </thead>\n",
       "  <tbody>\n",
       "    <tr>\n",
       "      <th>0</th>\n",
       "      <td>2022-01-01 00:01:40.363</td>\n",
       "      <td>33</td>\n",
       "      <td>76</td>\n",
       "      <td>56</td>\n",
       "      <td>3rd</td>\n",
       "      <td>3rd</td>\n",
       "    </tr>\n",
       "    <tr>\n",
       "      <th>1</th>\n",
       "      <td>2022-01-01 00:01:42.961</td>\n",
       "      <td>34</td>\n",
       "      <td>87</td>\n",
       "      <td>56</td>\n",
       "      <td>3rd</td>\n",
       "      <td>3rd</td>\n",
       "    </tr>\n",
       "    <tr>\n",
       "      <th>2</th>\n",
       "      <td>2022-01-01 00:01:45.562</td>\n",
       "      <td>25</td>\n",
       "      <td>89</td>\n",
       "      <td>47</td>\n",
       "      <td>3rd</td>\n",
       "      <td>3rd</td>\n",
       "    </tr>\n",
       "    <tr>\n",
       "      <th>3</th>\n",
       "      <td>2022-01-01 00:01:48.163</td>\n",
       "      <td>11</td>\n",
       "      <td>70</td>\n",
       "      <td>50</td>\n",
       "      <td>3rd</td>\n",
       "      <td>3rd</td>\n",
       "    </tr>\n",
       "    <tr>\n",
       "      <th>4</th>\n",
       "      <td>2022-01-01 00:02:08.864</td>\n",
       "      <td>33</td>\n",
       "      <td>72</td>\n",
       "      <td>58</td>\n",
       "      <td>3rd</td>\n",
       "      <td>3rd</td>\n",
       "    </tr>\n",
       "    <tr>\n",
       "      <th>...</th>\n",
       "      <td>...</td>\n",
       "      <td>...</td>\n",
       "      <td>...</td>\n",
       "      <td>...</td>\n",
       "      <td>...</td>\n",
       "      <td>...</td>\n",
       "    </tr>\n",
       "    <tr>\n",
       "      <th>66276</th>\n",
       "      <td>2022-01-31 23:28:00.481</td>\n",
       "      <td>-91</td>\n",
       "      <td>143</td>\n",
       "      <td>136</td>\n",
       "      <td>2nd</td>\n",
       "      <td>2nd</td>\n",
       "    </tr>\n",
       "    <tr>\n",
       "      <th>66277</th>\n",
       "      <td>2022-01-31 23:28:41.683</td>\n",
       "      <td>-89</td>\n",
       "      <td>145</td>\n",
       "      <td>138</td>\n",
       "      <td>2nd</td>\n",
       "      <td>2nd</td>\n",
       "    </tr>\n",
       "    <tr>\n",
       "      <th>66278</th>\n",
       "      <td>2022-01-31 23:28:49.383</td>\n",
       "      <td>-93</td>\n",
       "      <td>138</td>\n",
       "      <td>137</td>\n",
       "      <td>2nd</td>\n",
       "      <td>2nd</td>\n",
       "    </tr>\n",
       "    <tr>\n",
       "      <th>66279</th>\n",
       "      <td>2022-01-31 23:32:36.426</td>\n",
       "      <td>-93</td>\n",
       "      <td>131</td>\n",
       "      <td>137</td>\n",
       "      <td>2nd</td>\n",
       "      <td>2nd</td>\n",
       "    </tr>\n",
       "    <tr>\n",
       "      <th>66280</th>\n",
       "      <td>2022-01-31 23:32:44.126</td>\n",
       "      <td>-91</td>\n",
       "      <td>129</td>\n",
       "      <td>138</td>\n",
       "      <td>2nd</td>\n",
       "      <td>2nd</td>\n",
       "    </tr>\n",
       "  </tbody>\n",
       "</table>\n",
       "<p>66281 rows × 6 columns</p>\n",
       "</div>"
      ],
      "text/plain": [
       "                     timestamp   X    Y    Z quadrant quadrant_cat\n",
       "0      2022-01-01 00:01:40.363  33   76   56      3rd          3rd\n",
       "1      2022-01-01 00:01:42.961  34   87   56      3rd          3rd\n",
       "2      2022-01-01 00:01:45.562  25   89   47      3rd          3rd\n",
       "3      2022-01-01 00:01:48.163  11   70   50      3rd          3rd\n",
       "4      2022-01-01 00:02:08.864  33   72   58      3rd          3rd\n",
       "...                        ...  ..  ...  ...      ...          ...\n",
       "66276  2022-01-31 23:28:00.481 -91  143  136      2nd          2nd\n",
       "66277  2022-01-31 23:28:41.683 -89  145  138      2nd          2nd\n",
       "66278  2022-01-31 23:28:49.383 -93  138  137      2nd          2nd\n",
       "66279  2022-01-31 23:32:36.426 -93  131  137      2nd          2nd\n",
       "66280  2022-01-31 23:32:44.126 -91  129  138      2nd          2nd\n",
       "\n",
       "[66281 rows x 6 columns]"
      ]
     },
     "execution_count": 8,
     "metadata": {},
     "output_type": "execute_result"
    }
   ],
   "source": [
    "df\n"
   ]
  },
  {
   "cell_type": "markdown",
   "metadata": {},
   "source": []
  },
  {
   "cell_type": "code",
   "execution_count": null,
   "metadata": {},
   "outputs": [
    {
     "data": {
      "text/plain": [
       "<bound method NDFrame.describe of                      timestamp   X    Y    Z quadrant quadrant_cat\n",
       "0      2022-01-01 00:01:40.363  33   76   56      4th          4th\n",
       "1      2022-01-01 00:01:42.961  34   87   56      4th          4th\n",
       "2      2022-01-01 00:01:45.562  25   89   47      4th          4th\n",
       "3      2022-01-01 00:01:48.163  11   70   50      4th          4th\n",
       "4      2022-01-01 00:02:08.864  33   72   58      4th          4th\n",
       "...                        ...  ..  ...  ...      ...          ...\n",
       "66276  2022-01-31 23:28:00.481 -91  143  136      3rd          3rd\n",
       "66277  2022-01-31 23:28:41.683 -89  145  138      3rd          3rd\n",
       "66278  2022-01-31 23:28:49.383 -93  138  137      3rd          3rd\n",
       "66279  2022-01-31 23:32:36.426 -93  131  137      3rd          3rd\n",
       "66280  2022-01-31 23:32:44.126 -91  129  138      3rd          3rd\n",
       "\n",
       "[66281 rows x 6 columns]>"
      ]
     },
     "execution_count": 7,
     "metadata": {},
     "output_type": "execute_result"
    }
   ],
   "source": [
    "df.describe\n"
   ]
  },
  {
   "cell_type": "code",
   "execution_count": null,
   "metadata": {},
   "outputs": [
    {
     "name": "stderr",
     "output_type": "stream",
     "text": [
      "C:\\Users\\sunin\\AppData\\Local\\Temp\\ipykernel_13024\\56723082.py:2: FutureWarning: ['timestamp', 'quadrant_cat'] did not aggregate successfully. If any error is raised this will raise in a future version of pandas. Drop these columns/ops to avoid this warning.\n",
      "  df.groupby('quadrant').agg(['count', 'mean', 'median'])\n"
     ]
    },
    {
     "data": {
      "text/html": [
       "<div>\n",
       "<style scoped>\n",
       "    .dataframe tbody tr th:only-of-type {\n",
       "        vertical-align: middle;\n",
       "    }\n",
       "\n",
       "    .dataframe tbody tr th {\n",
       "        vertical-align: top;\n",
       "    }\n",
       "\n",
       "    .dataframe thead tr th {\n",
       "        text-align: left;\n",
       "    }\n",
       "\n",
       "    .dataframe thead tr:last-of-type th {\n",
       "        text-align: right;\n",
       "    }\n",
       "</style>\n",
       "<table border=\"1\" class=\"dataframe\">\n",
       "  <thead>\n",
       "    <tr>\n",
       "      <th></th>\n",
       "      <th colspan=\"3\" halign=\"left\">X</th>\n",
       "      <th colspan=\"3\" halign=\"left\">Y</th>\n",
       "      <th colspan=\"3\" halign=\"left\">Z</th>\n",
       "    </tr>\n",
       "    <tr>\n",
       "      <th></th>\n",
       "      <th>count</th>\n",
       "      <th>mean</th>\n",
       "      <th>median</th>\n",
       "      <th>count</th>\n",
       "      <th>mean</th>\n",
       "      <th>median</th>\n",
       "      <th>count</th>\n",
       "      <th>mean</th>\n",
       "      <th>median</th>\n",
       "    </tr>\n",
       "    <tr>\n",
       "      <th>quadrant</th>\n",
       "      <th></th>\n",
       "      <th></th>\n",
       "      <th></th>\n",
       "      <th></th>\n",
       "      <th></th>\n",
       "      <th></th>\n",
       "      <th></th>\n",
       "      <th></th>\n",
       "      <th></th>\n",
       "    </tr>\n",
       "  </thead>\n",
       "  <tbody>\n",
       "    <tr>\n",
       "      <th>1st</th>\n",
       "      <td>5000</td>\n",
       "      <td>-54.914600</td>\n",
       "      <td>-59.0</td>\n",
       "      <td>5000</td>\n",
       "      <td>308.715400</td>\n",
       "      <td>228.0</td>\n",
       "      <td>5000</td>\n",
       "      <td>100.340400</td>\n",
       "      <td>123.0</td>\n",
       "    </tr>\n",
       "    <tr>\n",
       "      <th>2nd</th>\n",
       "      <td>33788</td>\n",
       "      <td>-71.419764</td>\n",
       "      <td>-87.0</td>\n",
       "      <td>33788</td>\n",
       "      <td>126.274121</td>\n",
       "      <td>126.0</td>\n",
       "      <td>33788</td>\n",
       "      <td>123.356931</td>\n",
       "      <td>139.0</td>\n",
       "    </tr>\n",
       "    <tr>\n",
       "      <th>3rd</th>\n",
       "      <td>19687</td>\n",
       "      <td>53.135165</td>\n",
       "      <td>29.0</td>\n",
       "      <td>19687</td>\n",
       "      <td>82.978971</td>\n",
       "      <td>74.0</td>\n",
       "      <td>19687</td>\n",
       "      <td>92.005283</td>\n",
       "      <td>88.0</td>\n",
       "    </tr>\n",
       "    <tr>\n",
       "      <th>4th</th>\n",
       "      <td>7806</td>\n",
       "      <td>61.861389</td>\n",
       "      <td>57.0</td>\n",
       "      <td>7806</td>\n",
       "      <td>365.126057</td>\n",
       "      <td>386.0</td>\n",
       "      <td>7806</td>\n",
       "      <td>63.376761</td>\n",
       "      <td>62.0</td>\n",
       "    </tr>\n",
       "  </tbody>\n",
       "</table>\n",
       "</div>"
      ],
      "text/plain": [
       "              X                        Y                         Z  \\\n",
       "          count       mean median  count        mean median  count   \n",
       "quadrant                                                             \n",
       "1st        5000 -54.914600  -59.0   5000  308.715400  228.0   5000   \n",
       "2nd       33788 -71.419764  -87.0  33788  126.274121  126.0  33788   \n",
       "3rd       19687  53.135165   29.0  19687   82.978971   74.0  19687   \n",
       "4th        7806  61.861389   57.0   7806  365.126057  386.0   7806   \n",
       "\n",
       "                             \n",
       "                mean median  \n",
       "quadrant                     \n",
       "1st       100.340400  123.0  \n",
       "2nd       123.356931  139.0  \n",
       "3rd        92.005283   88.0  \n",
       "4th        63.376761   62.0  "
      ]
     },
     "execution_count": 9,
     "metadata": {},
     "output_type": "execute_result"
    }
   ],
   "source": [
    "# df.groupby(df['quadrant']).agg(['count', 'mean', 'median'])\n",
    "df.groupby('quadrant').agg(['count', 'mean', 'median'])\n"
   ]
  },
  {
   "cell_type": "code",
   "execution_count": null,
   "metadata": {},
   "outputs": [
    {
     "name": "stderr",
     "output_type": "stream",
     "text": [
      "<magic-timeit>:1: FutureWarning: ['timestamp', 'quadrant_cat'] did not aggregate successfully. If any error is raised this will raise in a future version of pandas. Drop these columns/ops to avoid this warning.\n",
      "<magic-timeit>:1: FutureWarning: ['timestamp', 'quadrant_cat'] did not aggregate successfully. If any error is raised this will raise in a future version of pandas. Drop these columns/ops to avoid this warning.\n",
      "<magic-timeit>:1: FutureWarning: ['timestamp', 'quadrant_cat'] did not aggregate successfully. If any error is raised this will raise in a future version of pandas. Drop these columns/ops to avoid this warning.\n",
      "<magic-timeit>:1: FutureWarning: ['timestamp', 'quadrant_cat'] did not aggregate successfully. If any error is raised this will raise in a future version of pandas. Drop these columns/ops to avoid this warning.\n",
      "<magic-timeit>:1: FutureWarning: ['timestamp', 'quadrant_cat'] did not aggregate successfully. If any error is raised this will raise in a future version of pandas. Drop these columns/ops to avoid this warning.\n",
      "<magic-timeit>:1: FutureWarning: ['timestamp', 'quadrant_cat'] did not aggregate successfully. If any error is raised this will raise in a future version of pandas. Drop these columns/ops to avoid this warning.\n",
      "<magic-timeit>:1: FutureWarning: ['timestamp', 'quadrant_cat'] did not aggregate successfully. If any error is raised this will raise in a future version of pandas. Drop these columns/ops to avoid this warning.\n",
      "<magic-timeit>:1: FutureWarning: ['timestamp', 'quadrant_cat'] did not aggregate successfully. If any error is raised this will raise in a future version of pandas. Drop these columns/ops to avoid this warning.\n",
      "<magic-timeit>:1: FutureWarning: ['timestamp', 'quadrant_cat'] did not aggregate successfully. If any error is raised this will raise in a future version of pandas. Drop these columns/ops to avoid this warning.\n",
      "<magic-timeit>:1: FutureWarning: ['timestamp', 'quadrant_cat'] did not aggregate successfully. If any error is raised this will raise in a future version of pandas. Drop these columns/ops to avoid this warning.\n",
      "<magic-timeit>:1: FutureWarning: ['timestamp', 'quadrant_cat'] did not aggregate successfully. If any error is raised this will raise in a future version of pandas. Drop these columns/ops to avoid this warning.\n",
      "<magic-timeit>:1: FutureWarning: ['timestamp', 'quadrant_cat'] did not aggregate successfully. If any error is raised this will raise in a future version of pandas. Drop these columns/ops to avoid this warning.\n",
      "<magic-timeit>:1: FutureWarning: ['timestamp', 'quadrant_cat'] did not aggregate successfully. If any error is raised this will raise in a future version of pandas. Drop these columns/ops to avoid this warning.\n",
      "<magic-timeit>:1: FutureWarning: ['timestamp', 'quadrant_cat'] did not aggregate successfully. If any error is raised this will raise in a future version of pandas. Drop these columns/ops to avoid this warning.\n",
      "<magic-timeit>:1: FutureWarning: ['timestamp', 'quadrant_cat'] did not aggregate successfully. If any error is raised this will raise in a future version of pandas. Drop these columns/ops to avoid this warning.\n",
      "<magic-timeit>:1: FutureWarning: ['timestamp', 'quadrant_cat'] did not aggregate successfully. If any error is raised this will raise in a future version of pandas. Drop these columns/ops to avoid this warning.\n",
      "<magic-timeit>:1: FutureWarning: ['timestamp', 'quadrant_cat'] did not aggregate successfully. If any error is raised this will raise in a future version of pandas. Drop these columns/ops to avoid this warning.\n",
      "<magic-timeit>:1: FutureWarning: ['timestamp', 'quadrant_cat'] did not aggregate successfully. If any error is raised this will raise in a future version of pandas. Drop these columns/ops to avoid this warning.\n",
      "<magic-timeit>:1: FutureWarning: ['timestamp', 'quadrant_cat'] did not aggregate successfully. If any error is raised this will raise in a future version of pandas. Drop these columns/ops to avoid this warning.\n",
      "<magic-timeit>:1: FutureWarning: ['timestamp', 'quadrant_cat'] did not aggregate successfully. If any error is raised this will raise in a future version of pandas. Drop these columns/ops to avoid this warning.\n",
      "<magic-timeit>:1: FutureWarning: ['timestamp', 'quadrant_cat'] did not aggregate successfully. If any error is raised this will raise in a future version of pandas. Drop these columns/ops to avoid this warning.\n",
      "<magic-timeit>:1: FutureWarning: ['timestamp', 'quadrant_cat'] did not aggregate successfully. If any error is raised this will raise in a future version of pandas. Drop these columns/ops to avoid this warning.\n",
      "<magic-timeit>:1: FutureWarning: ['timestamp', 'quadrant_cat'] did not aggregate successfully. If any error is raised this will raise in a future version of pandas. Drop these columns/ops to avoid this warning.\n",
      "<magic-timeit>:1: FutureWarning: ['timestamp', 'quadrant_cat'] did not aggregate successfully. If any error is raised this will raise in a future version of pandas. Drop these columns/ops to avoid this warning.\n",
      "<magic-timeit>:1: FutureWarning: ['timestamp', 'quadrant_cat'] did not aggregate successfully. If any error is raised this will raise in a future version of pandas. Drop these columns/ops to avoid this warning.\n",
      "<magic-timeit>:1: FutureWarning: ['timestamp', 'quadrant_cat'] did not aggregate successfully. If any error is raised this will raise in a future version of pandas. Drop these columns/ops to avoid this warning.\n",
      "<magic-timeit>:1: FutureWarning: ['timestamp', 'quadrant_cat'] did not aggregate successfully. If any error is raised this will raise in a future version of pandas. Drop these columns/ops to avoid this warning.\n",
      "<magic-timeit>:1: FutureWarning: ['timestamp', 'quadrant_cat'] did not aggregate successfully. If any error is raised this will raise in a future version of pandas. Drop these columns/ops to avoid this warning.\n",
      "<magic-timeit>:1: FutureWarning: ['timestamp', 'quadrant_cat'] did not aggregate successfully. If any error is raised this will raise in a future version of pandas. Drop these columns/ops to avoid this warning.\n",
      "<magic-timeit>:1: FutureWarning: ['timestamp', 'quadrant_cat'] did not aggregate successfully. If any error is raised this will raise in a future version of pandas. Drop these columns/ops to avoid this warning.\n",
      "<magic-timeit>:1: FutureWarning: ['timestamp', 'quadrant_cat'] did not aggregate successfully. If any error is raised this will raise in a future version of pandas. Drop these columns/ops to avoid this warning.\n",
      "<magic-timeit>:1: FutureWarning: ['timestamp', 'quadrant_cat'] did not aggregate successfully. If any error is raised this will raise in a future version of pandas. Drop these columns/ops to avoid this warning.\n",
      "<magic-timeit>:1: FutureWarning: ['timestamp', 'quadrant_cat'] did not aggregate successfully. If any error is raised this will raise in a future version of pandas. Drop these columns/ops to avoid this warning.\n",
      "<magic-timeit>:1: FutureWarning: ['timestamp', 'quadrant_cat'] did not aggregate successfully. If any error is raised this will raise in a future version of pandas. Drop these columns/ops to avoid this warning.\n",
      "<magic-timeit>:1: FutureWarning: ['timestamp', 'quadrant_cat'] did not aggregate successfully. If any error is raised this will raise in a future version of pandas. Drop these columns/ops to avoid this warning.\n",
      "<magic-timeit>:1: FutureWarning: ['timestamp', 'quadrant_cat'] did not aggregate successfully. If any error is raised this will raise in a future version of pandas. Drop these columns/ops to avoid this warning.\n",
      "<magic-timeit>:1: FutureWarning: ['timestamp', 'quadrant_cat'] did not aggregate successfully. If any error is raised this will raise in a future version of pandas. Drop these columns/ops to avoid this warning.\n",
      "<magic-timeit>:1: FutureWarning: ['timestamp', 'quadrant_cat'] did not aggregate successfully. If any error is raised this will raise in a future version of pandas. Drop these columns/ops to avoid this warning.\n",
      "<magic-timeit>:1: FutureWarning: ['timestamp', 'quadrant_cat'] did not aggregate successfully. If any error is raised this will raise in a future version of pandas. Drop these columns/ops to avoid this warning.\n",
      "<magic-timeit>:1: FutureWarning: ['timestamp', 'quadrant_cat'] did not aggregate successfully. If any error is raised this will raise in a future version of pandas. Drop these columns/ops to avoid this warning.\n",
      "<magic-timeit>:1: FutureWarning: ['timestamp', 'quadrant_cat'] did not aggregate successfully. If any error is raised this will raise in a future version of pandas. Drop these columns/ops to avoid this warning.\n",
      "<magic-timeit>:1: FutureWarning: ['timestamp', 'quadrant_cat'] did not aggregate successfully. If any error is raised this will raise in a future version of pandas. Drop these columns/ops to avoid this warning.\n",
      "<magic-timeit>:1: FutureWarning: ['timestamp', 'quadrant_cat'] did not aggregate successfully. If any error is raised this will raise in a future version of pandas. Drop these columns/ops to avoid this warning.\n",
      "<magic-timeit>:1: FutureWarning: ['timestamp', 'quadrant_cat'] did not aggregate successfully. If any error is raised this will raise in a future version of pandas. Drop these columns/ops to avoid this warning.\n",
      "<magic-timeit>:1: FutureWarning: ['timestamp', 'quadrant_cat'] did not aggregate successfully. If any error is raised this will raise in a future version of pandas. Drop these columns/ops to avoid this warning.\n",
      "<magic-timeit>:1: FutureWarning: ['timestamp', 'quadrant_cat'] did not aggregate successfully. If any error is raised this will raise in a future version of pandas. Drop these columns/ops to avoid this warning.\n",
      "<magic-timeit>:1: FutureWarning: ['timestamp', 'quadrant_cat'] did not aggregate successfully. If any error is raised this will raise in a future version of pandas. Drop these columns/ops to avoid this warning.\n",
      "<magic-timeit>:1: FutureWarning: ['timestamp', 'quadrant_cat'] did not aggregate successfully. If any error is raised this will raise in a future version of pandas. Drop these columns/ops to avoid this warning.\n",
      "<magic-timeit>:1: FutureWarning: ['timestamp', 'quadrant_cat'] did not aggregate successfully. If any error is raised this will raise in a future version of pandas. Drop these columns/ops to avoid this warning.\n",
      "<magic-timeit>:1: FutureWarning: ['timestamp', 'quadrant_cat'] did not aggregate successfully. If any error is raised this will raise in a future version of pandas. Drop these columns/ops to avoid this warning.\n",
      "<magic-timeit>:1: FutureWarning: ['timestamp', 'quadrant_cat'] did not aggregate successfully. If any error is raised this will raise in a future version of pandas. Drop these columns/ops to avoid this warning.\n",
      "<magic-timeit>:1: FutureWarning: ['timestamp', 'quadrant_cat'] did not aggregate successfully. If any error is raised this will raise in a future version of pandas. Drop these columns/ops to avoid this warning.\n",
      "<magic-timeit>:1: FutureWarning: ['timestamp', 'quadrant_cat'] did not aggregate successfully. If any error is raised this will raise in a future version of pandas. Drop these columns/ops to avoid this warning.\n",
      "<magic-timeit>:1: FutureWarning: ['timestamp', 'quadrant_cat'] did not aggregate successfully. If any error is raised this will raise in a future version of pandas. Drop these columns/ops to avoid this warning.\n",
      "<magic-timeit>:1: FutureWarning: ['timestamp', 'quadrant_cat'] did not aggregate successfully. If any error is raised this will raise in a future version of pandas. Drop these columns/ops to avoid this warning.\n",
      "<magic-timeit>:1: FutureWarning: ['timestamp', 'quadrant_cat'] did not aggregate successfully. If any error is raised this will raise in a future version of pandas. Drop these columns/ops to avoid this warning.\n",
      "<magic-timeit>:1: FutureWarning: ['timestamp', 'quadrant_cat'] did not aggregate successfully. If any error is raised this will raise in a future version of pandas. Drop these columns/ops to avoid this warning.\n",
      "<magic-timeit>:1: FutureWarning: ['timestamp', 'quadrant_cat'] did not aggregate successfully. If any error is raised this will raise in a future version of pandas. Drop these columns/ops to avoid this warning.\n",
      "<magic-timeit>:1: FutureWarning: ['timestamp', 'quadrant_cat'] did not aggregate successfully. If any error is raised this will raise in a future version of pandas. Drop these columns/ops to avoid this warning.\n",
      "<magic-timeit>:1: FutureWarning: ['timestamp', 'quadrant_cat'] did not aggregate successfully. If any error is raised this will raise in a future version of pandas. Drop these columns/ops to avoid this warning.\n",
      "<magic-timeit>:1: FutureWarning: ['timestamp', 'quadrant_cat'] did not aggregate successfully. If any error is raised this will raise in a future version of pandas. Drop these columns/ops to avoid this warning.\n",
      "<magic-timeit>:1: FutureWarning: ['timestamp', 'quadrant_cat'] did not aggregate successfully. If any error is raised this will raise in a future version of pandas. Drop these columns/ops to avoid this warning.\n",
      "<magic-timeit>:1: FutureWarning: ['timestamp', 'quadrant_cat'] did not aggregate successfully. If any error is raised this will raise in a future version of pandas. Drop these columns/ops to avoid this warning.\n",
      "<magic-timeit>:1: FutureWarning: ['timestamp', 'quadrant_cat'] did not aggregate successfully. If any error is raised this will raise in a future version of pandas. Drop these columns/ops to avoid this warning.\n",
      "<magic-timeit>:1: FutureWarning: ['timestamp', 'quadrant_cat'] did not aggregate successfully. If any error is raised this will raise in a future version of pandas. Drop these columns/ops to avoid this warning.\n",
      "<magic-timeit>:1: FutureWarning: ['timestamp', 'quadrant_cat'] did not aggregate successfully. If any error is raised this will raise in a future version of pandas. Drop these columns/ops to avoid this warning.\n",
      "<magic-timeit>:1: FutureWarning: ['timestamp', 'quadrant_cat'] did not aggregate successfully. If any error is raised this will raise in a future version of pandas. Drop these columns/ops to avoid this warning.\n",
      "<magic-timeit>:1: FutureWarning: ['timestamp', 'quadrant_cat'] did not aggregate successfully. If any error is raised this will raise in a future version of pandas. Drop these columns/ops to avoid this warning.\n",
      "<magic-timeit>:1: FutureWarning: ['timestamp', 'quadrant_cat'] did not aggregate successfully. If any error is raised this will raise in a future version of pandas. Drop these columns/ops to avoid this warning.\n",
      "<magic-timeit>:1: FutureWarning: ['timestamp', 'quadrant_cat'] did not aggregate successfully. If any error is raised this will raise in a future version of pandas. Drop these columns/ops to avoid this warning.\n",
      "<magic-timeit>:1: FutureWarning: ['timestamp', 'quadrant_cat'] did not aggregate successfully. If any error is raised this will raise in a future version of pandas. Drop these columns/ops to avoid this warning.\n",
      "<magic-timeit>:1: FutureWarning: ['timestamp', 'quadrant_cat'] did not aggregate successfully. If any error is raised this will raise in a future version of pandas. Drop these columns/ops to avoid this warning.\n"
     ]
    },
    {
     "name": "stdout",
     "output_type": "stream",
     "text": [
      "27 ms ± 1.62 ms per loop (mean ± std. dev. of 7 runs, 10 loops each)\n"
     ]
    },
    {
     "name": "stderr",
     "output_type": "stream",
     "text": [
      "<magic-timeit>:1: FutureWarning: ['timestamp', 'quadrant_cat'] did not aggregate successfully. If any error is raised this will raise in a future version of pandas. Drop these columns/ops to avoid this warning.\n",
      "<magic-timeit>:1: FutureWarning: ['timestamp', 'quadrant_cat'] did not aggregate successfully. If any error is raised this will raise in a future version of pandas. Drop these columns/ops to avoid this warning.\n",
      "<magic-timeit>:1: FutureWarning: ['timestamp', 'quadrant_cat'] did not aggregate successfully. If any error is raised this will raise in a future version of pandas. Drop these columns/ops to avoid this warning.\n",
      "<magic-timeit>:1: FutureWarning: ['timestamp', 'quadrant_cat'] did not aggregate successfully. If any error is raised this will raise in a future version of pandas. Drop these columns/ops to avoid this warning.\n",
      "<magic-timeit>:1: FutureWarning: ['timestamp', 'quadrant_cat'] did not aggregate successfully. If any error is raised this will raise in a future version of pandas. Drop these columns/ops to avoid this warning.\n",
      "<magic-timeit>:1: FutureWarning: ['timestamp', 'quadrant_cat'] did not aggregate successfully. If any error is raised this will raise in a future version of pandas. Drop these columns/ops to avoid this warning.\n",
      "<magic-timeit>:1: FutureWarning: ['timestamp', 'quadrant_cat'] did not aggregate successfully. If any error is raised this will raise in a future version of pandas. Drop these columns/ops to avoid this warning.\n",
      "<magic-timeit>:1: FutureWarning: ['timestamp', 'quadrant_cat'] did not aggregate successfully. If any error is raised this will raise in a future version of pandas. Drop these columns/ops to avoid this warning.\n",
      "<magic-timeit>:1: FutureWarning: ['timestamp', 'quadrant_cat'] did not aggregate successfully. If any error is raised this will raise in a future version of pandas. Drop these columns/ops to avoid this warning.\n"
     ]
    }
   ],
   "source": [
    "% % timeit\n",
    "df.groupby('quadrant').agg(['count', 'mean', 'median'])\n"
   ]
  },
  {
   "cell_type": "code",
   "execution_count": null,
   "metadata": {},
   "outputs": [
    {
     "name": "stderr",
     "output_type": "stream",
     "text": [
      "C:\\Users\\sunin\\AppData\\Local\\Temp\\ipykernel_13024\\3323292655.py:2: FutureWarning: ['timestamp', 'quadrant'] did not aggregate successfully. If any error is raised this will raise in a future version of pandas. Drop these columns/ops to avoid this warning.\n",
      "  df.groupby('quadrant_cat').agg(['count', 'mean', 'median'])\n"
     ]
    },
    {
     "data": {
      "text/html": [
       "<div>\n",
       "<style scoped>\n",
       "    .dataframe tbody tr th:only-of-type {\n",
       "        vertical-align: middle;\n",
       "    }\n",
       "\n",
       "    .dataframe tbody tr th {\n",
       "        vertical-align: top;\n",
       "    }\n",
       "\n",
       "    .dataframe thead tr th {\n",
       "        text-align: left;\n",
       "    }\n",
       "\n",
       "    .dataframe thead tr:last-of-type th {\n",
       "        text-align: right;\n",
       "    }\n",
       "</style>\n",
       "<table border=\"1\" class=\"dataframe\">\n",
       "  <thead>\n",
       "    <tr>\n",
       "      <th></th>\n",
       "      <th colspan=\"3\" halign=\"left\">X</th>\n",
       "      <th colspan=\"3\" halign=\"left\">Y</th>\n",
       "      <th colspan=\"3\" halign=\"left\">Z</th>\n",
       "    </tr>\n",
       "    <tr>\n",
       "      <th></th>\n",
       "      <th>count</th>\n",
       "      <th>mean</th>\n",
       "      <th>median</th>\n",
       "      <th>count</th>\n",
       "      <th>mean</th>\n",
       "      <th>median</th>\n",
       "      <th>count</th>\n",
       "      <th>mean</th>\n",
       "      <th>median</th>\n",
       "    </tr>\n",
       "    <tr>\n",
       "      <th>quadrant_cat</th>\n",
       "      <th></th>\n",
       "      <th></th>\n",
       "      <th></th>\n",
       "      <th></th>\n",
       "      <th></th>\n",
       "      <th></th>\n",
       "      <th></th>\n",
       "      <th></th>\n",
       "      <th></th>\n",
       "    </tr>\n",
       "  </thead>\n",
       "  <tbody>\n",
       "    <tr>\n",
       "      <th>1st</th>\n",
       "      <td>5000</td>\n",
       "      <td>-54.914600</td>\n",
       "      <td>-59.0</td>\n",
       "      <td>5000</td>\n",
       "      <td>308.715400</td>\n",
       "      <td>228.0</td>\n",
       "      <td>5000</td>\n",
       "      <td>100.340400</td>\n",
       "      <td>123.0</td>\n",
       "    </tr>\n",
       "    <tr>\n",
       "      <th>2nd</th>\n",
       "      <td>33788</td>\n",
       "      <td>-71.419764</td>\n",
       "      <td>-87.0</td>\n",
       "      <td>33788</td>\n",
       "      <td>126.274121</td>\n",
       "      <td>126.0</td>\n",
       "      <td>33788</td>\n",
       "      <td>123.356931</td>\n",
       "      <td>139.0</td>\n",
       "    </tr>\n",
       "    <tr>\n",
       "      <th>3rd</th>\n",
       "      <td>19687</td>\n",
       "      <td>53.135165</td>\n",
       "      <td>29.0</td>\n",
       "      <td>19687</td>\n",
       "      <td>82.978971</td>\n",
       "      <td>74.0</td>\n",
       "      <td>19687</td>\n",
       "      <td>92.005283</td>\n",
       "      <td>88.0</td>\n",
       "    </tr>\n",
       "    <tr>\n",
       "      <th>4th</th>\n",
       "      <td>7806</td>\n",
       "      <td>61.861389</td>\n",
       "      <td>57.0</td>\n",
       "      <td>7806</td>\n",
       "      <td>365.126057</td>\n",
       "      <td>386.0</td>\n",
       "      <td>7806</td>\n",
       "      <td>63.376761</td>\n",
       "      <td>62.0</td>\n",
       "    </tr>\n",
       "  </tbody>\n",
       "</table>\n",
       "</div>"
      ],
      "text/plain": [
       "                  X                        Y                         Z  \\\n",
       "              count       mean median  count        mean median  count   \n",
       "quadrant_cat                                                             \n",
       "1st            5000 -54.914600  -59.0   5000  308.715400  228.0   5000   \n",
       "2nd           33788 -71.419764  -87.0  33788  126.274121  126.0  33788   \n",
       "3rd           19687  53.135165   29.0  19687   82.978971   74.0  19687   \n",
       "4th            7806  61.861389   57.0   7806  365.126057  386.0   7806   \n",
       "\n",
       "                                 \n",
       "                    mean median  \n",
       "quadrant_cat                     \n",
       "1st           100.340400  123.0  \n",
       "2nd           123.356931  139.0  \n",
       "3rd            92.005283   88.0  \n",
       "4th            63.376761   62.0  "
      ]
     },
     "execution_count": 11,
     "metadata": {},
     "output_type": "execute_result"
    }
   ],
   "source": [
    "# df.groupby(df['quadrant_cat']).agg(['count', 'mean', 'median'])\n",
    "df.groupby('quadrant_cat').agg(['count', 'mean', 'median'])\n"
   ]
  },
  {
   "cell_type": "code",
   "execution_count": null,
   "metadata": {},
   "outputs": [
    {
     "name": "stderr",
     "output_type": "stream",
     "text": [
      "<magic-timeit>:1: FutureWarning: ['timestamp', 'quadrant'] did not aggregate successfully. If any error is raised this will raise in a future version of pandas. Drop these columns/ops to avoid this warning.\n",
      "<magic-timeit>:1: FutureWarning: ['timestamp', 'quadrant'] did not aggregate successfully. If any error is raised this will raise in a future version of pandas. Drop these columns/ops to avoid this warning.\n",
      "<magic-timeit>:1: FutureWarning: ['timestamp', 'quadrant'] did not aggregate successfully. If any error is raised this will raise in a future version of pandas. Drop these columns/ops to avoid this warning.\n",
      "<magic-timeit>:1: FutureWarning: ['timestamp', 'quadrant'] did not aggregate successfully. If any error is raised this will raise in a future version of pandas. Drop these columns/ops to avoid this warning.\n",
      "<magic-timeit>:1: FutureWarning: ['timestamp', 'quadrant'] did not aggregate successfully. If any error is raised this will raise in a future version of pandas. Drop these columns/ops to avoid this warning.\n",
      "<magic-timeit>:1: FutureWarning: ['timestamp', 'quadrant'] did not aggregate successfully. If any error is raised this will raise in a future version of pandas. Drop these columns/ops to avoid this warning.\n",
      "<magic-timeit>:1: FutureWarning: ['timestamp', 'quadrant'] did not aggregate successfully. If any error is raised this will raise in a future version of pandas. Drop these columns/ops to avoid this warning.\n",
      "<magic-timeit>:1: FutureWarning: ['timestamp', 'quadrant'] did not aggregate successfully. If any error is raised this will raise in a future version of pandas. Drop these columns/ops to avoid this warning.\n",
      "<magic-timeit>:1: FutureWarning: ['timestamp', 'quadrant'] did not aggregate successfully. If any error is raised this will raise in a future version of pandas. Drop these columns/ops to avoid this warning.\n",
      "<magic-timeit>:1: FutureWarning: ['timestamp', 'quadrant'] did not aggregate successfully. If any error is raised this will raise in a future version of pandas. Drop these columns/ops to avoid this warning.\n",
      "<magic-timeit>:1: FutureWarning: ['timestamp', 'quadrant'] did not aggregate successfully. If any error is raised this will raise in a future version of pandas. Drop these columns/ops to avoid this warning.\n",
      "<magic-timeit>:1: FutureWarning: ['timestamp', 'quadrant'] did not aggregate successfully. If any error is raised this will raise in a future version of pandas. Drop these columns/ops to avoid this warning.\n",
      "<magic-timeit>:1: FutureWarning: ['timestamp', 'quadrant'] did not aggregate successfully. If any error is raised this will raise in a future version of pandas. Drop these columns/ops to avoid this warning.\n",
      "<magic-timeit>:1: FutureWarning: ['timestamp', 'quadrant'] did not aggregate successfully. If any error is raised this will raise in a future version of pandas. Drop these columns/ops to avoid this warning.\n",
      "<magic-timeit>:1: FutureWarning: ['timestamp', 'quadrant'] did not aggregate successfully. If any error is raised this will raise in a future version of pandas. Drop these columns/ops to avoid this warning.\n",
      "<magic-timeit>:1: FutureWarning: ['timestamp', 'quadrant'] did not aggregate successfully. If any error is raised this will raise in a future version of pandas. Drop these columns/ops to avoid this warning.\n",
      "<magic-timeit>:1: FutureWarning: ['timestamp', 'quadrant'] did not aggregate successfully. If any error is raised this will raise in a future version of pandas. Drop these columns/ops to avoid this warning.\n",
      "<magic-timeit>:1: FutureWarning: ['timestamp', 'quadrant'] did not aggregate successfully. If any error is raised this will raise in a future version of pandas. Drop these columns/ops to avoid this warning.\n",
      "<magic-timeit>:1: FutureWarning: ['timestamp', 'quadrant'] did not aggregate successfully. If any error is raised this will raise in a future version of pandas. Drop these columns/ops to avoid this warning.\n",
      "<magic-timeit>:1: FutureWarning: ['timestamp', 'quadrant'] did not aggregate successfully. If any error is raised this will raise in a future version of pandas. Drop these columns/ops to avoid this warning.\n",
      "<magic-timeit>:1: FutureWarning: ['timestamp', 'quadrant'] did not aggregate successfully. If any error is raised this will raise in a future version of pandas. Drop these columns/ops to avoid this warning.\n",
      "<magic-timeit>:1: FutureWarning: ['timestamp', 'quadrant'] did not aggregate successfully. If any error is raised this will raise in a future version of pandas. Drop these columns/ops to avoid this warning.\n",
      "<magic-timeit>:1: FutureWarning: ['timestamp', 'quadrant'] did not aggregate successfully. If any error is raised this will raise in a future version of pandas. Drop these columns/ops to avoid this warning.\n",
      "<magic-timeit>:1: FutureWarning: ['timestamp', 'quadrant'] did not aggregate successfully. If any error is raised this will raise in a future version of pandas. Drop these columns/ops to avoid this warning.\n",
      "<magic-timeit>:1: FutureWarning: ['timestamp', 'quadrant'] did not aggregate successfully. If any error is raised this will raise in a future version of pandas. Drop these columns/ops to avoid this warning.\n",
      "<magic-timeit>:1: FutureWarning: ['timestamp', 'quadrant'] did not aggregate successfully. If any error is raised this will raise in a future version of pandas. Drop these columns/ops to avoid this warning.\n",
      "<magic-timeit>:1: FutureWarning: ['timestamp', 'quadrant'] did not aggregate successfully. If any error is raised this will raise in a future version of pandas. Drop these columns/ops to avoid this warning.\n",
      "<magic-timeit>:1: FutureWarning: ['timestamp', 'quadrant'] did not aggregate successfully. If any error is raised this will raise in a future version of pandas. Drop these columns/ops to avoid this warning.\n",
      "<magic-timeit>:1: FutureWarning: ['timestamp', 'quadrant'] did not aggregate successfully. If any error is raised this will raise in a future version of pandas. Drop these columns/ops to avoid this warning.\n",
      "<magic-timeit>:1: FutureWarning: ['timestamp', 'quadrant'] did not aggregate successfully. If any error is raised this will raise in a future version of pandas. Drop these columns/ops to avoid this warning.\n",
      "<magic-timeit>:1: FutureWarning: ['timestamp', 'quadrant'] did not aggregate successfully. If any error is raised this will raise in a future version of pandas. Drop these columns/ops to avoid this warning.\n",
      "<magic-timeit>:1: FutureWarning: ['timestamp', 'quadrant'] did not aggregate successfully. If any error is raised this will raise in a future version of pandas. Drop these columns/ops to avoid this warning.\n",
      "<magic-timeit>:1: FutureWarning: ['timestamp', 'quadrant'] did not aggregate successfully. If any error is raised this will raise in a future version of pandas. Drop these columns/ops to avoid this warning.\n",
      "<magic-timeit>:1: FutureWarning: ['timestamp', 'quadrant'] did not aggregate successfully. If any error is raised this will raise in a future version of pandas. Drop these columns/ops to avoid this warning.\n",
      "<magic-timeit>:1: FutureWarning: ['timestamp', 'quadrant'] did not aggregate successfully. If any error is raised this will raise in a future version of pandas. Drop these columns/ops to avoid this warning.\n",
      "<magic-timeit>:1: FutureWarning: ['timestamp', 'quadrant'] did not aggregate successfully. If any error is raised this will raise in a future version of pandas. Drop these columns/ops to avoid this warning.\n",
      "<magic-timeit>:1: FutureWarning: ['timestamp', 'quadrant'] did not aggregate successfully. If any error is raised this will raise in a future version of pandas. Drop these columns/ops to avoid this warning.\n",
      "<magic-timeit>:1: FutureWarning: ['timestamp', 'quadrant'] did not aggregate successfully. If any error is raised this will raise in a future version of pandas. Drop these columns/ops to avoid this warning.\n",
      "<magic-timeit>:1: FutureWarning: ['timestamp', 'quadrant'] did not aggregate successfully. If any error is raised this will raise in a future version of pandas. Drop these columns/ops to avoid this warning.\n",
      "<magic-timeit>:1: FutureWarning: ['timestamp', 'quadrant'] did not aggregate successfully. If any error is raised this will raise in a future version of pandas. Drop these columns/ops to avoid this warning.\n",
      "<magic-timeit>:1: FutureWarning: ['timestamp', 'quadrant'] did not aggregate successfully. If any error is raised this will raise in a future version of pandas. Drop these columns/ops to avoid this warning.\n",
      "<magic-timeit>:1: FutureWarning: ['timestamp', 'quadrant'] did not aggregate successfully. If any error is raised this will raise in a future version of pandas. Drop these columns/ops to avoid this warning.\n",
      "<magic-timeit>:1: FutureWarning: ['timestamp', 'quadrant'] did not aggregate successfully. If any error is raised this will raise in a future version of pandas. Drop these columns/ops to avoid this warning.\n",
      "<magic-timeit>:1: FutureWarning: ['timestamp', 'quadrant'] did not aggregate successfully. If any error is raised this will raise in a future version of pandas. Drop these columns/ops to avoid this warning.\n",
      "<magic-timeit>:1: FutureWarning: ['timestamp', 'quadrant'] did not aggregate successfully. If any error is raised this will raise in a future version of pandas. Drop these columns/ops to avoid this warning.\n",
      "<magic-timeit>:1: FutureWarning: ['timestamp', 'quadrant'] did not aggregate successfully. If any error is raised this will raise in a future version of pandas. Drop these columns/ops to avoid this warning.\n",
      "<magic-timeit>:1: FutureWarning: ['timestamp', 'quadrant'] did not aggregate successfully. If any error is raised this will raise in a future version of pandas. Drop these columns/ops to avoid this warning.\n",
      "<magic-timeit>:1: FutureWarning: ['timestamp', 'quadrant'] did not aggregate successfully. If any error is raised this will raise in a future version of pandas. Drop these columns/ops to avoid this warning.\n",
      "<magic-timeit>:1: FutureWarning: ['timestamp', 'quadrant'] did not aggregate successfully. If any error is raised this will raise in a future version of pandas. Drop these columns/ops to avoid this warning.\n",
      "<magic-timeit>:1: FutureWarning: ['timestamp', 'quadrant'] did not aggregate successfully. If any error is raised this will raise in a future version of pandas. Drop these columns/ops to avoid this warning.\n",
      "<magic-timeit>:1: FutureWarning: ['timestamp', 'quadrant'] did not aggregate successfully. If any error is raised this will raise in a future version of pandas. Drop these columns/ops to avoid this warning.\n",
      "<magic-timeit>:1: FutureWarning: ['timestamp', 'quadrant'] did not aggregate successfully. If any error is raised this will raise in a future version of pandas. Drop these columns/ops to avoid this warning.\n",
      "<magic-timeit>:1: FutureWarning: ['timestamp', 'quadrant'] did not aggregate successfully. If any error is raised this will raise in a future version of pandas. Drop these columns/ops to avoid this warning.\n",
      "<magic-timeit>:1: FutureWarning: ['timestamp', 'quadrant'] did not aggregate successfully. If any error is raised this will raise in a future version of pandas. Drop these columns/ops to avoid this warning.\n",
      "<magic-timeit>:1: FutureWarning: ['timestamp', 'quadrant'] did not aggregate successfully. If any error is raised this will raise in a future version of pandas. Drop these columns/ops to avoid this warning.\n",
      "<magic-timeit>:1: FutureWarning: ['timestamp', 'quadrant'] did not aggregate successfully. If any error is raised this will raise in a future version of pandas. Drop these columns/ops to avoid this warning.\n",
      "<magic-timeit>:1: FutureWarning: ['timestamp', 'quadrant'] did not aggregate successfully. If any error is raised this will raise in a future version of pandas. Drop these columns/ops to avoid this warning.\n",
      "<magic-timeit>:1: FutureWarning: ['timestamp', 'quadrant'] did not aggregate successfully. If any error is raised this will raise in a future version of pandas. Drop these columns/ops to avoid this warning.\n",
      "<magic-timeit>:1: FutureWarning: ['timestamp', 'quadrant'] did not aggregate successfully. If any error is raised this will raise in a future version of pandas. Drop these columns/ops to avoid this warning.\n",
      "<magic-timeit>:1: FutureWarning: ['timestamp', 'quadrant'] did not aggregate successfully. If any error is raised this will raise in a future version of pandas. Drop these columns/ops to avoid this warning.\n",
      "<magic-timeit>:1: FutureWarning: ['timestamp', 'quadrant'] did not aggregate successfully. If any error is raised this will raise in a future version of pandas. Drop these columns/ops to avoid this warning.\n",
      "<magic-timeit>:1: FutureWarning: ['timestamp', 'quadrant'] did not aggregate successfully. If any error is raised this will raise in a future version of pandas. Drop these columns/ops to avoid this warning.\n",
      "<magic-timeit>:1: FutureWarning: ['timestamp', 'quadrant'] did not aggregate successfully. If any error is raised this will raise in a future version of pandas. Drop these columns/ops to avoid this warning.\n",
      "<magic-timeit>:1: FutureWarning: ['timestamp', 'quadrant'] did not aggregate successfully. If any error is raised this will raise in a future version of pandas. Drop these columns/ops to avoid this warning.\n",
      "<magic-timeit>:1: FutureWarning: ['timestamp', 'quadrant'] did not aggregate successfully. If any error is raised this will raise in a future version of pandas. Drop these columns/ops to avoid this warning.\n",
      "<magic-timeit>:1: FutureWarning: ['timestamp', 'quadrant'] did not aggregate successfully. If any error is raised this will raise in a future version of pandas. Drop these columns/ops to avoid this warning.\n",
      "<magic-timeit>:1: FutureWarning: ['timestamp', 'quadrant'] did not aggregate successfully. If any error is raised this will raise in a future version of pandas. Drop these columns/ops to avoid this warning.\n",
      "<magic-timeit>:1: FutureWarning: ['timestamp', 'quadrant'] did not aggregate successfully. If any error is raised this will raise in a future version of pandas. Drop these columns/ops to avoid this warning.\n",
      "<magic-timeit>:1: FutureWarning: ['timestamp', 'quadrant'] did not aggregate successfully. If any error is raised this will raise in a future version of pandas. Drop these columns/ops to avoid this warning.\n",
      "<magic-timeit>:1: FutureWarning: ['timestamp', 'quadrant'] did not aggregate successfully. If any error is raised this will raise in a future version of pandas. Drop these columns/ops to avoid this warning.\n",
      "<magic-timeit>:1: FutureWarning: ['timestamp', 'quadrant'] did not aggregate successfully. If any error is raised this will raise in a future version of pandas. Drop these columns/ops to avoid this warning.\n",
      "<magic-timeit>:1: FutureWarning: ['timestamp', 'quadrant'] did not aggregate successfully. If any error is raised this will raise in a future version of pandas. Drop these columns/ops to avoid this warning.\n",
      "<magic-timeit>:1: FutureWarning: ['timestamp', 'quadrant'] did not aggregate successfully. If any error is raised this will raise in a future version of pandas. Drop these columns/ops to avoid this warning.\n",
      "<magic-timeit>:1: FutureWarning: ['timestamp', 'quadrant'] did not aggregate successfully. If any error is raised this will raise in a future version of pandas. Drop these columns/ops to avoid this warning.\n",
      "<magic-timeit>:1: FutureWarning: ['timestamp', 'quadrant'] did not aggregate successfully. If any error is raised this will raise in a future version of pandas. Drop these columns/ops to avoid this warning.\n",
      "<magic-timeit>:1: FutureWarning: ['timestamp', 'quadrant'] did not aggregate successfully. If any error is raised this will raise in a future version of pandas. Drop these columns/ops to avoid this warning.\n",
      "<magic-timeit>:1: FutureWarning: ['timestamp', 'quadrant'] did not aggregate successfully. If any error is raised this will raise in a future version of pandas. Drop these columns/ops to avoid this warning.\n"
     ]
    },
    {
     "name": "stdout",
     "output_type": "stream",
     "text": [
      "29.4 ms ± 637 µs per loop (mean ± std. dev. of 7 runs, 10 loops each)\n"
     ]
    },
    {
     "name": "stderr",
     "output_type": "stream",
     "text": [
      "<magic-timeit>:1: FutureWarning: ['timestamp', 'quadrant'] did not aggregate successfully. If any error is raised this will raise in a future version of pandas. Drop these columns/ops to avoid this warning.\n",
      "<magic-timeit>:1: FutureWarning: ['timestamp', 'quadrant'] did not aggregate successfully. If any error is raised this will raise in a future version of pandas. Drop these columns/ops to avoid this warning.\n",
      "<magic-timeit>:1: FutureWarning: ['timestamp', 'quadrant'] did not aggregate successfully. If any error is raised this will raise in a future version of pandas. Drop these columns/ops to avoid this warning.\n",
      "<magic-timeit>:1: FutureWarning: ['timestamp', 'quadrant'] did not aggregate successfully. If any error is raised this will raise in a future version of pandas. Drop these columns/ops to avoid this warning.\n"
     ]
    }
   ],
   "source": [
    "% % timeit\n",
    "df.groupby(df['quadrant_cat']).agg(['count', 'mean', 'median'])\n"
   ]
  },
  {
   "cell_type": "code",
   "execution_count": null,
   "metadata": {},
   "outputs": [
    {
     "data": {
      "text/plain": [
       "530248"
      ]
     },
     "execution_count": 13,
     "metadata": {},
     "output_type": "execute_result"
    }
   ],
   "source": [
    "df['quadrant'].nbytes\n"
   ]
  },
  {
   "cell_type": "code",
   "execution_count": null,
   "metadata": {},
   "outputs": [
    {
     "data": {
      "text/plain": [
       "66313"
      ]
     },
     "execution_count": 14,
     "metadata": {},
     "output_type": "execute_result"
    }
   ],
   "source": [
    "df['quadrant_cat'].nbytes\n"
   ]
  },
  {
   "cell_type": "code",
   "execution_count": null,
   "metadata": {},
   "outputs": [
    {
     "data": {
      "text/plain": [
       "0    3rd\n",
       "1    3rd\n",
       "2    3rd\n",
       "3    3rd\n",
       "4    3rd\n",
       "Name: quadrant, dtype: object"
      ]
     },
     "execution_count": 15,
     "metadata": {},
     "output_type": "execute_result"
    }
   ],
   "source": [
    "df['quadrant'].head()\n"
   ]
  },
  {
   "cell_type": "code",
   "execution_count": null,
   "metadata": {},
   "outputs": [
    {
     "data": {
      "text/plain": [
       "0    3rd\n",
       "1    3rd\n",
       "2    3rd\n",
       "3    3rd\n",
       "4    3rd\n",
       "Name: quadrant_cat, dtype: category\n",
       "Categories (4, object): ['1st', '2nd', '3rd', '4th']"
      ]
     },
     "execution_count": 16,
     "metadata": {},
     "output_type": "execute_result"
    }
   ],
   "source": [
    "df['quadrant_cat'].head()\n"
   ]
  },
  {
   "cell_type": "code",
   "execution_count": null,
   "metadata": {},
   "outputs": [
    {
     "data": {
      "text/plain": [
       "0.12506034911965722"
      ]
     },
     "execution_count": 17,
     "metadata": {},
     "output_type": "execute_result"
    }
   ],
   "source": [
    "df['quadrant_cat'].nbytes/df['quadrant'].nbytes\n"
   ]
  },
  {
   "cell_type": "code",
   "execution_count": null,
   "metadata": {},
   "outputs": [
    {
     "data": {
      "text/plain": [
       "<pandas.core.arrays.categorical.CategoricalAccessor object at 0x00000174A427D660>"
      ]
     },
     "execution_count": 18,
     "metadata": {},
     "output_type": "execute_result"
    }
   ],
   "source": [
    "df['quadrant_cat'].cat\n"
   ]
  },
  {
   "cell_type": "code",
   "execution_count": null,
   "metadata": {},
   "outputs": [
    {
     "data": {
      "text/plain": [
       "0        2\n",
       "1        2\n",
       "2        2\n",
       "3        2\n",
       "4        2\n",
       "        ..\n",
       "66276    1\n",
       "66277    1\n",
       "66278    1\n",
       "66279    1\n",
       "66280    1\n",
       "Length: 66281, dtype: int8"
      ]
     },
     "execution_count": 19,
     "metadata": {},
     "output_type": "execute_result"
    }
   ],
   "source": [
    "df['quadrant_cat'].cat.codes\n"
   ]
  },
  {
   "cell_type": "code",
   "execution_count": null,
   "metadata": {},
   "outputs": [
    {
     "data": {
      "text/plain": [
       "Index(['1st', '2nd', '3rd', '4th'], dtype='object')"
      ]
     },
     "execution_count": 20,
     "metadata": {},
     "output_type": "execute_result"
    }
   ],
   "source": [
    "df['quadrant_cat'].cat.categories\n"
   ]
  },
  {
   "cell_type": "code",
   "execution_count": null,
   "metadata": {},
   "outputs": [
    {
     "data": {
      "text/plain": [
       "array([2, 1, 3, 0], dtype=int8)"
      ]
     },
     "execution_count": 21,
     "metadata": {},
     "output_type": "execute_result"
    }
   ],
   "source": [
    "df['quadrant_cat'].cat.codes.unique()\n"
   ]
  },
  {
   "cell_type": "code",
   "execution_count": null,
   "metadata": {},
   "outputs": [
    {
     "data": {
      "text/plain": [
       "<function ndarray.sort>"
      ]
     },
     "execution_count": 9,
     "metadata": {},
     "output_type": "execute_result"
    }
   ],
   "source": []
  },
  {
   "cell_type": "code",
   "execution_count": null,
   "metadata": {},
   "outputs": [
    {
     "data": {
      "text/plain": [
       "66276    2nd\n",
       "66277    2nd\n",
       "66278    2nd\n",
       "66279    2nd\n",
       "66280    2nd\n",
       "Name: quadrant, dtype: object"
      ]
     },
     "execution_count": 22,
     "metadata": {},
     "output_type": "execute_result"
    }
   ],
   "source": [
    "df['quadrant'].tail()\n"
   ]
  },
  {
   "cell_type": "code",
   "execution_count": null,
   "metadata": {},
   "outputs": [
    {
     "data": {
      "text/html": [
       "<div>\n",
       "<style scoped>\n",
       "    .dataframe tbody tr th:only-of-type {\n",
       "        vertical-align: middle;\n",
       "    }\n",
       "\n",
       "    .dataframe tbody tr th {\n",
       "        vertical-align: top;\n",
       "    }\n",
       "\n",
       "    .dataframe thead th {\n",
       "        text-align: right;\n",
       "    }\n",
       "</style>\n",
       "<table border=\"1\" class=\"dataframe\">\n",
       "  <thead>\n",
       "    <tr style=\"text-align: right;\">\n",
       "      <th></th>\n",
       "      <th>timestamp</th>\n",
       "      <th>X</th>\n",
       "      <th>Y</th>\n",
       "      <th>Z</th>\n",
       "      <th>quadrant</th>\n",
       "      <th>quadrant_cat</th>\n",
       "    </tr>\n",
       "  </thead>\n",
       "  <tbody>\n",
       "    <tr>\n",
       "      <th>87</th>\n",
       "      <td>2022-01-01 04:35:46.452</td>\n",
       "      <td>-34</td>\n",
       "      <td>463</td>\n",
       "      <td>40</td>\n",
       "      <td>1st</td>\n",
       "      <td>1st</td>\n",
       "    </tr>\n",
       "    <tr>\n",
       "      <th>88</th>\n",
       "      <td>2022-01-01 04:35:48.954</td>\n",
       "      <td>-37</td>\n",
       "      <td>471</td>\n",
       "      <td>36</td>\n",
       "      <td>1st</td>\n",
       "      <td>1st</td>\n",
       "    </tr>\n",
       "    <tr>\n",
       "      <th>89</th>\n",
       "      <td>2022-01-01 04:35:51.457</td>\n",
       "      <td>-52</td>\n",
       "      <td>463</td>\n",
       "      <td>45</td>\n",
       "      <td>1st</td>\n",
       "      <td>1st</td>\n",
       "    </tr>\n",
       "    <tr>\n",
       "      <th>90</th>\n",
       "      <td>2022-01-01 04:35:54.054</td>\n",
       "      <td>-41</td>\n",
       "      <td>452</td>\n",
       "      <td>54</td>\n",
       "      <td>1st</td>\n",
       "      <td>1st</td>\n",
       "    </tr>\n",
       "    <tr>\n",
       "      <th>91</th>\n",
       "      <td>2022-01-01 04:35:56.654</td>\n",
       "      <td>-38</td>\n",
       "      <td>443</td>\n",
       "      <td>44</td>\n",
       "      <td>1st</td>\n",
       "      <td>1st</td>\n",
       "    </tr>\n",
       "    <tr>\n",
       "      <th>...</th>\n",
       "      <td>...</td>\n",
       "      <td>...</td>\n",
       "      <td>...</td>\n",
       "      <td>...</td>\n",
       "      <td>...</td>\n",
       "      <td>...</td>\n",
       "    </tr>\n",
       "    <tr>\n",
       "      <th>66060</th>\n",
       "      <td>2022-01-31 18:45:25.993</td>\n",
       "      <td>-81</td>\n",
       "      <td>213</td>\n",
       "      <td>149</td>\n",
       "      <td>1st</td>\n",
       "      <td>1st</td>\n",
       "    </tr>\n",
       "    <tr>\n",
       "      <th>66062</th>\n",
       "      <td>2022-01-31 18:46:13.797</td>\n",
       "      <td>-78</td>\n",
       "      <td>203</td>\n",
       "      <td>145</td>\n",
       "      <td>1st</td>\n",
       "      <td>1st</td>\n",
       "    </tr>\n",
       "    <tr>\n",
       "      <th>66074</th>\n",
       "      <td>2022-01-31 18:53:27.919</td>\n",
       "      <td>-78</td>\n",
       "      <td>201</td>\n",
       "      <td>146</td>\n",
       "      <td>1st</td>\n",
       "      <td>1st</td>\n",
       "    </tr>\n",
       "    <tr>\n",
       "      <th>66089</th>\n",
       "      <td>2022-01-31 18:58:56.867</td>\n",
       "      <td>-84</td>\n",
       "      <td>210</td>\n",
       "      <td>144</td>\n",
       "      <td>1st</td>\n",
       "      <td>1st</td>\n",
       "    </tr>\n",
       "    <tr>\n",
       "      <th>66139</th>\n",
       "      <td>2022-01-31 19:20:57.035</td>\n",
       "      <td>-54</td>\n",
       "      <td>226</td>\n",
       "      <td>158</td>\n",
       "      <td>1st</td>\n",
       "      <td>1st</td>\n",
       "    </tr>\n",
       "  </tbody>\n",
       "</table>\n",
       "<p>5000 rows × 6 columns</p>\n",
       "</div>"
      ],
      "text/plain": [
       "                     timestamp   X    Y    Z quadrant quadrant_cat\n",
       "87     2022-01-01 04:35:46.452 -34  463   40      1st          1st\n",
       "88     2022-01-01 04:35:48.954 -37  471   36      1st          1st\n",
       "89     2022-01-01 04:35:51.457 -52  463   45      1st          1st\n",
       "90     2022-01-01 04:35:54.054 -41  452   54      1st          1st\n",
       "91     2022-01-01 04:35:56.654 -38  443   44      1st          1st\n",
       "...                        ...  ..  ...  ...      ...          ...\n",
       "66060  2022-01-31 18:45:25.993 -81  213  149      1st          1st\n",
       "66062  2022-01-31 18:46:13.797 -78  203  145      1st          1st\n",
       "66074  2022-01-31 18:53:27.919 -78  201  146      1st          1st\n",
       "66089  2022-01-31 18:58:56.867 -84  210  144      1st          1st\n",
       "66139  2022-01-31 19:20:57.035 -54  226  158      1st          1st\n",
       "\n",
       "[5000 rows x 6 columns]"
      ]
     },
     "execution_count": 23,
     "metadata": {},
     "output_type": "execute_result"
    }
   ],
   "source": [
    "df[df['quadrant_cat'].cat.codes == 0]\n"
   ]
  },
  {
   "cell_type": "markdown",
   "metadata": {},
   "source": []
  },
  {
   "cell_type": "code",
   "execution_count": null,
   "metadata": {},
   "outputs": [],
   "source": []
  },
  {
   "cell_type": "code",
   "execution_count": null,
   "metadata": {},
   "outputs": [],
   "source": []
  },
  {
   "attachments": {},
   "cell_type": "markdown",
   "metadata": {},
   "source": [
    "# Enum 다루기"
   ]
  },
  {
   "cell_type": "code",
   "execution_count": null,
   "metadata": {},
   "outputs": [
    {
     "name": "stdout",
     "output_type": "stream",
     "text": [
      "Q1st : 1\n",
      "Q2dn : 2\n",
      "Q3rd : 3\n",
      "Q4th : 4\n",
      "Others : 5\n"
     ]
    }
   ],
   "source": [
    "from enum import Enum\n",
    "\n",
    "\n",
    "class Quadrant(Enum):\n",
    "    Q1st = 1\n",
    "    Q2dn = 2\n",
    "    Q3rd = 3\n",
    "    Q4th = 4\n",
    "    Others = 5\n",
    "\n",
    "    def __lt__(self, other):\n",
    "        if self.__class__ is other.__class__:\n",
    "            return self.value < other.value\n",
    "\n",
    "        return NotImplemented\n",
    "\n",
    "\n",
    "for q in Quadrant:\n",
    "    print(q.name + \" : \" + str(q.value))\n"
   ]
  },
  {
   "cell_type": "code",
   "execution_count": null,
   "metadata": {},
   "outputs": [
    {
     "ename": "NameError",
     "evalue": "name 'Quadrant' is not defined",
     "output_type": "error",
     "traceback": [
      "\u001b[1;31m---------------------------------------------------------------------------\u001b[0m",
      "\u001b[1;31mNameError\u001b[0m                                 Traceback (most recent call last)",
      "Cell \u001b[1;32mIn[8], line 14\u001b[0m\n\u001b[0;32m     11\u001b[0m   \u001b[39melse\u001b[39;00m:\n\u001b[0;32m     12\u001b[0m     \u001b[39mreturn\u001b[39;00m Quadrant\u001b[39m.\u001b[39mOthers\n\u001b[1;32m---> 14\u001b[0m df[\u001b[39m'\u001b[39m\u001b[39mquadrant_enum\u001b[39m\u001b[39m'\u001b[39m] \u001b[39m=\u001b[39m df\u001b[39m.\u001b[39;49mapply(make_quadrant_with_enum, axis\u001b[39m=\u001b[39;49m\u001b[39m1\u001b[39;49m)\n\u001b[0;32m     15\u001b[0m df\n",
      "File \u001b[1;32mc:\\Python310\\lib\\site-packages\\pandas\\core\\frame.py:9565\u001b[0m, in \u001b[0;36mDataFrame.apply\u001b[1;34m(self, func, axis, raw, result_type, args, **kwargs)\u001b[0m\n\u001b[0;32m   9554\u001b[0m \u001b[39mfrom\u001b[39;00m \u001b[39mpandas\u001b[39;00m\u001b[39m.\u001b[39;00m\u001b[39mcore\u001b[39;00m\u001b[39m.\u001b[39;00m\u001b[39mapply\u001b[39;00m \u001b[39mimport\u001b[39;00m frame_apply\n\u001b[0;32m   9556\u001b[0m op \u001b[39m=\u001b[39m frame_apply(\n\u001b[0;32m   9557\u001b[0m     \u001b[39mself\u001b[39m,\n\u001b[0;32m   9558\u001b[0m     func\u001b[39m=\u001b[39mfunc,\n\u001b[1;32m   (...)\u001b[0m\n\u001b[0;32m   9563\u001b[0m     kwargs\u001b[39m=\u001b[39mkwargs,\n\u001b[0;32m   9564\u001b[0m )\n\u001b[1;32m-> 9565\u001b[0m \u001b[39mreturn\u001b[39;00m op\u001b[39m.\u001b[39;49mapply()\u001b[39m.\u001b[39m__finalize__(\u001b[39mself\u001b[39m, method\u001b[39m=\u001b[39m\u001b[39m\"\u001b[39m\u001b[39mapply\u001b[39m\u001b[39m\"\u001b[39m)\n",
      "File \u001b[1;32mc:\\Python310\\lib\\site-packages\\pandas\\core\\apply.py:746\u001b[0m, in \u001b[0;36mFrameApply.apply\u001b[1;34m(self)\u001b[0m\n\u001b[0;32m    743\u001b[0m \u001b[39melif\u001b[39;00m \u001b[39mself\u001b[39m\u001b[39m.\u001b[39mraw:\n\u001b[0;32m    744\u001b[0m     \u001b[39mreturn\u001b[39;00m \u001b[39mself\u001b[39m\u001b[39m.\u001b[39mapply_raw()\n\u001b[1;32m--> 746\u001b[0m \u001b[39mreturn\u001b[39;00m \u001b[39mself\u001b[39;49m\u001b[39m.\u001b[39;49mapply_standard()\n",
      "File \u001b[1;32mc:\\Python310\\lib\\site-packages\\pandas\\core\\apply.py:873\u001b[0m, in \u001b[0;36mFrameApply.apply_standard\u001b[1;34m(self)\u001b[0m\n\u001b[0;32m    872\u001b[0m \u001b[39mdef\u001b[39;00m \u001b[39mapply_standard\u001b[39m(\u001b[39mself\u001b[39m):\n\u001b[1;32m--> 873\u001b[0m     results, res_index \u001b[39m=\u001b[39m \u001b[39mself\u001b[39;49m\u001b[39m.\u001b[39;49mapply_series_generator()\n\u001b[0;32m    875\u001b[0m     \u001b[39m# wrap results\u001b[39;00m\n\u001b[0;32m    876\u001b[0m     \u001b[39mreturn\u001b[39;00m \u001b[39mself\u001b[39m\u001b[39m.\u001b[39mwrap_results(results, res_index)\n",
      "File \u001b[1;32mc:\\Python310\\lib\\site-packages\\pandas\\core\\apply.py:889\u001b[0m, in \u001b[0;36mFrameApply.apply_series_generator\u001b[1;34m(self)\u001b[0m\n\u001b[0;32m    886\u001b[0m \u001b[39mwith\u001b[39;00m option_context(\u001b[39m\"\u001b[39m\u001b[39mmode.chained_assignment\u001b[39m\u001b[39m\"\u001b[39m, \u001b[39mNone\u001b[39;00m):\n\u001b[0;32m    887\u001b[0m     \u001b[39mfor\u001b[39;00m i, v \u001b[39min\u001b[39;00m \u001b[39menumerate\u001b[39m(series_gen):\n\u001b[0;32m    888\u001b[0m         \u001b[39m# ignore SettingWithCopy here in case the user mutates\u001b[39;00m\n\u001b[1;32m--> 889\u001b[0m         results[i] \u001b[39m=\u001b[39m \u001b[39mself\u001b[39;49m\u001b[39m.\u001b[39;49mf(v)\n\u001b[0;32m    890\u001b[0m         \u001b[39mif\u001b[39;00m \u001b[39misinstance\u001b[39m(results[i], ABCSeries):\n\u001b[0;32m    891\u001b[0m             \u001b[39m# If we have a view on v, we need to make a copy because\u001b[39;00m\n\u001b[0;32m    892\u001b[0m             \u001b[39m#  series_generator will swap out the underlying data\u001b[39;00m\n\u001b[0;32m    893\u001b[0m             results[i] \u001b[39m=\u001b[39m results[i]\u001b[39m.\u001b[39mcopy(deep\u001b[39m=\u001b[39m\u001b[39mFalse\u001b[39;00m)\n",
      "Cell \u001b[1;32mIn[8], line 10\u001b[0m, in \u001b[0;36mmake_quadrant_with_enum\u001b[1;34m(df)\u001b[0m\n\u001b[0;32m      8\u001b[0m   \u001b[39mreturn\u001b[39;00m Quadrant\u001b[39m.\u001b[39mQ3rd\n\u001b[0;32m      9\u001b[0m \u001b[39melif\u001b[39;00m df[\u001b[39m'\u001b[39m\u001b[39mX\u001b[39m\u001b[39m'\u001b[39m] \u001b[39m>\u001b[39m\u001b[39m=\u001b[39m \u001b[39m0\u001b[39m \u001b[39mand\u001b[39;00m df[\u001b[39m'\u001b[39m\u001b[39mY\u001b[39m\u001b[39m'\u001b[39m] \u001b[39m<\u001b[39m \u001b[39m200\u001b[39m:\n\u001b[1;32m---> 10\u001b[0m   \u001b[39mreturn\u001b[39;00m Quadrant\u001b[39m.\u001b[39mQ4th\n\u001b[0;32m     11\u001b[0m \u001b[39melse\u001b[39;00m:\n\u001b[0;32m     12\u001b[0m   \u001b[39mreturn\u001b[39;00m Quadrant\u001b[39m.\u001b[39mOthers\n",
      "\u001b[1;31mNameError\u001b[0m: name 'Quadrant' is not defined"
     ]
    }
   ],
   "source": [
    "# (x,y) = (0, 200)을 기준으로 사분면 정하기\n",
    "def make_quadrant_with_enum(df):\n",
    "  if df['X'] >= 0 and df['Y'] >= 200:\n",
    "    return Quadrant.Q1st\n",
    "  elif df['X'] < 0 and df['Y'] >= 200:\n",
    "    return Quadrant.Q2dn\n",
    "  elif df['X'] < 0 and df['Y'] < 200:\n",
    "    return Quadrant.Q3rd\n",
    "  elif df['X'] >= 0 and df['Y'] < 200:\n",
    "    return Quadrant.Q4th\n",
    "  else:\n",
    "    return Quadrant.Others\n",
    "\n",
    "df['quadrant_enum'] = df.apply(make_quadrant_with_enum, axis=1)\n",
    "df\n"
   ]
  },
  {
   "cell_type": "code",
   "execution_count": null,
   "metadata": {},
   "outputs": [
    {
     "data": {
      "text/plain": [
       "timestamp          object\n",
       "X                   int64\n",
       "Y                   int64\n",
       "Z                   int64\n",
       "quadrant           object\n",
       "quadrant_cat     category\n",
       "quadrant_enum      object\n",
       "dtype: object"
      ]
     },
     "execution_count": 13,
     "metadata": {},
     "output_type": "execute_result"
    }
   ],
   "source": [
    "df.dtypes\n"
   ]
  },
  {
   "cell_type": "code",
   "execution_count": null,
   "metadata": {},
   "outputs": [
    {
     "data": {
      "text/plain": [
       "530248"
      ]
     },
     "execution_count": 14,
     "metadata": {},
     "output_type": "execute_result"
    }
   ],
   "source": [
    "df['quadrant_enum'].nbytes\n"
   ]
  },
  {
   "cell_type": "code",
   "execution_count": null,
   "metadata": {},
   "outputs": [
    {
     "data": {
      "text/plain": [
       "1.0"
      ]
     },
     "execution_count": 15,
     "metadata": {},
     "output_type": "execute_result"
    }
   ],
   "source": [
    "df['quadrant_enum'].nbytes/df['quadrant'].nbytes\n"
   ]
  },
  {
   "cell_type": "code",
   "execution_count": null,
   "metadata": {},
   "outputs": [
    {
     "data": {
      "text/plain": [
       "'Q4th'"
      ]
     },
     "execution_count": 16,
     "metadata": {},
     "output_type": "execute_result"
    }
   ],
   "source": [
    "df['quadrant_enum'].iloc[0].name\n"
   ]
  },
  {
   "cell_type": "code",
   "execution_count": null,
   "metadata": {},
   "outputs": [
    {
     "data": {
      "text/plain": [
       "4"
      ]
     },
     "execution_count": 17,
     "metadata": {},
     "output_type": "execute_result"
    }
   ],
   "source": [
    "df['quadrant_enum'].iloc[0].value\n"
   ]
  },
  {
   "cell_type": "code",
   "execution_count": null,
   "metadata": {},
   "outputs": [
    {
     "data": {
      "text/plain": [
       "'quadrant_enum'"
      ]
     },
     "execution_count": 18,
     "metadata": {},
     "output_type": "execute_result"
    }
   ],
   "source": [
    "df['quadrant_enum'].loc[:].name\n"
   ]
  },
  {
   "cell_type": "code",
   "execution_count": null,
   "metadata": {},
   "outputs": [
    {
     "data": {
      "text/plain": [
       "timestamp          object\n",
       "X                   int64\n",
       "Y                   int64\n",
       "Z                   int64\n",
       "quadrant           object\n",
       "quadrant_cat     category\n",
       "quadrant_enum      object\n",
       "dtype: object"
      ]
     },
     "execution_count": 19,
     "metadata": {},
     "output_type": "execute_result"
    }
   ],
   "source": [
    "df.dtypes\n"
   ]
  },
  {
   "cell_type": "code",
   "execution_count": null,
   "metadata": {},
   "outputs": [
    {
     "name": "stderr",
     "output_type": "stream",
     "text": [
      "<magic-timeit>:1: FutureWarning: ['timestamp', 'quadrant', 'quadrant_cat'] did not aggregate successfully. If any error is raised this will raise in a future version of pandas. Drop these columns/ops to avoid this warning.\n",
      "<magic-timeit>:1: FutureWarning: ['timestamp', 'quadrant', 'quadrant_cat'] did not aggregate successfully. If any error is raised this will raise in a future version of pandas. Drop these columns/ops to avoid this warning.\n",
      "<magic-timeit>:1: FutureWarning: ['timestamp', 'quadrant', 'quadrant_cat'] did not aggregate successfully. If any error is raised this will raise in a future version of pandas. Drop these columns/ops to avoid this warning.\n",
      "<magic-timeit>:1: FutureWarning: ['timestamp', 'quadrant', 'quadrant_cat'] did not aggregate successfully. If any error is raised this will raise in a future version of pandas. Drop these columns/ops to avoid this warning.\n",
      "<magic-timeit>:1: FutureWarning: ['timestamp', 'quadrant', 'quadrant_cat'] did not aggregate successfully. If any error is raised this will raise in a future version of pandas. Drop these columns/ops to avoid this warning.\n",
      "<magic-timeit>:1: FutureWarning: ['timestamp', 'quadrant', 'quadrant_cat'] did not aggregate successfully. If any error is raised this will raise in a future version of pandas. Drop these columns/ops to avoid this warning.\n",
      "<magic-timeit>:1: FutureWarning: ['timestamp', 'quadrant', 'quadrant_cat'] did not aggregate successfully. If any error is raised this will raise in a future version of pandas. Drop these columns/ops to avoid this warning.\n",
      "<magic-timeit>:1: FutureWarning: ['timestamp', 'quadrant', 'quadrant_cat'] did not aggregate successfully. If any error is raised this will raise in a future version of pandas. Drop these columns/ops to avoid this warning.\n",
      "<magic-timeit>:1: FutureWarning: ['timestamp', 'quadrant', 'quadrant_cat'] did not aggregate successfully. If any error is raised this will raise in a future version of pandas. Drop these columns/ops to avoid this warning.\n",
      "<magic-timeit>:1: FutureWarning: ['timestamp', 'quadrant', 'quadrant_cat'] did not aggregate successfully. If any error is raised this will raise in a future version of pandas. Drop these columns/ops to avoid this warning.\n",
      "<magic-timeit>:1: FutureWarning: ['timestamp', 'quadrant', 'quadrant_cat'] did not aggregate successfully. If any error is raised this will raise in a future version of pandas. Drop these columns/ops to avoid this warning.\n",
      "<magic-timeit>:1: FutureWarning: ['timestamp', 'quadrant', 'quadrant_cat'] did not aggregate successfully. If any error is raised this will raise in a future version of pandas. Drop these columns/ops to avoid this warning.\n",
      "<magic-timeit>:1: FutureWarning: ['timestamp', 'quadrant', 'quadrant_cat'] did not aggregate successfully. If any error is raised this will raise in a future version of pandas. Drop these columns/ops to avoid this warning.\n",
      "<magic-timeit>:1: FutureWarning: ['timestamp', 'quadrant', 'quadrant_cat'] did not aggregate successfully. If any error is raised this will raise in a future version of pandas. Drop these columns/ops to avoid this warning.\n",
      "<magic-timeit>:1: FutureWarning: ['timestamp', 'quadrant', 'quadrant_cat'] did not aggregate successfully. If any error is raised this will raise in a future version of pandas. Drop these columns/ops to avoid this warning.\n",
      "<magic-timeit>:1: FutureWarning: ['timestamp', 'quadrant', 'quadrant_cat'] did not aggregate successfully. If any error is raised this will raise in a future version of pandas. Drop these columns/ops to avoid this warning.\n",
      "<magic-timeit>:1: FutureWarning: ['timestamp', 'quadrant', 'quadrant_cat'] did not aggregate successfully. If any error is raised this will raise in a future version of pandas. Drop these columns/ops to avoid this warning.\n",
      "<magic-timeit>:1: FutureWarning: ['timestamp', 'quadrant', 'quadrant_cat'] did not aggregate successfully. If any error is raised this will raise in a future version of pandas. Drop these columns/ops to avoid this warning.\n",
      "<magic-timeit>:1: FutureWarning: ['timestamp', 'quadrant', 'quadrant_cat'] did not aggregate successfully. If any error is raised this will raise in a future version of pandas. Drop these columns/ops to avoid this warning.\n",
      "<magic-timeit>:1: FutureWarning: ['timestamp', 'quadrant', 'quadrant_cat'] did not aggregate successfully. If any error is raised this will raise in a future version of pandas. Drop these columns/ops to avoid this warning.\n",
      "<magic-timeit>:1: FutureWarning: ['timestamp', 'quadrant', 'quadrant_cat'] did not aggregate successfully. If any error is raised this will raise in a future version of pandas. Drop these columns/ops to avoid this warning.\n",
      "<magic-timeit>:1: FutureWarning: ['timestamp', 'quadrant', 'quadrant_cat'] did not aggregate successfully. If any error is raised this will raise in a future version of pandas. Drop these columns/ops to avoid this warning.\n",
      "<magic-timeit>:1: FutureWarning: ['timestamp', 'quadrant', 'quadrant_cat'] did not aggregate successfully. If any error is raised this will raise in a future version of pandas. Drop these columns/ops to avoid this warning.\n",
      "<magic-timeit>:1: FutureWarning: ['timestamp', 'quadrant', 'quadrant_cat'] did not aggregate successfully. If any error is raised this will raise in a future version of pandas. Drop these columns/ops to avoid this warning.\n",
      "<magic-timeit>:1: FutureWarning: ['timestamp', 'quadrant', 'quadrant_cat'] did not aggregate successfully. If any error is raised this will raise in a future version of pandas. Drop these columns/ops to avoid this warning.\n",
      "<magic-timeit>:1: FutureWarning: ['timestamp', 'quadrant', 'quadrant_cat'] did not aggregate successfully. If any error is raised this will raise in a future version of pandas. Drop these columns/ops to avoid this warning.\n",
      "<magic-timeit>:1: FutureWarning: ['timestamp', 'quadrant', 'quadrant_cat'] did not aggregate successfully. If any error is raised this will raise in a future version of pandas. Drop these columns/ops to avoid this warning.\n",
      "<magic-timeit>:1: FutureWarning: ['timestamp', 'quadrant', 'quadrant_cat'] did not aggregate successfully. If any error is raised this will raise in a future version of pandas. Drop these columns/ops to avoid this warning.\n",
      "<magic-timeit>:1: FutureWarning: ['timestamp', 'quadrant', 'quadrant_cat'] did not aggregate successfully. If any error is raised this will raise in a future version of pandas. Drop these columns/ops to avoid this warning.\n",
      "<magic-timeit>:1: FutureWarning: ['timestamp', 'quadrant', 'quadrant_cat'] did not aggregate successfully. If any error is raised this will raise in a future version of pandas. Drop these columns/ops to avoid this warning.\n",
      "<magic-timeit>:1: FutureWarning: ['timestamp', 'quadrant', 'quadrant_cat'] did not aggregate successfully. If any error is raised this will raise in a future version of pandas. Drop these columns/ops to avoid this warning.\n",
      "<magic-timeit>:1: FutureWarning: ['timestamp', 'quadrant', 'quadrant_cat'] did not aggregate successfully. If any error is raised this will raise in a future version of pandas. Drop these columns/ops to avoid this warning.\n",
      "<magic-timeit>:1: FutureWarning: ['timestamp', 'quadrant', 'quadrant_cat'] did not aggregate successfully. If any error is raised this will raise in a future version of pandas. Drop these columns/ops to avoid this warning.\n",
      "<magic-timeit>:1: FutureWarning: ['timestamp', 'quadrant', 'quadrant_cat'] did not aggregate successfully. If any error is raised this will raise in a future version of pandas. Drop these columns/ops to avoid this warning.\n",
      "<magic-timeit>:1: FutureWarning: ['timestamp', 'quadrant', 'quadrant_cat'] did not aggregate successfully. If any error is raised this will raise in a future version of pandas. Drop these columns/ops to avoid this warning.\n",
      "<magic-timeit>:1: FutureWarning: ['timestamp', 'quadrant', 'quadrant_cat'] did not aggregate successfully. If any error is raised this will raise in a future version of pandas. Drop these columns/ops to avoid this warning.\n",
      "<magic-timeit>:1: FutureWarning: ['timestamp', 'quadrant', 'quadrant_cat'] did not aggregate successfully. If any error is raised this will raise in a future version of pandas. Drop these columns/ops to avoid this warning.\n",
      "<magic-timeit>:1: FutureWarning: ['timestamp', 'quadrant', 'quadrant_cat'] did not aggregate successfully. If any error is raised this will raise in a future version of pandas. Drop these columns/ops to avoid this warning.\n",
      "<magic-timeit>:1: FutureWarning: ['timestamp', 'quadrant', 'quadrant_cat'] did not aggregate successfully. If any error is raised this will raise in a future version of pandas. Drop these columns/ops to avoid this warning.\n",
      "<magic-timeit>:1: FutureWarning: ['timestamp', 'quadrant', 'quadrant_cat'] did not aggregate successfully. If any error is raised this will raise in a future version of pandas. Drop these columns/ops to avoid this warning.\n",
      "<magic-timeit>:1: FutureWarning: ['timestamp', 'quadrant', 'quadrant_cat'] did not aggregate successfully. If any error is raised this will raise in a future version of pandas. Drop these columns/ops to avoid this warning.\n",
      "<magic-timeit>:1: FutureWarning: ['timestamp', 'quadrant', 'quadrant_cat'] did not aggregate successfully. If any error is raised this will raise in a future version of pandas. Drop these columns/ops to avoid this warning.\n",
      "<magic-timeit>:1: FutureWarning: ['timestamp', 'quadrant', 'quadrant_cat'] did not aggregate successfully. If any error is raised this will raise in a future version of pandas. Drop these columns/ops to avoid this warning.\n",
      "<magic-timeit>:1: FutureWarning: ['timestamp', 'quadrant', 'quadrant_cat'] did not aggregate successfully. If any error is raised this will raise in a future version of pandas. Drop these columns/ops to avoid this warning.\n",
      "<magic-timeit>:1: FutureWarning: ['timestamp', 'quadrant', 'quadrant_cat'] did not aggregate successfully. If any error is raised this will raise in a future version of pandas. Drop these columns/ops to avoid this warning.\n",
      "<magic-timeit>:1: FutureWarning: ['timestamp', 'quadrant', 'quadrant_cat'] did not aggregate successfully. If any error is raised this will raise in a future version of pandas. Drop these columns/ops to avoid this warning.\n",
      "<magic-timeit>:1: FutureWarning: ['timestamp', 'quadrant', 'quadrant_cat'] did not aggregate successfully. If any error is raised this will raise in a future version of pandas. Drop these columns/ops to avoid this warning.\n",
      "<magic-timeit>:1: FutureWarning: ['timestamp', 'quadrant', 'quadrant_cat'] did not aggregate successfully. If any error is raised this will raise in a future version of pandas. Drop these columns/ops to avoid this warning.\n",
      "<magic-timeit>:1: FutureWarning: ['timestamp', 'quadrant', 'quadrant_cat'] did not aggregate successfully. If any error is raised this will raise in a future version of pandas. Drop these columns/ops to avoid this warning.\n",
      "<magic-timeit>:1: FutureWarning: ['timestamp', 'quadrant', 'quadrant_cat'] did not aggregate successfully. If any error is raised this will raise in a future version of pandas. Drop these columns/ops to avoid this warning.\n",
      "<magic-timeit>:1: FutureWarning: ['timestamp', 'quadrant', 'quadrant_cat'] did not aggregate successfully. If any error is raised this will raise in a future version of pandas. Drop these columns/ops to avoid this warning.\n",
      "<magic-timeit>:1: FutureWarning: ['timestamp', 'quadrant', 'quadrant_cat'] did not aggregate successfully. If any error is raised this will raise in a future version of pandas. Drop these columns/ops to avoid this warning.\n",
      "<magic-timeit>:1: FutureWarning: ['timestamp', 'quadrant', 'quadrant_cat'] did not aggregate successfully. If any error is raised this will raise in a future version of pandas. Drop these columns/ops to avoid this warning.\n",
      "<magic-timeit>:1: FutureWarning: ['timestamp', 'quadrant', 'quadrant_cat'] did not aggregate successfully. If any error is raised this will raise in a future version of pandas. Drop these columns/ops to avoid this warning.\n",
      "<magic-timeit>:1: FutureWarning: ['timestamp', 'quadrant', 'quadrant_cat'] did not aggregate successfully. If any error is raised this will raise in a future version of pandas. Drop these columns/ops to avoid this warning.\n",
      "<magic-timeit>:1: FutureWarning: ['timestamp', 'quadrant', 'quadrant_cat'] did not aggregate successfully. If any error is raised this will raise in a future version of pandas. Drop these columns/ops to avoid this warning.\n",
      "<magic-timeit>:1: FutureWarning: ['timestamp', 'quadrant', 'quadrant_cat'] did not aggregate successfully. If any error is raised this will raise in a future version of pandas. Drop these columns/ops to avoid this warning.\n",
      "<magic-timeit>:1: FutureWarning: ['timestamp', 'quadrant', 'quadrant_cat'] did not aggregate successfully. If any error is raised this will raise in a future version of pandas. Drop these columns/ops to avoid this warning.\n",
      "<magic-timeit>:1: FutureWarning: ['timestamp', 'quadrant', 'quadrant_cat'] did not aggregate successfully. If any error is raised this will raise in a future version of pandas. Drop these columns/ops to avoid this warning.\n",
      "<magic-timeit>:1: FutureWarning: ['timestamp', 'quadrant', 'quadrant_cat'] did not aggregate successfully. If any error is raised this will raise in a future version of pandas. Drop these columns/ops to avoid this warning.\n",
      "<magic-timeit>:1: FutureWarning: ['timestamp', 'quadrant', 'quadrant_cat'] did not aggregate successfully. If any error is raised this will raise in a future version of pandas. Drop these columns/ops to avoid this warning.\n",
      "<magic-timeit>:1: FutureWarning: ['timestamp', 'quadrant', 'quadrant_cat'] did not aggregate successfully. If any error is raised this will raise in a future version of pandas. Drop these columns/ops to avoid this warning.\n",
      "<magic-timeit>:1: FutureWarning: ['timestamp', 'quadrant', 'quadrant_cat'] did not aggregate successfully. If any error is raised this will raise in a future version of pandas. Drop these columns/ops to avoid this warning.\n",
      "<magic-timeit>:1: FutureWarning: ['timestamp', 'quadrant', 'quadrant_cat'] did not aggregate successfully. If any error is raised this will raise in a future version of pandas. Drop these columns/ops to avoid this warning.\n",
      "<magic-timeit>:1: FutureWarning: ['timestamp', 'quadrant', 'quadrant_cat'] did not aggregate successfully. If any error is raised this will raise in a future version of pandas. Drop these columns/ops to avoid this warning.\n",
      "<magic-timeit>:1: FutureWarning: ['timestamp', 'quadrant', 'quadrant_cat'] did not aggregate successfully. If any error is raised this will raise in a future version of pandas. Drop these columns/ops to avoid this warning.\n",
      "<magic-timeit>:1: FutureWarning: ['timestamp', 'quadrant', 'quadrant_cat'] did not aggregate successfully. If any error is raised this will raise in a future version of pandas. Drop these columns/ops to avoid this warning.\n",
      "<magic-timeit>:1: FutureWarning: ['timestamp', 'quadrant', 'quadrant_cat'] did not aggregate successfully. If any error is raised this will raise in a future version of pandas. Drop these columns/ops to avoid this warning.\n",
      "<magic-timeit>:1: FutureWarning: ['timestamp', 'quadrant', 'quadrant_cat'] did not aggregate successfully. If any error is raised this will raise in a future version of pandas. Drop these columns/ops to avoid this warning.\n",
      "<magic-timeit>:1: FutureWarning: ['timestamp', 'quadrant', 'quadrant_cat'] did not aggregate successfully. If any error is raised this will raise in a future version of pandas. Drop these columns/ops to avoid this warning.\n",
      "<magic-timeit>:1: FutureWarning: ['timestamp', 'quadrant', 'quadrant_cat'] did not aggregate successfully. If any error is raised this will raise in a future version of pandas. Drop these columns/ops to avoid this warning.\n",
      "<magic-timeit>:1: FutureWarning: ['timestamp', 'quadrant', 'quadrant_cat'] did not aggregate successfully. If any error is raised this will raise in a future version of pandas. Drop these columns/ops to avoid this warning.\n",
      "<magic-timeit>:1: FutureWarning: ['timestamp', 'quadrant', 'quadrant_cat'] did not aggregate successfully. If any error is raised this will raise in a future version of pandas. Drop these columns/ops to avoid this warning.\n",
      "<magic-timeit>:1: FutureWarning: ['timestamp', 'quadrant', 'quadrant_cat'] did not aggregate successfully. If any error is raised this will raise in a future version of pandas. Drop these columns/ops to avoid this warning.\n",
      "<magic-timeit>:1: FutureWarning: ['timestamp', 'quadrant', 'quadrant_cat'] did not aggregate successfully. If any error is raised this will raise in a future version of pandas. Drop these columns/ops to avoid this warning.\n",
      "<magic-timeit>:1: FutureWarning: ['timestamp', 'quadrant', 'quadrant_cat'] did not aggregate successfully. If any error is raised this will raise in a future version of pandas. Drop these columns/ops to avoid this warning.\n",
      "<magic-timeit>:1: FutureWarning: ['timestamp', 'quadrant', 'quadrant_cat'] did not aggregate successfully. If any error is raised this will raise in a future version of pandas. Drop these columns/ops to avoid this warning.\n"
     ]
    },
    {
     "name": "stdout",
     "output_type": "stream",
     "text": [
      "54.2 ms ± 649 µs per loop (mean ± std. dev. of 7 runs, 10 loops each)\n"
     ]
    },
    {
     "name": "stderr",
     "output_type": "stream",
     "text": [
      "<magic-timeit>:1: FutureWarning: ['timestamp', 'quadrant', 'quadrant_cat'] did not aggregate successfully. If any error is raised this will raise in a future version of pandas. Drop these columns/ops to avoid this warning.\n",
      "<magic-timeit>:1: FutureWarning: ['timestamp', 'quadrant', 'quadrant_cat'] did not aggregate successfully. If any error is raised this will raise in a future version of pandas. Drop these columns/ops to avoid this warning.\n",
      "<magic-timeit>:1: FutureWarning: ['timestamp', 'quadrant', 'quadrant_cat'] did not aggregate successfully. If any error is raised this will raise in a future version of pandas. Drop these columns/ops to avoid this warning.\n",
      "<magic-timeit>:1: FutureWarning: ['timestamp', 'quadrant', 'quadrant_cat'] did not aggregate successfully. If any error is raised this will raise in a future version of pandas. Drop these columns/ops to avoid this warning.\n"
     ]
    }
   ],
   "source": [
    "% % timeit\n",
    "df.groupby('quadrant_enum').agg(['count', 'mean', 'median'])\n"
   ]
  },
  {
   "cell_type": "code",
   "execution_count": null,
   "metadata": {},
   "outputs": [
    {
     "name": "stderr",
     "output_type": "stream",
     "text": [
      "<magic-timeit>:1: FutureWarning: ['timestamp', 'quadrant_cat', 'quadrant_enum'] did not aggregate successfully. If any error is raised this will raise in a future version of pandas. Drop these columns/ops to avoid this warning.\n",
      "<magic-timeit>:1: FutureWarning: ['timestamp', 'quadrant_cat', 'quadrant_enum'] did not aggregate successfully. If any error is raised this will raise in a future version of pandas. Drop these columns/ops to avoid this warning.\n",
      "<magic-timeit>:1: FutureWarning: ['timestamp', 'quadrant_cat', 'quadrant_enum'] did not aggregate successfully. If any error is raised this will raise in a future version of pandas. Drop these columns/ops to avoid this warning.\n",
      "<magic-timeit>:1: FutureWarning: ['timestamp', 'quadrant_cat', 'quadrant_enum'] did not aggregate successfully. If any error is raised this will raise in a future version of pandas. Drop these columns/ops to avoid this warning.\n",
      "<magic-timeit>:1: FutureWarning: ['timestamp', 'quadrant_cat', 'quadrant_enum'] did not aggregate successfully. If any error is raised this will raise in a future version of pandas. Drop these columns/ops to avoid this warning.\n",
      "<magic-timeit>:1: FutureWarning: ['timestamp', 'quadrant_cat', 'quadrant_enum'] did not aggregate successfully. If any error is raised this will raise in a future version of pandas. Drop these columns/ops to avoid this warning.\n",
      "<magic-timeit>:1: FutureWarning: ['timestamp', 'quadrant_cat', 'quadrant_enum'] did not aggregate successfully. If any error is raised this will raise in a future version of pandas. Drop these columns/ops to avoid this warning.\n",
      "<magic-timeit>:1: FutureWarning: ['timestamp', 'quadrant_cat', 'quadrant_enum'] did not aggregate successfully. If any error is raised this will raise in a future version of pandas. Drop these columns/ops to avoid this warning.\n",
      "<magic-timeit>:1: FutureWarning: ['timestamp', 'quadrant_cat', 'quadrant_enum'] did not aggregate successfully. If any error is raised this will raise in a future version of pandas. Drop these columns/ops to avoid this warning.\n",
      "<magic-timeit>:1: FutureWarning: ['timestamp', 'quadrant_cat', 'quadrant_enum'] did not aggregate successfully. If any error is raised this will raise in a future version of pandas. Drop these columns/ops to avoid this warning.\n",
      "<magic-timeit>:1: FutureWarning: ['timestamp', 'quadrant_cat', 'quadrant_enum'] did not aggregate successfully. If any error is raised this will raise in a future version of pandas. Drop these columns/ops to avoid this warning.\n",
      "<magic-timeit>:1: FutureWarning: ['timestamp', 'quadrant_cat', 'quadrant_enum'] did not aggregate successfully. If any error is raised this will raise in a future version of pandas. Drop these columns/ops to avoid this warning.\n",
      "<magic-timeit>:1: FutureWarning: ['timestamp', 'quadrant_cat', 'quadrant_enum'] did not aggregate successfully. If any error is raised this will raise in a future version of pandas. Drop these columns/ops to avoid this warning.\n",
      "<magic-timeit>:1: FutureWarning: ['timestamp', 'quadrant_cat', 'quadrant_enum'] did not aggregate successfully. If any error is raised this will raise in a future version of pandas. Drop these columns/ops to avoid this warning.\n",
      "<magic-timeit>:1: FutureWarning: ['timestamp', 'quadrant_cat', 'quadrant_enum'] did not aggregate successfully. If any error is raised this will raise in a future version of pandas. Drop these columns/ops to avoid this warning.\n",
      "<magic-timeit>:1: FutureWarning: ['timestamp', 'quadrant_cat', 'quadrant_enum'] did not aggregate successfully. If any error is raised this will raise in a future version of pandas. Drop these columns/ops to avoid this warning.\n",
      "<magic-timeit>:1: FutureWarning: ['timestamp', 'quadrant_cat', 'quadrant_enum'] did not aggregate successfully. If any error is raised this will raise in a future version of pandas. Drop these columns/ops to avoid this warning.\n",
      "<magic-timeit>:1: FutureWarning: ['timestamp', 'quadrant_cat', 'quadrant_enum'] did not aggregate successfully. If any error is raised this will raise in a future version of pandas. Drop these columns/ops to avoid this warning.\n",
      "<magic-timeit>:1: FutureWarning: ['timestamp', 'quadrant_cat', 'quadrant_enum'] did not aggregate successfully. If any error is raised this will raise in a future version of pandas. Drop these columns/ops to avoid this warning.\n",
      "<magic-timeit>:1: FutureWarning: ['timestamp', 'quadrant_cat', 'quadrant_enum'] did not aggregate successfully. If any error is raised this will raise in a future version of pandas. Drop these columns/ops to avoid this warning.\n",
      "<magic-timeit>:1: FutureWarning: ['timestamp', 'quadrant_cat', 'quadrant_enum'] did not aggregate successfully. If any error is raised this will raise in a future version of pandas. Drop these columns/ops to avoid this warning.\n",
      "<magic-timeit>:1: FutureWarning: ['timestamp', 'quadrant_cat', 'quadrant_enum'] did not aggregate successfully. If any error is raised this will raise in a future version of pandas. Drop these columns/ops to avoid this warning.\n",
      "<magic-timeit>:1: FutureWarning: ['timestamp', 'quadrant_cat', 'quadrant_enum'] did not aggregate successfully. If any error is raised this will raise in a future version of pandas. Drop these columns/ops to avoid this warning.\n",
      "<magic-timeit>:1: FutureWarning: ['timestamp', 'quadrant_cat', 'quadrant_enum'] did not aggregate successfully. If any error is raised this will raise in a future version of pandas. Drop these columns/ops to avoid this warning.\n",
      "<magic-timeit>:1: FutureWarning: ['timestamp', 'quadrant_cat', 'quadrant_enum'] did not aggregate successfully. If any error is raised this will raise in a future version of pandas. Drop these columns/ops to avoid this warning.\n",
      "<magic-timeit>:1: FutureWarning: ['timestamp', 'quadrant_cat', 'quadrant_enum'] did not aggregate successfully. If any error is raised this will raise in a future version of pandas. Drop these columns/ops to avoid this warning.\n",
      "<magic-timeit>:1: FutureWarning: ['timestamp', 'quadrant_cat', 'quadrant_enum'] did not aggregate successfully. If any error is raised this will raise in a future version of pandas. Drop these columns/ops to avoid this warning.\n",
      "<magic-timeit>:1: FutureWarning: ['timestamp', 'quadrant_cat', 'quadrant_enum'] did not aggregate successfully. If any error is raised this will raise in a future version of pandas. Drop these columns/ops to avoid this warning.\n",
      "<magic-timeit>:1: FutureWarning: ['timestamp', 'quadrant_cat', 'quadrant_enum'] did not aggregate successfully. If any error is raised this will raise in a future version of pandas. Drop these columns/ops to avoid this warning.\n",
      "<magic-timeit>:1: FutureWarning: ['timestamp', 'quadrant_cat', 'quadrant_enum'] did not aggregate successfully. If any error is raised this will raise in a future version of pandas. Drop these columns/ops to avoid this warning.\n",
      "<magic-timeit>:1: FutureWarning: ['timestamp', 'quadrant_cat', 'quadrant_enum'] did not aggregate successfully. If any error is raised this will raise in a future version of pandas. Drop these columns/ops to avoid this warning.\n",
      "<magic-timeit>:1: FutureWarning: ['timestamp', 'quadrant_cat', 'quadrant_enum'] did not aggregate successfully. If any error is raised this will raise in a future version of pandas. Drop these columns/ops to avoid this warning.\n",
      "<magic-timeit>:1: FutureWarning: ['timestamp', 'quadrant_cat', 'quadrant_enum'] did not aggregate successfully. If any error is raised this will raise in a future version of pandas. Drop these columns/ops to avoid this warning.\n",
      "<magic-timeit>:1: FutureWarning: ['timestamp', 'quadrant_cat', 'quadrant_enum'] did not aggregate successfully. If any error is raised this will raise in a future version of pandas. Drop these columns/ops to avoid this warning.\n",
      "<magic-timeit>:1: FutureWarning: ['timestamp', 'quadrant_cat', 'quadrant_enum'] did not aggregate successfully. If any error is raised this will raise in a future version of pandas. Drop these columns/ops to avoid this warning.\n",
      "<magic-timeit>:1: FutureWarning: ['timestamp', 'quadrant_cat', 'quadrant_enum'] did not aggregate successfully. If any error is raised this will raise in a future version of pandas. Drop these columns/ops to avoid this warning.\n",
      "<magic-timeit>:1: FutureWarning: ['timestamp', 'quadrant_cat', 'quadrant_enum'] did not aggregate successfully. If any error is raised this will raise in a future version of pandas. Drop these columns/ops to avoid this warning.\n",
      "<magic-timeit>:1: FutureWarning: ['timestamp', 'quadrant_cat', 'quadrant_enum'] did not aggregate successfully. If any error is raised this will raise in a future version of pandas. Drop these columns/ops to avoid this warning.\n",
      "<magic-timeit>:1: FutureWarning: ['timestamp', 'quadrant_cat', 'quadrant_enum'] did not aggregate successfully. If any error is raised this will raise in a future version of pandas. Drop these columns/ops to avoid this warning.\n",
      "<magic-timeit>:1: FutureWarning: ['timestamp', 'quadrant_cat', 'quadrant_enum'] did not aggregate successfully. If any error is raised this will raise in a future version of pandas. Drop these columns/ops to avoid this warning.\n",
      "<magic-timeit>:1: FutureWarning: ['timestamp', 'quadrant_cat', 'quadrant_enum'] did not aggregate successfully. If any error is raised this will raise in a future version of pandas. Drop these columns/ops to avoid this warning.\n",
      "<magic-timeit>:1: FutureWarning: ['timestamp', 'quadrant_cat', 'quadrant_enum'] did not aggregate successfully. If any error is raised this will raise in a future version of pandas. Drop these columns/ops to avoid this warning.\n",
      "<magic-timeit>:1: FutureWarning: ['timestamp', 'quadrant_cat', 'quadrant_enum'] did not aggregate successfully. If any error is raised this will raise in a future version of pandas. Drop these columns/ops to avoid this warning.\n",
      "<magic-timeit>:1: FutureWarning: ['timestamp', 'quadrant_cat', 'quadrant_enum'] did not aggregate successfully. If any error is raised this will raise in a future version of pandas. Drop these columns/ops to avoid this warning.\n",
      "<magic-timeit>:1: FutureWarning: ['timestamp', 'quadrant_cat', 'quadrant_enum'] did not aggregate successfully. If any error is raised this will raise in a future version of pandas. Drop these columns/ops to avoid this warning.\n",
      "<magic-timeit>:1: FutureWarning: ['timestamp', 'quadrant_cat', 'quadrant_enum'] did not aggregate successfully. If any error is raised this will raise in a future version of pandas. Drop these columns/ops to avoid this warning.\n",
      "<magic-timeit>:1: FutureWarning: ['timestamp', 'quadrant_cat', 'quadrant_enum'] did not aggregate successfully. If any error is raised this will raise in a future version of pandas. Drop these columns/ops to avoid this warning.\n",
      "<magic-timeit>:1: FutureWarning: ['timestamp', 'quadrant_cat', 'quadrant_enum'] did not aggregate successfully. If any error is raised this will raise in a future version of pandas. Drop these columns/ops to avoid this warning.\n",
      "<magic-timeit>:1: FutureWarning: ['timestamp', 'quadrant_cat', 'quadrant_enum'] did not aggregate successfully. If any error is raised this will raise in a future version of pandas. Drop these columns/ops to avoid this warning.\n",
      "<magic-timeit>:1: FutureWarning: ['timestamp', 'quadrant_cat', 'quadrant_enum'] did not aggregate successfully. If any error is raised this will raise in a future version of pandas. Drop these columns/ops to avoid this warning.\n",
      "<magic-timeit>:1: FutureWarning: ['timestamp', 'quadrant_cat', 'quadrant_enum'] did not aggregate successfully. If any error is raised this will raise in a future version of pandas. Drop these columns/ops to avoid this warning.\n",
      "<magic-timeit>:1: FutureWarning: ['timestamp', 'quadrant_cat', 'quadrant_enum'] did not aggregate successfully. If any error is raised this will raise in a future version of pandas. Drop these columns/ops to avoid this warning.\n",
      "<magic-timeit>:1: FutureWarning: ['timestamp', 'quadrant_cat', 'quadrant_enum'] did not aggregate successfully. If any error is raised this will raise in a future version of pandas. Drop these columns/ops to avoid this warning.\n",
      "<magic-timeit>:1: FutureWarning: ['timestamp', 'quadrant_cat', 'quadrant_enum'] did not aggregate successfully. If any error is raised this will raise in a future version of pandas. Drop these columns/ops to avoid this warning.\n",
      "<magic-timeit>:1: FutureWarning: ['timestamp', 'quadrant_cat', 'quadrant_enum'] did not aggregate successfully. If any error is raised this will raise in a future version of pandas. Drop these columns/ops to avoid this warning.\n",
      "<magic-timeit>:1: FutureWarning: ['timestamp', 'quadrant_cat', 'quadrant_enum'] did not aggregate successfully. If any error is raised this will raise in a future version of pandas. Drop these columns/ops to avoid this warning.\n",
      "<magic-timeit>:1: FutureWarning: ['timestamp', 'quadrant_cat', 'quadrant_enum'] did not aggregate successfully. If any error is raised this will raise in a future version of pandas. Drop these columns/ops to avoid this warning.\n",
      "<magic-timeit>:1: FutureWarning: ['timestamp', 'quadrant_cat', 'quadrant_enum'] did not aggregate successfully. If any error is raised this will raise in a future version of pandas. Drop these columns/ops to avoid this warning.\n",
      "<magic-timeit>:1: FutureWarning: ['timestamp', 'quadrant_cat', 'quadrant_enum'] did not aggregate successfully. If any error is raised this will raise in a future version of pandas. Drop these columns/ops to avoid this warning.\n",
      "<magic-timeit>:1: FutureWarning: ['timestamp', 'quadrant_cat', 'quadrant_enum'] did not aggregate successfully. If any error is raised this will raise in a future version of pandas. Drop these columns/ops to avoid this warning.\n",
      "<magic-timeit>:1: FutureWarning: ['timestamp', 'quadrant_cat', 'quadrant_enum'] did not aggregate successfully. If any error is raised this will raise in a future version of pandas. Drop these columns/ops to avoid this warning.\n",
      "<magic-timeit>:1: FutureWarning: ['timestamp', 'quadrant_cat', 'quadrant_enum'] did not aggregate successfully. If any error is raised this will raise in a future version of pandas. Drop these columns/ops to avoid this warning.\n",
      "<magic-timeit>:1: FutureWarning: ['timestamp', 'quadrant_cat', 'quadrant_enum'] did not aggregate successfully. If any error is raised this will raise in a future version of pandas. Drop these columns/ops to avoid this warning.\n",
      "<magic-timeit>:1: FutureWarning: ['timestamp', 'quadrant_cat', 'quadrant_enum'] did not aggregate successfully. If any error is raised this will raise in a future version of pandas. Drop these columns/ops to avoid this warning.\n",
      "<magic-timeit>:1: FutureWarning: ['timestamp', 'quadrant_cat', 'quadrant_enum'] did not aggregate successfully. If any error is raised this will raise in a future version of pandas. Drop these columns/ops to avoid this warning.\n",
      "<magic-timeit>:1: FutureWarning: ['timestamp', 'quadrant_cat', 'quadrant_enum'] did not aggregate successfully. If any error is raised this will raise in a future version of pandas. Drop these columns/ops to avoid this warning.\n",
      "<magic-timeit>:1: FutureWarning: ['timestamp', 'quadrant_cat', 'quadrant_enum'] did not aggregate successfully. If any error is raised this will raise in a future version of pandas. Drop these columns/ops to avoid this warning.\n",
      "<magic-timeit>:1: FutureWarning: ['timestamp', 'quadrant_cat', 'quadrant_enum'] did not aggregate successfully. If any error is raised this will raise in a future version of pandas. Drop these columns/ops to avoid this warning.\n",
      "<magic-timeit>:1: FutureWarning: ['timestamp', 'quadrant_cat', 'quadrant_enum'] did not aggregate successfully. If any error is raised this will raise in a future version of pandas. Drop these columns/ops to avoid this warning.\n",
      "<magic-timeit>:1: FutureWarning: ['timestamp', 'quadrant_cat', 'quadrant_enum'] did not aggregate successfully. If any error is raised this will raise in a future version of pandas. Drop these columns/ops to avoid this warning.\n",
      "<magic-timeit>:1: FutureWarning: ['timestamp', 'quadrant_cat', 'quadrant_enum'] did not aggregate successfully. If any error is raised this will raise in a future version of pandas. Drop these columns/ops to avoid this warning.\n",
      "<magic-timeit>:1: FutureWarning: ['timestamp', 'quadrant_cat', 'quadrant_enum'] did not aggregate successfully. If any error is raised this will raise in a future version of pandas. Drop these columns/ops to avoid this warning.\n",
      "<magic-timeit>:1: FutureWarning: ['timestamp', 'quadrant_cat', 'quadrant_enum'] did not aggregate successfully. If any error is raised this will raise in a future version of pandas. Drop these columns/ops to avoid this warning.\n",
      "<magic-timeit>:1: FutureWarning: ['timestamp', 'quadrant_cat', 'quadrant_enum'] did not aggregate successfully. If any error is raised this will raise in a future version of pandas. Drop these columns/ops to avoid this warning.\n",
      "<magic-timeit>:1: FutureWarning: ['timestamp', 'quadrant_cat', 'quadrant_enum'] did not aggregate successfully. If any error is raised this will raise in a future version of pandas. Drop these columns/ops to avoid this warning.\n",
      "<magic-timeit>:1: FutureWarning: ['timestamp', 'quadrant_cat', 'quadrant_enum'] did not aggregate successfully. If any error is raised this will raise in a future version of pandas. Drop these columns/ops to avoid this warning.\n",
      "<magic-timeit>:1: FutureWarning: ['timestamp', 'quadrant_cat', 'quadrant_enum'] did not aggregate successfully. If any error is raised this will raise in a future version of pandas. Drop these columns/ops to avoid this warning.\n"
     ]
    },
    {
     "name": "stdout",
     "output_type": "stream",
     "text": [
      "39.1 ms ± 281 µs per loop (mean ± std. dev. of 7 runs, 10 loops each)\n"
     ]
    },
    {
     "name": "stderr",
     "output_type": "stream",
     "text": [
      "<magic-timeit>:1: FutureWarning: ['timestamp', 'quadrant_cat', 'quadrant_enum'] did not aggregate successfully. If any error is raised this will raise in a future version of pandas. Drop these columns/ops to avoid this warning.\n",
      "<magic-timeit>:1: FutureWarning: ['timestamp', 'quadrant_cat', 'quadrant_enum'] did not aggregate successfully. If any error is raised this will raise in a future version of pandas. Drop these columns/ops to avoid this warning.\n",
      "<magic-timeit>:1: FutureWarning: ['timestamp', 'quadrant_cat', 'quadrant_enum'] did not aggregate successfully. If any error is raised this will raise in a future version of pandas. Drop these columns/ops to avoid this warning.\n",
      "<magic-timeit>:1: FutureWarning: ['timestamp', 'quadrant_cat', 'quadrant_enum'] did not aggregate successfully. If any error is raised this will raise in a future version of pandas. Drop these columns/ops to avoid this warning.\n"
     ]
    }
   ],
   "source": [
    "% % timeit\n",
    "df.groupby('quadrant').agg(['count', 'mean', 'median'])\n"
   ]
  },
  {
   "cell_type": "code",
   "execution_count": null,
   "metadata": {},
   "outputs": [
    {
     "name": "stderr",
     "output_type": "stream",
     "text": [
      "<magic-timeit>:1: FutureWarning: ['timestamp', 'quadrant', 'quadrant_enum'] did not aggregate successfully. If any error is raised this will raise in a future version of pandas. Drop these columns/ops to avoid this warning.\n",
      "<magic-timeit>:1: FutureWarning: ['timestamp', 'quadrant', 'quadrant_enum'] did not aggregate successfully. If any error is raised this will raise in a future version of pandas. Drop these columns/ops to avoid this warning.\n",
      "<magic-timeit>:1: FutureWarning: ['timestamp', 'quadrant', 'quadrant_enum'] did not aggregate successfully. If any error is raised this will raise in a future version of pandas. Drop these columns/ops to avoid this warning.\n",
      "<magic-timeit>:1: FutureWarning: ['timestamp', 'quadrant', 'quadrant_enum'] did not aggregate successfully. If any error is raised this will raise in a future version of pandas. Drop these columns/ops to avoid this warning.\n",
      "<magic-timeit>:1: FutureWarning: ['timestamp', 'quadrant', 'quadrant_enum'] did not aggregate successfully. If any error is raised this will raise in a future version of pandas. Drop these columns/ops to avoid this warning.\n",
      "<magic-timeit>:1: FutureWarning: ['timestamp', 'quadrant', 'quadrant_enum'] did not aggregate successfully. If any error is raised this will raise in a future version of pandas. Drop these columns/ops to avoid this warning.\n",
      "<magic-timeit>:1: FutureWarning: ['timestamp', 'quadrant', 'quadrant_enum'] did not aggregate successfully. If any error is raised this will raise in a future version of pandas. Drop these columns/ops to avoid this warning.\n",
      "<magic-timeit>:1: FutureWarning: ['timestamp', 'quadrant', 'quadrant_enum'] did not aggregate successfully. If any error is raised this will raise in a future version of pandas. Drop these columns/ops to avoid this warning.\n",
      "<magic-timeit>:1: FutureWarning: ['timestamp', 'quadrant', 'quadrant_enum'] did not aggregate successfully. If any error is raised this will raise in a future version of pandas. Drop these columns/ops to avoid this warning.\n",
      "<magic-timeit>:1: FutureWarning: ['timestamp', 'quadrant', 'quadrant_enum'] did not aggregate successfully. If any error is raised this will raise in a future version of pandas. Drop these columns/ops to avoid this warning.\n",
      "<magic-timeit>:1: FutureWarning: ['timestamp', 'quadrant', 'quadrant_enum'] did not aggregate successfully. If any error is raised this will raise in a future version of pandas. Drop these columns/ops to avoid this warning.\n",
      "<magic-timeit>:1: FutureWarning: ['timestamp', 'quadrant', 'quadrant_enum'] did not aggregate successfully. If any error is raised this will raise in a future version of pandas. Drop these columns/ops to avoid this warning.\n",
      "<magic-timeit>:1: FutureWarning: ['timestamp', 'quadrant', 'quadrant_enum'] did not aggregate successfully. If any error is raised this will raise in a future version of pandas. Drop these columns/ops to avoid this warning.\n",
      "<magic-timeit>:1: FutureWarning: ['timestamp', 'quadrant', 'quadrant_enum'] did not aggregate successfully. If any error is raised this will raise in a future version of pandas. Drop these columns/ops to avoid this warning.\n",
      "<magic-timeit>:1: FutureWarning: ['timestamp', 'quadrant', 'quadrant_enum'] did not aggregate successfully. If any error is raised this will raise in a future version of pandas. Drop these columns/ops to avoid this warning.\n",
      "<magic-timeit>:1: FutureWarning: ['timestamp', 'quadrant', 'quadrant_enum'] did not aggregate successfully. If any error is raised this will raise in a future version of pandas. Drop these columns/ops to avoid this warning.\n",
      "<magic-timeit>:1: FutureWarning: ['timestamp', 'quadrant', 'quadrant_enum'] did not aggregate successfully. If any error is raised this will raise in a future version of pandas. Drop these columns/ops to avoid this warning.\n",
      "<magic-timeit>:1: FutureWarning: ['timestamp', 'quadrant', 'quadrant_enum'] did not aggregate successfully. If any error is raised this will raise in a future version of pandas. Drop these columns/ops to avoid this warning.\n",
      "<magic-timeit>:1: FutureWarning: ['timestamp', 'quadrant', 'quadrant_enum'] did not aggregate successfully. If any error is raised this will raise in a future version of pandas. Drop these columns/ops to avoid this warning.\n",
      "<magic-timeit>:1: FutureWarning: ['timestamp', 'quadrant', 'quadrant_enum'] did not aggregate successfully. If any error is raised this will raise in a future version of pandas. Drop these columns/ops to avoid this warning.\n",
      "<magic-timeit>:1: FutureWarning: ['timestamp', 'quadrant', 'quadrant_enum'] did not aggregate successfully. If any error is raised this will raise in a future version of pandas. Drop these columns/ops to avoid this warning.\n",
      "<magic-timeit>:1: FutureWarning: ['timestamp', 'quadrant', 'quadrant_enum'] did not aggregate successfully. If any error is raised this will raise in a future version of pandas. Drop these columns/ops to avoid this warning.\n",
      "<magic-timeit>:1: FutureWarning: ['timestamp', 'quadrant', 'quadrant_enum'] did not aggregate successfully. If any error is raised this will raise in a future version of pandas. Drop these columns/ops to avoid this warning.\n",
      "<magic-timeit>:1: FutureWarning: ['timestamp', 'quadrant', 'quadrant_enum'] did not aggregate successfully. If any error is raised this will raise in a future version of pandas. Drop these columns/ops to avoid this warning.\n",
      "<magic-timeit>:1: FutureWarning: ['timestamp', 'quadrant', 'quadrant_enum'] did not aggregate successfully. If any error is raised this will raise in a future version of pandas. Drop these columns/ops to avoid this warning.\n",
      "<magic-timeit>:1: FutureWarning: ['timestamp', 'quadrant', 'quadrant_enum'] did not aggregate successfully. If any error is raised this will raise in a future version of pandas. Drop these columns/ops to avoid this warning.\n",
      "<magic-timeit>:1: FutureWarning: ['timestamp', 'quadrant', 'quadrant_enum'] did not aggregate successfully. If any error is raised this will raise in a future version of pandas. Drop these columns/ops to avoid this warning.\n",
      "<magic-timeit>:1: FutureWarning: ['timestamp', 'quadrant', 'quadrant_enum'] did not aggregate successfully. If any error is raised this will raise in a future version of pandas. Drop these columns/ops to avoid this warning.\n",
      "<magic-timeit>:1: FutureWarning: ['timestamp', 'quadrant', 'quadrant_enum'] did not aggregate successfully. If any error is raised this will raise in a future version of pandas. Drop these columns/ops to avoid this warning.\n",
      "<magic-timeit>:1: FutureWarning: ['timestamp', 'quadrant', 'quadrant_enum'] did not aggregate successfully. If any error is raised this will raise in a future version of pandas. Drop these columns/ops to avoid this warning.\n",
      "<magic-timeit>:1: FutureWarning: ['timestamp', 'quadrant', 'quadrant_enum'] did not aggregate successfully. If any error is raised this will raise in a future version of pandas. Drop these columns/ops to avoid this warning.\n",
      "<magic-timeit>:1: FutureWarning: ['timestamp', 'quadrant', 'quadrant_enum'] did not aggregate successfully. If any error is raised this will raise in a future version of pandas. Drop these columns/ops to avoid this warning.\n",
      "<magic-timeit>:1: FutureWarning: ['timestamp', 'quadrant', 'quadrant_enum'] did not aggregate successfully. If any error is raised this will raise in a future version of pandas. Drop these columns/ops to avoid this warning.\n",
      "<magic-timeit>:1: FutureWarning: ['timestamp', 'quadrant', 'quadrant_enum'] did not aggregate successfully. If any error is raised this will raise in a future version of pandas. Drop these columns/ops to avoid this warning.\n",
      "<magic-timeit>:1: FutureWarning: ['timestamp', 'quadrant', 'quadrant_enum'] did not aggregate successfully. If any error is raised this will raise in a future version of pandas. Drop these columns/ops to avoid this warning.\n",
      "<magic-timeit>:1: FutureWarning: ['timestamp', 'quadrant', 'quadrant_enum'] did not aggregate successfully. If any error is raised this will raise in a future version of pandas. Drop these columns/ops to avoid this warning.\n",
      "<magic-timeit>:1: FutureWarning: ['timestamp', 'quadrant', 'quadrant_enum'] did not aggregate successfully. If any error is raised this will raise in a future version of pandas. Drop these columns/ops to avoid this warning.\n",
      "<magic-timeit>:1: FutureWarning: ['timestamp', 'quadrant', 'quadrant_enum'] did not aggregate successfully. If any error is raised this will raise in a future version of pandas. Drop these columns/ops to avoid this warning.\n",
      "<magic-timeit>:1: FutureWarning: ['timestamp', 'quadrant', 'quadrant_enum'] did not aggregate successfully. If any error is raised this will raise in a future version of pandas. Drop these columns/ops to avoid this warning.\n",
      "<magic-timeit>:1: FutureWarning: ['timestamp', 'quadrant', 'quadrant_enum'] did not aggregate successfully. If any error is raised this will raise in a future version of pandas. Drop these columns/ops to avoid this warning.\n",
      "<magic-timeit>:1: FutureWarning: ['timestamp', 'quadrant', 'quadrant_enum'] did not aggregate successfully. If any error is raised this will raise in a future version of pandas. Drop these columns/ops to avoid this warning.\n",
      "<magic-timeit>:1: FutureWarning: ['timestamp', 'quadrant', 'quadrant_enum'] did not aggregate successfully. If any error is raised this will raise in a future version of pandas. Drop these columns/ops to avoid this warning.\n",
      "<magic-timeit>:1: FutureWarning: ['timestamp', 'quadrant', 'quadrant_enum'] did not aggregate successfully. If any error is raised this will raise in a future version of pandas. Drop these columns/ops to avoid this warning.\n",
      "<magic-timeit>:1: FutureWarning: ['timestamp', 'quadrant', 'quadrant_enum'] did not aggregate successfully. If any error is raised this will raise in a future version of pandas. Drop these columns/ops to avoid this warning.\n",
      "<magic-timeit>:1: FutureWarning: ['timestamp', 'quadrant', 'quadrant_enum'] did not aggregate successfully. If any error is raised this will raise in a future version of pandas. Drop these columns/ops to avoid this warning.\n",
      "<magic-timeit>:1: FutureWarning: ['timestamp', 'quadrant', 'quadrant_enum'] did not aggregate successfully. If any error is raised this will raise in a future version of pandas. Drop these columns/ops to avoid this warning.\n",
      "<magic-timeit>:1: FutureWarning: ['timestamp', 'quadrant', 'quadrant_enum'] did not aggregate successfully. If any error is raised this will raise in a future version of pandas. Drop these columns/ops to avoid this warning.\n",
      "<magic-timeit>:1: FutureWarning: ['timestamp', 'quadrant', 'quadrant_enum'] did not aggregate successfully. If any error is raised this will raise in a future version of pandas. Drop these columns/ops to avoid this warning.\n",
      "<magic-timeit>:1: FutureWarning: ['timestamp', 'quadrant', 'quadrant_enum'] did not aggregate successfully. If any error is raised this will raise in a future version of pandas. Drop these columns/ops to avoid this warning.\n",
      "<magic-timeit>:1: FutureWarning: ['timestamp', 'quadrant', 'quadrant_enum'] did not aggregate successfully. If any error is raised this will raise in a future version of pandas. Drop these columns/ops to avoid this warning.\n",
      "<magic-timeit>:1: FutureWarning: ['timestamp', 'quadrant', 'quadrant_enum'] did not aggregate successfully. If any error is raised this will raise in a future version of pandas. Drop these columns/ops to avoid this warning.\n",
      "<magic-timeit>:1: FutureWarning: ['timestamp', 'quadrant', 'quadrant_enum'] did not aggregate successfully. If any error is raised this will raise in a future version of pandas. Drop these columns/ops to avoid this warning.\n",
      "<magic-timeit>:1: FutureWarning: ['timestamp', 'quadrant', 'quadrant_enum'] did not aggregate successfully. If any error is raised this will raise in a future version of pandas. Drop these columns/ops to avoid this warning.\n",
      "<magic-timeit>:1: FutureWarning: ['timestamp', 'quadrant', 'quadrant_enum'] did not aggregate successfully. If any error is raised this will raise in a future version of pandas. Drop these columns/ops to avoid this warning.\n",
      "<magic-timeit>:1: FutureWarning: ['timestamp', 'quadrant', 'quadrant_enum'] did not aggregate successfully. If any error is raised this will raise in a future version of pandas. Drop these columns/ops to avoid this warning.\n",
      "<magic-timeit>:1: FutureWarning: ['timestamp', 'quadrant', 'quadrant_enum'] did not aggregate successfully. If any error is raised this will raise in a future version of pandas. Drop these columns/ops to avoid this warning.\n",
      "<magic-timeit>:1: FutureWarning: ['timestamp', 'quadrant', 'quadrant_enum'] did not aggregate successfully. If any error is raised this will raise in a future version of pandas. Drop these columns/ops to avoid this warning.\n",
      "<magic-timeit>:1: FutureWarning: ['timestamp', 'quadrant', 'quadrant_enum'] did not aggregate successfully. If any error is raised this will raise in a future version of pandas. Drop these columns/ops to avoid this warning.\n",
      "<magic-timeit>:1: FutureWarning: ['timestamp', 'quadrant', 'quadrant_enum'] did not aggregate successfully. If any error is raised this will raise in a future version of pandas. Drop these columns/ops to avoid this warning.\n",
      "<magic-timeit>:1: FutureWarning: ['timestamp', 'quadrant', 'quadrant_enum'] did not aggregate successfully. If any error is raised this will raise in a future version of pandas. Drop these columns/ops to avoid this warning.\n",
      "<magic-timeit>:1: FutureWarning: ['timestamp', 'quadrant', 'quadrant_enum'] did not aggregate successfully. If any error is raised this will raise in a future version of pandas. Drop these columns/ops to avoid this warning.\n",
      "<magic-timeit>:1: FutureWarning: ['timestamp', 'quadrant', 'quadrant_enum'] did not aggregate successfully. If any error is raised this will raise in a future version of pandas. Drop these columns/ops to avoid this warning.\n",
      "<magic-timeit>:1: FutureWarning: ['timestamp', 'quadrant', 'quadrant_enum'] did not aggregate successfully. If any error is raised this will raise in a future version of pandas. Drop these columns/ops to avoid this warning.\n",
      "<magic-timeit>:1: FutureWarning: ['timestamp', 'quadrant', 'quadrant_enum'] did not aggregate successfully. If any error is raised this will raise in a future version of pandas. Drop these columns/ops to avoid this warning.\n",
      "<magic-timeit>:1: FutureWarning: ['timestamp', 'quadrant', 'quadrant_enum'] did not aggregate successfully. If any error is raised this will raise in a future version of pandas. Drop these columns/ops to avoid this warning.\n",
      "<magic-timeit>:1: FutureWarning: ['timestamp', 'quadrant', 'quadrant_enum'] did not aggregate successfully. If any error is raised this will raise in a future version of pandas. Drop these columns/ops to avoid this warning.\n",
      "<magic-timeit>:1: FutureWarning: ['timestamp', 'quadrant', 'quadrant_enum'] did not aggregate successfully. If any error is raised this will raise in a future version of pandas. Drop these columns/ops to avoid this warning.\n",
      "<magic-timeit>:1: FutureWarning: ['timestamp', 'quadrant', 'quadrant_enum'] did not aggregate successfully. If any error is raised this will raise in a future version of pandas. Drop these columns/ops to avoid this warning.\n",
      "<magic-timeit>:1: FutureWarning: ['timestamp', 'quadrant', 'quadrant_enum'] did not aggregate successfully. If any error is raised this will raise in a future version of pandas. Drop these columns/ops to avoid this warning.\n",
      "<magic-timeit>:1: FutureWarning: ['timestamp', 'quadrant', 'quadrant_enum'] did not aggregate successfully. If any error is raised this will raise in a future version of pandas. Drop these columns/ops to avoid this warning.\n",
      "<magic-timeit>:1: FutureWarning: ['timestamp', 'quadrant', 'quadrant_enum'] did not aggregate successfully. If any error is raised this will raise in a future version of pandas. Drop these columns/ops to avoid this warning.\n",
      "<magic-timeit>:1: FutureWarning: ['timestamp', 'quadrant', 'quadrant_enum'] did not aggregate successfully. If any error is raised this will raise in a future version of pandas. Drop these columns/ops to avoid this warning.\n",
      "<magic-timeit>:1: FutureWarning: ['timestamp', 'quadrant', 'quadrant_enum'] did not aggregate successfully. If any error is raised this will raise in a future version of pandas. Drop these columns/ops to avoid this warning.\n",
      "<magic-timeit>:1: FutureWarning: ['timestamp', 'quadrant', 'quadrant_enum'] did not aggregate successfully. If any error is raised this will raise in a future version of pandas. Drop these columns/ops to avoid this warning.\n",
      "<magic-timeit>:1: FutureWarning: ['timestamp', 'quadrant', 'quadrant_enum'] did not aggregate successfully. If any error is raised this will raise in a future version of pandas. Drop these columns/ops to avoid this warning.\n",
      "<magic-timeit>:1: FutureWarning: ['timestamp', 'quadrant', 'quadrant_enum'] did not aggregate successfully. If any error is raised this will raise in a future version of pandas. Drop these columns/ops to avoid this warning.\n",
      "<magic-timeit>:1: FutureWarning: ['timestamp', 'quadrant', 'quadrant_enum'] did not aggregate successfully. If any error is raised this will raise in a future version of pandas. Drop these columns/ops to avoid this warning.\n",
      "<magic-timeit>:1: FutureWarning: ['timestamp', 'quadrant', 'quadrant_enum'] did not aggregate successfully. If any error is raised this will raise in a future version of pandas. Drop these columns/ops to avoid this warning.\n"
     ]
    },
    {
     "name": "stdout",
     "output_type": "stream",
     "text": [
      "43.7 ms ± 613 µs per loop (mean ± std. dev. of 7 runs, 10 loops each)\n"
     ]
    },
    {
     "name": "stderr",
     "output_type": "stream",
     "text": [
      "<magic-timeit>:1: FutureWarning: ['timestamp', 'quadrant', 'quadrant_enum'] did not aggregate successfully. If any error is raised this will raise in a future version of pandas. Drop these columns/ops to avoid this warning.\n",
      "<magic-timeit>:1: FutureWarning: ['timestamp', 'quadrant', 'quadrant_enum'] did not aggregate successfully. If any error is raised this will raise in a future version of pandas. Drop these columns/ops to avoid this warning.\n",
      "<magic-timeit>:1: FutureWarning: ['timestamp', 'quadrant', 'quadrant_enum'] did not aggregate successfully. If any error is raised this will raise in a future version of pandas. Drop these columns/ops to avoid this warning.\n"
     ]
    }
   ],
   "source": [
    "% % timeit\n",
    "df.groupby('quadrant_cat').agg(['count', 'mean', 'median'])\n"
   ]
  },
  {
   "cell_type": "code",
   "execution_count": null,
   "metadata": {},
   "outputs": [
    {
     "data": {
      "text/plain": [
       "timestamp          object\n",
       "X                   int64\n",
       "Y                   int64\n",
       "Z                   int64\n",
       "quadrant           object\n",
       "quadrant_cat     category\n",
       "quadrant_enum      object\n",
       "dtype: object"
      ]
     },
     "execution_count": 35,
     "metadata": {},
     "output_type": "execute_result"
    }
   ],
   "source": [
    "df.dtypes\n"
   ]
  },
  {
   "cell_type": "code",
   "execution_count": null,
   "metadata": {},
   "outputs": [],
   "source": []
  }
 ],
 "metadata": {
  "kernelspec": {
   "display_name": "Python 3",
   "language": "python",
   "name": "python3"
  },
  "language_info": {
   "codemirror_mode": {
    "name": "ipython",
    "version": 3
   },
   "file_extension": ".py",
   "mimetype": "text/x-python",
   "name": "python",
   "nbconvert_exporter": "python",
   "pygments_lexer": "ipython3",
   "version": "3.10.4"
  },
  "orig_nbformat": 4,
  "vscode": {
   "interpreter": {
    "hash": "369f2c481f4da34e4445cda3fffd2e751bd1c4d706f27375911949ba6bb62e1c"
   }
  }
 },
 "nbformat": 4,
 "nbformat_minor": 2
}
