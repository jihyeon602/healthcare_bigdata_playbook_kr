{
 "cells": [
  {
   "attachments": {},
   "cell_type": "markdown",
   "metadata": {},
   "source": [
    "## 6.15. 카테고리(범주형) 데이터 다루기"
   ]
  },
  {
   "cell_type": "code",
   "execution_count": 1,
   "metadata": {},
   "outputs": [
    {
     "data": {
      "text/html": [
       "<div>\n",
       "<style scoped>\n",
       "    .dataframe tbody tr th:only-of-type {\n",
       "        vertical-align: middle;\n",
       "    }\n",
       "\n",
       "    .dataframe tbody tr th {\n",
       "        vertical-align: top;\n",
       "    }\n",
       "\n",
       "    .dataframe thead th {\n",
       "        text-align: right;\n",
       "    }\n",
       "</style>\n",
       "<table border=\"1\" class=\"dataframe\">\n",
       "  <thead>\n",
       "    <tr style=\"text-align: right;\">\n",
       "      <th></th>\n",
       "      <th>timestamp</th>\n",
       "      <th>X</th>\n",
       "      <th>Y</th>\n",
       "      <th>Z</th>\n",
       "    </tr>\n",
       "  </thead>\n",
       "  <tbody>\n",
       "    <tr>\n",
       "      <th>0</th>\n",
       "      <td>2022-01-01 00:01:40.363</td>\n",
       "      <td>33</td>\n",
       "      <td>76</td>\n",
       "      <td>56</td>\n",
       "    </tr>\n",
       "    <tr>\n",
       "      <th>1</th>\n",
       "      <td>2022-01-01 00:01:42.961</td>\n",
       "      <td>34</td>\n",
       "      <td>87</td>\n",
       "      <td>56</td>\n",
       "    </tr>\n",
       "    <tr>\n",
       "      <th>2</th>\n",
       "      <td>2022-01-01 00:01:45.562</td>\n",
       "      <td>25</td>\n",
       "      <td>89</td>\n",
       "      <td>47</td>\n",
       "    </tr>\n",
       "    <tr>\n",
       "      <th>3</th>\n",
       "      <td>2022-01-01 00:01:48.163</td>\n",
       "      <td>11</td>\n",
       "      <td>70</td>\n",
       "      <td>50</td>\n",
       "    </tr>\n",
       "    <tr>\n",
       "      <th>4</th>\n",
       "      <td>2022-01-01 00:02:08.864</td>\n",
       "      <td>33</td>\n",
       "      <td>72</td>\n",
       "      <td>58</td>\n",
       "    </tr>\n",
       "  </tbody>\n",
       "</table>\n",
       "</div>"
      ],
      "text/plain": [
       "                 timestamp   X   Y   Z\n",
       "0  2022-01-01 00:01:40.363  33  76  56\n",
       "1  2022-01-01 00:01:42.961  34  87  56\n",
       "2  2022-01-01 00:01:45.562  25  89  47\n",
       "3  2022-01-01 00:01:48.163  11  70  50\n",
       "4  2022-01-01 00:02:08.864  33  72  58"
      ]
     },
     "execution_count": 1,
     "metadata": {},
     "output_type": "execute_result"
    }
   ],
   "source": [
    "import pandas as pd\n",
    "import numpy as np\n",
    "\n",
    "df = pd.read_csv('OTg6QzA_activities.csv')\n",
    "df.head()"
   ]
  },
  {
   "cell_type": "code",
   "execution_count": 2,
   "metadata": {},
   "outputs": [
    {
     "data": {
      "text/html": [
       "<div>\n",
       "<style scoped>\n",
       "    .dataframe tbody tr th:only-of-type {\n",
       "        vertical-align: middle;\n",
       "    }\n",
       "\n",
       "    .dataframe tbody tr th {\n",
       "        vertical-align: top;\n",
       "    }\n",
       "\n",
       "    .dataframe thead th {\n",
       "        text-align: right;\n",
       "    }\n",
       "</style>\n",
       "<table border=\"1\" class=\"dataframe\">\n",
       "  <thead>\n",
       "    <tr style=\"text-align: right;\">\n",
       "      <th></th>\n",
       "      <th>timestamp</th>\n",
       "      <th>X</th>\n",
       "      <th>Y</th>\n",
       "      <th>Z</th>\n",
       "      <th>quadrant</th>\n",
       "    </tr>\n",
       "  </thead>\n",
       "  <tbody>\n",
       "    <tr>\n",
       "      <th>0</th>\n",
       "      <td>2022-01-01 00:01:40.363</td>\n",
       "      <td>33</td>\n",
       "      <td>76</td>\n",
       "      <td>56</td>\n",
       "      <td>4th</td>\n",
       "    </tr>\n",
       "    <tr>\n",
       "      <th>1</th>\n",
       "      <td>2022-01-01 00:01:42.961</td>\n",
       "      <td>34</td>\n",
       "      <td>87</td>\n",
       "      <td>56</td>\n",
       "      <td>4th</td>\n",
       "    </tr>\n",
       "    <tr>\n",
       "      <th>2</th>\n",
       "      <td>2022-01-01 00:01:45.562</td>\n",
       "      <td>25</td>\n",
       "      <td>89</td>\n",
       "      <td>47</td>\n",
       "      <td>4th</td>\n",
       "    </tr>\n",
       "    <tr>\n",
       "      <th>3</th>\n",
       "      <td>2022-01-01 00:01:48.163</td>\n",
       "      <td>11</td>\n",
       "      <td>70</td>\n",
       "      <td>50</td>\n",
       "      <td>4th</td>\n",
       "    </tr>\n",
       "    <tr>\n",
       "      <th>4</th>\n",
       "      <td>2022-01-01 00:02:08.864</td>\n",
       "      <td>33</td>\n",
       "      <td>72</td>\n",
       "      <td>58</td>\n",
       "      <td>4th</td>\n",
       "    </tr>\n",
       "    <tr>\n",
       "      <th>...</th>\n",
       "      <td>...</td>\n",
       "      <td>...</td>\n",
       "      <td>...</td>\n",
       "      <td>...</td>\n",
       "      <td>...</td>\n",
       "    </tr>\n",
       "    <tr>\n",
       "      <th>66276</th>\n",
       "      <td>2022-01-31 23:28:00.481</td>\n",
       "      <td>-91</td>\n",
       "      <td>143</td>\n",
       "      <td>136</td>\n",
       "      <td>3rd</td>\n",
       "    </tr>\n",
       "    <tr>\n",
       "      <th>66277</th>\n",
       "      <td>2022-01-31 23:28:41.683</td>\n",
       "      <td>-89</td>\n",
       "      <td>145</td>\n",
       "      <td>138</td>\n",
       "      <td>3rd</td>\n",
       "    </tr>\n",
       "    <tr>\n",
       "      <th>66278</th>\n",
       "      <td>2022-01-31 23:28:49.383</td>\n",
       "      <td>-93</td>\n",
       "      <td>138</td>\n",
       "      <td>137</td>\n",
       "      <td>3rd</td>\n",
       "    </tr>\n",
       "    <tr>\n",
       "      <th>66279</th>\n",
       "      <td>2022-01-31 23:32:36.426</td>\n",
       "      <td>-93</td>\n",
       "      <td>131</td>\n",
       "      <td>137</td>\n",
       "      <td>3rd</td>\n",
       "    </tr>\n",
       "    <tr>\n",
       "      <th>66280</th>\n",
       "      <td>2022-01-31 23:32:44.126</td>\n",
       "      <td>-91</td>\n",
       "      <td>129</td>\n",
       "      <td>138</td>\n",
       "      <td>3rd</td>\n",
       "    </tr>\n",
       "  </tbody>\n",
       "</table>\n",
       "<p>66281 rows × 5 columns</p>\n",
       "</div>"
      ],
      "text/plain": [
       "                     timestamp   X    Y    Z quadrant\n",
       "0      2022-01-01 00:01:40.363  33   76   56      4th\n",
       "1      2022-01-01 00:01:42.961  34   87   56      4th\n",
       "2      2022-01-01 00:01:45.562  25   89   47      4th\n",
       "3      2022-01-01 00:01:48.163  11   70   50      4th\n",
       "4      2022-01-01 00:02:08.864  33   72   58      4th\n",
       "...                        ...  ..  ...  ...      ...\n",
       "66276  2022-01-31 23:28:00.481 -91  143  136      3rd\n",
       "66277  2022-01-31 23:28:41.683 -89  145  138      3rd\n",
       "66278  2022-01-31 23:28:49.383 -93  138  137      3rd\n",
       "66279  2022-01-31 23:32:36.426 -93  131  137      3rd\n",
       "66280  2022-01-31 23:32:44.126 -91  129  138      3rd\n",
       "\n",
       "[66281 rows x 5 columns]"
      ]
     },
     "execution_count": 2,
     "metadata": {},
     "output_type": "execute_result"
    }
   ],
   "source": [
    "# (x,y) = (0, 200)을 기준으로 사분면 정하기\n",
    "def make_quadrant(df):\n",
    "  if df['X'] >= 0 and df['Y'] >= 200:\n",
    "    return \"1st\"\n",
    "  elif df['X'] < 0 and df['Y'] >= 200:\n",
    "    return \"2nd\"\n",
    "  elif df['X'] < 0 and df['Y'] < 200:\n",
    "    return \"3rd\"\n",
    "  elif df['X'] >= 0 and df['Y'] < 200:\n",
    "    return \"4th\"\n",
    "  else:\n",
    "    return \"others\"\n",
    "\n",
    "df['quadrant'] = df.apply(make_quadrant, axis=1)\n",
    "df"
   ]
  },
  {
   "cell_type": "code",
   "execution_count": 7,
   "metadata": {},
   "outputs": [],
   "source": [
    "df['quadrant_cat'] = df['quadrant'].astype('category')\n"
   ]
  },
  {
   "cell_type": "code",
   "execution_count": 8,
   "metadata": {},
   "outputs": [
    {
     "data": {
      "text/plain": [
       "timestamp         object\n",
       "X                  int64\n",
       "Y                  int64\n",
       "Z                  int64\n",
       "quadrant          object\n",
       "quadrant_cat    category\n",
       "dtype: object"
      ]
     },
     "execution_count": 8,
     "metadata": {},
     "output_type": "execute_result"
    }
   ],
   "source": [
    "df.dtypes\n"
   ]
  },
  {
   "cell_type": "code",
   "execution_count": 10,
   "metadata": {},
   "outputs": [
    {
     "data": {
      "text/plain": [
       "530248"
      ]
     },
     "execution_count": 10,
     "metadata": {},
     "output_type": "execute_result"
    }
   ],
   "source": [
    "df['quadrant'].nbytes"
   ]
  },
  {
   "cell_type": "code",
   "execution_count": 11,
   "metadata": {},
   "outputs": [
    {
     "data": {
      "text/plain": [
       "66313"
      ]
     },
     "execution_count": 11,
     "metadata": {},
     "output_type": "execute_result"
    }
   ],
   "source": [
    "df['quadrant_cat'].nbytes"
   ]
  },
  {
   "cell_type": "code",
   "execution_count": 12,
   "metadata": {},
   "outputs": [
    {
     "data": {
      "text/plain": [
       "0.12506034911965722"
      ]
     },
     "execution_count": 12,
     "metadata": {},
     "output_type": "execute_result"
    }
   ],
   "source": [
    "df['quadrant_cat'].nbytes/df['quadrant'].nbytes"
   ]
  },
  {
   "cell_type": "code",
   "execution_count": 13,
   "metadata": {},
   "outputs": [
    {
     "data": {
      "text/plain": [
       "0        3\n",
       "1        3\n",
       "2        3\n",
       "3        3\n",
       "4        3\n",
       "        ..\n",
       "66276    2\n",
       "66277    2\n",
       "66278    2\n",
       "66279    2\n",
       "66280    2\n",
       "Length: 66281, dtype: int8"
      ]
     },
     "execution_count": 13,
     "metadata": {},
     "output_type": "execute_result"
    }
   ],
   "source": [
    "df['quadrant_cat'].cat.codes"
   ]
  },
  {
   "cell_type": "code",
   "execution_count": 14,
   "metadata": {},
   "outputs": [
    {
     "data": {
      "text/plain": [
       "Index(['1st', '2nd', '3rd', '4th'], dtype='object')"
      ]
     },
     "execution_count": 14,
     "metadata": {},
     "output_type": "execute_result"
    }
   ],
   "source": [
    "df['quadrant_cat'].cat.categories"
   ]
  },
  {
   "cell_type": "code",
   "execution_count": 15,
   "metadata": {},
   "outputs": [
    {
     "data": {
      "text/plain": [
       "array([3, 2, 0, 1], dtype=int8)"
      ]
     },
     "execution_count": 15,
     "metadata": {},
     "output_type": "execute_result"
    }
   ],
   "source": [
    "df['quadrant_cat'].cat.codes.unique()"
   ]
  },
  {
   "cell_type": "code",
   "execution_count": 16,
   "metadata": {},
   "outputs": [
    {
     "name": "stdout",
     "output_type": "stream",
     "text": [
      "Q1st : 1\n",
      "Q2dn : 2\n",
      "Q3rd : 3\n",
      "Q4th : 4\n",
      "Others : 5\n"
     ]
    }
   ],
   "source": [
    "from enum import Enum\n",
    "class Quadrant(Enum):\n",
    "  Q1st = 1\n",
    "  Q2dn = 2\n",
    "  Q3rd = 3\n",
    "  Q4th = 4\n",
    "  Others = 5\n",
    "\n",
    "  def __lt__(self, other):\n",
    "    if self.__class__ is other.__class__:\n",
    "      return self.value < other.value\n",
    "    return NotImplemented\n",
    "\n",
    "for q in Quadrant:\n",
    "  print(q.name + \" : \" + str(q.value))"
   ]
  },
  {
   "cell_type": "code",
   "execution_count": 21,
   "metadata": {},
   "outputs": [
    {
     "data": {
      "text/html": [
       "<div>\n",
       "<style scoped>\n",
       "    .dataframe tbody tr th:only-of-type {\n",
       "        vertical-align: middle;\n",
       "    }\n",
       "\n",
       "    .dataframe tbody tr th {\n",
       "        vertical-align: top;\n",
       "    }\n",
       "\n",
       "    .dataframe thead th {\n",
       "        text-align: right;\n",
       "    }\n",
       "</style>\n",
       "<table border=\"1\" class=\"dataframe\">\n",
       "  <thead>\n",
       "    <tr style=\"text-align: right;\">\n",
       "      <th></th>\n",
       "      <th>timestamp</th>\n",
       "      <th>X</th>\n",
       "      <th>Y</th>\n",
       "      <th>Z</th>\n",
       "      <th>quadrant</th>\n",
       "      <th>quadrant_cat</th>\n",
       "      <th>quadrant_enum</th>\n",
       "    </tr>\n",
       "  </thead>\n",
       "  <tbody>\n",
       "    <tr>\n",
       "      <th>0</th>\n",
       "      <td>2022-01-01 00:01:40.363</td>\n",
       "      <td>33</td>\n",
       "      <td>76</td>\n",
       "      <td>56</td>\n",
       "      <td>4th</td>\n",
       "      <td>4th</td>\n",
       "      <td>Quadrant.Q4th</td>\n",
       "    </tr>\n",
       "    <tr>\n",
       "      <th>1</th>\n",
       "      <td>2022-01-01 00:01:42.961</td>\n",
       "      <td>34</td>\n",
       "      <td>87</td>\n",
       "      <td>56</td>\n",
       "      <td>4th</td>\n",
       "      <td>4th</td>\n",
       "      <td>Quadrant.Q4th</td>\n",
       "    </tr>\n",
       "    <tr>\n",
       "      <th>2</th>\n",
       "      <td>2022-01-01 00:01:45.562</td>\n",
       "      <td>25</td>\n",
       "      <td>89</td>\n",
       "      <td>47</td>\n",
       "      <td>4th</td>\n",
       "      <td>4th</td>\n",
       "      <td>Quadrant.Q4th</td>\n",
       "    </tr>\n",
       "    <tr>\n",
       "      <th>3</th>\n",
       "      <td>2022-01-01 00:01:48.163</td>\n",
       "      <td>11</td>\n",
       "      <td>70</td>\n",
       "      <td>50</td>\n",
       "      <td>4th</td>\n",
       "      <td>4th</td>\n",
       "      <td>Quadrant.Q4th</td>\n",
       "    </tr>\n",
       "    <tr>\n",
       "      <th>4</th>\n",
       "      <td>2022-01-01 00:02:08.864</td>\n",
       "      <td>33</td>\n",
       "      <td>72</td>\n",
       "      <td>58</td>\n",
       "      <td>4th</td>\n",
       "      <td>4th</td>\n",
       "      <td>Quadrant.Q4th</td>\n",
       "    </tr>\n",
       "    <tr>\n",
       "      <th>...</th>\n",
       "      <td>...</td>\n",
       "      <td>...</td>\n",
       "      <td>...</td>\n",
       "      <td>...</td>\n",
       "      <td>...</td>\n",
       "      <td>...</td>\n",
       "      <td>...</td>\n",
       "    </tr>\n",
       "    <tr>\n",
       "      <th>66276</th>\n",
       "      <td>2022-01-31 23:28:00.481</td>\n",
       "      <td>-91</td>\n",
       "      <td>143</td>\n",
       "      <td>136</td>\n",
       "      <td>3rd</td>\n",
       "      <td>3rd</td>\n",
       "      <td>Quadrant.Q3rd</td>\n",
       "    </tr>\n",
       "    <tr>\n",
       "      <th>66277</th>\n",
       "      <td>2022-01-31 23:28:41.683</td>\n",
       "      <td>-89</td>\n",
       "      <td>145</td>\n",
       "      <td>138</td>\n",
       "      <td>3rd</td>\n",
       "      <td>3rd</td>\n",
       "      <td>Quadrant.Q3rd</td>\n",
       "    </tr>\n",
       "    <tr>\n",
       "      <th>66278</th>\n",
       "      <td>2022-01-31 23:28:49.383</td>\n",
       "      <td>-93</td>\n",
       "      <td>138</td>\n",
       "      <td>137</td>\n",
       "      <td>3rd</td>\n",
       "      <td>3rd</td>\n",
       "      <td>Quadrant.Q3rd</td>\n",
       "    </tr>\n",
       "    <tr>\n",
       "      <th>66279</th>\n",
       "      <td>2022-01-31 23:32:36.426</td>\n",
       "      <td>-93</td>\n",
       "      <td>131</td>\n",
       "      <td>137</td>\n",
       "      <td>3rd</td>\n",
       "      <td>3rd</td>\n",
       "      <td>Quadrant.Q3rd</td>\n",
       "    </tr>\n",
       "    <tr>\n",
       "      <th>66280</th>\n",
       "      <td>2022-01-31 23:32:44.126</td>\n",
       "      <td>-91</td>\n",
       "      <td>129</td>\n",
       "      <td>138</td>\n",
       "      <td>3rd</td>\n",
       "      <td>3rd</td>\n",
       "      <td>Quadrant.Q3rd</td>\n",
       "    </tr>\n",
       "  </tbody>\n",
       "</table>\n",
       "<p>66281 rows × 7 columns</p>\n",
       "</div>"
      ],
      "text/plain": [
       "                     timestamp   X    Y    Z quadrant quadrant_cat  \\\n",
       "0      2022-01-01 00:01:40.363  33   76   56      4th          4th   \n",
       "1      2022-01-01 00:01:42.961  34   87   56      4th          4th   \n",
       "2      2022-01-01 00:01:45.562  25   89   47      4th          4th   \n",
       "3      2022-01-01 00:01:48.163  11   70   50      4th          4th   \n",
       "4      2022-01-01 00:02:08.864  33   72   58      4th          4th   \n",
       "...                        ...  ..  ...  ...      ...          ...   \n",
       "66276  2022-01-31 23:28:00.481 -91  143  136      3rd          3rd   \n",
       "66277  2022-01-31 23:28:41.683 -89  145  138      3rd          3rd   \n",
       "66278  2022-01-31 23:28:49.383 -93  138  137      3rd          3rd   \n",
       "66279  2022-01-31 23:32:36.426 -93  131  137      3rd          3rd   \n",
       "66280  2022-01-31 23:32:44.126 -91  129  138      3rd          3rd   \n",
       "\n",
       "       quadrant_enum  \n",
       "0      Quadrant.Q4th  \n",
       "1      Quadrant.Q4th  \n",
       "2      Quadrant.Q4th  \n",
       "3      Quadrant.Q4th  \n",
       "4      Quadrant.Q4th  \n",
       "...              ...  \n",
       "66276  Quadrant.Q3rd  \n",
       "66277  Quadrant.Q3rd  \n",
       "66278  Quadrant.Q3rd  \n",
       "66279  Quadrant.Q3rd  \n",
       "66280  Quadrant.Q3rd  \n",
       "\n",
       "[66281 rows x 7 columns]"
      ]
     },
     "execution_count": 21,
     "metadata": {},
     "output_type": "execute_result"
    }
   ],
   "source": [
    "# (x,y) = (0, 200)을 기준으로 사분면 정하기\n",
    "def make_quadrant_with_enum(df):\n",
    "  if df['X'] >= 0 and df['Y'] >= 200:\n",
    "    return Quadrant.Q1st\n",
    "  elif df['X'] < 0 and df['Y'] >= 200:\n",
    "    return Quadrant.Q2dn\n",
    "  elif df['X'] < 0 and df['Y'] < 200:\n",
    "    return Quadrant.Q3rd\n",
    "  elif df['X'] >= 0 and df['Y'] < 200:\n",
    "    return Quadrant.Q4th\n",
    "  else:\n",
    "    return Quadrant.Others\n",
    "\n",
    "df['quadrant_enum'] = df.apply(make_quadrant_with_enum, axis=1)\n",
    "df"
   ]
  },
  {
   "cell_type": "code",
   "execution_count": 22,
   "metadata": {},
   "outputs": [
    {
     "data": {
      "text/plain": [
       "timestamp          object\n",
       "X                   int64\n",
       "Y                   int64\n",
       "Z                   int64\n",
       "quadrant           object\n",
       "quadrant_cat     category\n",
       "quadrant_enum      object\n",
       "dtype: object"
      ]
     },
     "execution_count": 22,
     "metadata": {},
     "output_type": "execute_result"
    }
   ],
   "source": [
    "df.dtypes"
   ]
  },
  {
   "cell_type": "code",
   "execution_count": 23,
   "metadata": {},
   "outputs": [
    {
     "data": {
      "text/plain": [
       "530248"
      ]
     },
     "execution_count": 23,
     "metadata": {},
     "output_type": "execute_result"
    }
   ],
   "source": [
    "df['quadrant_enum'].nbytes"
   ]
  },
  {
   "cell_type": "code",
   "execution_count": 24,
   "metadata": {},
   "outputs": [
    {
     "data": {
      "text/plain": [
       "'Q4th'"
      ]
     },
     "execution_count": 24,
     "metadata": {},
     "output_type": "execute_result"
    }
   ],
   "source": [
    "df['quadrant_enum'].iloc[0].name"
   ]
  },
  {
   "cell_type": "code",
   "execution_count": 25,
   "metadata": {},
   "outputs": [
    {
     "data": {
      "text/plain": [
       "4"
      ]
     },
     "execution_count": 25,
     "metadata": {},
     "output_type": "execute_result"
    }
   ],
   "source": [
    "df['quadrant_enum'].iloc[0].value"
   ]
  },
  {
   "cell_type": "code",
   "execution_count": 26,
   "metadata": {},
   "outputs": [
    {
     "data": {
      "text/plain": [
       "timestamp          object\n",
       "X                   int64\n",
       "Y                   int64\n",
       "Z                   int64\n",
       "quadrant           object\n",
       "quadrant_cat     category\n",
       "quadrant_enum      object\n",
       "dtype: object"
      ]
     },
     "execution_count": 26,
     "metadata": {},
     "output_type": "execute_result"
    }
   ],
   "source": [
    "df.dtypes"
   ]
  },
  {
   "cell_type": "code",
   "execution_count": 27,
   "metadata": {},
   "outputs": [
    {
     "name": "stderr",
     "output_type": "stream",
     "text": [
      "<magic-timeit>:1: FutureWarning: ['timestamp', 'quadrant_cat', 'quadrant_enum'] did not aggregate successfully. If any error is raised this will raise in a future version of pandas. Drop these columns/ops to avoid this warning.\n",
      "<magic-timeit>:1: FutureWarning: ['timestamp', 'quadrant_cat', 'quadrant_enum'] did not aggregate successfully. If any error is raised this will raise in a future version of pandas. Drop these columns/ops to avoid this warning.\n",
      "<magic-timeit>:1: FutureWarning: ['timestamp', 'quadrant_cat', 'quadrant_enum'] did not aggregate successfully. If any error is raised this will raise in a future version of pandas. Drop these columns/ops to avoid this warning.\n",
      "<magic-timeit>:1: FutureWarning: ['timestamp', 'quadrant_cat', 'quadrant_enum'] did not aggregate successfully. If any error is raised this will raise in a future version of pandas. Drop these columns/ops to avoid this warning.\n",
      "<magic-timeit>:1: FutureWarning: ['timestamp', 'quadrant_cat', 'quadrant_enum'] did not aggregate successfully. If any error is raised this will raise in a future version of pandas. Drop these columns/ops to avoid this warning.\n",
      "<magic-timeit>:1: FutureWarning: ['timestamp', 'quadrant_cat', 'quadrant_enum'] did not aggregate successfully. If any error is raised this will raise in a future version of pandas. Drop these columns/ops to avoid this warning.\n",
      "<magic-timeit>:1: FutureWarning: ['timestamp', 'quadrant_cat', 'quadrant_enum'] did not aggregate successfully. If any error is raised this will raise in a future version of pandas. Drop these columns/ops to avoid this warning.\n",
      "<magic-timeit>:1: FutureWarning: ['timestamp', 'quadrant_cat', 'quadrant_enum'] did not aggregate successfully. If any error is raised this will raise in a future version of pandas. Drop these columns/ops to avoid this warning.\n",
      "<magic-timeit>:1: FutureWarning: ['timestamp', 'quadrant_cat', 'quadrant_enum'] did not aggregate successfully. If any error is raised this will raise in a future version of pandas. Drop these columns/ops to avoid this warning.\n",
      "<magic-timeit>:1: FutureWarning: ['timestamp', 'quadrant_cat', 'quadrant_enum'] did not aggregate successfully. If any error is raised this will raise in a future version of pandas. Drop these columns/ops to avoid this warning.\n",
      "<magic-timeit>:1: FutureWarning: ['timestamp', 'quadrant_cat', 'quadrant_enum'] did not aggregate successfully. If any error is raised this will raise in a future version of pandas. Drop these columns/ops to avoid this warning.\n",
      "<magic-timeit>:1: FutureWarning: ['timestamp', 'quadrant_cat', 'quadrant_enum'] did not aggregate successfully. If any error is raised this will raise in a future version of pandas. Drop these columns/ops to avoid this warning.\n",
      "<magic-timeit>:1: FutureWarning: ['timestamp', 'quadrant_cat', 'quadrant_enum'] did not aggregate successfully. If any error is raised this will raise in a future version of pandas. Drop these columns/ops to avoid this warning.\n",
      "<magic-timeit>:1: FutureWarning: ['timestamp', 'quadrant_cat', 'quadrant_enum'] did not aggregate successfully. If any error is raised this will raise in a future version of pandas. Drop these columns/ops to avoid this warning.\n",
      "<magic-timeit>:1: FutureWarning: ['timestamp', 'quadrant_cat', 'quadrant_enum'] did not aggregate successfully. If any error is raised this will raise in a future version of pandas. Drop these columns/ops to avoid this warning.\n",
      "<magic-timeit>:1: FutureWarning: ['timestamp', 'quadrant_cat', 'quadrant_enum'] did not aggregate successfully. If any error is raised this will raise in a future version of pandas. Drop these columns/ops to avoid this warning.\n",
      "<magic-timeit>:1: FutureWarning: ['timestamp', 'quadrant_cat', 'quadrant_enum'] did not aggregate successfully. If any error is raised this will raise in a future version of pandas. Drop these columns/ops to avoid this warning.\n",
      "<magic-timeit>:1: FutureWarning: ['timestamp', 'quadrant_cat', 'quadrant_enum'] did not aggregate successfully. If any error is raised this will raise in a future version of pandas. Drop these columns/ops to avoid this warning.\n",
      "<magic-timeit>:1: FutureWarning: ['timestamp', 'quadrant_cat', 'quadrant_enum'] did not aggregate successfully. If any error is raised this will raise in a future version of pandas. Drop these columns/ops to avoid this warning.\n",
      "<magic-timeit>:1: FutureWarning: ['timestamp', 'quadrant_cat', 'quadrant_enum'] did not aggregate successfully. If any error is raised this will raise in a future version of pandas. Drop these columns/ops to avoid this warning.\n",
      "<magic-timeit>:1: FutureWarning: ['timestamp', 'quadrant_cat', 'quadrant_enum'] did not aggregate successfully. If any error is raised this will raise in a future version of pandas. Drop these columns/ops to avoid this warning.\n",
      "<magic-timeit>:1: FutureWarning: ['timestamp', 'quadrant_cat', 'quadrant_enum'] did not aggregate successfully. If any error is raised this will raise in a future version of pandas. Drop these columns/ops to avoid this warning.\n",
      "<magic-timeit>:1: FutureWarning: ['timestamp', 'quadrant_cat', 'quadrant_enum'] did not aggregate successfully. If any error is raised this will raise in a future version of pandas. Drop these columns/ops to avoid this warning.\n",
      "<magic-timeit>:1: FutureWarning: ['timestamp', 'quadrant_cat', 'quadrant_enum'] did not aggregate successfully. If any error is raised this will raise in a future version of pandas. Drop these columns/ops to avoid this warning.\n",
      "<magic-timeit>:1: FutureWarning: ['timestamp', 'quadrant_cat', 'quadrant_enum'] did not aggregate successfully. If any error is raised this will raise in a future version of pandas. Drop these columns/ops to avoid this warning.\n",
      "<magic-timeit>:1: FutureWarning: ['timestamp', 'quadrant_cat', 'quadrant_enum'] did not aggregate successfully. If any error is raised this will raise in a future version of pandas. Drop these columns/ops to avoid this warning.\n",
      "<magic-timeit>:1: FutureWarning: ['timestamp', 'quadrant_cat', 'quadrant_enum'] did not aggregate successfully. If any error is raised this will raise in a future version of pandas. Drop these columns/ops to avoid this warning.\n",
      "<magic-timeit>:1: FutureWarning: ['timestamp', 'quadrant_cat', 'quadrant_enum'] did not aggregate successfully. If any error is raised this will raise in a future version of pandas. Drop these columns/ops to avoid this warning.\n",
      "<magic-timeit>:1: FutureWarning: ['timestamp', 'quadrant_cat', 'quadrant_enum'] did not aggregate successfully. If any error is raised this will raise in a future version of pandas. Drop these columns/ops to avoid this warning.\n",
      "<magic-timeit>:1: FutureWarning: ['timestamp', 'quadrant_cat', 'quadrant_enum'] did not aggregate successfully. If any error is raised this will raise in a future version of pandas. Drop these columns/ops to avoid this warning.\n",
      "<magic-timeit>:1: FutureWarning: ['timestamp', 'quadrant_cat', 'quadrant_enum'] did not aggregate successfully. If any error is raised this will raise in a future version of pandas. Drop these columns/ops to avoid this warning.\n",
      "<magic-timeit>:1: FutureWarning: ['timestamp', 'quadrant_cat', 'quadrant_enum'] did not aggregate successfully. If any error is raised this will raise in a future version of pandas. Drop these columns/ops to avoid this warning.\n",
      "<magic-timeit>:1: FutureWarning: ['timestamp', 'quadrant_cat', 'quadrant_enum'] did not aggregate successfully. If any error is raised this will raise in a future version of pandas. Drop these columns/ops to avoid this warning.\n",
      "<magic-timeit>:1: FutureWarning: ['timestamp', 'quadrant_cat', 'quadrant_enum'] did not aggregate successfully. If any error is raised this will raise in a future version of pandas. Drop these columns/ops to avoid this warning.\n",
      "<magic-timeit>:1: FutureWarning: ['timestamp', 'quadrant_cat', 'quadrant_enum'] did not aggregate successfully. If any error is raised this will raise in a future version of pandas. Drop these columns/ops to avoid this warning.\n",
      "<magic-timeit>:1: FutureWarning: ['timestamp', 'quadrant_cat', 'quadrant_enum'] did not aggregate successfully. If any error is raised this will raise in a future version of pandas. Drop these columns/ops to avoid this warning.\n",
      "<magic-timeit>:1: FutureWarning: ['timestamp', 'quadrant_cat', 'quadrant_enum'] did not aggregate successfully. If any error is raised this will raise in a future version of pandas. Drop these columns/ops to avoid this warning.\n",
      "<magic-timeit>:1: FutureWarning: ['timestamp', 'quadrant_cat', 'quadrant_enum'] did not aggregate successfully. If any error is raised this will raise in a future version of pandas. Drop these columns/ops to avoid this warning.\n",
      "<magic-timeit>:1: FutureWarning: ['timestamp', 'quadrant_cat', 'quadrant_enum'] did not aggregate successfully. If any error is raised this will raise in a future version of pandas. Drop these columns/ops to avoid this warning.\n",
      "<magic-timeit>:1: FutureWarning: ['timestamp', 'quadrant_cat', 'quadrant_enum'] did not aggregate successfully. If any error is raised this will raise in a future version of pandas. Drop these columns/ops to avoid this warning.\n",
      "<magic-timeit>:1: FutureWarning: ['timestamp', 'quadrant_cat', 'quadrant_enum'] did not aggregate successfully. If any error is raised this will raise in a future version of pandas. Drop these columns/ops to avoid this warning.\n",
      "<magic-timeit>:1: FutureWarning: ['timestamp', 'quadrant_cat', 'quadrant_enum'] did not aggregate successfully. If any error is raised this will raise in a future version of pandas. Drop these columns/ops to avoid this warning.\n",
      "<magic-timeit>:1: FutureWarning: ['timestamp', 'quadrant_cat', 'quadrant_enum'] did not aggregate successfully. If any error is raised this will raise in a future version of pandas. Drop these columns/ops to avoid this warning.\n",
      "<magic-timeit>:1: FutureWarning: ['timestamp', 'quadrant_cat', 'quadrant_enum'] did not aggregate successfully. If any error is raised this will raise in a future version of pandas. Drop these columns/ops to avoid this warning.\n",
      "<magic-timeit>:1: FutureWarning: ['timestamp', 'quadrant_cat', 'quadrant_enum'] did not aggregate successfully. If any error is raised this will raise in a future version of pandas. Drop these columns/ops to avoid this warning.\n",
      "<magic-timeit>:1: FutureWarning: ['timestamp', 'quadrant_cat', 'quadrant_enum'] did not aggregate successfully. If any error is raised this will raise in a future version of pandas. Drop these columns/ops to avoid this warning.\n",
      "<magic-timeit>:1: FutureWarning: ['timestamp', 'quadrant_cat', 'quadrant_enum'] did not aggregate successfully. If any error is raised this will raise in a future version of pandas. Drop these columns/ops to avoid this warning.\n",
      "<magic-timeit>:1: FutureWarning: ['timestamp', 'quadrant_cat', 'quadrant_enum'] did not aggregate successfully. If any error is raised this will raise in a future version of pandas. Drop these columns/ops to avoid this warning.\n",
      "<magic-timeit>:1: FutureWarning: ['timestamp', 'quadrant_cat', 'quadrant_enum'] did not aggregate successfully. If any error is raised this will raise in a future version of pandas. Drop these columns/ops to avoid this warning.\n",
      "<magic-timeit>:1: FutureWarning: ['timestamp', 'quadrant_cat', 'quadrant_enum'] did not aggregate successfully. If any error is raised this will raise in a future version of pandas. Drop these columns/ops to avoid this warning.\n",
      "<magic-timeit>:1: FutureWarning: ['timestamp', 'quadrant_cat', 'quadrant_enum'] did not aggregate successfully. If any error is raised this will raise in a future version of pandas. Drop these columns/ops to avoid this warning.\n",
      "<magic-timeit>:1: FutureWarning: ['timestamp', 'quadrant_cat', 'quadrant_enum'] did not aggregate successfully. If any error is raised this will raise in a future version of pandas. Drop these columns/ops to avoid this warning.\n",
      "<magic-timeit>:1: FutureWarning: ['timestamp', 'quadrant_cat', 'quadrant_enum'] did not aggregate successfully. If any error is raised this will raise in a future version of pandas. Drop these columns/ops to avoid this warning.\n",
      "<magic-timeit>:1: FutureWarning: ['timestamp', 'quadrant_cat', 'quadrant_enum'] did not aggregate successfully. If any error is raised this will raise in a future version of pandas. Drop these columns/ops to avoid this warning.\n",
      "<magic-timeit>:1: FutureWarning: ['timestamp', 'quadrant_cat', 'quadrant_enum'] did not aggregate successfully. If any error is raised this will raise in a future version of pandas. Drop these columns/ops to avoid this warning.\n",
      "<magic-timeit>:1: FutureWarning: ['timestamp', 'quadrant_cat', 'quadrant_enum'] did not aggregate successfully. If any error is raised this will raise in a future version of pandas. Drop these columns/ops to avoid this warning.\n",
      "<magic-timeit>:1: FutureWarning: ['timestamp', 'quadrant_cat', 'quadrant_enum'] did not aggregate successfully. If any error is raised this will raise in a future version of pandas. Drop these columns/ops to avoid this warning.\n",
      "<magic-timeit>:1: FutureWarning: ['timestamp', 'quadrant_cat', 'quadrant_enum'] did not aggregate successfully. If any error is raised this will raise in a future version of pandas. Drop these columns/ops to avoid this warning.\n",
      "<magic-timeit>:1: FutureWarning: ['timestamp', 'quadrant_cat', 'quadrant_enum'] did not aggregate successfully. If any error is raised this will raise in a future version of pandas. Drop these columns/ops to avoid this warning.\n",
      "<magic-timeit>:1: FutureWarning: ['timestamp', 'quadrant_cat', 'quadrant_enum'] did not aggregate successfully. If any error is raised this will raise in a future version of pandas. Drop these columns/ops to avoid this warning.\n",
      "<magic-timeit>:1: FutureWarning: ['timestamp', 'quadrant_cat', 'quadrant_enum'] did not aggregate successfully. If any error is raised this will raise in a future version of pandas. Drop these columns/ops to avoid this warning.\n",
      "<magic-timeit>:1: FutureWarning: ['timestamp', 'quadrant_cat', 'quadrant_enum'] did not aggregate successfully. If any error is raised this will raise in a future version of pandas. Drop these columns/ops to avoid this warning.\n",
      "<magic-timeit>:1: FutureWarning: ['timestamp', 'quadrant_cat', 'quadrant_enum'] did not aggregate successfully. If any error is raised this will raise in a future version of pandas. Drop these columns/ops to avoid this warning.\n",
      "<magic-timeit>:1: FutureWarning: ['timestamp', 'quadrant_cat', 'quadrant_enum'] did not aggregate successfully. If any error is raised this will raise in a future version of pandas. Drop these columns/ops to avoid this warning.\n",
      "<magic-timeit>:1: FutureWarning: ['timestamp', 'quadrant_cat', 'quadrant_enum'] did not aggregate successfully. If any error is raised this will raise in a future version of pandas. Drop these columns/ops to avoid this warning.\n",
      "<magic-timeit>:1: FutureWarning: ['timestamp', 'quadrant_cat', 'quadrant_enum'] did not aggregate successfully. If any error is raised this will raise in a future version of pandas. Drop these columns/ops to avoid this warning.\n",
      "<magic-timeit>:1: FutureWarning: ['timestamp', 'quadrant_cat', 'quadrant_enum'] did not aggregate successfully. If any error is raised this will raise in a future version of pandas. Drop these columns/ops to avoid this warning.\n",
      "<magic-timeit>:1: FutureWarning: ['timestamp', 'quadrant_cat', 'quadrant_enum'] did not aggregate successfully. If any error is raised this will raise in a future version of pandas. Drop these columns/ops to avoid this warning.\n",
      "<magic-timeit>:1: FutureWarning: ['timestamp', 'quadrant_cat', 'quadrant_enum'] did not aggregate successfully. If any error is raised this will raise in a future version of pandas. Drop these columns/ops to avoid this warning.\n",
      "<magic-timeit>:1: FutureWarning: ['timestamp', 'quadrant_cat', 'quadrant_enum'] did not aggregate successfully. If any error is raised this will raise in a future version of pandas. Drop these columns/ops to avoid this warning.\n",
      "<magic-timeit>:1: FutureWarning: ['timestamp', 'quadrant_cat', 'quadrant_enum'] did not aggregate successfully. If any error is raised this will raise in a future version of pandas. Drop these columns/ops to avoid this warning.\n",
      "<magic-timeit>:1: FutureWarning: ['timestamp', 'quadrant_cat', 'quadrant_enum'] did not aggregate successfully. If any error is raised this will raise in a future version of pandas. Drop these columns/ops to avoid this warning.\n",
      "<magic-timeit>:1: FutureWarning: ['timestamp', 'quadrant_cat', 'quadrant_enum'] did not aggregate successfully. If any error is raised this will raise in a future version of pandas. Drop these columns/ops to avoid this warning.\n",
      "<magic-timeit>:1: FutureWarning: ['timestamp', 'quadrant_cat', 'quadrant_enum'] did not aggregate successfully. If any error is raised this will raise in a future version of pandas. Drop these columns/ops to avoid this warning.\n",
      "<magic-timeit>:1: FutureWarning: ['timestamp', 'quadrant_cat', 'quadrant_enum'] did not aggregate successfully. If any error is raised this will raise in a future version of pandas. Drop these columns/ops to avoid this warning.\n",
      "<magic-timeit>:1: FutureWarning: ['timestamp', 'quadrant_cat', 'quadrant_enum'] did not aggregate successfully. If any error is raised this will raise in a future version of pandas. Drop these columns/ops to avoid this warning.\n",
      "<magic-timeit>:1: FutureWarning: ['timestamp', 'quadrant_cat', 'quadrant_enum'] did not aggregate successfully. If any error is raised this will raise in a future version of pandas. Drop these columns/ops to avoid this warning.\n"
     ]
    },
    {
     "name": "stdout",
     "output_type": "stream",
     "text": [
      "44.3 ms ± 3.11 ms per loop (mean ± std. dev. of 7 runs, 10 loops each)\n"
     ]
    },
    {
     "name": "stderr",
     "output_type": "stream",
     "text": [
      "<magic-timeit>:1: FutureWarning: ['timestamp', 'quadrant_cat', 'quadrant_enum'] did not aggregate successfully. If any error is raised this will raise in a future version of pandas. Drop these columns/ops to avoid this warning.\n",
      "<magic-timeit>:1: FutureWarning: ['timestamp', 'quadrant_cat', 'quadrant_enum'] did not aggregate successfully. If any error is raised this will raise in a future version of pandas. Drop these columns/ops to avoid this warning.\n",
      "<magic-timeit>:1: FutureWarning: ['timestamp', 'quadrant_cat', 'quadrant_enum'] did not aggregate successfully. If any error is raised this will raise in a future version of pandas. Drop these columns/ops to avoid this warning.\n",
      "<magic-timeit>:1: FutureWarning: ['timestamp', 'quadrant_cat', 'quadrant_enum'] did not aggregate successfully. If any error is raised this will raise in a future version of pandas. Drop these columns/ops to avoid this warning.\n"
     ]
    }
   ],
   "source": [
    "%%timeit\n",
    "df.groupby('quadrant').agg(['count', 'mean', 'median'])"
   ]
  },
  {
   "cell_type": "code",
   "execution_count": 28,
   "metadata": {},
   "outputs": [
    {
     "name": "stderr",
     "output_type": "stream",
     "text": [
      "<magic-timeit>:1: FutureWarning: ['timestamp', 'quadrant', 'quadrant_enum'] did not aggregate successfully. If any error is raised this will raise in a future version of pandas. Drop these columns/ops to avoid this warning.\n",
      "<magic-timeit>:1: FutureWarning: ['timestamp', 'quadrant', 'quadrant_enum'] did not aggregate successfully. If any error is raised this will raise in a future version of pandas. Drop these columns/ops to avoid this warning.\n",
      "<magic-timeit>:1: FutureWarning: ['timestamp', 'quadrant', 'quadrant_enum'] did not aggregate successfully. If any error is raised this will raise in a future version of pandas. Drop these columns/ops to avoid this warning.\n",
      "<magic-timeit>:1: FutureWarning: ['timestamp', 'quadrant', 'quadrant_enum'] did not aggregate successfully. If any error is raised this will raise in a future version of pandas. Drop these columns/ops to avoid this warning.\n",
      "<magic-timeit>:1: FutureWarning: ['timestamp', 'quadrant', 'quadrant_enum'] did not aggregate successfully. If any error is raised this will raise in a future version of pandas. Drop these columns/ops to avoid this warning.\n",
      "<magic-timeit>:1: FutureWarning: ['timestamp', 'quadrant', 'quadrant_enum'] did not aggregate successfully. If any error is raised this will raise in a future version of pandas. Drop these columns/ops to avoid this warning.\n",
      "<magic-timeit>:1: FutureWarning: ['timestamp', 'quadrant', 'quadrant_enum'] did not aggregate successfully. If any error is raised this will raise in a future version of pandas. Drop these columns/ops to avoid this warning.\n",
      "<magic-timeit>:1: FutureWarning: ['timestamp', 'quadrant', 'quadrant_enum'] did not aggregate successfully. If any error is raised this will raise in a future version of pandas. Drop these columns/ops to avoid this warning.\n",
      "<magic-timeit>:1: FutureWarning: ['timestamp', 'quadrant', 'quadrant_enum'] did not aggregate successfully. If any error is raised this will raise in a future version of pandas. Drop these columns/ops to avoid this warning.\n",
      "<magic-timeit>:1: FutureWarning: ['timestamp', 'quadrant', 'quadrant_enum'] did not aggregate successfully. If any error is raised this will raise in a future version of pandas. Drop these columns/ops to avoid this warning.\n",
      "<magic-timeit>:1: FutureWarning: ['timestamp', 'quadrant', 'quadrant_enum'] did not aggregate successfully. If any error is raised this will raise in a future version of pandas. Drop these columns/ops to avoid this warning.\n",
      "<magic-timeit>:1: FutureWarning: ['timestamp', 'quadrant', 'quadrant_enum'] did not aggregate successfully. If any error is raised this will raise in a future version of pandas. Drop these columns/ops to avoid this warning.\n",
      "<magic-timeit>:1: FutureWarning: ['timestamp', 'quadrant', 'quadrant_enum'] did not aggregate successfully. If any error is raised this will raise in a future version of pandas. Drop these columns/ops to avoid this warning.\n",
      "<magic-timeit>:1: FutureWarning: ['timestamp', 'quadrant', 'quadrant_enum'] did not aggregate successfully. If any error is raised this will raise in a future version of pandas. Drop these columns/ops to avoid this warning.\n",
      "<magic-timeit>:1: FutureWarning: ['timestamp', 'quadrant', 'quadrant_enum'] did not aggregate successfully. If any error is raised this will raise in a future version of pandas. Drop these columns/ops to avoid this warning.\n",
      "<magic-timeit>:1: FutureWarning: ['timestamp', 'quadrant', 'quadrant_enum'] did not aggregate successfully. If any error is raised this will raise in a future version of pandas. Drop these columns/ops to avoid this warning.\n",
      "<magic-timeit>:1: FutureWarning: ['timestamp', 'quadrant', 'quadrant_enum'] did not aggregate successfully. If any error is raised this will raise in a future version of pandas. Drop these columns/ops to avoid this warning.\n",
      "<magic-timeit>:1: FutureWarning: ['timestamp', 'quadrant', 'quadrant_enum'] did not aggregate successfully. If any error is raised this will raise in a future version of pandas. Drop these columns/ops to avoid this warning.\n",
      "<magic-timeit>:1: FutureWarning: ['timestamp', 'quadrant', 'quadrant_enum'] did not aggregate successfully. If any error is raised this will raise in a future version of pandas. Drop these columns/ops to avoid this warning.\n",
      "<magic-timeit>:1: FutureWarning: ['timestamp', 'quadrant', 'quadrant_enum'] did not aggregate successfully. If any error is raised this will raise in a future version of pandas. Drop these columns/ops to avoid this warning.\n",
      "<magic-timeit>:1: FutureWarning: ['timestamp', 'quadrant', 'quadrant_enum'] did not aggregate successfully. If any error is raised this will raise in a future version of pandas. Drop these columns/ops to avoid this warning.\n",
      "<magic-timeit>:1: FutureWarning: ['timestamp', 'quadrant', 'quadrant_enum'] did not aggregate successfully. If any error is raised this will raise in a future version of pandas. Drop these columns/ops to avoid this warning.\n",
      "<magic-timeit>:1: FutureWarning: ['timestamp', 'quadrant', 'quadrant_enum'] did not aggregate successfully. If any error is raised this will raise in a future version of pandas. Drop these columns/ops to avoid this warning.\n",
      "<magic-timeit>:1: FutureWarning: ['timestamp', 'quadrant', 'quadrant_enum'] did not aggregate successfully. If any error is raised this will raise in a future version of pandas. Drop these columns/ops to avoid this warning.\n",
      "<magic-timeit>:1: FutureWarning: ['timestamp', 'quadrant', 'quadrant_enum'] did not aggregate successfully. If any error is raised this will raise in a future version of pandas. Drop these columns/ops to avoid this warning.\n",
      "<magic-timeit>:1: FutureWarning: ['timestamp', 'quadrant', 'quadrant_enum'] did not aggregate successfully. If any error is raised this will raise in a future version of pandas. Drop these columns/ops to avoid this warning.\n",
      "<magic-timeit>:1: FutureWarning: ['timestamp', 'quadrant', 'quadrant_enum'] did not aggregate successfully. If any error is raised this will raise in a future version of pandas. Drop these columns/ops to avoid this warning.\n",
      "<magic-timeit>:1: FutureWarning: ['timestamp', 'quadrant', 'quadrant_enum'] did not aggregate successfully. If any error is raised this will raise in a future version of pandas. Drop these columns/ops to avoid this warning.\n",
      "<magic-timeit>:1: FutureWarning: ['timestamp', 'quadrant', 'quadrant_enum'] did not aggregate successfully. If any error is raised this will raise in a future version of pandas. Drop these columns/ops to avoid this warning.\n",
      "<magic-timeit>:1: FutureWarning: ['timestamp', 'quadrant', 'quadrant_enum'] did not aggregate successfully. If any error is raised this will raise in a future version of pandas. Drop these columns/ops to avoid this warning.\n",
      "<magic-timeit>:1: FutureWarning: ['timestamp', 'quadrant', 'quadrant_enum'] did not aggregate successfully. If any error is raised this will raise in a future version of pandas. Drop these columns/ops to avoid this warning.\n",
      "<magic-timeit>:1: FutureWarning: ['timestamp', 'quadrant', 'quadrant_enum'] did not aggregate successfully. If any error is raised this will raise in a future version of pandas. Drop these columns/ops to avoid this warning.\n",
      "<magic-timeit>:1: FutureWarning: ['timestamp', 'quadrant', 'quadrant_enum'] did not aggregate successfully. If any error is raised this will raise in a future version of pandas. Drop these columns/ops to avoid this warning.\n",
      "<magic-timeit>:1: FutureWarning: ['timestamp', 'quadrant', 'quadrant_enum'] did not aggregate successfully. If any error is raised this will raise in a future version of pandas. Drop these columns/ops to avoid this warning.\n",
      "<magic-timeit>:1: FutureWarning: ['timestamp', 'quadrant', 'quadrant_enum'] did not aggregate successfully. If any error is raised this will raise in a future version of pandas. Drop these columns/ops to avoid this warning.\n",
      "<magic-timeit>:1: FutureWarning: ['timestamp', 'quadrant', 'quadrant_enum'] did not aggregate successfully. If any error is raised this will raise in a future version of pandas. Drop these columns/ops to avoid this warning.\n",
      "<magic-timeit>:1: FutureWarning: ['timestamp', 'quadrant', 'quadrant_enum'] did not aggregate successfully. If any error is raised this will raise in a future version of pandas. Drop these columns/ops to avoid this warning.\n",
      "<magic-timeit>:1: FutureWarning: ['timestamp', 'quadrant', 'quadrant_enum'] did not aggregate successfully. If any error is raised this will raise in a future version of pandas. Drop these columns/ops to avoid this warning.\n",
      "<magic-timeit>:1: FutureWarning: ['timestamp', 'quadrant', 'quadrant_enum'] did not aggregate successfully. If any error is raised this will raise in a future version of pandas. Drop these columns/ops to avoid this warning.\n",
      "<magic-timeit>:1: FutureWarning: ['timestamp', 'quadrant', 'quadrant_enum'] did not aggregate successfully. If any error is raised this will raise in a future version of pandas. Drop these columns/ops to avoid this warning.\n",
      "<magic-timeit>:1: FutureWarning: ['timestamp', 'quadrant', 'quadrant_enum'] did not aggregate successfully. If any error is raised this will raise in a future version of pandas. Drop these columns/ops to avoid this warning.\n",
      "<magic-timeit>:1: FutureWarning: ['timestamp', 'quadrant', 'quadrant_enum'] did not aggregate successfully. If any error is raised this will raise in a future version of pandas. Drop these columns/ops to avoid this warning.\n",
      "<magic-timeit>:1: FutureWarning: ['timestamp', 'quadrant', 'quadrant_enum'] did not aggregate successfully. If any error is raised this will raise in a future version of pandas. Drop these columns/ops to avoid this warning.\n",
      "<magic-timeit>:1: FutureWarning: ['timestamp', 'quadrant', 'quadrant_enum'] did not aggregate successfully. If any error is raised this will raise in a future version of pandas. Drop these columns/ops to avoid this warning.\n",
      "<magic-timeit>:1: FutureWarning: ['timestamp', 'quadrant', 'quadrant_enum'] did not aggregate successfully. If any error is raised this will raise in a future version of pandas. Drop these columns/ops to avoid this warning.\n",
      "<magic-timeit>:1: FutureWarning: ['timestamp', 'quadrant', 'quadrant_enum'] did not aggregate successfully. If any error is raised this will raise in a future version of pandas. Drop these columns/ops to avoid this warning.\n",
      "<magic-timeit>:1: FutureWarning: ['timestamp', 'quadrant', 'quadrant_enum'] did not aggregate successfully. If any error is raised this will raise in a future version of pandas. Drop these columns/ops to avoid this warning.\n",
      "<magic-timeit>:1: FutureWarning: ['timestamp', 'quadrant', 'quadrant_enum'] did not aggregate successfully. If any error is raised this will raise in a future version of pandas. Drop these columns/ops to avoid this warning.\n",
      "<magic-timeit>:1: FutureWarning: ['timestamp', 'quadrant', 'quadrant_enum'] did not aggregate successfully. If any error is raised this will raise in a future version of pandas. Drop these columns/ops to avoid this warning.\n",
      "<magic-timeit>:1: FutureWarning: ['timestamp', 'quadrant', 'quadrant_enum'] did not aggregate successfully. If any error is raised this will raise in a future version of pandas. Drop these columns/ops to avoid this warning.\n",
      "<magic-timeit>:1: FutureWarning: ['timestamp', 'quadrant', 'quadrant_enum'] did not aggregate successfully. If any error is raised this will raise in a future version of pandas. Drop these columns/ops to avoid this warning.\n",
      "<magic-timeit>:1: FutureWarning: ['timestamp', 'quadrant', 'quadrant_enum'] did not aggregate successfully. If any error is raised this will raise in a future version of pandas. Drop these columns/ops to avoid this warning.\n",
      "<magic-timeit>:1: FutureWarning: ['timestamp', 'quadrant', 'quadrant_enum'] did not aggregate successfully. If any error is raised this will raise in a future version of pandas. Drop these columns/ops to avoid this warning.\n",
      "<magic-timeit>:1: FutureWarning: ['timestamp', 'quadrant', 'quadrant_enum'] did not aggregate successfully. If any error is raised this will raise in a future version of pandas. Drop these columns/ops to avoid this warning.\n",
      "<magic-timeit>:1: FutureWarning: ['timestamp', 'quadrant', 'quadrant_enum'] did not aggregate successfully. If any error is raised this will raise in a future version of pandas. Drop these columns/ops to avoid this warning.\n",
      "<magic-timeit>:1: FutureWarning: ['timestamp', 'quadrant', 'quadrant_enum'] did not aggregate successfully. If any error is raised this will raise in a future version of pandas. Drop these columns/ops to avoid this warning.\n",
      "<magic-timeit>:1: FutureWarning: ['timestamp', 'quadrant', 'quadrant_enum'] did not aggregate successfully. If any error is raised this will raise in a future version of pandas. Drop these columns/ops to avoid this warning.\n",
      "<magic-timeit>:1: FutureWarning: ['timestamp', 'quadrant', 'quadrant_enum'] did not aggregate successfully. If any error is raised this will raise in a future version of pandas. Drop these columns/ops to avoid this warning.\n",
      "<magic-timeit>:1: FutureWarning: ['timestamp', 'quadrant', 'quadrant_enum'] did not aggregate successfully. If any error is raised this will raise in a future version of pandas. Drop these columns/ops to avoid this warning.\n",
      "<magic-timeit>:1: FutureWarning: ['timestamp', 'quadrant', 'quadrant_enum'] did not aggregate successfully. If any error is raised this will raise in a future version of pandas. Drop these columns/ops to avoid this warning.\n",
      "<magic-timeit>:1: FutureWarning: ['timestamp', 'quadrant', 'quadrant_enum'] did not aggregate successfully. If any error is raised this will raise in a future version of pandas. Drop these columns/ops to avoid this warning.\n",
      "<magic-timeit>:1: FutureWarning: ['timestamp', 'quadrant', 'quadrant_enum'] did not aggregate successfully. If any error is raised this will raise in a future version of pandas. Drop these columns/ops to avoid this warning.\n",
      "<magic-timeit>:1: FutureWarning: ['timestamp', 'quadrant', 'quadrant_enum'] did not aggregate successfully. If any error is raised this will raise in a future version of pandas. Drop these columns/ops to avoid this warning.\n",
      "<magic-timeit>:1: FutureWarning: ['timestamp', 'quadrant', 'quadrant_enum'] did not aggregate successfully. If any error is raised this will raise in a future version of pandas. Drop these columns/ops to avoid this warning.\n",
      "<magic-timeit>:1: FutureWarning: ['timestamp', 'quadrant', 'quadrant_enum'] did not aggregate successfully. If any error is raised this will raise in a future version of pandas. Drop these columns/ops to avoid this warning.\n",
      "<magic-timeit>:1: FutureWarning: ['timestamp', 'quadrant', 'quadrant_enum'] did not aggregate successfully. If any error is raised this will raise in a future version of pandas. Drop these columns/ops to avoid this warning.\n",
      "<magic-timeit>:1: FutureWarning: ['timestamp', 'quadrant', 'quadrant_enum'] did not aggregate successfully. If any error is raised this will raise in a future version of pandas. Drop these columns/ops to avoid this warning.\n",
      "<magic-timeit>:1: FutureWarning: ['timestamp', 'quadrant', 'quadrant_enum'] did not aggregate successfully. If any error is raised this will raise in a future version of pandas. Drop these columns/ops to avoid this warning.\n",
      "<magic-timeit>:1: FutureWarning: ['timestamp', 'quadrant', 'quadrant_enum'] did not aggregate successfully. If any error is raised this will raise in a future version of pandas. Drop these columns/ops to avoid this warning.\n",
      "<magic-timeit>:1: FutureWarning: ['timestamp', 'quadrant', 'quadrant_enum'] did not aggregate successfully. If any error is raised this will raise in a future version of pandas. Drop these columns/ops to avoid this warning.\n",
      "<magic-timeit>:1: FutureWarning: ['timestamp', 'quadrant', 'quadrant_enum'] did not aggregate successfully. If any error is raised this will raise in a future version of pandas. Drop these columns/ops to avoid this warning.\n",
      "<magic-timeit>:1: FutureWarning: ['timestamp', 'quadrant', 'quadrant_enum'] did not aggregate successfully. If any error is raised this will raise in a future version of pandas. Drop these columns/ops to avoid this warning.\n",
      "<magic-timeit>:1: FutureWarning: ['timestamp', 'quadrant', 'quadrant_enum'] did not aggregate successfully. If any error is raised this will raise in a future version of pandas. Drop these columns/ops to avoid this warning.\n",
      "<magic-timeit>:1: FutureWarning: ['timestamp', 'quadrant', 'quadrant_enum'] did not aggregate successfully. If any error is raised this will raise in a future version of pandas. Drop these columns/ops to avoid this warning.\n",
      "<magic-timeit>:1: FutureWarning: ['timestamp', 'quadrant', 'quadrant_enum'] did not aggregate successfully. If any error is raised this will raise in a future version of pandas. Drop these columns/ops to avoid this warning.\n",
      "<magic-timeit>:1: FutureWarning: ['timestamp', 'quadrant', 'quadrant_enum'] did not aggregate successfully. If any error is raised this will raise in a future version of pandas. Drop these columns/ops to avoid this warning.\n",
      "<magic-timeit>:1: FutureWarning: ['timestamp', 'quadrant', 'quadrant_enum'] did not aggregate successfully. If any error is raised this will raise in a future version of pandas. Drop these columns/ops to avoid this warning.\n",
      "<magic-timeit>:1: FutureWarning: ['timestamp', 'quadrant', 'quadrant_enum'] did not aggregate successfully. If any error is raised this will raise in a future version of pandas. Drop these columns/ops to avoid this warning.\n",
      "<magic-timeit>:1: FutureWarning: ['timestamp', 'quadrant', 'quadrant_enum'] did not aggregate successfully. If any error is raised this will raise in a future version of pandas. Drop these columns/ops to avoid this warning.\n",
      "<magic-timeit>:1: FutureWarning: ['timestamp', 'quadrant', 'quadrant_enum'] did not aggregate successfully. If any error is raised this will raise in a future version of pandas. Drop these columns/ops to avoid this warning.\n"
     ]
    },
    {
     "name": "stdout",
     "output_type": "stream",
     "text": [
      "47.7 ms ± 1.21 ms per loop (mean ± std. dev. of 7 runs, 10 loops each)\n"
     ]
    },
    {
     "name": "stderr",
     "output_type": "stream",
     "text": [
      "<magic-timeit>:1: FutureWarning: ['timestamp', 'quadrant', 'quadrant_enum'] did not aggregate successfully. If any error is raised this will raise in a future version of pandas. Drop these columns/ops to avoid this warning.\n"
     ]
    }
   ],
   "source": [
    "%%timeit\n",
    "df.groupby('quadrant_cat').agg(['count', 'mean', 'median'])\n"
   ]
  },
  {
   "cell_type": "code",
   "execution_count": 29,
   "metadata": {},
   "outputs": [
    {
     "name": "stderr",
     "output_type": "stream",
     "text": [
      "<magic-timeit>:1: FutureWarning: ['timestamp', 'quadrant', 'quadrant_cat'] did not aggregate successfully. If any error is raised this will raise in a future version of pandas. Drop these columns/ops to avoid this warning.\n",
      "<magic-timeit>:1: FutureWarning: ['timestamp', 'quadrant', 'quadrant_cat'] did not aggregate successfully. If any error is raised this will raise in a future version of pandas. Drop these columns/ops to avoid this warning.\n",
      "<magic-timeit>:1: FutureWarning: ['timestamp', 'quadrant', 'quadrant_cat'] did not aggregate successfully. If any error is raised this will raise in a future version of pandas. Drop these columns/ops to avoid this warning.\n",
      "<magic-timeit>:1: FutureWarning: ['timestamp', 'quadrant', 'quadrant_cat'] did not aggregate successfully. If any error is raised this will raise in a future version of pandas. Drop these columns/ops to avoid this warning.\n",
      "<magic-timeit>:1: FutureWarning: ['timestamp', 'quadrant', 'quadrant_cat'] did not aggregate successfully. If any error is raised this will raise in a future version of pandas. Drop these columns/ops to avoid this warning.\n",
      "<magic-timeit>:1: FutureWarning: ['timestamp', 'quadrant', 'quadrant_cat'] did not aggregate successfully. If any error is raised this will raise in a future version of pandas. Drop these columns/ops to avoid this warning.\n",
      "<magic-timeit>:1: FutureWarning: ['timestamp', 'quadrant', 'quadrant_cat'] did not aggregate successfully. If any error is raised this will raise in a future version of pandas. Drop these columns/ops to avoid this warning.\n",
      "<magic-timeit>:1: FutureWarning: ['timestamp', 'quadrant', 'quadrant_cat'] did not aggregate successfully. If any error is raised this will raise in a future version of pandas. Drop these columns/ops to avoid this warning.\n",
      "<magic-timeit>:1: FutureWarning: ['timestamp', 'quadrant', 'quadrant_cat'] did not aggregate successfully. If any error is raised this will raise in a future version of pandas. Drop these columns/ops to avoid this warning.\n",
      "<magic-timeit>:1: FutureWarning: ['timestamp', 'quadrant', 'quadrant_cat'] did not aggregate successfully. If any error is raised this will raise in a future version of pandas. Drop these columns/ops to avoid this warning.\n",
      "<magic-timeit>:1: FutureWarning: ['timestamp', 'quadrant', 'quadrant_cat'] did not aggregate successfully. If any error is raised this will raise in a future version of pandas. Drop these columns/ops to avoid this warning.\n",
      "<magic-timeit>:1: FutureWarning: ['timestamp', 'quadrant', 'quadrant_cat'] did not aggregate successfully. If any error is raised this will raise in a future version of pandas. Drop these columns/ops to avoid this warning.\n",
      "<magic-timeit>:1: FutureWarning: ['timestamp', 'quadrant', 'quadrant_cat'] did not aggregate successfully. If any error is raised this will raise in a future version of pandas. Drop these columns/ops to avoid this warning.\n",
      "<magic-timeit>:1: FutureWarning: ['timestamp', 'quadrant', 'quadrant_cat'] did not aggregate successfully. If any error is raised this will raise in a future version of pandas. Drop these columns/ops to avoid this warning.\n",
      "<magic-timeit>:1: FutureWarning: ['timestamp', 'quadrant', 'quadrant_cat'] did not aggregate successfully. If any error is raised this will raise in a future version of pandas. Drop these columns/ops to avoid this warning.\n",
      "<magic-timeit>:1: FutureWarning: ['timestamp', 'quadrant', 'quadrant_cat'] did not aggregate successfully. If any error is raised this will raise in a future version of pandas. Drop these columns/ops to avoid this warning.\n",
      "<magic-timeit>:1: FutureWarning: ['timestamp', 'quadrant', 'quadrant_cat'] did not aggregate successfully. If any error is raised this will raise in a future version of pandas. Drop these columns/ops to avoid this warning.\n",
      "<magic-timeit>:1: FutureWarning: ['timestamp', 'quadrant', 'quadrant_cat'] did not aggregate successfully. If any error is raised this will raise in a future version of pandas. Drop these columns/ops to avoid this warning.\n",
      "<magic-timeit>:1: FutureWarning: ['timestamp', 'quadrant', 'quadrant_cat'] did not aggregate successfully. If any error is raised this will raise in a future version of pandas. Drop these columns/ops to avoid this warning.\n",
      "<magic-timeit>:1: FutureWarning: ['timestamp', 'quadrant', 'quadrant_cat'] did not aggregate successfully. If any error is raised this will raise in a future version of pandas. Drop these columns/ops to avoid this warning.\n",
      "<magic-timeit>:1: FutureWarning: ['timestamp', 'quadrant', 'quadrant_cat'] did not aggregate successfully. If any error is raised this will raise in a future version of pandas. Drop these columns/ops to avoid this warning.\n",
      "<magic-timeit>:1: FutureWarning: ['timestamp', 'quadrant', 'quadrant_cat'] did not aggregate successfully. If any error is raised this will raise in a future version of pandas. Drop these columns/ops to avoid this warning.\n",
      "<magic-timeit>:1: FutureWarning: ['timestamp', 'quadrant', 'quadrant_cat'] did not aggregate successfully. If any error is raised this will raise in a future version of pandas. Drop these columns/ops to avoid this warning.\n",
      "<magic-timeit>:1: FutureWarning: ['timestamp', 'quadrant', 'quadrant_cat'] did not aggregate successfully. If any error is raised this will raise in a future version of pandas. Drop these columns/ops to avoid this warning.\n",
      "<magic-timeit>:1: FutureWarning: ['timestamp', 'quadrant', 'quadrant_cat'] did not aggregate successfully. If any error is raised this will raise in a future version of pandas. Drop these columns/ops to avoid this warning.\n",
      "<magic-timeit>:1: FutureWarning: ['timestamp', 'quadrant', 'quadrant_cat'] did not aggregate successfully. If any error is raised this will raise in a future version of pandas. Drop these columns/ops to avoid this warning.\n",
      "<magic-timeit>:1: FutureWarning: ['timestamp', 'quadrant', 'quadrant_cat'] did not aggregate successfully. If any error is raised this will raise in a future version of pandas. Drop these columns/ops to avoid this warning.\n",
      "<magic-timeit>:1: FutureWarning: ['timestamp', 'quadrant', 'quadrant_cat'] did not aggregate successfully. If any error is raised this will raise in a future version of pandas. Drop these columns/ops to avoid this warning.\n",
      "<magic-timeit>:1: FutureWarning: ['timestamp', 'quadrant', 'quadrant_cat'] did not aggregate successfully. If any error is raised this will raise in a future version of pandas. Drop these columns/ops to avoid this warning.\n",
      "<magic-timeit>:1: FutureWarning: ['timestamp', 'quadrant', 'quadrant_cat'] did not aggregate successfully. If any error is raised this will raise in a future version of pandas. Drop these columns/ops to avoid this warning.\n",
      "<magic-timeit>:1: FutureWarning: ['timestamp', 'quadrant', 'quadrant_cat'] did not aggregate successfully. If any error is raised this will raise in a future version of pandas. Drop these columns/ops to avoid this warning.\n",
      "<magic-timeit>:1: FutureWarning: ['timestamp', 'quadrant', 'quadrant_cat'] did not aggregate successfully. If any error is raised this will raise in a future version of pandas. Drop these columns/ops to avoid this warning.\n",
      "<magic-timeit>:1: FutureWarning: ['timestamp', 'quadrant', 'quadrant_cat'] did not aggregate successfully. If any error is raised this will raise in a future version of pandas. Drop these columns/ops to avoid this warning.\n",
      "<magic-timeit>:1: FutureWarning: ['timestamp', 'quadrant', 'quadrant_cat'] did not aggregate successfully. If any error is raised this will raise in a future version of pandas. Drop these columns/ops to avoid this warning.\n",
      "<magic-timeit>:1: FutureWarning: ['timestamp', 'quadrant', 'quadrant_cat'] did not aggregate successfully. If any error is raised this will raise in a future version of pandas. Drop these columns/ops to avoid this warning.\n",
      "<magic-timeit>:1: FutureWarning: ['timestamp', 'quadrant', 'quadrant_cat'] did not aggregate successfully. If any error is raised this will raise in a future version of pandas. Drop these columns/ops to avoid this warning.\n",
      "<magic-timeit>:1: FutureWarning: ['timestamp', 'quadrant', 'quadrant_cat'] did not aggregate successfully. If any error is raised this will raise in a future version of pandas. Drop these columns/ops to avoid this warning.\n",
      "<magic-timeit>:1: FutureWarning: ['timestamp', 'quadrant', 'quadrant_cat'] did not aggregate successfully. If any error is raised this will raise in a future version of pandas. Drop these columns/ops to avoid this warning.\n",
      "<magic-timeit>:1: FutureWarning: ['timestamp', 'quadrant', 'quadrant_cat'] did not aggregate successfully. If any error is raised this will raise in a future version of pandas. Drop these columns/ops to avoid this warning.\n",
      "<magic-timeit>:1: FutureWarning: ['timestamp', 'quadrant', 'quadrant_cat'] did not aggregate successfully. If any error is raised this will raise in a future version of pandas. Drop these columns/ops to avoid this warning.\n",
      "<magic-timeit>:1: FutureWarning: ['timestamp', 'quadrant', 'quadrant_cat'] did not aggregate successfully. If any error is raised this will raise in a future version of pandas. Drop these columns/ops to avoid this warning.\n",
      "<magic-timeit>:1: FutureWarning: ['timestamp', 'quadrant', 'quadrant_cat'] did not aggregate successfully. If any error is raised this will raise in a future version of pandas. Drop these columns/ops to avoid this warning.\n",
      "<magic-timeit>:1: FutureWarning: ['timestamp', 'quadrant', 'quadrant_cat'] did not aggregate successfully. If any error is raised this will raise in a future version of pandas. Drop these columns/ops to avoid this warning.\n",
      "<magic-timeit>:1: FutureWarning: ['timestamp', 'quadrant', 'quadrant_cat'] did not aggregate successfully. If any error is raised this will raise in a future version of pandas. Drop these columns/ops to avoid this warning.\n",
      "<magic-timeit>:1: FutureWarning: ['timestamp', 'quadrant', 'quadrant_cat'] did not aggregate successfully. If any error is raised this will raise in a future version of pandas. Drop these columns/ops to avoid this warning.\n",
      "<magic-timeit>:1: FutureWarning: ['timestamp', 'quadrant', 'quadrant_cat'] did not aggregate successfully. If any error is raised this will raise in a future version of pandas. Drop these columns/ops to avoid this warning.\n",
      "<magic-timeit>:1: FutureWarning: ['timestamp', 'quadrant', 'quadrant_cat'] did not aggregate successfully. If any error is raised this will raise in a future version of pandas. Drop these columns/ops to avoid this warning.\n",
      "<magic-timeit>:1: FutureWarning: ['timestamp', 'quadrant', 'quadrant_cat'] did not aggregate successfully. If any error is raised this will raise in a future version of pandas. Drop these columns/ops to avoid this warning.\n",
      "<magic-timeit>:1: FutureWarning: ['timestamp', 'quadrant', 'quadrant_cat'] did not aggregate successfully. If any error is raised this will raise in a future version of pandas. Drop these columns/ops to avoid this warning.\n",
      "<magic-timeit>:1: FutureWarning: ['timestamp', 'quadrant', 'quadrant_cat'] did not aggregate successfully. If any error is raised this will raise in a future version of pandas. Drop these columns/ops to avoid this warning.\n",
      "<magic-timeit>:1: FutureWarning: ['timestamp', 'quadrant', 'quadrant_cat'] did not aggregate successfully. If any error is raised this will raise in a future version of pandas. Drop these columns/ops to avoid this warning.\n",
      "<magic-timeit>:1: FutureWarning: ['timestamp', 'quadrant', 'quadrant_cat'] did not aggregate successfully. If any error is raised this will raise in a future version of pandas. Drop these columns/ops to avoid this warning.\n",
      "<magic-timeit>:1: FutureWarning: ['timestamp', 'quadrant', 'quadrant_cat'] did not aggregate successfully. If any error is raised this will raise in a future version of pandas. Drop these columns/ops to avoid this warning.\n",
      "<magic-timeit>:1: FutureWarning: ['timestamp', 'quadrant', 'quadrant_cat'] did not aggregate successfully. If any error is raised this will raise in a future version of pandas. Drop these columns/ops to avoid this warning.\n",
      "<magic-timeit>:1: FutureWarning: ['timestamp', 'quadrant', 'quadrant_cat'] did not aggregate successfully. If any error is raised this will raise in a future version of pandas. Drop these columns/ops to avoid this warning.\n",
      "<magic-timeit>:1: FutureWarning: ['timestamp', 'quadrant', 'quadrant_cat'] did not aggregate successfully. If any error is raised this will raise in a future version of pandas. Drop these columns/ops to avoid this warning.\n",
      "<magic-timeit>:1: FutureWarning: ['timestamp', 'quadrant', 'quadrant_cat'] did not aggregate successfully. If any error is raised this will raise in a future version of pandas. Drop these columns/ops to avoid this warning.\n",
      "<magic-timeit>:1: FutureWarning: ['timestamp', 'quadrant', 'quadrant_cat'] did not aggregate successfully. If any error is raised this will raise in a future version of pandas. Drop these columns/ops to avoid this warning.\n",
      "<magic-timeit>:1: FutureWarning: ['timestamp', 'quadrant', 'quadrant_cat'] did not aggregate successfully. If any error is raised this will raise in a future version of pandas. Drop these columns/ops to avoid this warning.\n",
      "<magic-timeit>:1: FutureWarning: ['timestamp', 'quadrant', 'quadrant_cat'] did not aggregate successfully. If any error is raised this will raise in a future version of pandas. Drop these columns/ops to avoid this warning.\n",
      "<magic-timeit>:1: FutureWarning: ['timestamp', 'quadrant', 'quadrant_cat'] did not aggregate successfully. If any error is raised this will raise in a future version of pandas. Drop these columns/ops to avoid this warning.\n",
      "<magic-timeit>:1: FutureWarning: ['timestamp', 'quadrant', 'quadrant_cat'] did not aggregate successfully. If any error is raised this will raise in a future version of pandas. Drop these columns/ops to avoid this warning.\n",
      "<magic-timeit>:1: FutureWarning: ['timestamp', 'quadrant', 'quadrant_cat'] did not aggregate successfully. If any error is raised this will raise in a future version of pandas. Drop these columns/ops to avoid this warning.\n",
      "<magic-timeit>:1: FutureWarning: ['timestamp', 'quadrant', 'quadrant_cat'] did not aggregate successfully. If any error is raised this will raise in a future version of pandas. Drop these columns/ops to avoid this warning.\n",
      "<magic-timeit>:1: FutureWarning: ['timestamp', 'quadrant', 'quadrant_cat'] did not aggregate successfully. If any error is raised this will raise in a future version of pandas. Drop these columns/ops to avoid this warning.\n",
      "<magic-timeit>:1: FutureWarning: ['timestamp', 'quadrant', 'quadrant_cat'] did not aggregate successfully. If any error is raised this will raise in a future version of pandas. Drop these columns/ops to avoid this warning.\n",
      "<magic-timeit>:1: FutureWarning: ['timestamp', 'quadrant', 'quadrant_cat'] did not aggregate successfully. If any error is raised this will raise in a future version of pandas. Drop these columns/ops to avoid this warning.\n",
      "<magic-timeit>:1: FutureWarning: ['timestamp', 'quadrant', 'quadrant_cat'] did not aggregate successfully. If any error is raised this will raise in a future version of pandas. Drop these columns/ops to avoid this warning.\n",
      "<magic-timeit>:1: FutureWarning: ['timestamp', 'quadrant', 'quadrant_cat'] did not aggregate successfully. If any error is raised this will raise in a future version of pandas. Drop these columns/ops to avoid this warning.\n",
      "<magic-timeit>:1: FutureWarning: ['timestamp', 'quadrant', 'quadrant_cat'] did not aggregate successfully. If any error is raised this will raise in a future version of pandas. Drop these columns/ops to avoid this warning.\n",
      "<magic-timeit>:1: FutureWarning: ['timestamp', 'quadrant', 'quadrant_cat'] did not aggregate successfully. If any error is raised this will raise in a future version of pandas. Drop these columns/ops to avoid this warning.\n",
      "<magic-timeit>:1: FutureWarning: ['timestamp', 'quadrant', 'quadrant_cat'] did not aggregate successfully. If any error is raised this will raise in a future version of pandas. Drop these columns/ops to avoid this warning.\n",
      "<magic-timeit>:1: FutureWarning: ['timestamp', 'quadrant', 'quadrant_cat'] did not aggregate successfully. If any error is raised this will raise in a future version of pandas. Drop these columns/ops to avoid this warning.\n",
      "<magic-timeit>:1: FutureWarning: ['timestamp', 'quadrant', 'quadrant_cat'] did not aggregate successfully. If any error is raised this will raise in a future version of pandas. Drop these columns/ops to avoid this warning.\n",
      "<magic-timeit>:1: FutureWarning: ['timestamp', 'quadrant', 'quadrant_cat'] did not aggregate successfully. If any error is raised this will raise in a future version of pandas. Drop these columns/ops to avoid this warning.\n",
      "<magic-timeit>:1: FutureWarning: ['timestamp', 'quadrant', 'quadrant_cat'] did not aggregate successfully. If any error is raised this will raise in a future version of pandas. Drop these columns/ops to avoid this warning.\n",
      "<magic-timeit>:1: FutureWarning: ['timestamp', 'quadrant', 'quadrant_cat'] did not aggregate successfully. If any error is raised this will raise in a future version of pandas. Drop these columns/ops to avoid this warning.\n",
      "<magic-timeit>:1: FutureWarning: ['timestamp', 'quadrant', 'quadrant_cat'] did not aggregate successfully. If any error is raised this will raise in a future version of pandas. Drop these columns/ops to avoid this warning.\n",
      "<magic-timeit>:1: FutureWarning: ['timestamp', 'quadrant', 'quadrant_cat'] did not aggregate successfully. If any error is raised this will raise in a future version of pandas. Drop these columns/ops to avoid this warning.\n",
      "<magic-timeit>:1: FutureWarning: ['timestamp', 'quadrant', 'quadrant_cat'] did not aggregate successfully. If any error is raised this will raise in a future version of pandas. Drop these columns/ops to avoid this warning.\n",
      "<magic-timeit>:1: FutureWarning: ['timestamp', 'quadrant', 'quadrant_cat'] did not aggregate successfully. If any error is raised this will raise in a future version of pandas. Drop these columns/ops to avoid this warning.\n"
     ]
    },
    {
     "name": "stdout",
     "output_type": "stream",
     "text": [
      "62.5 ms ± 1.88 ms per loop (mean ± std. dev. of 7 runs, 10 loops each)\n"
     ]
    }
   ],
   "source": [
    "%%timeit\n",
    "df.groupby('quadrant_enum').agg(['count', 'mean', 'median'])"
   ]
  },
  {
   "cell_type": "code",
   "execution_count": null,
   "metadata": {},
   "outputs": [],
   "source": []
  },
  {
   "cell_type": "code",
   "execution_count": null,
   "metadata": {},
   "outputs": [],
   "source": []
  }
 ],
 "metadata": {
  "kernelspec": {
   "display_name": "Python 3",
   "language": "python",
   "name": "python3"
  },
  "language_info": {
   "codemirror_mode": {
    "name": "ipython",
    "version": 3
   },
   "file_extension": ".py",
   "mimetype": "text/x-python",
   "name": "python",
   "nbconvert_exporter": "python",
   "pygments_lexer": "ipython3",
   "version": "3.10.4"
  },
  "orig_nbformat": 4,
  "vscode": {
   "interpreter": {
    "hash": "369f2c481f4da34e4445cda3fffd2e751bd1c4d706f27375911949ba6bb62e1c"
   }
  }
 },
 "nbformat": 4,
 "nbformat_minor": 2
}
