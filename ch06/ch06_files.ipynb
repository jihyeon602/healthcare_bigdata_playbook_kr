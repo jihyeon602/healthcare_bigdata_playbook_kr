{
 "cells": [
  {
   "cell_type": "code",
   "execution_count": 3,
   "metadata": {},
   "outputs": [
    {
     "data": {
      "text/plain": [
       "                         t   x   y   z\n",
       "0  2022-01-01 00:01:40.363  33  76  56\n",
       "1  2022-01-01 00:01:42.961  34  87  56\n",
       "2  2022-01-01 00:01:45.562  25  89  47\n",
       "3  2022-01-01 00:01:48.163  11  70  50\n",
       "4  2022-01-01 00:02:08.864  33  72  58"
      ]
     },
     "execution_count": 3,
     "metadata": {},
     "output_type": "execute_result"
    }
   ],
   "source": [
    "import pandas as pd\n",
    "pd.set_option('display.notebook_repr_html', False)\n",
    "\n",
    "df = pd.read_csv('OTg6QzA_activities.csv', header=0, names=['t','x','y','z'])\n",
    "df.head()"
   ]
  },
  {
   "cell_type": "code",
   "execution_count": 4,
   "metadata": {},
   "outputs": [
    {
     "data": {
      "text/plain": [
       "                  x             y             z\n",
       "count  66281.000000  66281.000000  66281.000000\n",
       "mean     -17.482265    155.307071    105.244535\n",
       "std       74.368559    113.246555     42.565583\n",
       "min     -251.000000     31.000000    -15.000000\n",
       "25%      -87.000000     78.000000     69.000000\n",
       "50%      -19.000000    124.000000    117.000000\n",
       "75%       28.000000    184.000000    141.000000\n",
       "max      304.000000    609.000000    198.000000"
      ]
     },
     "execution_count": 4,
     "metadata": {},
     "output_type": "execute_result"
    }
   ],
   "source": [
    "df.describe()"
   ]
  },
  {
   "cell_type": "code",
   "execution_count": 5,
   "metadata": {},
   "outputs": [
    {
     "data": {
      "text/plain": [
       "RangeIndex(start=0, stop=66281, step=1)"
      ]
     },
     "execution_count": 5,
     "metadata": {},
     "output_type": "execute_result"
    }
   ],
   "source": [
    "df.index"
   ]
  },
  {
   "cell_type": "code",
   "execution_count": 6,
   "metadata": {},
   "outputs": [
    {
     "data": {
      "text/plain": [
       "                         t   y   z\n",
       "0  2022-01-01 00:01:40.363  76  56\n",
       "1  2022-01-01 00:01:42.961  87  56\n",
       "2  2022-01-01 00:01:45.562  89  47\n",
       "3  2022-01-01 00:01:48.163  70  50\n",
       "4  2022-01-01 00:02:08.864  72  58"
      ]
     },
     "execution_count": 6,
     "metadata": {},
     "output_type": "execute_result"
    }
   ],
   "source": [
    "# usecols로 원하는 열 데이터를 읽어 올수 있다.\n",
    "df = pd.read_csv('OTg6QzA_activities.csv', header=0, names=['t','y','z'], usecols=[0,2,3])\n",
    "df.head()"
   ]
  },
  {
   "cell_type": "code",
   "execution_count": 7,
   "metadata": {},
   "outputs": [
    {
     "data": {
      "text/plain": [
       "                          x   y   z\n",
       "t                                  \n",
       "2022-01-01 00:01:40.363  33  76  56\n",
       "2022-01-01 00:01:42.961  34  87  56\n",
       "2022-01-01 00:01:45.562  25  89  47\n",
       "2022-01-01 00:01:48.163  11  70  50\n",
       "2022-01-01 00:02:08.864  33  72  58"
      ]
     },
     "execution_count": 7,
     "metadata": {},
     "output_type": "execute_result"
    }
   ],
   "source": [
    "# index_col로 인덱스를 생성할 수 있다.\n",
    "df = pd.read_csv('OTg6QzA_activities.csv', header=0, names=['t','x','y','z'], index_col='t')\n",
    "df.head()"
   ]
  },
  {
   "cell_type": "markdown",
   "metadata": {},
   "source": []
  },
  {
   "cell_type": "code",
   "execution_count": 8,
   "metadata": {},
   "outputs": [
    {
     "data": {
      "text/plain": [
       "Index(['2022-01-01 00:01:40.363', '2022-01-01 00:01:42.961',\n",
       "       '2022-01-01 00:01:45.562', '2022-01-01 00:01:48.163',\n",
       "       '2022-01-01 00:02:08.864', '2022-01-01 00:02:21.765',\n",
       "       '2022-01-01 00:02:32.092', '2022-01-01 00:02:37.297',\n",
       "       '2022-01-01 00:03:10.795', '2022-01-01 00:03:31.301',\n",
       "       ...\n",
       "       '2022-01-31 23:25:15.974', '2022-01-31 23:27:32.381',\n",
       "       '2022-01-31 23:27:42.580', '2022-01-31 23:27:50.282',\n",
       "       '2022-01-31 23:27:55.381', '2022-01-31 23:28:00.481',\n",
       "       '2022-01-31 23:28:41.683', '2022-01-31 23:28:49.383',\n",
       "       '2022-01-31 23:32:36.426', '2022-01-31 23:32:44.126'],\n",
       "      dtype='object', name='t', length=66281)"
      ]
     },
     "execution_count": 8,
     "metadata": {},
     "output_type": "execute_result"
    }
   ],
   "source": [
    "df.index"
   ]
  },
  {
   "cell_type": "code",
   "execution_count": null,
   "metadata": {},
   "outputs": [],
   "source": []
  },
  {
   "cell_type": "code",
   "execution_count": 15,
   "metadata": {},
   "outputs": [
    {
     "data": {
      "text/plain": [
       "                             t   x    y    z\n",
       "0      2022-01-01 00:01:40.363  33   76   56\n",
       "1      2022-01-01 00:01:42.961  34   87   56\n",
       "2      2022-01-01 00:01:45.562  25   89   47\n",
       "3      2022-01-01 00:01:48.163  11   70   50\n",
       "4      2022-01-01 00:02:08.864  33   72   58\n",
       "...                        ...  ..  ...  ...\n",
       "66276  2022-01-31 23:28:00.481 -91  143  136\n",
       "66277  2022-01-31 23:28:41.683 -89  145  138\n",
       "66278  2022-01-31 23:28:49.383 -93  138  137\n",
       "66279  2022-01-31 23:32:36.426 -93  131  137\n",
       "66280  2022-01-31 23:32:44.126 -91  129  138\n",
       "\n",
       "[66281 rows x 4 columns]"
      ]
     },
     "execution_count": 15,
     "metadata": {},
     "output_type": "execute_result"
    }
   ],
   "source": [
    "df1 = pd.read_csv('OTg6QzA_activities.csv', header=0, names=['t','x','y','z'])\n",
    "df1"
   ]
  },
  {
   "cell_type": "code",
   "execution_count": 16,
   "metadata": {},
   "outputs": [
    {
     "data": {
      "text/plain": [
       "                          t    x    y\n",
       "2022-01-29 11:33:16.265 -94  112  140\n",
       "2022-01-29 11:33:18.866 -92  121  141\n",
       "2022-01-29 11:33:21.466 -82  115  143\n",
       "2022-01-29 11:33:24.066 -96  120  141\n",
       "2022-01-29 11:33:26.666 -94  120  142\n",
       "...                      ..  ...  ...\n",
       "2022-01-31 23:28:00.481 -91  143  136\n",
       "2022-01-31 23:28:41.683 -89  145  138\n",
       "2022-01-31 23:28:49.383 -93  138  137\n",
       "2022-01-31 23:32:36.426 -93  131  137\n",
       "2022-01-31 23:32:44.126 -91  129  138\n",
       "\n",
       "[6281 rows x 3 columns]"
      ]
     },
     "execution_count": 16,
     "metadata": {},
     "output_type": "execute_result"
    }
   ],
   "source": [
    "# skiprows 인자를 부여하여, 일부 데이터만 읽어보자.\n",
    "df2 = pd.read_csv('OTg6QzA_activities.csv', header=0, names=['t','x','y'], skiprows=60000 )\n",
    "df2"
   ]
  },
  {
   "cell_type": "code",
   "execution_count": 19,
   "metadata": {},
   "outputs": [
    {
     "data": {
      "text/plain": [
       "                          t   x   y\n",
       "2022-01-01 00:01:42.961  34  87  56\n",
       "2022-01-01 00:01:48.163  11  70  50\n",
       "2022-01-01 00:02:21.765  21  68  58\n",
       "2022-01-01 00:02:32.092  24  69  56\n",
       "2022-01-01 00:02:37.297  27  74  56\n",
       "2022-01-01 00:03:10.795  29  66  58\n",
       "2022-01-01 00:03:31.301  27  78  57\n",
       "2022-01-01 00:03:41.495  19  62  51\n",
       "2022-01-01 00:03:43.995  29  69  59\n",
       "2022-01-01 00:04:30.098  25  74  52"
      ]
     },
     "execution_count": 19,
     "metadata": {},
     "output_type": "execute_result"
    }
   ],
   "source": [
    "# skiprows 인자를 부여하여, 일부 데이터만 읽어보자.\n",
    "df2 = pd.read_csv('OTg6QzA_activities.csv', header=0, names=['t','x','y'], skiprows=[1,3,5] )\n",
    "df2[:10]"
   ]
  },
  {
   "cell_type": "code",
   "execution_count": 18,
   "metadata": {},
   "outputs": [
    {
     "data": {
      "text/plain": [
       "                         t   x   y   z\n",
       "0  2022-01-01 00:01:40.363  33  76  56\n",
       "1  2022-01-01 00:01:42.961  34  87  56\n",
       "2  2022-01-01 00:01:45.562  25  89  47\n",
       "3  2022-01-01 00:01:48.163  11  70  50\n",
       "4  2022-01-01 00:02:08.864  33  72  58\n",
       "5  2022-01-01 00:02:21.765  21  68  58\n",
       "6  2022-01-01 00:02:32.092  24  69  56\n",
       "7  2022-01-01 00:02:37.297  27  74  56\n",
       "8  2022-01-01 00:03:10.795  29  66  58\n",
       "9  2022-01-01 00:03:31.301  27  78  57"
      ]
     },
     "execution_count": 18,
     "metadata": {},
     "output_type": "execute_result"
    }
   ],
   "source": [
    "df1 = pd.read_csv('OTg6QzA_activities.csv', header=0, names=['t','x','y','z'])\n",
    "df1[:10]"
   ]
  },
  {
   "cell_type": "code",
   "execution_count": 22,
   "metadata": {},
   "outputs": [
    {
     "data": {
      "text/plain": [
       "   2022-01-29 11:33:13.665  -92  118  142\n",
       "0  2022-01-29 11:33:16.265  -94  112  140\n",
       "1  2022-01-29 11:33:18.866  -92  121  141\n",
       "2  2022-01-29 11:33:21.466  -82  115  143\n",
       "3  2022-01-29 11:33:24.066  -96  120  141\n",
       "4  2022-01-29 11:33:26.666  -94  120  142"
      ]
     },
     "execution_count": 22,
     "metadata": {},
     "output_type": "execute_result"
    }
   ],
   "source": [
    "df3 = pd.read_csv('OTg6QzA_activities.csv', header=0, skiprows=60000, nrows=5)\n",
    "df3\n"
   ]
  },
  {
   "attachments": {},
   "cell_type": "markdown",
   "metadata": {},
   "source": [
    "## 저장하기"
   ]
  },
  {
   "cell_type": "code",
   "execution_count": 4,
   "metadata": {},
   "outputs": [],
   "source": [
    "df.eval('FQ = (x > 100 and y > 100)', inplace=True)\n",
    "df.to_csv('OTg6QzA_FQ.csv' , index_label='No')"
   ]
  },
  {
   "cell_type": "code",
   "execution_count": 5,
   "metadata": {},
   "outputs": [],
   "source": [
    "df.to_json('OTg6QzA_FQ.json')"
   ]
  },
  {
   "cell_type": "markdown",
   "metadata": {},
   "source": []
  }
 ],
 "metadata": {
  "kernelspec": {
   "display_name": "Python 3",
   "language": "python",
   "name": "python3"
  },
  "language_info": {
   "codemirror_mode": {
    "name": "ipython",
    "version": 3
   },
   "file_extension": ".py",
   "mimetype": "text/x-python",
   "name": "python",
   "nbconvert_exporter": "python",
   "pygments_lexer": "ipython3",
   "version": "3.10.4"
  },
  "orig_nbformat": 4,
  "vscode": {
   "interpreter": {
    "hash": "369f2c481f4da34e4445cda3fffd2e751bd1c4d706f27375911949ba6bb62e1c"
   }
  }
 },
 "nbformat": 4,
 "nbformat_minor": 2
}
