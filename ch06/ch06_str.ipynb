{
 "cells": [
  {
   "cell_type": "code",
   "execution_count": null,
   "id": "c12de0de",
   "metadata": {},
   "outputs": [],
   "source": [
    "import pandas as pd\n",
    "\n",
    "s = pd.Series(['tokyo', 'osaka', 'yamagata'])\n",
    "s.str.extract(r'([to]+)')"
   ]
  },
  {
   "cell_type": "code",
   "execution_count": null,
   "id": "16b2b285",
   "metadata": {},
   "outputs": [],
   "source": [
    "import pandas as pd\n",
    "\n",
    "s = pd.Series(['tokyo', 'osaka', 'yamagata'])\n",
    "s.str.match('[a-z]')"
   ]
  },
  {
   "cell_type": "code",
   "execution_count": null,
   "id": "41ce9995",
   "metadata": {},
   "outputs": [],
   "source": [
    "s = pd.Series(['tokyo2', 'osaka@', '1yamagata'])\n",
    "s.str.match('[0-9]')\n"
   ]
  },
  {
   "cell_type": "code",
   "execution_count": null,
   "id": "8b93c7d4",
   "metadata": {},
   "outputs": [],
   "source": [
    "# 아래와 같이, sum()함수로 매칭된 수를 구할 수도 있다.\n",
    "s = pd.Series(['tokyo', 'osaka', '1yamagata'])\n",
    "s.str.match('^[oa]').sum()"
   ]
  },
  {
   "cell_type": "code",
   "execution_count": null,
   "id": "c68aacd9",
   "metadata": {},
   "outputs": [],
   "source": []
  },
  {
   "cell_type": "code",
   "execution_count": 1,
   "id": "d8924480",
   "metadata": {},
   "outputs": [
    {
     "data": {
      "text/html": [
       "<div>\n",
       "<style scoped>\n",
       "    .dataframe tbody tr th:only-of-type {\n",
       "        vertical-align: middle;\n",
       "    }\n",
       "\n",
       "    .dataframe tbody tr th {\n",
       "        vertical-align: top;\n",
       "    }\n",
       "\n",
       "    .dataframe thead th {\n",
       "        text-align: right;\n",
       "    }\n",
       "</style>\n",
       "<table border=\"1\" class=\"dataframe\">\n",
       "  <thead>\n",
       "    <tr style=\"text-align: right;\">\n",
       "      <th></th>\n",
       "      <th>0</th>\n",
       "    </tr>\n",
       "  </thead>\n",
       "  <tbody>\n",
       "    <tr>\n",
       "      <th>0</th>\n",
       "      <td>to</td>\n",
       "    </tr>\n",
       "    <tr>\n",
       "      <th>1</th>\n",
       "      <td>o</td>\n",
       "    </tr>\n",
       "    <tr>\n",
       "      <th>2</th>\n",
       "      <td>t</td>\n",
       "    </tr>\n",
       "  </tbody>\n",
       "</table>\n",
       "</div>"
      ],
      "text/plain": [
       "    0\n",
       "0  to\n",
       "1   o\n",
       "2   t"
      ]
     },
     "execution_count": 1,
     "metadata": {},
     "output_type": "execute_result"
    }
   ],
   "source": [
    "import pandas as pd\n",
    "s = pd.Series(['tokyo', 'osaka', 'yamagata'])\n",
    "s.str.extract(r'([to]+)')\n"
   ]
  },
  {
   "cell_type": "code",
   "execution_count": 2,
   "id": "297afef9",
   "metadata": {},
   "outputs": [
    {
     "data": {
      "text/plain": [
       "0      []\n",
       "1      []\n",
       "2    [ga]\n",
       "dtype: object"
      ]
     },
     "execution_count": 2,
     "metadata": {},
     "output_type": "execute_result"
    }
   ],
   "source": [
    "s = pd.Series(['tokyo', 'osaka', '1yamagata'])\n",
    "s.str.findall('ga')\n"
   ]
  },
  {
   "cell_type": "code",
   "execution_count": 3,
   "id": "603dc987",
   "metadata": {},
   "outputs": [
    {
     "data": {
      "text/plain": [
       "0    [tokyo]\n",
       "1    [osaka]\n",
       "2         []\n",
       "dtype: object"
      ]
     },
     "execution_count": 3,
     "metadata": {},
     "output_type": "execute_result"
    }
   ],
   "source": [
    "s = pd.Series(['tokyo', 'osaka', '1yamagata'])\n",
    "s.str.findall(r'^[a-z]+')\n"
   ]
  },
  {
   "cell_type": "code",
   "execution_count": null,
   "id": "062af089",
   "metadata": {},
   "outputs": [],
   "source": []
  }
 ],
 "metadata": {
  "kernelspec": {
   "display_name": "Python 3",
   "language": "python",
   "name": "python3"
  },
  "language_info": {
   "codemirror_mode": {
    "name": "ipython",
    "version": 3
   },
   "file_extension": ".py",
   "mimetype": "text/x-python",
   "name": "python",
   "nbconvert_exporter": "python",
   "pygments_lexer": "ipython3",
   "version": "3.10.4"
  },
  "vscode": {
   "interpreter": {
    "hash": "369f2c481f4da34e4445cda3fffd2e751bd1c4d706f27375911949ba6bb62e1c"
   }
  }
 },
 "nbformat": 4,
 "nbformat_minor": 5
}
