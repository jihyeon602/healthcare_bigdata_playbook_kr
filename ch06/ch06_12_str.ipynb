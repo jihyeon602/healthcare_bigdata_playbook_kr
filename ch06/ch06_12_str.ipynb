{
 "cells": [
  {
   "attachments": {},
   "cell_type": "markdown",
   "id": "213d022c",
   "metadata": {},
   "source": [
    "## 6.12. 문자열 다루기"
   ]
  },
  {
   "cell_type": "code",
   "execution_count": 1,
   "id": "c12de0de",
   "metadata": {},
   "outputs": [
    {
     "data": {
      "text/plain": [
       "    0\n",
       "0  to\n",
       "1   o\n",
       "2   t"
      ]
     },
     "execution_count": 1,
     "metadata": {},
     "output_type": "execute_result"
    }
   ],
   "source": [
    "import pandas as pd\n",
    "pd.set_option('display.notebook_repr_html', False)\n",
    "\n",
    "s = pd.Series(['tokyo', 'osaka', 'yamagata'])\n",
    "s.str.extract(r'([to]+)')"
   ]
  },
  {
   "attachments": {},
   "cell_type": "markdown",
   "id": "d111672c",
   "metadata": {},
   "source": [
    "### 6.12.1. 정규표현식"
   ]
  },
  {
   "cell_type": "code",
   "execution_count": 2,
   "id": "16b2b285",
   "metadata": {},
   "outputs": [
    {
     "data": {
      "text/plain": [
       "0    True\n",
       "1    True\n",
       "2    True\n",
       "dtype: bool"
      ]
     },
     "execution_count": 2,
     "metadata": {},
     "output_type": "execute_result"
    }
   ],
   "source": [
    "import pandas as pd\n",
    "\n",
    "s = pd.Series(['tokyo', 'osaka', 'yamagata'])\n",
    "s.str.match('[a-z]')"
   ]
  },
  {
   "cell_type": "code",
   "execution_count": 3,
   "id": "41ce9995",
   "metadata": {},
   "outputs": [
    {
     "data": {
      "text/plain": [
       "0    False\n",
       "1    False\n",
       "2     True\n",
       "dtype: bool"
      ]
     },
     "execution_count": 3,
     "metadata": {},
     "output_type": "execute_result"
    }
   ],
   "source": [
    "s = pd.Series(['tokyo2', 'osaka@', '1yamagata'])\n",
    "s.str.match('[0-9]')"
   ]
  },
  {
   "cell_type": "code",
   "execution_count": 4,
   "id": "8b93c7d4",
   "metadata": {},
   "outputs": [
    {
     "data": {
      "text/plain": [
       "1"
      ]
     },
     "execution_count": 4,
     "metadata": {},
     "output_type": "execute_result"
    }
   ],
   "source": [
    "# 아래와 같이, sum()함수로 매칭된 수를 구할 수도 있다.\n",
    "s = pd.Series(['tokyo', 'osaka', '1yamagata'])\n",
    "s.str.match('^[oa]').sum()"
   ]
  },
  {
   "cell_type": "code",
   "execution_count": 5,
   "id": "d8924480",
   "metadata": {},
   "outputs": [
    {
     "data": {
      "text/plain": [
       "    0\n",
       "0  to\n",
       "1   o\n",
       "2   t"
      ]
     },
     "execution_count": 5,
     "metadata": {},
     "output_type": "execute_result"
    }
   ],
   "source": [
    "import pandas as pd\n",
    "s = pd.Series(['tokyo', 'osaka', 'yamagata'])\n",
    "s.str.extract(r'([to]+)')"
   ]
  },
  {
   "cell_type": "code",
   "execution_count": 6,
   "id": "297afef9",
   "metadata": {},
   "outputs": [
    {
     "data": {
      "text/plain": [
       "0      []\n",
       "1      []\n",
       "2    [ga]\n",
       "dtype: object"
      ]
     },
     "execution_count": 6,
     "metadata": {},
     "output_type": "execute_result"
    }
   ],
   "source": [
    "s = pd.Series(['tokyo', 'osaka', '1yamagata'])\n",
    "s.str.findall('ga')"
   ]
  },
  {
   "cell_type": "code",
   "execution_count": 7,
   "id": "603dc987",
   "metadata": {},
   "outputs": [
    {
     "data": {
      "text/plain": [
       "0    [tokyo]\n",
       "1    [osaka]\n",
       "2         []\n",
       "dtype: object"
      ]
     },
     "execution_count": 7,
     "metadata": {},
     "output_type": "execute_result"
    }
   ],
   "source": [
    "s = pd.Series(['tokyo', 'osaka', '1yamagata'])\n",
    "s.str.findall(r'^[a-z]+')\n"
   ]
  }
 ],
 "metadata": {
  "kernelspec": {
   "display_name": "Python 3",
   "language": "python",
   "name": "python3"
  },
  "language_info": {
   "codemirror_mode": {
    "name": "ipython",
    "version": 3
   },
   "file_extension": ".py",
   "mimetype": "text/x-python",
   "name": "python",
   "nbconvert_exporter": "python",
   "pygments_lexer": "ipython3",
   "version": "3.10.4"
  },
  "vscode": {
   "interpreter": {
    "hash": "369f2c481f4da34e4445cda3fffd2e751bd1c4d706f27375911949ba6bb62e1c"
   }
  }
 },
 "nbformat": 4,
 "nbformat_minor": 5
}
